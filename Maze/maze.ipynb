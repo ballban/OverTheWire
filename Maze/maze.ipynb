{
 "cells": [
  {
   "cell_type": "code",
   "execution_count": 1,
   "metadata": {},
   "outputs": [
    {
     "data": {
      "text/plain": [
       "322420958"
      ]
     },
     "execution_count": 1,
     "metadata": {},
     "output_type": "execute_result"
    }
   ],
   "source": [
    "0x1337C0DE"
   ]
  },
  {
   "cell_type": "code",
   "execution_count": 40,
   "metadata": {},
   "outputs": [
    {
     "name": "stdout",
     "output_type": "stream",
     "text": [
      "p: <>A780?-\n",
      "result: 7\n",
      "p: <>A780?-, j: 7, passw: <>A780?-, result: 7\n",
      "result: 6\n",
      "result: 5\n",
      "result: 4\n",
      "result: 3\n",
      "result: 2\n",
      "result: 1\n",
      "result: 0\n",
      "result: -1\n",
      "result: 1\n"
     ]
    }
   ],
   "source": [
    "p = \"printlol\"\n",
    "q = \"\"\n",
    "user = \"useruser\"\n",
    "passw = \"<>A780?-\"\n",
    "\n",
    "for i in range(len(user)):\n",
    "    num = ord(p[i]) - (i * 2 + ord(user[i]) - 65)\n",
    "    q += chr(num)\n",
    "\n",
    "i = len(user)\n",
    "p = q\n",
    "flag = False\n",
    "print(f\"p: {p}\")\n",
    "\n",
    "\n",
    "def do():\n",
    "    global i, j, p, passw, result, flag\n",
    "    result = i - 1\n",
    "    print(f\"result: {result}\")\n",
    "    if i == 0:\n",
    "        result = 1\n",
    "        flag = True\n",
    "\n",
    "    j = i - 1\n",
    "    i = result\n",
    "\n",
    "\n",
    "do()\n",
    "print(f\"p: {p}, j: {j}, passw: {passw}, result: {result}\")\n",
    "while p[j] == passw[result]:\n",
    "    if flag:\n",
    "        break\n",
    "    do()\n",
    "result = 0 if not flag else result\n",
    "print(f\"result: {result}\")"
   ]
  }
 ],
 "metadata": {
  "kernelspec": {
   "display_name": ".venv",
   "language": "python",
   "name": "python3"
  },
  "language_info": {
   "codemirror_mode": {
    "name": "ipython",
    "version": 3
   },
   "file_extension": ".py",
   "mimetype": "text/x-python",
   "name": "python",
   "nbconvert_exporter": "python",
   "pygments_lexer": "ipython3",
   "version": "3.12.3"
  }
 },
 "nbformat": 4,
 "nbformat_minor": 2
}
