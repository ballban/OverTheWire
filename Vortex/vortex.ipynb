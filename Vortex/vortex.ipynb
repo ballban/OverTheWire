{
 "cells": [
  {
   "cell_type": "markdown",
   "metadata": {},
   "source": [
    "# Vortex Level 0 → Level 1 <br/>\n",
    "\n",
    "https://overthewire.org/wargames/vortex/vortex0.html\n"
   ]
  },
  {
   "cell_type": "code",
   "execution_count": 24,
   "metadata": {},
   "outputs": [
    {
     "name": "stdout",
     "output_type": "stream",
     "text": [
      "b'\\xf7\\xee2\\n'\n",
      "b'\\xfaP\\x15\\x10'\n",
      "b'\\x870/-'\n",
      "b'\\xe2\\x8e\\xbdn'\n",
      "b'Username: vortex1 Password: Gq#qu3bF3'\n"
     ]
    }
   ],
   "source": [
    "import socket\n",
    "import struct\n",
    "\n",
    "HOST = \"vortex.labs.overthewire.org\"\n",
    "PORT = 5842\n",
    "\n",
    "with socket.socket(socket.AF_INET, socket.SOCK_STREAM) as s:\n",
    "    s.connect((HOST, PORT))\n",
    "\n",
    "    result = 0\n",
    "    for i in range(0, 4):\n",
    "        data = s.recv(4)\n",
    "        print(data)\n",
    "        result += int.from_bytes(data, \"little\")\n",
    "        # s.sendall(data)\n",
    "\n",
    "    s.sendall(struct.pack(\"<I\", result))\n",
    "    data = s.recv(1024)\n",
    "    print(data)"
   ]
  },
  {
   "cell_type": "markdown",
   "metadata": {},
   "source": [
    "# Vortex Level 1 → Level 2\n"
   ]
  },
  {
   "cell_type": "code",
   "execution_count": 24,
   "metadata": {},
   "outputs": [
    {
     "data": {
      "text/plain": [
       "889192448"
      ]
     },
     "execution_count": 24,
     "metadata": {},
     "output_type": "execute_result"
    }
   ],
   "source": [
    "0xFFFFFFFF - 0xCAFFFFFF"
   ]
  },
  {
   "cell_type": "code",
   "execution_count": 21,
   "metadata": {},
   "outputs": [
    {
     "data": {
      "text/plain": [
       "'0x36000000'"
      ]
     },
     "execution_count": 21,
     "metadata": {},
     "output_type": "execute_result"
    }
   ],
   "source": [
    "hex(-0xCA000000 & 0xFF000000)"
   ]
  }
 ],
 "metadata": {
  "kernelspec": {
   "display_name": ".venv",
   "language": "python",
   "name": "python3"
  },
  "language_info": {
   "codemirror_mode": {
    "name": "ipython",
    "version": 3
   },
   "file_extension": ".py",
   "mimetype": "text/x-python",
   "name": "python",
   "nbconvert_exporter": "python",
   "pygments_lexer": "ipython3",
   "version": "3.12.3"
  }
 },
 "nbformat": 4,
 "nbformat_minor": 2
}
