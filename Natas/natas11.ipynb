{
 "cells": [
  {
   "cell_type": "code",
   "execution_count": 39,
   "metadata": {},
   "outputs": [
    {
     "name": "stdout",
     "output_type": "stream",
     "text": [
      "a: b\"0l;$$98-8=?#9*jvi 'ngl*+(!$#9lrnh(.*-(.n6\"\n",
      "KNHLKNHLKNHLKNHLKNHLKNHLKNHLKNHLKNHLKNHLK\n"
     ]
    }
   ],
   "source": [
    "import base64\n",
    "a = 'MGw7JCQ5OC04PT8jOSpqdmkgJ25nbCorKCEkIzlscm5oKC4qLSgubjY='\n",
    "a = base64.b64decode(a)\n",
    "print(f'a: {a}')\n",
    "b = '{\"showpassword\":\"no\",\"bgcolor\":\"#ffffff\"}'\n",
    "\n",
    "result = ''\n",
    "for i in range(len(b)):\n",
    "    result += chr(ord(b[i]) ^ a[i])\n",
    "print(result)"
   ]
  },
  {
   "cell_type": "code",
   "execution_count": 40,
   "metadata": {},
   "outputs": [
    {
     "name": "stdout",
     "output_type": "stream",
     "text": [
      "{\"showpassword\":\"no\",\"bgcolor\":\"#ffffff\"}\n"
     ]
    }
   ],
   "source": [
    "text = \"0l;$$98-8=?#9*jvi 'ngl*+(!$#9lrnh(.*-(.n6\"\n",
    "\n",
    "key = 'KNHL'\n",
    "result = ''\n",
    "for i in range(len(text)):\n",
    "    result += chr(ord(text[i]) ^ ord(key[i % len(key)]))\n",
    "print(result)"
   ]
  },
  {
   "cell_type": "code",
   "execution_count": 43,
   "metadata": {},
   "outputs": [
    {
     "name": "stdout",
     "output_type": "stream",
     "text": [
      "result: 0l;$$98-8=?#9*jvi7-?ibj.,-' $<jvim.*-(.*i3\n",
      "b'MGw7JCQ5OC04PT8jOSpqdmk3LT9pYmouLC0nICQ8anZpbS4qLSguKmkz'\n"
     ]
    }
   ],
   "source": [
    "text = '{\"showpassword\":\"yes\",\"bgcolor\":\"#ffffff\"}'\n",
    "key = 'KNHL'\n",
    "result = ''\n",
    "for i in range(len(text)):\n",
    "    result += chr(ord(text[i]) ^ ord(key[i % len(key)]))\n",
    "print(f\"result: {result}\")\n",
    "\n",
    "print(base64.b64encode(result.encode()))"
   ]
  },
  {
   "cell_type": "code",
   "execution_count": null,
   "metadata": {},
   "outputs": [],
   "source": [
    "# The password for natas12 is YWqo0pjpcXzSIl5NMAVxg12QxeC1w9QG"
   ]
  }
 ],
 "metadata": {
  "kernelspec": {
   "display_name": "Python 3",
   "language": "python",
   "name": "python3"
  },
  "language_info": {
   "codemirror_mode": {
    "name": "ipython",
    "version": 3
   },
   "file_extension": ".py",
   "mimetype": "text/x-python",
   "name": "python",
   "nbconvert_exporter": "python",
   "pygments_lexer": "ipython3",
   "version": "3.11.9"
  }
 },
 "nbformat": 4,
 "nbformat_minor": 2
}
